{
  "nbformat": 4,
  "nbformat_minor": 0,
  "metadata": {
    "kernelspec": {
      "display_name": "Python 3",
      "language": "python",
      "name": "python3"
    },
    "language_info": {
      "codemirror_mode": {
        "name": "ipython",
        "version": 3
      },
      "file_extension": ".py",
      "mimetype": "text/x-python",
      "name": "python",
      "nbconvert_exporter": "python",
      "pygments_lexer": "ipython3",
      "version": "3.6.8"
    },
    "colab": {
      "name": "assignment_final_without_details.ipynb",
      "provenance": []
    }
  },
  "cells": [
    {
      "cell_type": "markdown",
      "metadata": {
        "id": "Kg1EJZ02fYFW",
        "colab_type": "text"
      },
      "source": [
        "# ASR Assignment 2019-20\n",
        "\n",
        "This notebook has been provided as a template to get you started on the assignment.  Feel free to use it for your development, or do your development directly in Python.\n",
        "\n",
        "You can find a full description of the assignment [here](http://www.inf.ed.ac.uk/teaching/courses/asr/2019-20/coursework.pdf).\n",
        "\n",
        "You are provided with two Python modules `observation_model.py` and `wer.py`.  The first was described in [Lab 3](https://github.com/Ore-an/asr_lab3/blob/master/asr_lab3.ipynb).  The second can be used to compute the number of substitution, deletion and insertion errors between ASR output and a reference text.\n",
        "\n",
        "It can be used as follows:\n",
        "\n",
        "```python\n",
        "import wer\n",
        "\n",
        "my_refence = 'A B C'\n",
        "my_output = 'A C C D'\n",
        "\n",
        "wer.compute_alignment_errors(my_reference, my_output)\n",
        "```\n",
        "\n",
        "This produces a tuple $(s,d,i)$ giving counts of substitution,\n",
        "deletion and insertion errors respectively - in this example (1, 0, 1).  The function accepts either two strings, as in the example above, or two lists.  Matching is case sensitive.\n",
        "\n",
        "## Template code\n",
        "\n",
        "Assuming that you have already made a function to generate an WFST, `create_wfst()` and a decoder class, `MyViterbiDecoder`, you can perform recognition on all the audio files as follows:\n"
      ]
    },
    {
      "cell_type": "markdown",
      "metadata": {
        "id": "o5QtVxV_fYFZ",
        "colab_type": "text"
      },
      "source": [
        "## Code"
      ]
    },
    {
      "cell_type": "code",
      "metadata": {
        "id": "LS3jzJ1CfYFb",
        "colab_type": "code",
        "colab": {}
      },
      "source": [
        "import openfst_python as fst\n",
        "import math\n",
        "\n",
        "class MyWFST:\n",
        "    \n",
        "    def __init__(self, audio_file_name='recordings/*.wav', lex_file='lexicon.txt', mode='baseline', use_unigram=False, add_silence=False, add_silence_v=1, use_bigram=False, use_trigram=False):\n",
        "        print(\"Init ...\")\n",
        "        self.audio_file_name = audio_file_name\n",
        "        self.lex_file = lex_file\n",
        "        self.use_unigram = use_unigram\n",
        "        self.use_bigram = use_bigram\n",
        "        self.use_trigram = use_trigram\n",
        "        self.add_silence = add_silence\n",
        "        self.add_silence_v = add_silence_v\n",
        "        self.mode = mode\n",
        "        self.read_lexicon()\n",
        "        self.init_weights()\n",
        "        if self.use_unigram:\n",
        "            self.conduct_unigram()\n",
        "        if self.use_bigram:\n",
        "            self.conduct_bigram()\n",
        "        if self.use_trigram:\n",
        "            self.conduct_trigram()\n",
        "    \n",
        "    def generate(self):\n",
        "        print(\"Generating ...\")\n",
        "        return self.generate_word_set_wfst()\n",
        "\n",
        "    def init_weights(self):\n",
        "        print(\"Init weights for WFST ...\")\n",
        "        self.sil_back_weight = fst.Weight('log', -math.log(1))\n",
        "        self.final_weight = fst.Weight('log', -math.log(1))\n",
        "        if self.mode == \"baseline\":\n",
        "            self.f = fst.Fst()\n",
        "            self.word_weight = None\n",
        "            self.back_weight = None\n",
        "            self.sl_weight = None\n",
        "            self.next_weight = None\n",
        "            self.sil_sl_weight = None\n",
        "            self.sil_next_weight = None\n",
        "            self.sil_weight = None\n",
        "            self.final_weight = None\n",
        "            self.sil_back_weight = None\n",
        "        elif self.mode == \"baseline1\":\n",
        "            self.f = fst.Fst('log')\n",
        "            self.word_weight = fst.Weight('log', -math.log(1 / len(self.lex)))  # weight for choosing word\n",
        "            self.back_weight = fst.Weight('log', -math.log(1))  # weight back to start point\n",
        "            self.sl_weight = fst.Weight('log', -math.log(0.1))  # weight for self-loop\n",
        "            self.next_weight = fst.Weight('log', -math.log(0.9)) # weight to next state\n",
        "            self.sil_sl_weight = self.sl_weight\n",
        "            self.sil_next_weight = self.next_weight\n",
        "            self.sil_weight = fst.Weight('log', -math.log(1))\n",
        "        elif self.mode == \"baseline2\":\n",
        "            self.f = fst.Fst('log')\n",
        "            self.word_weight = fst.Weight('log', -math.log(1 / len(self.lex)))  # weight for choosing word\n",
        "            self.back_weight = fst.Weight('log', -math.log(1))  # weight back to start point\n",
        "            self.sl_weight = fst.Weight('log', -math.log(0.5))  # weight for self-loop\n",
        "            self.next_weight = fst.Weight('log', -math.log(0.5)) # weight to next state\n",
        "            self.sil_sl_weight = self.sl_weight\n",
        "            self.sil_next_weight = self.next_weight\n",
        "            self.sil_weight = fst.Weight('log', -math.log(1))\n",
        "        elif self.mode == \"baseline3\":\n",
        "            self.f = fst.Fst('log')\n",
        "            self.word_weight = fst.Weight('log', -math.log(1 / len(self.lex)))  # weight for choosing word\n",
        "            self.back_weight = fst.Weight('log', -math.log(1))  # weight back to start point\n",
        "            self.sl_weight = fst.Weight('log', -math.log(0.3))  # weight for self-loop\n",
        "            self.next_weight = fst.Weight('log', -math.log(0.7)) # weight to next state\n",
        "            self.sil_sl_weight = self.sl_weight\n",
        "            self.sil_next_weight = self.next_weight\n",
        "            self.sil_weight = fst.Weight('log', -math.log(1))\n",
        "        elif self.mode == \"baseline4\":\n",
        "            self.f = fst.Fst('log')\n",
        "            self.word_weight = fst.Weight('log', -math.log(1 / len(self.lex)))  # weight for choosing word\n",
        "            self.back_weight = fst.Weight('log', -math.log(1))  # weight back to start point\n",
        "            self.sl_weight = fst.Weight('log', -math.log(0.7))  # weight for self-loop\n",
        "            self.next_weight = fst.Weight('log', -math.log(0.3)) # weight to next state\n",
        "            self.sil_sl_weight = self.sl_weight\n",
        "            self.sil_next_weight = self.next_weight\n",
        "            self.sil_weight = fst.Weight('log', -math.log(1))\n",
        "        elif self.mode == \"baseline5\":\n",
        "            self.f = fst.Fst('log')\n",
        "            self.word_weight = fst.Weight('log', -math.log(1 / len(self.lex)))  # weight for choosing word\n",
        "            self.back_weight = fst.Weight('log', -math.log(1))  # weight back to start point\n",
        "            self.sl_weight = fst.Weight('log', -math.log(0.8))  # weight for self-loop\n",
        "            self.next_weight = fst.Weight('log', -math.log(0.2)) # weight to next state\n",
        "            self.sil_sl_weight = self.sl_weight\n",
        "            self.sil_next_weight = self.next_weight\n",
        "        elif self.mode == \"baseline6\":\n",
        "            self.f = fst.Fst('log')\n",
        "            self.word_weight = fst.Weight('log', -math.log(1 / len(self.lex)))  # weight for choosing word\n",
        "            self.back_weight = fst.Weight('log', -math.log(1))  # weight back to start point\n",
        "            self.sl_weight = fst.Weight('log', -math.log(0.6))  # weight for self-loop\n",
        "            self.next_weight = fst.Weight('log', -math.log(0.4)) # weight to next state\n",
        "            self.sil_sl_weight = self.sl_weight\n",
        "            self.sil_next_weight = self.next_weight\n",
        "            self.sil_weight = fst.Weight('log', -math.log(1))\n",
        "        elif self.mode == \"baseline7\":\n",
        "            self.f = fst.Fst('log')\n",
        "            self.word_weight = fst.Weight('log', -math.log(1 / len(self.lex)))  # weight for choosing word\n",
        "            self.back_weight = fst.Weight('log', -math.log(0.5))  # weight back to start point\n",
        "            self.sl_weight = fst.Weight('log', -math.log(0.8))  # weight for self-loop\n",
        "            self.next_weight = fst.Weight('log', -math.log(0.2)) # weight to next state\n",
        "            self.sil_sl_weight = self.sl_weight\n",
        "            self.sil_next_weight = self.next_weight\n",
        "            self.sil_weight = fst.Weight('log', -math.log(1))\n",
        "            self.final_weight = fst.Weight('log', -math.log(0.5))\n",
        "        elif self.mode == \"baseline8\":\n",
        "            self.f = fst.Fst('log')\n",
        "            self.word_weight = fst.Weight('log', -math.log(1 / len(self.lex)))  # weight for choosing word\n",
        "            self.back_weight = fst.Weight('log', -math.log(0.8))  # weight back to start point\n",
        "            self.sl_weight = fst.Weight('log', -math.log(0.8))  # weight for self-loop\n",
        "            self.next_weight = fst.Weight('log', -math.log(0.2)) # weight to next state\n",
        "            self.sil_sl_weight = self.sl_weight\n",
        "            self.sil_next_weight = self.next_weight\n",
        "            self.sil_weight = fst.Weight('log', -math.log(1))\n",
        "            self.final_weight = fst.Weight('log', -math.log(0.2))\n",
        "        elif self.mode == \"baseline9\":\n",
        "            self.f = fst.Fst('log')\n",
        "            self.word_weight = fst.Weight('log', -math.log(1 / len(self.lex)))  # weight for choosing word\n",
        "            self.back_weight = fst.Weight('log', -math.log(0.3))  # weight back to start point\n",
        "            self.sl_weight = fst.Weight('log', -math.log(0.8))  # weight for self-loop\n",
        "            self.next_weight = fst.Weight('log', -math.log(0.2)) # weight to next state\n",
        "            self.sil_sl_weight = self.sl_weight\n",
        "            self.sil_next_weight = self.next_weight\n",
        "            self.sil_weight = fst.Weight('log', -math.log(1))\n",
        "            self.final_weight = fst.Weight('log', -math.log(0.7))\n",
        "        elif self.mode == \"baseline10\":\n",
        "            self.f = fst.Fst('log')\n",
        "            self.word_weight = fst.Weight('log', -math.log(1 / len(self.lex)))  # weight for choosing word\n",
        "            self.back_weight = fst.Weight('log', -math.log(0.4))  # weight back to start point\n",
        "            self.sl_weight = fst.Weight('log', -math.log(0.8))  # weight for self-loop\n",
        "            self.next_weight = fst.Weight('log', -math.log(0.2)) # weight to next state\n",
        "            self.sil_sl_weight = self.sl_weight\n",
        "            self.sil_next_weight = self.next_weight\n",
        "            self.sil_weight = fst.Weight('log', -math.log(1))\n",
        "            self.final_weight = fst.Weight('log', -math.log(0.6))\n",
        "        elif self.mode == \"baseline7-v-1-1\":\n",
        "            self.f = fst.Fst('log')\n",
        "            self.word_weight = fst.Weight('log', -math.log(1 / len(self.lex)))  # weight for choosing word\n",
        "            self.back_weight = fst.Weight('log', -math.log(0.5))  # weight back to start point\n",
        "            self.sl_weight = fst.Weight('log', -math.log(0.8))  # weight for self-loop\n",
        "            self.next_weight = fst.Weight('log', -math.log(0.2)) # weight to next state\n",
        "            self.sil_sl_weight = self.sl_weight\n",
        "            self.sil_next_weight = self.next_weight\n",
        "            self.sil_weight = fst.Weight('log', -math.log(0.5))\n",
        "        elif self.mode == \"baseline7-v-1-2\":\n",
        "            self.f = fst.Fst('log')\n",
        "            self.word_weight = fst.Weight('log', -math.log(1 / len(self.lex)))  # weight for choosing word\n",
        "            self.back_weight = fst.Weight('log', -math.log(0.8))  # weight back to start point\n",
        "            self.sl_weight = fst.Weight('log', -math.log(0.8))  # weight for self-loop\n",
        "            self.next_weight = fst.Weight('log', -math.log(0.2)) # weight to next state\n",
        "            self.sil_sl_weight = self.sl_weight\n",
        "            self.sil_next_weight = self.next_weight\n",
        "            self.sil_weight = fst.Weight('log', -math.log(0.2))\n",
        "        elif self.mode == \"baseline7-v-1-3\":\n",
        "            self.f = fst.Fst('log')\n",
        "            self.word_weight = fst.Weight('log', -math.log(1 / len(self.lex)))  # weight for choosing word\n",
        "            self.back_weight = fst.Weight('log', -math.log(0.2))  # weight back to start point\n",
        "            self.sl_weight = fst.Weight('log', -math.log(0.8))  # weight for self-loop\n",
        "            self.next_weight = fst.Weight('log', -math.log(0.2)) # weight to next state\n",
        "            self.sil_sl_weight = self.sl_weight\n",
        "            self.sil_next_weight = self.next_weight\n",
        "            self.sil_weight = fst.Weight('log', -math.log(0.8))\n",
        "        elif self.mode == \"baseline7-v-1-4\":\n",
        "            self.f = fst.Fst('log')\n",
        "            self.word_weight = fst.Weight('log', -math.log(1 / len(self.lex)))  # weight for choosing word\n",
        "            self.back_weight = fst.Weight('log', -math.log(0.1))  # weight back to start point\n",
        "            self.sl_weight = fst.Weight('log', -math.log(0.8))  # weight for self-loop\n",
        "            self.next_weight = fst.Weight('log', -math.log(0.2)) # weight to next state\n",
        "            self.sil_sl_weight = self.sl_weight\n",
        "            self.sil_next_weight = self.next_weight\n",
        "            self.sil_weight = fst.Weight('log', -math.log(0.9))\n",
        "        elif self.mode == \"baseline7-v-1-5\":\n",
        "            self.f = fst.Fst('log')\n",
        "            self.word_weight = fst.Weight('log', -math.log(1 / len(self.lex)))  # weight for choosing word\n",
        "            self.back_weight = fst.Weight('log', -math.log(0.01))  # weight back to start point\n",
        "            self.sl_weight = fst.Weight('log', -math.log(0.8))  # weight for self-loop\n",
        "            self.next_weight = fst.Weight('log', -math.log(0.2)) # weight to next state\n",
        "            self.sil_sl_weight = self.sl_weight\n",
        "            self.sil_next_weight = self.next_weight\n",
        "            self.sil_weight = fst.Weight('log', -math.log(0.99))\n",
        "        elif self.mode == \"baseline7-v-2-3\":\n",
        "            self.f = fst.Fst('log')\n",
        "            self.word_weight = fst.Weight('log', -math.log(1 / len(self.lex)))  # weight for choosing word\n",
        "            self.back_weight = fst.Weight('log', -math.log(0.01))  # weight back to start point\n",
        "            self.sl_weight = fst.Weight('log', -math.log(0.9))  # weight for self-loop\n",
        "            self.next_weight = fst.Weight('log', -math.log(0.1)) # weight to next state\n",
        "            self.sil_sl_weight = self.sl_weight\n",
        "            self.sil_next_weight = self.next_weight\n",
        "            self.sil_weight = fst.Weight('log', -math.log(0.99))\n",
        "        elif self.mode == \"baseline7-v-2-4\":\n",
        "            self.f = fst.Fst('log')\n",
        "            self.word_weight = fst.Weight('log', -math.log(1 / len(self.lex)))  # weight for choosing word\n",
        "            self.back_weight = fst.Weight('log', -math.log(0.01))  # weight back to start point\n",
        "            self.sl_weight = fst.Weight('log', -math.log(0.99))  # weight for self-loop\n",
        "            self.next_weight = fst.Weight('log', -math.log(0.01)) # weight to next state\n",
        "            self.sil_sl_weight = self.sl_weight\n",
        "            self.sil_next_weight = self.next_weight\n",
        "            self.sil_weight = fst.Weight('log', -math.log(0.99))\n",
        "        elif self.mode == \"baseline7-v-1-5-f-1\":\n",
        "            self.f = fst.Fst('log')\n",
        "            self.word_weight = fst.Weight('log', -math.log(1 / len(self.lex)))  # weight for choosing word\n",
        "            self.back_weight = fst.Weight('log', -math.log(0.01))  # weight back to start point\n",
        "            self.sl_weight = fst.Weight('log', -math.log(0.8))  # weight for self-loop\n",
        "            self.next_weight = fst.Weight('log', -math.log(0.2)) # weight to next state\n",
        "            self.sil_sl_weight = self.sl_weight\n",
        "            self.sil_next_weight = self.next_weight\n",
        "            self.sil_weight = fst.Weight('log', -math.log(0.99))\n",
        "            self.sil_back_weight = fst.Weight('log', -math.log(0.5))\n",
        "            self.final_weight = fst.Weight('log', -math.log(0.5))\n",
        "        elif self.mode == \"baseline7-v-1-5-f-2\":\n",
        "            self.f = fst.Fst('log')\n",
        "            self.word_weight = fst.Weight('log', -math.log(1 / len(self.lex)))  # weight for choosing word\n",
        "            self.back_weight = fst.Weight('log', -math.log(0.01))  # weight back to start point\n",
        "            self.sl_weight = fst.Weight('log', -math.log(0.8))  # weight for self-loop\n",
        "            self.next_weight = fst.Weight('log', -math.log(0.2)) # weight to next state\n",
        "            self.sil_sl_weight = self.sl_weight\n",
        "            self.sil_next_weight = self.next_weight\n",
        "            self.sil_weight = fst.Weight('log', -math.log(0.99))\n",
        "            self.sil_back_weight = fst.Weight('log', -math.log(0.2))\n",
        "            self.final_weight = fst.Weight('log', -math.log(0.8))\n",
        "        elif self.mode == \"baseline7-v-1-5-f-3\":\n",
        "            self.f = fst.Fst('log')\n",
        "            self.word_weight = fst.Weight('log', -math.log(1 / len(self.lex)))  # weight for choosing word\n",
        "            self.back_weight = fst.Weight('log', -math.log(0.01))  # weight back to start point\n",
        "            self.sl_weight = fst.Weight('log', -math.log(0.8))  # weight for self-loop\n",
        "            self.next_weight = fst.Weight('log', -math.log(0.2)) # weight to next state\n",
        "            self.sil_sl_weight = self.sl_weight\n",
        "            self.sil_next_weight = self.next_weight\n",
        "            self.sil_weight = fst.Weight('log', -math.log(0.99))\n",
        "            self.sil_back_weight = fst.Weight('log', -math.log(0.8))\n",
        "            self.final_weight = fst.Weight('log', -math.log(0.2))\n",
        "    \n",
        "    def conduct_unigram(self):\n",
        "        print(\"Conducting unigram ...\")\n",
        "        dic = {}\n",
        "        for wav_file in glob.glob(self.audio_file_name):\n",
        "            transcription = read_transcription(wav_file)\n",
        "            tokens = transcription.split(\" \")\n",
        "            for token in tokens:\n",
        "                if token not in dic.keys():\n",
        "                    dic[token] = 1\n",
        "                else:\n",
        "                    dic[token] += 1\n",
        "        self.unigram = dic\n",
        "        self.unigram_count = dic.copy()\n",
        "        sum_words_count = sum(dic.values()) \n",
        "        for key in self.unigram.keys():\n",
        "            self.unigram[key] /= sum_words_count\n",
        "#         print(self.unigram)\n",
        "    \n",
        "    def conduct_bigram(self):\n",
        "        self.conduct_unigram()\n",
        "        print(\"Conducting bigram ...\")\n",
        "        dic = {}\n",
        "        for wav_file in glob.glob(self.audio_file_name):\n",
        "            transcription = read_transcription(wav_file)\n",
        "            tokens = transcription.split(\" \")\n",
        "            for i in range(len(tokens) - 1):\n",
        "                token_bi = (tokens[i], tokens[i+1])\n",
        "                if token_bi not in dic.keys():\n",
        "                    dic[token_bi] = 1\n",
        "                else:\n",
        "                    dic[token_bi] += 1\n",
        "        self.bigram = dic\n",
        "        self.bigram_count = dic.copy()\n",
        "        for key in self.bigram.keys():\n",
        "            self.bigram[key] /= self.unigram_count[key[0]]\n",
        "#         print(self.bigram)\n",
        "#         print(self.bigram_count)\n",
        "    \n",
        "    def conduct_trigram(self):\n",
        "        self.conduct_bigram()\n",
        "        print(\"Conducting trigram ...\")\n",
        "        dic = {}\n",
        "        for wav_file in glob.glob(self.audio_file_name):\n",
        "            transcription = read_transcription(wav_file)\n",
        "            tokens = transcription.split(\" \")\n",
        "            for i in range(len(tokens) - 2):\n",
        "                token_tri = (tokens[i], tokens[i+1], tokens[i+2])\n",
        "                if token_tri not in dic.keys():\n",
        "                    dic[token_tri] = 1\n",
        "                else:\n",
        "                    dic[token_tri] += 1\n",
        "        self.trigram = dic\n",
        "        self.trigram_count = dic.copy()\n",
        "        for key in self.trigram.keys():\n",
        "            self.trigram[key] /= self.bigram_count[(key[0], key[1])]\n",
        "#         print(self.trigram)\n",
        "#         print(self.trigram_count)\n",
        "\n",
        "    def read_lexicon(self):\n",
        "        # read lexicon\n",
        "        self.lex = self.parse_lexicon(self.lex_file)\n",
        "        print(\"Creating word/phone/state tables ...\")\n",
        "        self.word_table, self.phone_table, self.state_table = self.generate_symbol_tables(self.lex)\n",
        "        \n",
        "    def get_lexicon(self):\n",
        "        return self.lex\n",
        "    \n",
        "    def get_tables(self):\n",
        "        return self.word_table, self.phone_table, self.state_table\n",
        "    \n",
        "    def parse_lexicon(self, lex_file):\n",
        "        \"\"\"\n",
        "        Parse the lexicon file and return it in dictionary form.\n",
        "\n",
        "        Args:\n",
        "            lex_file (str): filename of lexicon file with structure '<word> <phone1> <phone2>...'\n",
        "                            eg. peppers p eh p er z\n",
        "\n",
        "        Returns:\n",
        "            lex (dict): dictionary mapping words to list of phones\n",
        "        \"\"\"\n",
        "\n",
        "        lex = {}  # create a dictionary for the lexicon entries (this could be a problem with larger lexica)\n",
        "        with open(lex_file, 'r') as f:\n",
        "            for line in f:\n",
        "                line = line.split()  # split at each space\n",
        "                lex[line[0]] = line[1:]  # first field the word, the rest is the phones\n",
        "        return lex\n",
        "\n",
        "    def generate_symbol_tables(self, lexicon, n=3):\n",
        "        '''\n",
        "        Return word, phone and state symbol tables based on the supplied lexicon\n",
        "\n",
        "        Args:\n",
        "            lexicon (dict): lexicon to use, created from the parse_lexicon() function\n",
        "            n (int): number of states for each phone HMM\n",
        "\n",
        "        Returns:\n",
        "            word_table (fst.SymbolTable): table of words\n",
        "            phone_table (fst.SymbolTable): table of phones\n",
        "            state_table (fst.SymbolTable): table of HMM phone-state IDs\n",
        "        '''\n",
        "\n",
        "        state_table = fst.SymbolTable()\n",
        "        phone_table = fst.SymbolTable()\n",
        "        word_table = fst.SymbolTable()\n",
        "\n",
        "        # add empty <eps> symbol to all tables\n",
        "        state_table.add_symbol('<eps>')\n",
        "        phone_table.add_symbol('<eps>')\n",
        "        word_table.add_symbol('<eps>')\n",
        "\n",
        "        for word, phones  in lexicon.items():\n",
        "\n",
        "            word_table.add_symbol(word)\n",
        "\n",
        "            for p in phones: # for each phone\n",
        "\n",
        "                phone_table.add_symbol(p)\n",
        "                for i in range(1,n+1): # for each state 1 to n\n",
        "                    state_table.add_symbol('{}_{}'.format(p, i))\n",
        "                    \n",
        "        if self.add_silence:\n",
        "            silence_n = 5\n",
        "            silence_p = 'sil'\n",
        "            for i in range(1,silence_n+1):\n",
        "                state_table.add_symbol('{}_{}'.format(silence_p, i))\n",
        "\n",
        "        return word_table, phone_table, state_table\n",
        "        \n",
        "    def generate_word_set_wfst(self):\n",
        "        \"\"\" generate a HMM to recognise a sentence (assumes 3-state HMMs per phone)\n",
        "\n",
        "        \"\"\"\n",
        "\n",
        "        # create a single start state\n",
        "        start_state = self.f.add_state()\n",
        "        self.f.set_start(start_state)\n",
        "        \n",
        "        # ! bigram and trigram no longer support add silence version 1 & 2 since 3 is the best !\n",
        "        if self.add_silence and self.add_silence_v == 2:\n",
        "            sil_start_state = self.f.add_state()\n",
        "            sil_end_state = self.generate_phone_wfst_silence(sil_start_state, 'sil', 5)\n",
        "            self.f.add_arc(sil_end_state, fst.Arc(0, 0, self.sil_back_weight, start_state))\n",
        "        \n",
        "        # TODO trigram\n",
        "        # Just finish trigram LM not the WFST trigram model since it needs the history, left it to be a future work\n",
        "        \n",
        "        if self.use_bigram:\n",
        "            self.bigram_states = {}\n",
        "            for word in self.lex:\n",
        "                self.bigram_states[(word, 0)] =  self.f.add_state()\n",
        "                self.bigram_states[(word, 1)] =  self.f.add_state()\n",
        "            for word in self.lex:\n",
        "                for _word in self.lex:\n",
        "                    pro_bi = fst.Weight('log', -math.log(self.bigram[(word, _word)]))\n",
        "#                     print(self.bigram_states[(word, 0)])\n",
        "#                     print(self.bigram_states[(_word, 1)])\n",
        "                    self.f.add_arc(self.bigram_states[(word, 0)], fst.Arc(0, 0, pro_bi, self.bigram_states[(_word, 1)]))\n",
        "#             print(self.bigram_states)\n",
        "\n",
        "        for word in self.lex:\n",
        "\n",
        "            # we need to add an empty arc from the start state to where the actual phone HMM\n",
        "            # will begin.  If you can't see why this is needed, try without it!\n",
        "            current_state = self.f.add_state()\n",
        "            \n",
        "            if self.use_unigram is True or self.use_bigram is True or self.use_trigram is True:\n",
        "                if word not in self.unigram.keys():\n",
        "                    print(\"Sth went wrong\")\n",
        "                else:\n",
        "                    unigram_pro = self.unigram[word]\n",
        "                    self.word_weight = fst.Weight('log', -math.log(unigram_pro))\n",
        "            self.f.add_arc(start_state, fst.Arc(0, 0, self.word_weight, current_state))\n",
        "            \n",
        "            if self.use_bigram:\n",
        "                self.f.add_arc(self.bigram_states[(word, 1)], fst.Arc(0, 0,  fst.Weight('log', -math.log(1)), current_state))\n",
        "\n",
        "            end_state = self.generate_word_wfst_helper(current_state, word, 3)\n",
        "            \n",
        "            if not self.use_bigram:\n",
        "                self.f.add_arc(end_state, fst.Arc(0, 0, self.back_weight, start_state))\n",
        "            else:\n",
        "                self.f.add_arc(end_state, fst.Arc(0, 0, self.back_weight, self.bigram_states[(word, 0)]))\n",
        "            \n",
        "            if self.add_silence and self.add_silence_v == 2:\n",
        "                self.f.add_arc(end_state, fst.Arc(0, 0, self.sil_weight, sil_start_state))\n",
        "                \n",
        "            if self.add_silence and self.add_silence_v == 3:\n",
        "                current_state = self.f.add_state()\n",
        "                self.f.add_arc(end_state, fst.Arc(0, 0, self.sil_weight, current_state))\n",
        "                end_state = self.generate_phone_wfst_silence(current_state, 'sil', 5)\n",
        "                \n",
        "                if not self.use_bigram:\n",
        "                    self.f.add_arc(end_state, fst.Arc(0, 0, self.sil_back_weight, start_state))\n",
        "                else:\n",
        "                    self.f.add_arc(end_state, fst.Arc(0, 0, self.sil_back_weight, self.bigram_states[(word, 0)]))\n",
        "            \n",
        "            self.f.set_final(end_state, self.final_weight)\n",
        "            \n",
        "        if self.add_silence and self.add_silence_v == 1:\n",
        "            current_state = self.f.add_state()\n",
        "            self.f.add_arc(start_state, fst.Arc(0, 0, self.sil_weight, current_state))\n",
        "            end_state = self.generate_phone_wfst_silence(current_state, 'sil', 5)\n",
        "            self.f.add_arc(end_state, fst.Arc(0, 0, self.sil_back_weight, start_state))\n",
        "            \n",
        "        self.f.set_input_symbols(self.state_table)\n",
        "        self.f.set_output_symbols(self.phone_table)\n",
        "        \n",
        "        return self.f\n",
        "    \n",
        "    def generate_word_wfst_helper(self, start_state, word, n):\n",
        "        \"\"\" Generate a WFST for any word in the lexicon, composed of 3-state phone WFSTs.\n",
        "            This will currently output word labels.  \n",
        "            Exercise: could you modify this function and the one above to output a single phone label instead?\n",
        "\n",
        "        Returns:\n",
        "            the constructed WFST\n",
        "\n",
        "        \"\"\"\n",
        "\n",
        "        current_state = start_state\n",
        "\n",
        "        # iterate over all the phones in the word\n",
        "        for i in range(len(self.lex[word])):   # will raise an exception if word is not in the lexicon\n",
        "\n",
        "            current_state = self.generate_phone_wfst_output_word(current_state, self.lex[word][i], 3, i is (len(self.lex[word])-1), word)\n",
        "\n",
        "            # note: new current_state is now set to the final state of the previous phone WFST\n",
        "\n",
        "        return current_state\n",
        "    \n",
        "    def generate_phone_wfst_output_word(self, start_state, phone, n, is_final_phone, word):\n",
        "        \"\"\"\n",
        "        Generate a WFST representating an n-state left-to-right phone HMM\n",
        "\n",
        "        Returns:\n",
        "            the final state of the FST\n",
        "        \"\"\"\n",
        "\n",
        "        current_state = start_state\n",
        "\n",
        "        for i in range(1, n+1):\n",
        "\n",
        "            in_label = self.state_table.find('{}_{}'.format(phone, i))\n",
        "\n",
        "            # self-loop back to current state\n",
        "            self.f.add_arc(current_state, fst.Arc(in_label, 0, self.sl_weight, current_state))\n",
        "\n",
        "            # transition to next state\n",
        "\n",
        "            # we want to output the phone label on the final state\n",
        "            # note: if outputting words instead this code should be modified\n",
        "            if is_final_phone and i == n:\n",
        "                out_label = self.word_table.find(word)\n",
        "            else:\n",
        "                out_label = 0   # output empty <eps> label\n",
        "\n",
        "            next_state = self.f.add_state()\n",
        "            self.f.add_arc(current_state, fst.Arc(in_label, out_label, self.next_weight, next_state))    \n",
        "\n",
        "            current_state = next_state\n",
        "\n",
        "        return current_state\n",
        "    \n",
        "    def generate_phone_wfst_silence(self, start_state, phone, n):\n",
        "        \"\"\"\n",
        "        Generate a WFST representating an n-state left-to-right phone HMM\n",
        "\n",
        "        Returns:\n",
        "            the final state of the FST\n",
        "        \"\"\"\n",
        "\n",
        "        current_state = start_state\n",
        "\n",
        "        for i in range(1, n+1):\n",
        "\n",
        "            in_label = self.state_table.find('{}_{}'.format(phone, i))\n",
        "\n",
        "            # self-loop back to current state\n",
        "            self.f.add_arc(current_state, fst.Arc(in_label, 0, self.sil_sl_weight, current_state))\n",
        "\n",
        "            # transition to next state\n",
        "\n",
        "            out_label = 0   # output empty <eps> label\n",
        "\n",
        "            next_state = self.f.add_state()\n",
        "            self.f.add_arc(current_state, fst.Arc(in_label, out_label, self.sil_next_weight, next_state))    \n",
        "\n",
        "            current_state = next_state\n",
        "\n",
        "        return current_state\n"
      ],
      "execution_count": null,
      "outputs": []
    },
    {
      "cell_type": "code",
      "metadata": {
        "id": "1ma-YHRHfYFk",
        "colab_type": "code",
        "colab": {}
      },
      "source": [
        "import observation_model\n",
        "import math\n",
        "from operator import itemgetter\n",
        "\n",
        "class MyViterbiDecoder:\n",
        "    \n",
        "    NLL_ZERO = 1e10  # define a constant representing -log(0).  This is really infinite, but approximate\n",
        "                     # it here with a very large number\n",
        "    \n",
        "    def __init__(self, f, audio_file_name, lex, word_table, phone_table, state_table, add_pruning=False, pruning_theshold=NLL_ZERO, beam_search=False, beam_width=0):\n",
        "        \"\"\"Set up the decoder class with an audio file and WFST f\n",
        "        \"\"\"\n",
        "        self.om = observation_model.ObservationModel()\n",
        "        self.f = f\n",
        "        \n",
        "        if audio_file_name:\n",
        "            self.om.load_audio(audio_file_name)\n",
        "        else:\n",
        "            self.om.load_dummy_audio()\n",
        "        \n",
        "        self.initialise_decoding()\n",
        "        \n",
        "        self.lex = lex\n",
        "        self.word_table = word_table\n",
        "        self.phone_table = phone_table\n",
        "        self.state_table = state_table\n",
        "        self.add_pruning = add_pruning\n",
        "        self.pruning_theshold = pruning_theshold\n",
        "        self.beam_search = beam_search\n",
        "        self.beam_width = beam_width\n",
        "        \n",
        "    def initialise_decoding(self):\n",
        "        \"\"\"set up the values for V_j(0) (as negative log-likelihoods)\n",
        "        \n",
        "        \"\"\"\n",
        "        \n",
        "        self.V = []   # stores likelihood along best path reaching state j\n",
        "        self.B = []   # stores identity of best previous state reaching state j\n",
        "        self.W = []   # stores output labels sequence along arc reaching j - this removes need for \n",
        "                      # extra code to read the output sequence along the best path\n",
        "        \n",
        "        for t in range(self.om.observation_length()+1):\n",
        "            self.V.append([self.NLL_ZERO]*self.f.num_states())\n",
        "            self.B.append([-1]*self.f.num_states())\n",
        "            self.W.append([[] for i in range(self.f.num_states())])  #  multiplying the empty list doesn't make multiple\n",
        "        \n",
        "        # The above code means that self.V[t][j] for t = 0, ... T gives the Viterbi cost\n",
        "        # of state j, time t (in negative log-likelihood form)\n",
        "        # Initialising the costs to NLL_ZERO effectively means zero probability    \n",
        "        \n",
        "        # give the WFST start state a probability of 1.0   (NLL = 0.0)\n",
        "        self.V[0][self.f.start()] = 0.0\n",
        "        \n",
        "        # some WFSTs might have arcs with epsilon on the input (you might have already created \n",
        "        # examples of these in earlier labs) these correspond to non-emitting states, \n",
        "        # which means that we need to process them without stepping forward in time.  \n",
        "        # Don't worry too much about this!  \n",
        "        self.traverse_epsilon_arcs(0)        \n",
        "        \n",
        "    def traverse_epsilon_arcs(self, t):\n",
        "        \"\"\"Traverse arcs with <eps> on the input at time t\n",
        "        \n",
        "        These correspond to transitions that don't emit an observation\n",
        "        \n",
        "        We've implemented this function for you as it's slightly trickier than\n",
        "        the normal case.  You might like to look at it to see what's going on, but\n",
        "        don't worry if you can't fully follow it.\n",
        "        \n",
        "        \"\"\"\n",
        "        \n",
        "        states_to_traverse = list(self.f.states()) # traverse all states\n",
        "        while states_to_traverse:\n",
        "            \n",
        "            # Set i to the ID of the current state, the first \n",
        "            # item in the list (and remove it from the list)\n",
        "            i = states_to_traverse.pop(0)   \n",
        "        \n",
        "            # don't bother traversing states which have zero probability\n",
        "            if self.V[t][i] == self.NLL_ZERO:\n",
        "                    continue\n",
        "        \n",
        "            for arc in self.f.arcs(i):\n",
        "                \n",
        "                if arc.ilabel == 0:     # if <eps> transition\n",
        "                  \n",
        "                    j = arc.nextstate   # ID of next state  \n",
        "                \n",
        "                    if self.V[t][j] > self.V[t][i] + float(arc.weight):\n",
        "                        \n",
        "                        # this means we've found a lower-cost path to\n",
        "                        # state j at time t.  We might need to add it\n",
        "                        # back to the processing queue.\n",
        "                        self.V[t][j] = self.V[t][i] + float(arc.weight)\n",
        "                        \n",
        "                        # save backtrace information.  In the case of an epsilon transition, \n",
        "                        # we save the identity of the best state at t-1.  This means we may not\n",
        "                        # be able to fully recover the best path, but to do otherwise would\n",
        "                        # require a more complicated way of storing backtrace information\n",
        "                        self.B[t][j] = self.B[t][i] \n",
        "                        \n",
        "                        # and save the output labels encountered - this is a list, because\n",
        "                        # there could be multiple output labels (in the case of <eps> arcs)\n",
        "                        if arc.olabel != 0:\n",
        "                            self.W[t][j] = self.W[t][i] + [arc.olabel]\n",
        "                        else:\n",
        "                            self.W[t][j] = self.W[t][i]\n",
        "                        \n",
        "                        if j not in states_to_traverse:\n",
        "                            states_to_traverse.append(j)\n",
        "\n",
        "    \n",
        "    def forward_step(self, t):\n",
        "        \n",
        "        if self.beam_search:\n",
        "            \n",
        "            V_list = [self.V[t-1][i] for i in self.f.states()]\n",
        "            beam = [i for i, v in sorted(enumerate(V_list), key=itemgetter(1))][:self.beam_width]\n",
        "            \n",
        "            for i in  beam:\n",
        "                 self.forward_step_per_state(t, i)\n",
        "            \n",
        "        else:\n",
        "          \n",
        "            for i in self.f.states():\n",
        "\n",
        "                if not self.V[t-1][i] == self.NLL_ZERO:   # no point in propagating states with zero probability\n",
        "\n",
        "                    if (self.add_pruning and self.V[t-1][i] < self.pruning_theshold) or not self.add_pruning:\n",
        "\n",
        "                        self.forward_step_per_state(t, i)\n",
        "\n",
        "\n",
        "    def forward_step_per_state(self, t, i):\n",
        "        \n",
        "        for arc in self.f.arcs(i):\n",
        "\n",
        "            if arc.ilabel != 0: # <eps> transitions don't emit an observation\n",
        "                j = arc.nextstate\n",
        "                tp = float(arc.weight)  # transition prob\n",
        "                ep = -self.om.log_observation_probability(self.f.input_symbols().find(arc.ilabel), t)  # emission negative log prob\n",
        "                prob = tp + ep + self.V[t-1][i] # they're logs\n",
        "                self.counter += 1\n",
        "                if prob < self.V[t][j]:\n",
        "                    self.V[t][j] = prob\n",
        "                    self.B[t][j] = i\n",
        "\n",
        "                    # store the output labels encountered too\n",
        "                    if arc.olabel !=0:\n",
        "                        self.W[t][j] = [arc.olabel]\n",
        "                    else:\n",
        "                        self.W[t][j] = []\n",
        "        \n",
        "                            \n",
        "    \n",
        "    def finalise_decoding(self):\n",
        "        \"\"\" this incorporates the probability of terminating at each state\n",
        "        \"\"\"\n",
        "        \n",
        "        for state in self.f.states():\n",
        "            final_weight = float(self.f.final(state))\n",
        "            if self.V[-1][state] != self.NLL_ZERO:\n",
        "                if final_weight == math.inf:\n",
        "                    self.V[-1][state] = self.NLL_ZERO  # effectively says that we can't end in this state\n",
        "                else:\n",
        "                    self.V[-1][state] += final_weight\n",
        "                    \n",
        "        # get a list of all states where there was a path ending with non-zero probability\n",
        "        finished = [x for x in self.V[-1] if x < self.NLL_ZERO]\n",
        "        if not finished:  # if empty\n",
        "            print(\"No path got to the end of the observations.\")\n",
        "        \n",
        "        \n",
        "    def decode(self):\n",
        "        self.initialise_decoding()\n",
        "        self.counter = 0\n",
        "        t = 1\n",
        "        while t <= self.om.observation_length():\n",
        "            self.forward_step(t)\n",
        "            self.traverse_epsilon_arcs(t)\n",
        "            t += 1\n",
        "        self.finalise_decoding()\n",
        "    \n",
        "    def backtrace(self):\n",
        "        \n",
        "        best_final_state = self.V[-1].index(min(self.V[-1])) # argmin\n",
        "        best_state_sequence = [best_final_state]\n",
        "        best_out_sequence = []\n",
        "        \n",
        "        t = self.om.observation_length()   # ie T\n",
        "        j = best_final_state\n",
        "        \n",
        "        while t >= 0:\n",
        "            i = self.B[t][j]\n",
        "            best_state_sequence.append(i)\n",
        "            best_out_sequence = self.W[t][j] + best_out_sequence  # computer scientists might like\n",
        "                                                                                # to make this more efficient!\n",
        "\n",
        "            # continue the backtrace at state i, time t-1\n",
        "            j = i  \n",
        "            t-=1\n",
        "            \n",
        "        best_state_sequence.reverse()\n",
        "        \n",
        "        # convert the best output sequence from FST integer labels into strings\n",
        "        best_out_sequence = ' '.join([ self.word_table.find(label) for label in best_out_sequence])\n",
        "        \n",
        "        return (best_state_sequence, best_out_sequence)\n",
        "        "
      ],
      "execution_count": null,
      "outputs": []
    },
    {
      "cell_type": "code",
      "metadata": {
        "id": "fx-YoPg9fYFq",
        "colab_type": "code",
        "colab": {}
      },
      "source": [
        "import glob\n",
        "import os\n",
        "import wer\n",
        "import observation_model\n",
        "import openfst_python as fst\n",
        "# ... (add your code to create WFSTs and Viterbi Decoder)\n",
        "\n",
        "def read_transcription(wav_file):\n",
        "    \"\"\"\n",
        "    Get the transcription corresponding to wav_file.\n",
        "    \"\"\"\n",
        "    \n",
        "    transcription_file = os.path.splitext(wav_file)[0] + '.txt'\n",
        "    \n",
        "    with open(transcription_file, 'r') as f:\n",
        "        transcription = f.readline().strip()\n",
        "    \n",
        "    return transcription"
      ],
      "execution_count": null,
      "outputs": []
    },
    {
      "cell_type": "code",
      "metadata": {
        "id": "nX-GBCm6fYFu",
        "colab_type": "code",
        "colab": {}
      },
      "source": [
        "def test_baseline(f_baseline, mode, lex, word_table, phone_table, state_table, add_pruning=False, pruning_theshold=0.0, beam_search=False, beam_width=0):\n",
        "    \n",
        "    print(\"Testing - \"+ mode)\n",
        "    calculate_states_and_arcs(f_baseline)\n",
        "\n",
        "    error_list = []\n",
        "    words_count_list = []\n",
        "    forward_computations_list = []\n",
        "\n",
        "    for wav_file in glob.glob('recordings/*.wav'):\n",
        "        \n",
        "        print(wav_file)\n",
        "\n",
        "        decoder = MyViterbiDecoder(f_baseline, wav_file, lex, word_table, phone_table, state_table, add_pruning, pruning_theshold, beam_search, beam_width)\n",
        "\n",
        "        decoder.decode()\n",
        "        (state_path, words) = decoder.backtrace()  # you'll need to modify the backtrace() from Lab 4\n",
        "                                                   # to return the words along the best path\n",
        "\n",
        "        transcription = read_transcription(wav_file)\n",
        "        error_counts = wer.compute_alignment_errors(transcription, words)\n",
        "        print(\"transcription: \" + transcription)\n",
        "        print(\"words: \" + words)\n",
        "        word_count = len(transcription.split())\n",
        "\n",
        "        print(error_counts, word_count)     # you'll need to accumulate these to produce an overall Word Error Rate\n",
        "        wer_result = sum(error_counts) / word_count\n",
        "        print(\"WER: \"+ str(wer_result))\n",
        "        print(\"The number of forward computations: \"+ str(decoder.counter))\n",
        "        \n",
        "        error_list.append(sum(error_counts))\n",
        "        words_count_list.append(word_count)\n",
        "        forward_computations_list.append(decoder.counter)\n",
        "\n",
        "    print(\"Total errors: \"+ str(sum(error_list)))\n",
        "    print(\"Words number: \"+ str(sum(words_count_list)))\n",
        "    print(\"Total WER: \"+ str(sum(error_list) / sum(words_count_list)))\n",
        "    print(\"The number of forward computations per wav: \"+ str(sum(forward_computations_list) / len(forward_computations_list)))\n",
        "    \n",
        "    return error_list, words_count_list, forward_computations_list\n"
      ],
      "execution_count": null,
      "outputs": []
    },
    {
      "cell_type": "code",
      "metadata": {
        "id": "hQ4T-4lmfYFz",
        "colab_type": "code",
        "colab": {}
      },
      "source": [
        "def calculate_states_and_arcs(f):\n",
        "    states = len([i for i in f_baseline.states()])\n",
        "    arcs = 0\n",
        "    for i in f.states():\n",
        "        arcs += len([j for j in f.arcs(i)])\n",
        "    print(\"States number: \"+ str(states))\n",
        "    print(\"Arcs number: \"+ str(arcs))\n",
        "    return states, arcs"
      ],
      "execution_count": null,
      "outputs": []
    },
    {
      "cell_type": "code",
      "metadata": {
        "id": "_1jB6qowfYF3",
        "colab_type": "code",
        "colab": {}
      },
      "source": [
        "def save_list(l, name):\n",
        "    with open(name, 'w') as f:\n",
        "        for e in l:\n",
        "            f.write('%s\\n' % str(e))"
      ],
      "execution_count": null,
      "outputs": []
    },
    {
      "cell_type": "code",
      "metadata": {
        "id": "BvDV_l4UfYF-",
        "colab_type": "code",
        "colab": {}
      },
      "source": [
        "# https://piazza.com/class/k41jc04cfd85kb?cid=79\n",
        "import subprocess\n",
        "def output_wfst(name, wfst):\n",
        "    with open(f'{name}.pdf', \"w+\") as outfile:\n",
        "        wfst.draw(f'{name}.gv', portrait=True)\n",
        "        subprocess.call(['dot', '-Tpdf', f'{name}.gv'], stdout=outfile)"
      ],
      "execution_count": null,
      "outputs": []
    },
    {
      "cell_type": "markdown",
      "metadata": {
        "id": "Et-nI3GOfYGF",
        "colab_type": "text"
      },
      "source": [
        "## Experiments\n",
        "- Baseline: Baseline\n",
        "- Other Experiment - baseline* (is not baseline even if the name starts with baseline)"
      ]
    },
    {
      "cell_type": "markdown",
      "metadata": {
        "id": "SwZMb1ixfYGG",
        "colab_type": "text"
      },
      "source": [
        "### Baseline"
      ]
    },
    {
      "cell_type": "code",
      "metadata": {
        "id": "u0CtYWDifYGG",
        "colab_type": "code",
        "colab": {},
        "outputId": "fed92a63-394c-4d0c-c8c3-13f526aca2d6"
      },
      "source": [
        "wfst = MyWFST(mode='baseline')\n",
        "wfst.generate()"
      ],
      "execution_count": null,
      "outputs": [
        {
          "output_type": "stream",
          "text": [
            "Init ...\n",
            "Creating word/phone/state tables ...\n",
            "Init weights for WFST ...\n",
            "Generating ...\n"
          ],
          "name": "stdout"
        },
        {
          "output_type": "execute_result",
          "data": {
            "image/svg+xml": "<?xml version=\"1.0\" encoding=\"UTF-8\" standalone=\"no\"?>\n<!DOCTYPE svg PUBLIC \"-//W3C//DTD SVG 1.1//EN\"\n \"http://www.w3.org/Graphics/SVG/1.1/DTD/svg11.dtd\">\n<!-- Generated by graphviz version 2.30.1 (20180413.0232)\n -->\n<!-- Title: FST Pages: 1 -->\n<svg width=\"612pt\" height=\"282pt\"\n viewBox=\"0.00 0.00 612.00 281.74\" xmlns=\"http://www.w3.org/2000/svg\" xmlns:xlink=\"http://www.w3.org/1999/xlink\">\n<g id=\"graph0\" class=\"graph\" transform=\"scale(0.219041 0.219041) rotate(0) translate(4 1282.24)\">\n<title>FST</title>\n<polygon fill=\"white\" stroke=\"white\" points=\"-4,5 -4,-1282.24 2791,-1282.24 2791,5 -4,5\"/>\n<!-- 0 -->\n<g id=\"node1\" class=\"node\"><title>0</title>\n<ellipse fill=\"none\" stroke=\"black\" stroke-width=\"2\" cx=\"18\" cy=\"-638.243\" rx=\"18\" ry=\"18\"/>\n<text text-anchor=\"middle\" x=\"18\" y=\"-634.543\" font-family=\"Times,serif\" font-size=\"14.00\">0</text>\n</g>\n<!-- 1 -->\n<g id=\"node2\" class=\"node\"><title>1</title>\n<ellipse fill=\"none\" stroke=\"black\" cx=\"164\" cy=\"-830.243\" rx=\"18\" ry=\"18\"/>\n<text text-anchor=\"middle\" x=\"164\" y=\"-826.543\" font-family=\"Times,serif\" font-size=\"14.00\">1</text>\n</g>\n<!-- 0&#45;&gt;1 -->\n<g id=\"edge1\" class=\"edge\"><title>0&#45;&gt;1</title>\n<path fill=\"none\" stroke=\"black\" d=\"M20.2784,-656.269C23.2867,-693.615 32.0357,-777.679 51,-798.243 72.5925,-821.657 110.01,-828.374 135.607,-830.076\"/>\n<polygon fill=\"black\" stroke=\"black\" points=\"135.625,-833.58 145.772,-830.532 135.94,-826.587 135.625,-833.58\"/>\n<text text-anchor=\"middle\" x=\"88\" y=\"-832.043\" font-family=\"Times,serif\" font-size=\"14.00\">&lt;eps&gt;:&lt;eps&gt;</text>\n</g>\n<!-- 5 -->\n<g id=\"node3\" class=\"node\"><title>5</title>\n<ellipse fill=\"none\" stroke=\"black\" cx=\"164\" cy=\"-965.243\" rx=\"18\" ry=\"18\"/>\n<text text-anchor=\"middle\" x=\"164\" y=\"-961.543\" font-family=\"Times,serif\" font-size=\"14.00\">5</text>\n</g>\n<!-- 0&#45;&gt;5 -->\n<g id=\"edge2\" class=\"edge\"><title>0&#45;&gt;5</title>\n<path fill=\"none\" stroke=\"black\" d=\"M19.8278,-656.33C22.7555,-716.903 33.4004,-910.024 51,-931.243 71.5457,-956.015 109.536,-963.149 135.523,-964.988\"/>\n<polygon fill=\"black\" stroke=\"black\" points=\"135.682,-968.5 145.84,-965.488 136.021,-961.508 135.682,-968.5\"/>\n<text text-anchor=\"middle\" x=\"88\" y=\"-967.043\" font-family=\"Times,serif\" font-size=\"14.00\">&lt;eps&gt;:&lt;eps&gt;</text>\n</g>\n<!-- 12 -->\n<g id=\"node4\" class=\"node\"><title>12</title>\n<ellipse fill=\"none\" stroke=\"black\" cx=\"164\" cy=\"-704.243\" rx=\"19.4965\" ry=\"19.4965\"/>\n<text text-anchor=\"middle\" x=\"164\" y=\"-700.543\" font-family=\"Times,serif\" font-size=\"14.00\">12</text>\n</g>\n<!-- 0&#45;&gt;12 -->\n<g id=\"edge3\" class=\"edge\"><title>0&#45;&gt;12</title>\n<path fill=\"none\" stroke=\"black\" d=\"M29.5588,-652.094C35.2607,-658.729 42.8042,-666.29 51,-671.243 76.8761,-686.883 110.62,-695.501 134.279,-699.97\"/>\n<polygon fill=\"black\" stroke=\"black\" points=\"133.921,-703.46 144.376,-701.741 135.131,-696.566 133.921,-703.46\"/>\n<text text-anchor=\"middle\" x=\"88\" y=\"-701.043\" font-family=\"Times,serif\" font-size=\"14.00\">&lt;eps&gt;:&lt;eps&gt;</text>\n</g>\n<!-- 22 -->\n<g id=\"node5\" class=\"node\"><title>22</title>\n<ellipse fill=\"none\" stroke=\"black\" cx=\"164\" cy=\"-449.243\" rx=\"19.4965\" ry=\"19.4965\"/>\n<text text-anchor=\"middle\" x=\"164\" y=\"-445.543\" font-family=\"Times,serif\" font-size=\"14.00\">22</text>\n</g>\n<!-- 0&#45;&gt;22 -->\n<g id=\"edge4\" class=\"edge\"><title>0&#45;&gt;22</title>\n<path fill=\"none\" stroke=\"black\" d=\"M20.9964,-620.416C24.2046,-598.254 32.1808,-560.08 51,-533.243 73.397,-501.304 111.733,-476.396 137.219,-462.257\"/>\n<polygon fill=\"black\" stroke=\"black\" points=\"139.149,-465.193 146.297,-457.373 135.833,-459.029 139.149,-465.193\"/>\n<text text-anchor=\"middle\" x=\"88\" y=\"-537.043\" font-family=\"Times,serif\" font-size=\"14.00\">&lt;eps&gt;:&lt;eps&gt;</text>\n</g>\n<!-- 38 -->\n<g id=\"node6\" class=\"node\"><title>38</title>\n<ellipse fill=\"none\" stroke=\"black\" cx=\"164\" cy=\"-1094.24\" rx=\"19.4965\" ry=\"19.4965\"/>\n<text text-anchor=\"middle\" x=\"164\" y=\"-1090.54\" font-family=\"Times,serif\" font-size=\"14.00\">38</text>\n</g>\n<!-- 0&#45;&gt;38 -->\n<g id=\"edge5\" class=\"edge\"><title>0&#45;&gt;38</title>\n<path fill=\"none\" stroke=\"black\" d=\"M19.1774,-656.442C20.0863,-733.369 25.2444,-1029.39 51,-1061.24 70.938,-1085.9 108.335,-1092.75 134.406,-1094.34\"/>\n<polygon fill=\"black\" stroke=\"black\" points=\"134.333,-1097.84 144.461,-1094.73 134.606,-1090.85 134.333,-1097.84\"/>\n<text text-anchor=\"middle\" x=\"88\" y=\"-1097.04\" font-family=\"Times,serif\" font-size=\"14.00\">&lt;eps&gt;:&lt;eps&gt;</text>\n</g>\n<!-- 51 -->\n<g id=\"node7\" class=\"node\"><title>51</title>\n<ellipse fill=\"none\" stroke=\"black\" cx=\"164\" cy=\"-539.243\" rx=\"19.4965\" ry=\"19.4965\"/>\n<text text-anchor=\"middle\" x=\"164\" y=\"-535.543\" font-family=\"Times,serif\" font-size=\"14.00\">51</text>\n</g>\n<!-- 0&#45;&gt;51 -->\n<g id=\"edge6\" class=\"edge\"><title>0&#45;&gt;51</title>\n<path fill=\"none\" stroke=\"black\" d=\"M26.664,-622.309C32.2436,-612.066 40.6265,-599.071 51,-590.243 75.9158,-569.041 111.096,-554.956 135.347,-547.06\"/>\n<polygon fill=\"black\" stroke=\"black\" points=\"136.502,-550.366 145.01,-544.052 134.421,-543.683 136.502,-550.366\"/>\n<text text-anchor=\"middle\" x=\"88\" y=\"-594.043\" font-family=\"Times,serif\" font-size=\"14.00\">&lt;eps&gt;:&lt;eps&gt;</text>\n</g>\n<!-- 64 -->\n<g id=\"node8\" class=\"node\"><title>64</title>\n<ellipse fill=\"none\" stroke=\"black\" cx=\"164\" cy=\"-1221.24\" rx=\"19.4965\" ry=\"19.4965\"/>\n<text text-anchor=\"middle\" x=\"164\" y=\"-1217.54\" font-family=\"Times,serif\" font-size=\"14.00\">64</text>\n</g>\n<!-- 0&#45;&gt;64 -->\n<g id=\"edge7\" class=\"edge\"><title>0&#45;&gt;64</title>\n<path fill=\"none\" stroke=\"black\" d=\"M18.8372,-656.48C18.1891,-747.044 17.2795,-1145.78 51,-1188.24 70.7228,-1213.08 108.167,-1219.88 134.308,-1221.42\"/>\n<polygon fill=\"black\" stroke=\"black\" points=\"134.272,-1224.92 144.393,-1221.79 134.528,-1217.93 134.272,-1224.92\"/>\n<text text-anchor=\"middle\" x=\"88\" y=\"-1224.04\" font-family=\"Times,serif\" font-size=\"14.00\">&lt;eps&gt;:&lt;eps&gt;</text>\n</g>\n<!-- 83 -->\n<g id=\"node9\" class=\"node\"><title>83</title>\n<ellipse fill=\"none\" stroke=\"black\" cx=\"164\" cy=\"-185.243\" rx=\"19.4965\" ry=\"19.4965\"/>\n<text text-anchor=\"middle\" x=\"164\" y=\"-181.543\" font-family=\"Times,serif\" font-size=\"14.00\">83</text>\n</g>\n<!-- 0&#45;&gt;83 -->\n<g id=\"edge8\" class=\"edge\"><title>0&#45;&gt;83</title>\n<path fill=\"none\" stroke=\"black\" d=\"M19.3686,-620.289C21.0277,-546.376 28.7186,-268.024 51,-236.243 70.2962,-208.721 108.174,-195.765 134.508,-189.866\"/>\n<polygon fill=\"black\" stroke=\"black\" points=\"135.55,-193.226 144.656,-187.811 134.161,-186.366 135.55,-193.226\"/>\n<text text-anchor=\"middle\" x=\"88\" y=\"-240.043\" font-family=\"Times,serif\" font-size=\"14.00\">&lt;eps&gt;:&lt;eps&gt;</text>\n</g>\n<!-- 96 -->\n<g id=\"node10\" class=\"node\"><title>96</title>\n<ellipse fill=\"none\" stroke=\"black\" cx=\"164\" cy=\"-322.243\" rx=\"19.4965\" ry=\"19.4965\"/>\n<text text-anchor=\"middle\" x=\"164\" y=\"-318.543\" font-family=\"Times,serif\" font-size=\"14.00\">96</text>\n</g>\n<!-- 0&#45;&gt;96 -->\n<g id=\"edge9\" class=\"edge\"><title>0&#45;&gt;96</title>\n<path fill=\"none\" stroke=\"black\" d=\"M18.942,-620.214C19.1096,-567.137 22.1243,-412.695 51,-373.243 70.7418,-346.271 108.182,-333.219 134.317,-327.146\"/>\n<polygon fill=\"black\" stroke=\"black\" points=\"135.339,-330.507 144.399,-325.015 133.892,-323.658 135.339,-330.507\"/>\n<text text-anchor=\"middle\" x=\"88\" y=\"-377.043\" font-family=\"Times,serif\" font-size=\"14.00\">&lt;eps&gt;:&lt;eps&gt;</text>\n</g>\n<!-- 103 -->\n<g id=\"node11\" class=\"node\"><title>103</title>\n<ellipse fill=\"none\" stroke=\"black\" cx=\"164\" cy=\"-90.2434\" rx=\"24.0958\" ry=\"24.0958\"/>\n<text text-anchor=\"middle\" x=\"164\" y=\"-86.5434\" font-family=\"Times,serif\" font-size=\"14.00\">103</text>\n</g>\n<!-- 0&#45;&gt;103 -->\n<g id=\"edge10\" class=\"edge\"><title>0&#45;&gt;103</title>\n<path fill=\"none\" stroke=\"black\" d=\"M19.3624,-620.168C21.0994,-539.424 29.3976,-213.968 51,-174.243 68.891,-141.344 105.817,-117.618 132.385,-103.941\"/>\n<polygon fill=\"black\" stroke=\"black\" points=\"134.238,-106.929 141.649,-99.3583 131.134,-100.655 134.238,-106.929\"/>\n<text text-anchor=\"middle\" x=\"88\" y=\"-178.043\" font-family=\"Times,serif\" font-size=\"14.00\">&lt;eps&gt;:&lt;eps&gt;</text>\n</g>\n<!-- 1&#45;&gt;1 -->\n<g id=\"edge11\" class=\"edge\"><title>1&#45;&gt;1</title>\n<path fill=\"none\" stroke=\"black\" d=\"M152.244,-844.285C147.847,-855.156 151.766,-866.243 164,-866.243 172.411,-866.243 176.892,-861.003 177.442,-854.195\"/>\n<polygon fill=\"black\" stroke=\"black\" points=\"180.884,-853.557 175.756,-844.285 173.983,-854.73 180.884,-853.557\"/>\n<text text-anchor=\"middle\" x=\"164\" y=\"-870.043\" font-family=\"Times,serif\" font-size=\"14.00\">ey_1:&lt;eps&gt;</text>\n</g>\n<!-- 2 -->\n<g id=\"node12\" class=\"node\"><title>2</title>\n<ellipse fill=\"none\" stroke=\"black\" cx=\"321\" cy=\"-830.243\" rx=\"18\" ry=\"18\"/>\n<text text-anchor=\"middle\" x=\"321\" y=\"-826.543\" font-family=\"Times,serif\" font-size=\"14.00\">2</text>\n</g>\n<!-- 1&#45;&gt;2 -->\n<g id=\"edge12\" class=\"edge\"><title>1&#45;&gt;2</title>\n<path fill=\"none\" stroke=\"black\" d=\"M182.18,-830.243C208.832,-830.243 260.391,-830.243 292.335,-830.243\"/>\n<polygon fill=\"black\" stroke=\"black\" points=\"292.743,-833.743 302.743,-830.243 292.743,-826.743 292.743,-833.743\"/>\n<text text-anchor=\"middle\" x=\"236\" y=\"-834.043\" font-family=\"Times,serif\" font-size=\"14.00\">ey_1:&lt;eps&gt;</text>\n</g>\n<!-- 5&#45;&gt;5 -->\n<g id=\"edge18\" class=\"edge\"><title>5&#45;&gt;5</title>\n<path fill=\"none\" stroke=\"black\" d=\"M152.244,-979.285C147.847,-990.156 151.766,-1001.24 164,-1001.24 172.411,-1001.24 176.892,-996.003 177.442,-989.195\"/>\n<polygon fill=\"black\" stroke=\"black\" points=\"180.884,-988.557 175.756,-979.285 173.983,-989.73 180.884,-988.557\"/>\n<text text-anchor=\"middle\" x=\"164\" y=\"-1005.04\" font-family=\"Times,serif\" font-size=\"14.00\">ah_1:&lt;eps&gt;</text>\n</g>\n<!-- 6 -->\n<g id=\"node15\" class=\"node\"><title>6</title>\n<ellipse fill=\"none\" stroke=\"black\" cx=\"321\" cy=\"-968.243\" rx=\"18\" ry=\"18\"/>\n<text text-anchor=\"middle\" x=\"321\" y=\"-964.543\" font-family=\"Times,serif\" font-size=\"14.00\">6</text>\n</g>\n<!-- 5&#45;&gt;6 -->\n<g id=\"edge19\" class=\"edge\"><title>5&#45;&gt;6</title>\n<path fill=\"none\" stroke=\"black\" d=\"M182.18,-965.576C208.832,-966.092 260.391,-967.09 292.335,-967.708\"/>\n<polygon fill=\"black\" stroke=\"black\" points=\"292.677,-971.215 302.743,-967.909 292.813,-964.216 292.677,-971.215\"/>\n<text text-anchor=\"middle\" x=\"236\" y=\"-970.043\" font-family=\"Times,serif\" font-size=\"14.00\">ah_1:&lt;eps&gt;</text>\n</g>\n<!-- 12&#45;&gt;12 -->\n<g id=\"edge31\" class=\"edge\"><title>12&#45;&gt;12</title>\n<path fill=\"none\" stroke=\"black\" d=\"M151.953,-719.446C148.031,-730.366 152.047,-741.243 164,-741.243 172.031,-741.243 176.479,-736.333 177.344,-729.799\"/>\n<polygon fill=\"black\" stroke=\"black\" points=\"180.763,-728.933 176.047,-719.446 173.817,-729.803 180.763,-728.933\"/>\n<text text-anchor=\"middle\" x=\"164\" y=\"-745.043\" font-family=\"Times,serif\" font-size=\"14.00\">p_1:&lt;eps&gt;</text>\n</g>\n<!-- 13 -->\n<g id=\"node21\" class=\"node\"><title>13</title>\n<ellipse fill=\"none\" stroke=\"black\" cx=\"321\" cy=\"-704.243\" rx=\"19.4965\" ry=\"19.4965\"/>\n<text text-anchor=\"middle\" x=\"321\" y=\"-700.543\" font-family=\"Times,serif\" font-size=\"14.00\">13</text>\n</g>\n<!-- 12&#45;&gt;13 -->\n<g id=\"edge32\" class=\"edge\"><title>12&#45;&gt;13</title>\n<path fill=\"none\" stroke=\"black\" d=\"M183.697,-704.243C210.346,-704.243 259.5,-704.243 290.926,-704.243\"/>\n<polygon fill=\"black\" stroke=\"black\" points=\"291.237,-707.743 301.237,-704.243 291.237,-700.743 291.237,-707.743\"/>\n<text text-anchor=\"middle\" x=\"236\" y=\"-708.043\" font-family=\"Times,serif\" font-size=\"14.00\">p_1:&lt;eps&gt;</text>\n</g>\n<!-- 22&#45;&gt;22 -->\n<g id=\"edge50\" class=\"edge\"><title>22&#45;&gt;22</title>\n<path fill=\"none\" stroke=\"black\" d=\"M151.953,-464.446C148.031,-475.366 152.047,-486.243 164,-486.243 172.031,-486.243 176.479,-481.333 177.344,-474.799\"/>\n<polygon fill=\"black\" stroke=\"black\" points=\"180.763,-473.933 176.047,-464.446 173.817,-474.803 180.763,-473.933\"/>\n<text text-anchor=\"middle\" x=\"164\" y=\"-490.043\" font-family=\"Times,serif\" font-size=\"14.00\">p_1:&lt;eps&gt;</text>\n</g>\n<!-- 23 -->\n<g id=\"node30\" class=\"node\"><title>23</title>\n<ellipse fill=\"none\" stroke=\"black\" cx=\"321\" cy=\"-449.243\" rx=\"19.4965\" ry=\"19.4965\"/>\n<text text-anchor=\"middle\" x=\"321\" y=\"-445.543\" font-family=\"Times,serif\" font-size=\"14.00\">23</text>\n</g>\n<!-- 22&#45;&gt;23 -->\n<g id=\"edge51\" class=\"edge\"><title>22&#45;&gt;23</title>\n<path fill=\"none\" stroke=\"black\" d=\"M183.697,-449.243C210.346,-449.243 259.5,-449.243 290.926,-449.243\"/>\n<polygon fill=\"black\" stroke=\"black\" points=\"291.237,-452.743 301.237,-449.243 291.237,-445.743 291.237,-452.743\"/>\n<text text-anchor=\"middle\" x=\"236\" y=\"-453.043\" font-family=\"Times,serif\" font-size=\"14.00\">p_1:&lt;eps&gt;</text>\n</g>\n<!-- 38&#45;&gt;38 -->\n<g id=\"edge81\" class=\"edge\"><title>38&#45;&gt;38</title>\n<path fill=\"none\" stroke=\"black\" d=\"M151.953,-1109.45C148.031,-1120.37 152.047,-1131.24 164,-1131.24 172.031,-1131.24 176.479,-1126.33 177.344,-1119.8\"/>\n<polygon fill=\"black\" stroke=\"black\" points=\"180.763,-1118.93 176.047,-1109.45 173.817,-1119.8 180.763,-1118.93\"/>\n<text text-anchor=\"middle\" x=\"164\" y=\"-1135.04\" font-family=\"Times,serif\" font-size=\"14.00\">p_1:&lt;eps&gt;</text>\n</g>\n<!-- 39 -->\n<g id=\"node45\" class=\"node\"><title>39</title>\n<ellipse fill=\"none\" stroke=\"black\" cx=\"321\" cy=\"-1094.24\" rx=\"19.4965\" ry=\"19.4965\"/>\n<text text-anchor=\"middle\" x=\"321\" y=\"-1090.54\" font-family=\"Times,serif\" font-size=\"14.00\">39</text>\n</g>\n<!-- 38&#45;&gt;39 -->\n<g id=\"edge82\" class=\"edge\"><title>38&#45;&gt;39</title>\n<path fill=\"none\" stroke=\"black\" d=\"M183.697,-1094.24C210.346,-1094.24 259.5,-1094.24 290.926,-1094.24\"/>\n<polygon fill=\"black\" stroke=\"black\" points=\"291.237,-1097.74 301.237,-1094.24 291.237,-1090.74 291.237,-1097.74\"/>\n<text text-anchor=\"middle\" x=\"236\" y=\"-1098.04\" font-family=\"Times,serif\" font-size=\"14.00\">p_1:&lt;eps&gt;</text>\n</g>\n<!-- 51&#45;&gt;51 -->\n<g id=\"edge106\" class=\"edge\"><title>51&#45;&gt;51</title>\n<path fill=\"none\" stroke=\"black\" d=\"M151.953,-554.446C148.031,-565.366 152.047,-576.243 164,-576.243 172.031,-576.243 176.479,-571.333 177.344,-564.799\"/>\n<polygon fill=\"black\" stroke=\"black\" points=\"180.763,-563.933 176.047,-554.446 173.817,-564.803 180.763,-563.933\"/>\n<text text-anchor=\"middle\" x=\"164\" y=\"-580.043\" font-family=\"Times,serif\" font-size=\"14.00\">p_1:&lt;eps&gt;</text>\n</g>\n<!-- 52 -->\n<g id=\"node57\" class=\"node\"><title>52</title>\n<ellipse fill=\"none\" stroke=\"black\" cx=\"321\" cy=\"-539.243\" rx=\"19.4965\" ry=\"19.4965\"/>\n<text text-anchor=\"middle\" x=\"321\" y=\"-535.543\" font-family=\"Times,serif\" font-size=\"14.00\">52</text>\n</g>\n<!-- 51&#45;&gt;52 -->\n<g id=\"edge107\" class=\"edge\"><title>51&#45;&gt;52</title>\n<path fill=\"none\" stroke=\"black\" d=\"M183.697,-539.243C210.346,-539.243 259.5,-539.243 290.926,-539.243\"/>\n<polygon fill=\"black\" stroke=\"black\" points=\"291.237,-542.743 301.237,-539.243 291.237,-535.743 291.237,-542.743\"/>\n<text text-anchor=\"middle\" x=\"236\" y=\"-543.043\" font-family=\"Times,serif\" font-size=\"14.00\">p_1:&lt;eps&gt;</text>\n</g>\n<!-- 64&#45;&gt;64 -->\n<g id=\"edge131\" class=\"edge\"><title>64&#45;&gt;64</title>\n<path fill=\"none\" stroke=\"black\" d=\"M151.953,-1236.45C148.031,-1247.37 152.047,-1258.24 164,-1258.24 172.031,-1258.24 176.479,-1253.33 177.344,-1246.8\"/>\n<polygon fill=\"black\" stroke=\"black\" points=\"180.763,-1245.93 176.047,-1236.45 173.817,-1246.8 180.763,-1245.93\"/>\n<text text-anchor=\"middle\" x=\"164\" y=\"-1262.04\" font-family=\"Times,serif\" font-size=\"14.00\">p_1:&lt;eps&gt;</text>\n</g>\n<!-- 65 -->\n<g id=\"node69\" class=\"node\"><title>65</title>\n<ellipse fill=\"none\" stroke=\"black\" cx=\"321\" cy=\"-1221.24\" rx=\"19.4965\" ry=\"19.4965\"/>\n<text text-anchor=\"middle\" x=\"321\" y=\"-1217.54\" font-family=\"Times,serif\" font-size=\"14.00\">65</text>\n</g>\n<!-- 64&#45;&gt;65 -->\n<g id=\"edge132\" class=\"edge\"><title>64&#45;&gt;65</title>\n<path fill=\"none\" stroke=\"black\" d=\"M183.697,-1221.24C210.346,-1221.24 259.5,-1221.24 290.926,-1221.24\"/>\n<polygon fill=\"black\" stroke=\"black\" points=\"291.237,-1224.74 301.237,-1221.24 291.237,-1217.74 291.237,-1224.74\"/>\n<text text-anchor=\"middle\" x=\"236\" y=\"-1225.04\" font-family=\"Times,serif\" font-size=\"14.00\">p_1:&lt;eps&gt;</text>\n</g>\n<!-- 83&#45;&gt;83 -->\n<g id=\"edge168\" class=\"edge\"><title>83&#45;&gt;83</title>\n<path fill=\"none\" stroke=\"black\" d=\"M151.953,-200.446C148.031,-211.366 152.047,-222.243 164,-222.243 172.031,-222.243 176.479,-217.333 177.344,-210.799\"/>\n<polygon fill=\"black\" stroke=\"black\" points=\"180.763,-209.933 176.047,-200.446 173.817,-210.803 180.763,-209.933\"/>\n<text text-anchor=\"middle\" x=\"164\" y=\"-226.043\" font-family=\"Times,serif\" font-size=\"14.00\">p_1:&lt;eps&gt;</text>\n</g>\n<!-- 84 -->\n<g id=\"node87\" class=\"node\"><title>84</title>\n<ellipse fill=\"none\" stroke=\"black\" cx=\"321\" cy=\"-185.243\" rx=\"19.4965\" ry=\"19.4965\"/>\n<text text-anchor=\"middle\" x=\"321\" y=\"-181.543\" font-family=\"Times,serif\" font-size=\"14.00\">84</text>\n</g>\n<!-- 83&#45;&gt;84 -->\n<g id=\"edge169\" class=\"edge\"><title>83&#45;&gt;84</title>\n<path fill=\"none\" stroke=\"black\" d=\"M183.697,-185.243C210.346,-185.243 259.5,-185.243 290.926,-185.243\"/>\n<polygon fill=\"black\" stroke=\"black\" points=\"291.237,-188.743 301.237,-185.243 291.237,-181.743 291.237,-188.743\"/>\n<text text-anchor=\"middle\" x=\"236\" y=\"-189.043\" font-family=\"Times,serif\" font-size=\"14.00\">p_1:&lt;eps&gt;</text>\n</g>\n<!-- 96&#45;&gt;96 -->\n<g id=\"edge193\" class=\"edge\"><title>96&#45;&gt;96</title>\n<path fill=\"none\" stroke=\"black\" d=\"M151.953,-337.446C148.031,-348.366 152.047,-359.243 164,-359.243 172.031,-359.243 176.479,-354.333 177.344,-347.799\"/>\n<polygon fill=\"black\" stroke=\"black\" points=\"180.763,-346.933 176.047,-337.446 173.817,-347.803 180.763,-346.933\"/>\n<text text-anchor=\"middle\" x=\"164\" y=\"-363.043\" font-family=\"Times,serif\" font-size=\"14.00\">dh_1:&lt;eps&gt;</text>\n</g>\n<!-- 97 -->\n<g id=\"node99\" class=\"node\"><title>97</title>\n<ellipse fill=\"none\" stroke=\"black\" cx=\"321\" cy=\"-320.243\" rx=\"19.4965\" ry=\"19.4965\"/>\n<text text-anchor=\"middle\" x=\"321\" y=\"-316.543\" font-family=\"Times,serif\" font-size=\"14.00\">97</text>\n</g>\n<!-- 96&#45;&gt;97 -->\n<g id=\"edge194\" class=\"edge\"><title>96&#45;&gt;97</title>\n<path fill=\"none\" stroke=\"black\" d=\"M183.697,-322.002C210.346,-321.658 259.5,-321.024 290.926,-320.619\"/>\n<polygon fill=\"black\" stroke=\"black\" points=\"291.283,-324.114 301.237,-320.485 291.193,-317.115 291.283,-324.114\"/>\n<text text-anchor=\"middle\" x=\"236\" y=\"-326.043\" font-family=\"Times,serif\" font-size=\"14.00\">dh_1:&lt;eps&gt;</text>\n</g>\n<!-- 103&#45;&gt;103 -->\n<g id=\"edge206\" class=\"edge\"><title>103&#45;&gt;103</title>\n<path fill=\"none\" stroke=\"black\" d=\"M151.146,-110.555C148.747,-121.846 153.031,-132.243 164,-132.243 171.541,-132.243 175.923,-127.329 177.145,-120.588\"/>\n<polygon fill=\"black\" stroke=\"black\" points=\"180.643,-120.449 176.854,-110.555 173.646,-120.652 180.643,-120.449\"/>\n<text text-anchor=\"middle\" x=\"164\" y=\"-136.043\" font-family=\"Times,serif\" font-size=\"14.00\">w_1:&lt;eps&gt;</text>\n</g>\n<!-- 104 -->\n<g id=\"node105\" class=\"node\"><title>104</title>\n<ellipse fill=\"none\" stroke=\"black\" cx=\"321\" cy=\"-90.2434\" rx=\"24.0958\" ry=\"24.0958\"/>\n<text text-anchor=\"middle\" x=\"321\" y=\"-86.5434\" font-family=\"Times,serif\" font-size=\"14.00\">104</text>\n</g>\n<!-- 103&#45;&gt;104 -->\n<g id=\"edge207\" class=\"edge\"><title>103&#45;&gt;104</title>\n<path fill=\"none\" stroke=\"black\" d=\"M188.205,-90.2434C214.305,-90.2434 256.915,-90.2434 286.595,-90.2434\"/>\n<polygon fill=\"black\" stroke=\"black\" points=\"286.89,-93.7435 296.89,-90.2434 286.89,-86.7435 286.89,-93.7435\"/>\n<text text-anchor=\"middle\" x=\"236\" y=\"-94.0434\" font-family=\"Times,serif\" font-size=\"14.00\">w_1:&lt;eps&gt;</text>\n</g>\n<!-- 2&#45;&gt;2 -->\n<g id=\"edge13\" class=\"edge\"><title>2&#45;&gt;2</title>\n<path fill=\"none\" stroke=\"black\" d=\"M308.053,-842.788C301.755,-854.113 306.07,-866.243 321,-866.243 331.614,-866.243 336.863,-860.112 336.748,-852.498\"/>\n<polygon fill=\"black\" stroke=\"black\" points=\"340.082,-851.426 333.947,-842.788 333.356,-853.367 340.082,-851.426\"/>\n<text text-anchor=\"middle\" x=\"321\" y=\"-870.043\" font-family=\"Times,serif\" font-size=\"14.00\">ey_2:&lt;eps&gt;</text>\n</g>\n<!-- 3 -->\n<g id=\"node13\" class=\"node\"><title>3</title>\n<ellipse fill=\"none\" stroke=\"black\" cx=\"478\" cy=\"-836.243\" rx=\"18\" ry=\"18\"/>\n<text text-anchor=\"middle\" x=\"478\" y=\"-832.543\" font-family=\"Times,serif\" font-size=\"14.00\">3</text>\n</g>\n<!-- 2&#45;&gt;3 -->\n<g id=\"edge14\" class=\"edge\"><title>2&#45;&gt;3</title>\n<path fill=\"none\" stroke=\"black\" d=\"M339.18,-830.908C365.832,-831.94 417.391,-833.936 449.335,-835.172\"/>\n<polygon fill=\"black\" stroke=\"black\" points=\"449.615,-838.686 459.743,-835.575 449.886,-831.691 449.615,-838.686\"/>\n<text text-anchor=\"middle\" x=\"406\" y=\"-838.043\" font-family=\"Times,serif\" font-size=\"14.00\">ey_2:&lt;eps&gt;</text>\n</g>\n<!-- 3&#45;&gt;3 -->\n<g id=\"edge15\" class=\"edge\"><title>3&#45;&gt;3</title>\n<path fill=\"none\" stroke=\"black\" d=\"M466.244,-850.285C461.847,-861.156 465.766,-872.243 478,-872.243 486.411,-872.243 490.892,-867.003 491.442,-860.195\"/>\n<polygon fill=\"black\" stroke=\"black\" points=\"494.884,-859.557 489.756,-850.285 487.983,-860.73 494.884,-859.557\"/>\n<text text-anchor=\"middle\" x=\"478\" y=\"-876.043\" font-family=\"Times,serif\" font-size=\"14.00\">ey_3:&lt;eps&gt;</text>\n</g>\n<!-- 4 -->\n<g id=\"node14\" class=\"node\"><title>4</title>\n<ellipse fill=\"none\" stroke=\"black\" cx=\"630\" cy=\"-882.243\" rx=\"18\" ry=\"18\"/>\n<ellipse fill=\"none\" stroke=\"black\" cx=\"630\" cy=\"-882.243\" rx=\"22\" ry=\"22\"/>\n<text text-anchor=\"middle\" x=\"630\" y=\"-878.543\" font-family=\"Times,serif\" font-size=\"14.00\">4</text>\n</g>\n<!-- 3&#45;&gt;4 -->\n<g id=\"edge16\" class=\"edge\"><title>3&#45;&gt;4</title>\n<path fill=\"none\" stroke=\"black\" d=\"M495.338,-841.254C520.17,-848.869 567.811,-863.479 598.993,-873.041\"/>\n<polygon fill=\"black\" stroke=\"black\" points=\"598.293,-876.487 608.88,-876.073 600.345,-869.795 598.293,-876.487\"/>\n<text text-anchor=\"middle\" x=\"554\" y=\"-873.043\" font-family=\"Times,serif\" font-size=\"14.00\">ey_3:ey</text>\n</g>\n<!-- 4&#45;&gt;0 -->\n<g id=\"edge17\" class=\"edge\"><title>4&#45;&gt;0</title>\n<path fill=\"none\" stroke=\"black\" d=\"M608.967,-890.011C580.525,-900.322 526.599,-917.243 479,-917.243 163,-917.243 163,-917.243 163,-917.243 104.3,-917.243 83.2704,-896.278 51,-847.243 31.7765,-818.034 23.4424,-716.543 20.4367,-666.536\"/>\n<polygon fill=\"black\" stroke=\"black\" points=\"23.9229,-666.193 19.8589,-656.408 16.9342,-666.592 23.9229,-666.193\"/>\n<text text-anchor=\"middle\" x=\"321\" y=\"-921.043\" font-family=\"Times,serif\" font-size=\"14.00\">&lt;eps&gt;:&lt;eps&gt;</text>\n</g>\n<!-- 6&#45;&gt;6 -->\n<g id=\"edge20\" class=\"edge\"><title>6&#45;&gt;6</title>\n<path fill=\"none\" stroke=\"black\" d=\"M308.053,-980.788C301.755,-992.113 306.07,-1004.24 321,-1004.24 331.614,-1004.24 336.863,-998.112 336.748,-990.498\"/>\n<polygon fill=\"black\" stroke=\"black\" points=\"340.082,-989.426 333.947,-980.788 333.356,-991.367 340.082,-989.426\"/>\n<text text-anchor=\"middle\" x=\"321\" y=\"-1008.04\" font-family=\"Times,serif\" font-size=\"14.00\">ah_2:&lt;eps&gt;</text>\n</g>\n<!-- 7 -->\n<g id=\"node16\" class=\"node\"><title>7</title>\n<ellipse fill=\"none\" stroke=\"black\" cx=\"478\" cy=\"-968.243\" rx=\"18\" ry=\"18\"/>\n<text text-anchor=\"middle\" x=\"478\" y=\"-964.543\" font-family=\"Times,serif\" font-size=\"14.00\">7</text>\n</g>\n<!-- 6&#45;&gt;7 -->\n<g id=\"edge21\" class=\"edge\"><title>6&#45;&gt;7</title>\n<path fill=\"none\" stroke=\"black\" d=\"M339.18,-968.243C365.832,-968.243 417.391,-968.243 449.335,-968.243\"/>\n<polygon fill=\"black\" stroke=\"black\" points=\"449.743,-971.743 459.743,-968.243 449.743,-964.743 449.743,-971.743\"/>\n<text text-anchor=\"middle\" x=\"406\" y=\"-972.043\" font-family=\"Times,serif\" font-size=\"14.00\">ah_2:&lt;eps&gt;</text>\n</g>\n<!-- 7&#45;&gt;7 -->\n<g id=\"edge22\" class=\"edge\"><title>7&#45;&gt;7</title>\n<path fill=\"none\" stroke=\"black\" d=\"M466.244,-982.285C461.847,-993.156 465.766,-1004.24 478,-1004.24 486.411,-1004.24 490.892,-999.003 491.442,-992.195\"/>\n<polygon fill=\"black\" stroke=\"black\" points=\"494.884,-991.557 489.756,-982.285 487.983,-992.73 494.884,-991.557\"/>\n<text text-anchor=\"middle\" x=\"478\" y=\"-1008.04\" font-family=\"Times,serif\" font-size=\"14.00\">ah_3:&lt;eps&gt;</text>\n</g>\n<!-- 8 -->\n<g id=\"node17\" class=\"node\"><title>8</title>\n<ellipse fill=\"none\" stroke=\"black\" cx=\"630\" cy=\"-960.243\" rx=\"18\" ry=\"18\"/>\n<text text-anchor=\"middle\" x=\"630\" y=\"-956.543\" font-family=\"Times,serif\" font-size=\"14.00\">8</text>\n</g>\n<!-- 7&#45;&gt;8 -->\n<g id=\"edge23\" class=\"edge\"><title>7&#45;&gt;8</title>\n<path fill=\"none\" stroke=\"black\" d=\"M496.207,-967.326C522.09,-965.945 571.273,-963.322 601.974,-961.685\"/>\n<polygon fill=\"black\" stroke=\"black\" points=\"602.194,-965.178 611.994,-961.15 601.822,-958.188 602.194,-965.178\"/>\n<text text-anchor=\"middle\" x=\"554\" y=\"-969.043\" font-family=\"Times,serif\" font-size=\"14.00\">ah_3:&lt;eps&gt;</text>\n</g>\n<!-- 8&#45;&gt;8 -->\n<g id=\"edge24\" class=\"edge\"><title>8&#45;&gt;8</title>\n<path fill=\"none\" stroke=\"black\" d=\"M618.244,-974.285C613.847,-985.156 617.766,-996.243 630,-996.243 638.411,-996.243 642.892,-991.003 643.442,-984.195\"/>\n<polygon fill=\"black\" stroke=\"black\" points=\"646.884,-983.557 641.756,-974.285 639.983,-984.73 646.884,-983.557\"/>\n<text text-anchor=\"middle\" x=\"630\" y=\"-1000.04\" font-family=\"Times,serif\" font-size=\"14.00\">v_1:&lt;eps&gt;</text>\n</g>\n<!-- 9 -->\n<g id=\"node18\" class=\"node\"><title>9</title>\n<ellipse fill=\"none\" stroke=\"black\" cx=\"787\" cy=\"-939.243\" rx=\"18\" ry=\"18\"/>\n<text text-anchor=\"middle\" x=\"787\" y=\"-935.543\" font-family=\"Times,serif\" font-size=\"14.00\">9</text>\n</g>\n<!-- 8&#45;&gt;9 -->\n<g id=\"edge25\" class=\"edge\"><title>8&#45;&gt;9</title>\n<path fill=\"none\" stroke=\"black\" d=\"M647.883,-957.956C674.67,-954.327 727.145,-947.217 759.14,-942.883\"/>\n<polygon fill=\"black\" stroke=\"black\" points=\"759.699,-946.339 769.138,-941.528 758.759,-939.402 759.699,-946.339\"/>\n<text text-anchor=\"middle\" x=\"702\" y=\"-958.043\" font-family=\"Times,serif\" font-size=\"14.00\">v_1:&lt;eps&gt;</text>\n</g>\n<!-- 9&#45;&gt;9 -->\n<g id=\"edge26\" class=\"edge\"><title>9&#45;&gt;9</title>\n<path fill=\"none\" stroke=\"black\" d=\"M774.053,-951.788C767.755,-963.113 772.07,-975.243 787,-975.243 797.614,-975.243 802.863,-969.112 802.748,-961.498\"/>\n<polygon fill=\"black\" stroke=\"black\" points=\"806.082,-960.426 799.947,-951.788 799.356,-962.367 806.082,-960.426\"/>\n<text text-anchor=\"middle\" x=\"787\" y=\"-979.043\" font-family=\"Times,serif\" font-size=\"14.00\">v_2:&lt;eps&gt;</text>\n</g>\n<!-- 10 -->\n<g id=\"node19\" class=\"node\"><title>10</title>\n<ellipse fill=\"none\" stroke=\"black\" cx=\"944\" cy=\"-847.243\" rx=\"19.4965\" ry=\"19.4965\"/>\n<text text-anchor=\"middle\" x=\"944\" y=\"-843.543\" font-family=\"Times,serif\" font-size=\"14.00\">10</text>\n</g>\n<!-- 9&#45;&gt;10 -->\n<g id=\"edge27\" class=\"edge\"><title>9&#45;&gt;10</title>\n<path fill=\"none\" stroke=\"black\" d=\"M802.862,-930.422C829.344,-914.703 884.972,-881.686 917.614,-862.311\"/>\n<polygon fill=\"black\" stroke=\"black\" points=\"919.746,-865.116 926.559,-857.002 916.173,-859.096 919.746,-865.116\"/>\n<text text-anchor=\"middle\" x=\"872\" y=\"-910.043\" font-family=\"Times,serif\" font-size=\"14.00\">v_2:&lt;eps&gt;</text>\n</g>\n<!-- 10&#45;&gt;10 -->\n<g id=\"edge28\" class=\"edge\"><title>10&#45;&gt;10</title>\n<path fill=\"none\" stroke=\"black\" d=\"M931.953,-862.446C928.031,-873.366 932.047,-884.243 944,-884.243 952.031,-884.243 956.479,-879.333 957.344,-872.799\"/>\n<polygon fill=\"black\" stroke=\"black\" points=\"960.763,-871.933 956.047,-862.446 953.817,-872.803 960.763,-871.933\"/>\n<text text-anchor=\"middle\" x=\"944\" y=\"-888.043\" font-family=\"Times,serif\" font-size=\"14.00\">v_3:&lt;eps&gt;</text>\n</g>\n<!-- 11 -->\n<g id=\"node20\" class=\"node\"><title>11</title>\n<ellipse fill=\"none\" stroke=\"black\" cx=\"1100\" cy=\"-824.243\" rx=\"19.4968\" ry=\"19.4968\"/>\n<ellipse fill=\"none\" stroke=\"black\" cx=\"1100\" cy=\"-824.243\" rx=\"23.4965\" ry=\"23.4965\"/>\n<text text-anchor=\"middle\" x=\"1100\" y=\"-820.543\" font-family=\"Times,serif\" font-size=\"14.00\">11</text>\n</g>\n<!-- 10&#45;&gt;11 -->\n<g id=\"edge29\" class=\"edge\"><title>10&#45;&gt;11</title>\n<path fill=\"none\" stroke=\"black\" d=\"M963.576,-844.469C989.091,-840.658 1035.37,-833.747 1066.64,-829.076\"/>\n<polygon fill=\"black\" stroke=\"black\" points=\"1067.25,-832.525 1076.62,-827.586 1066.21,-825.602 1067.25,-832.525\"/>\n<text text-anchor=\"middle\" x=\"1020\" y=\"-844.043\" font-family=\"Times,serif\" font-size=\"14.00\">v_3:ah</text>\n</g>\n<!-- 11&#45;&gt;0 -->\n<g id=\"edge30\" class=\"edge\"><title>11&#45;&gt;0</title>\n<path fill=\"none\" stroke=\"black\" d=\"M1078.02,-815.167C1048.79,-803.365 993.893,-784.243 945,-784.243 163,-784.243 163,-784.243 163,-784.243 104.766,-784.243 88.8364,-760.511 51,-716.243 38.596,-701.731 30.5249,-681.759 25.5913,-665.658\"/>\n<polygon fill=\"black\" stroke=\"black\" points=\"28.8744,-664.405 22.7884,-655.733 22.1379,-666.308 28.8744,-664.405\"/>\n<text text-anchor=\"middle\" x=\"554\" y=\"-788.043\" font-family=\"Times,serif\" font-size=\"14.00\">&lt;eps&gt;:&lt;eps&gt;</text>\n</g>\n<!-- 13&#45;&gt;13 -->\n<g id=\"edge33\" class=\"edge\"><title>13&#45;&gt;13</title>\n<path fill=\"none\" stroke=\"black\" d=\"M307.465,-718.29C302.051,-729.585 306.562,-741.243 321,-741.243 331.151,-741.243 336.396,-735.479 336.733,-728.131\"/>\n<polygon fill=\"black\" stroke=\"black\" points=\"340.13,-727.287 334.535,-718.29 333.299,-728.812 340.13,-727.287\"/>\n<text text-anchor=\"middle\" x=\"321\" y=\"-745.043\" font-family=\"Times,serif\" font-size=\"14.00\">p_2:&lt;eps&gt;</text>\n</g>\n<!-- 14 -->\n<g id=\"node22\" class=\"node\"><title>14</title>\n<ellipse fill=\"none\" stroke=\"black\" cx=\"478\" cy=\"-704.243\" rx=\"19.4965\" ry=\"19.4965\"/>\n<text text-anchor=\"middle\" x=\"478\" y=\"-700.543\" font-family=\"Times,serif\" font-size=\"14.00\">14</text>\n</g>\n<!-- 13&#45;&gt;14 -->\n<g id=\"edge34\" class=\"edge\"><title>13&#45;&gt;14</title>\n<path fill=\"none\" stroke=\"black\" d=\"M340.697,-704.243C367.346,-704.243 416.5,-704.243 447.926,-704.243\"/>\n<polygon fill=\"black\" stroke=\"black\" points=\"448.237,-707.743 458.237,-704.243 448.237,-700.743 448.237,-707.743\"/>\n<text text-anchor=\"middle\" x=\"406\" y=\"-708.043\" font-family=\"Times,serif\" font-size=\"14.00\">p_2:&lt;eps&gt;</text>\n</g>\n<!-- 14&#45;&gt;14 -->\n<g id=\"edge35\" class=\"edge\"><title>14&#45;&gt;14</title>\n<path fill=\"none\" stroke=\"black\" d=\"M465.953,-719.446C462.031,-730.366 466.047,-741.243 478,-741.243 486.031,-741.243 490.479,-736.333 491.344,-729.799\"/>\n<polygon fill=\"black\" stroke=\"black\" points=\"494.763,-728.933 490.047,-719.446 487.817,-729.803 494.763,-728.933\"/>\n<text text-anchor=\"middle\" x=\"478\" y=\"-745.043\" font-family=\"Times,serif\" font-size=\"14.00\">p_3:&lt;eps&gt;</text>\n</g>\n<!-- 15 -->\n<g id=\"node23\" class=\"node\"><title>15</title>\n<ellipse fill=\"none\" stroke=\"black\" cx=\"630\" cy=\"-704.243\" rx=\"19.4965\" ry=\"19.4965\"/>\n<text text-anchor=\"middle\" x=\"630\" y=\"-700.543\" font-family=\"Times,serif\" font-size=\"14.00\">15</text>\n</g>\n<!-- 14&#45;&gt;15 -->\n<g id=\"edge36\" class=\"edge\"><title>14&#45;&gt;15</title>\n<path fill=\"none\" stroke=\"black\" d=\"M497.694,-704.243C523.294,-704.243 569.52,-704.243 599.732,-704.243\"/>\n<polygon fill=\"black\" stroke=\"black\" points=\"600.07,-707.743 610.07,-704.243 600.07,-700.743 600.07,-707.743\"/>\n<text text-anchor=\"middle\" x=\"554\" y=\"-708.043\" font-family=\"Times,serif\" font-size=\"14.00\">p_3:&lt;eps&gt;</text>\n</g>\n<!-- 15&#45;&gt;15 -->\n<g id=\"edge37\" class=\"edge\"><title>15&#45;&gt;15</title>\n<path fill=\"none\" stroke=\"black\" d=\"M617.953,-719.446C614.031,-730.366 618.047,-741.243 630,-741.243 638.031,-741.243 642.479,-736.333 643.344,-729.799\"/>\n<polygon fill=\"black\" stroke=\"black\" points=\"646.763,-728.933 642.047,-719.446 639.817,-729.803 646.763,-728.933\"/>\n<text text-anchor=\"middle\" x=\"630\" y=\"-745.043\" font-family=\"Times,serif\" font-size=\"14.00\">eh_1:&lt;eps&gt;</text>\n</g>\n<!-- 16 -->\n<g id=\"node24\" class=\"node\"><title>16</title>\n<ellipse fill=\"none\" stroke=\"black\" cx=\"787\" cy=\"-704.243\" rx=\"19.4965\" ry=\"19.4965\"/>\n<text text-anchor=\"middle\" x=\"787\" y=\"-700.543\" font-family=\"Times,serif\" font-size=\"14.00\">16</text>\n</g>\n<!-- 15&#45;&gt;16 -->\n<g id=\"edge38\" class=\"edge\"><title>15&#45;&gt;16</title>\n<path fill=\"none\" stroke=\"black\" d=\"M649.697,-704.243C676.346,-704.243 725.5,-704.243 756.926,-704.243\"/>\n<polygon fill=\"black\" stroke=\"black\" points=\"757.237,-707.743 767.237,-704.243 757.237,-700.743 757.237,-707.743\"/>\n<text text-anchor=\"middle\" x=\"702\" y=\"-708.043\" font-family=\"Times,serif\" font-size=\"14.00\">eh_1:&lt;eps&gt;</text>\n</g>\n<!-- 16&#45;&gt;16 -->\n<g id=\"edge39\" class=\"edge\"><title>16&#45;&gt;16</title>\n<path fill=\"none\" stroke=\"black\" d=\"M773.465,-718.29C768.051,-729.585 772.562,-741.243 787,-741.243 797.151,-741.243 802.396,-735.479 802.733,-728.131\"/>\n<polygon fill=\"black\" stroke=\"black\" points=\"806.13,-727.287 800.535,-718.29 799.299,-728.812 806.13,-727.287\"/>\n<text text-anchor=\"middle\" x=\"787\" y=\"-745.043\" font-family=\"Times,serif\" font-size=\"14.00\">eh_2:&lt;eps&gt;</text>\n</g>\n<!-- 17 -->\n<g id=\"node25\" class=\"node\"><title>17</title>\n<ellipse fill=\"none\" stroke=\"black\" cx=\"944\" cy=\"-704.243\" rx=\"19.4965\" ry=\"19.4965\"/>\n<text text-anchor=\"middle\" x=\"944\" y=\"-700.543\" font-family=\"Times,serif\" font-size=\"14.00\">17</text>\n</g>\n<!-- 16&#45;&gt;17 -->\n<g id=\"edge40\" class=\"edge\"><title>16&#45;&gt;17</title>\n<path fill=\"none\" stroke=\"black\" d=\"M806.697,-704.243C833.346,-704.243 882.5,-704.243 913.926,-704.243\"/>\n<polygon fill=\"black\" stroke=\"black\" points=\"914.237,-707.743 924.237,-704.243 914.237,-700.743 914.237,-707.743\"/>\n<text text-anchor=\"middle\" x=\"872\" y=\"-708.043\" font-family=\"Times,serif\" font-size=\"14.00\">eh_2:&lt;eps&gt;</text>\n</g>\n<!-- 17&#45;&gt;17 -->\n<g id=\"edge41\" class=\"edge\"><title>17&#45;&gt;17</title>\n<path fill=\"none\" stroke=\"black\" d=\"M931.953,-719.446C928.031,-730.366 932.047,-741.243 944,-741.243 952.031,-741.243 956.479,-736.333 957.344,-729.799\"/>\n<polygon fill=\"black\" stroke=\"black\" points=\"960.763,-728.933 956.047,-719.446 953.817,-729.803 960.763,-728.933\"/>\n<text text-anchor=\"middle\" x=\"944\" y=\"-745.043\" font-family=\"Times,serif\" font-size=\"14.00\">eh_3:&lt;eps&gt;</text>\n</g>\n<!-- 18 -->\n<g id=\"node26\" class=\"node\"><title>18</title>\n<ellipse fill=\"none\" stroke=\"black\" cx=\"1100\" cy=\"-726.243\" rx=\"19.4965\" ry=\"19.4965\"/>\n<text text-anchor=\"middle\" x=\"1100\" y=\"-722.543\" font-family=\"Times,serif\" font-size=\"14.00\">18</text>\n</g>\n<!-- 17&#45;&gt;18 -->\n<g id=\"edge42\" class=\"edge\"><title>17&#45;&gt;18</title>\n<path fill=\"none\" stroke=\"black\" d=\"M963.576,-706.897C990.054,-710.68 1038.89,-717.656 1070.11,-722.117\"/>\n<polygon fill=\"black\" stroke=\"black\" points=\"1069.96,-725.631 1080.36,-723.58 1070.95,-718.701 1069.96,-725.631\"/>\n<text text-anchor=\"middle\" x=\"1020\" y=\"-723.043\" font-family=\"Times,serif\" font-size=\"14.00\">eh_3:&lt;eps&gt;</text>\n</g>\n<!-- 18&#45;&gt;18 -->\n<g id=\"edge43\" class=\"edge\"><title>18&#45;&gt;18</title>\n<path fill=\"none\" stroke=\"black\" d=\"M1087.95,-741.446C1084.03,-752.366 1088.05,-763.243 1100,-763.243 1108.03,-763.243 1112.48,-758.333 1113.34,-751.799\"/>\n<polygon fill=\"black\" stroke=\"black\" points=\"1116.76,-750.933 1112.05,-741.446 1109.82,-751.803 1116.76,-750.933\"/>\n<text text-anchor=\"middle\" x=\"1100\" y=\"-767.043\" font-family=\"Times,serif\" font-size=\"14.00\">k_1:&lt;eps&gt;</text>\n</g>\n<!-- 19 -->\n<g id=\"node27\" class=\"node\"><title>19</title>\n<ellipse fill=\"none\" stroke=\"black\" cx=\"1255\" cy=\"-897.243\" rx=\"19.4965\" ry=\"19.4965\"/>\n<text text-anchor=\"middle\" x=\"1255\" y=\"-893.543\" font-family=\"Times,serif\" font-size=\"14.00\">19</text>\n</g>\n<!-- 18&#45;&gt;19 -->\n<g id=\"edge44\" class=\"edge\"><title>18&#45;&gt;19</title>\n<path fill=\"none\" stroke=\"black\" d=\"M1113.52,-740.237C1140.19,-770.048 1202.78,-839.995 1234.63,-875.6\"/>\n<polygon fill=\"black\" stroke=\"black\" points=\"1232.03,-877.938 1241.31,-883.056 1237.25,-873.27 1232.03,-877.938\"/>\n<text text-anchor=\"middle\" x=\"1173\" y=\"-840.043\" font-family=\"Times,serif\" font-size=\"14.00\">k_1:&lt;eps&gt;</text>\n</g>\n<!-- 19&#45;&gt;19 -->\n<g id=\"edge45\" class=\"edge\"><title>19&#45;&gt;19</title>\n<path fill=\"none\" stroke=\"black\" d=\"M1241.61,-911.675C1236.6,-922.848 1241.07,-934.243 1255,-934.243 1264.58,-934.243 1269.68,-928.857 1270.31,-921.86\"/>\n<polygon fill=\"black\" stroke=\"black\" points=\"1273.68,-920.854 1268.39,-911.675 1266.8,-922.15 1273.68,-920.854\"/>\n<text text-anchor=\"middle\" x=\"1255\" y=\"-938.043\" font-family=\"Times,serif\" font-size=\"14.00\">k_2:&lt;eps&gt;</text>\n</g>\n<!-- 20 -->\n<g id=\"node28\" class=\"node\"><title>20</title>\n<ellipse fill=\"none\" stroke=\"black\" cx=\"1406\" cy=\"-945.243\" rx=\"19.4965\" ry=\"19.4965\"/>\n<text text-anchor=\"middle\" x=\"1406\" y=\"-941.543\" font-family=\"Times,serif\" font-size=\"14.00\">20</text>\n</g>\n<!-- 19&#45;&gt;20 -->\n<g id=\"edge46\" class=\"edge\"><title>19&#45;&gt;20</title>\n<path fill=\"none\" stroke=\"black\" d=\"M1273.68,-902.938C1299.44,-911.238 1347.53,-926.729 1377.81,-936.486\"/>\n<polygon fill=\"black\" stroke=\"black\" points=\"1376.75,-939.821 1387.35,-939.556 1378.9,-933.158 1376.75,-939.821\"/>\n<text text-anchor=\"middle\" x=\"1337\" y=\"-936.043\" font-family=\"Times,serif\" font-size=\"14.00\">k_2:&lt;eps&gt;</text>\n</g>\n<!-- 20&#45;&gt;20 -->\n<g id=\"edge47\" class=\"edge\"><title>20&#45;&gt;20</title>\n<path fill=\"none\" stroke=\"black\" d=\"M1394.5,-960.831C1391.01,-971.62 1394.84,-982.243 1406,-982.243 1413.5,-982.243 1417.69,-977.448 1418.57,-971.029\"/>\n<polygon fill=\"black\" stroke=\"black\" points=\"1422.03,-970.413 1417.5,-960.831 1415.06,-971.141 1422.03,-970.413\"/>\n<text text-anchor=\"middle\" x=\"1406\" y=\"-986.043\" font-family=\"Times,serif\" font-size=\"14.00\">k_3:&lt;eps&gt;</text>\n</g>\n<!-- 21 -->\n<g id=\"node29\" class=\"node\"><title>21</title>\n<ellipse fill=\"none\" stroke=\"black\" cx=\"1558\" cy=\"-970.243\" rx=\"19.4968\" ry=\"19.4968\"/>\n<ellipse fill=\"none\" stroke=\"black\" cx=\"1558\" cy=\"-970.243\" rx=\"23.4965\" ry=\"23.4965\"/>\n<text text-anchor=\"middle\" x=\"1558\" y=\"-966.543\" font-family=\"Times,serif\" font-size=\"14.00\">21</text>\n</g>\n<!-- 20&#45;&gt;21 -->\n<g id=\"edge48\" class=\"edge\"><title>20&#45;&gt;21</title>\n<path fill=\"none\" stroke=\"black\" d=\"M1425.39,-948.309C1450.1,-952.426 1494.39,-959.808 1524.71,-964.862\"/>\n<polygon fill=\"black\" stroke=\"black\" points=\"1524.36,-968.351 1534.8,-966.543 1525.51,-961.446 1524.36,-968.351\"/>\n<text text-anchor=\"middle\" x=\"1482\" y=\"-967.043\" font-family=\"Times,serif\" font-size=\"14.00\">k_3:v</text>\n</g>\n<!-- 21&#45;&gt;0 -->\n<g id=\"edge49\" class=\"edge\"><title>21&#45;&gt;0</title>\n<path fill=\"none\" stroke=\"black\" d=\"M1535.79,-977.997C1510.85,-986.699 1468.05,-1000.37 1430,-1006.24 1011.9,-1070.82 902.059,-1047.24 479,-1047.24 163,-1047.24 163,-1047.24 163,-1047.24 105.447,-1047.24 82.002,-1030.73 51,-982.243 17.7331,-930.211 17.2802,-739.296 18.3757,-666.604\"/>\n<polygon fill=\"black\" stroke=\"black\" points=\"21.879,-666.437 18.5524,-656.378 14.8801,-666.316 21.879,-666.437\"/>\n<text text-anchor=\"middle\" x=\"787\" y=\"-1054.04\" font-family=\"Times,serif\" font-size=\"14.00\">&lt;eps&gt;:&lt;eps&gt;</text>\n</g>\n<!-- 23&#45;&gt;23 -->\n<g id=\"edge52\" class=\"edge\"><title>23&#45;&gt;23</title>\n<path fill=\"none\" stroke=\"black\" d=\"M307.465,-463.29C302.051,-474.585 306.562,-486.243 321,-486.243 331.151,-486.243 336.396,-480.479 336.733,-473.131\"/>\n<polygon fill=\"black\" stroke=\"black\" points=\"340.13,-472.287 334.535,-463.29 333.299,-473.812 340.13,-472.287\"/>\n<text text-anchor=\"middle\" x=\"321\" y=\"-490.043\" font-family=\"Times,serif\" font-size=\"14.00\">p_2:&lt;eps&gt;</text>\n</g>\n<!-- 24 -->\n<g id=\"node31\" class=\"node\"><title>24</title>\n<ellipse fill=\"none\" stroke=\"black\" cx=\"478\" cy=\"-449.243\" rx=\"19.4965\" ry=\"19.4965\"/>\n<text text-anchor=\"middle\" x=\"478\" y=\"-445.543\" font-family=\"Times,serif\" font-size=\"14.00\">24</text>\n</g>\n<!-- 23&#45;&gt;24 -->\n<g id=\"edge53\" class=\"edge\"><title>23&#45;&gt;24</title>\n<path fill=\"none\" stroke=\"black\" d=\"M340.697,-449.243C367.346,-449.243 416.5,-449.243 447.926,-449.243\"/>\n<polygon fill=\"black\" stroke=\"black\" points=\"448.237,-452.743 458.237,-449.243 448.237,-445.743 448.237,-452.743\"/>\n<text text-anchor=\"middle\" x=\"406\" y=\"-453.043\" font-family=\"Times,serif\" font-size=\"14.00\">p_2:&lt;eps&gt;</text>\n</g>\n<!-- 24&#45;&gt;24 -->\n<g id=\"edge54\" class=\"edge\"><title>24&#45;&gt;24</title>\n<path fill=\"none\" stroke=\"black\" d=\"M465.953,-464.446C462.031,-475.366 466.047,-486.243 478,-486.243 486.031,-486.243 490.479,-481.333 491.344,-474.799\"/>\n<polygon fill=\"black\" stroke=\"black\" points=\"494.763,-473.933 490.047,-464.446 487.817,-474.803 494.763,-473.933\"/>\n<text text-anchor=\"middle\" x=\"478\" y=\"-490.043\" font-family=\"Times,serif\" font-size=\"14.00\">p_3:&lt;eps&gt;</text>\n</g>\n<!-- 25 -->\n<g id=\"node32\" class=\"node\"><title>25</title>\n<ellipse fill=\"none\" stroke=\"black\" cx=\"630\" cy=\"-449.243\" rx=\"19.4965\" ry=\"19.4965\"/>\n<text text-anchor=\"middle\" x=\"630\" y=\"-445.543\" font-family=\"Times,serif\" font-size=\"14.00\">25</text>\n</g>\n<!-- 24&#45;&gt;25 -->\n<g id=\"edge55\" class=\"edge\"><title>24&#45;&gt;25</title>\n<path fill=\"none\" stroke=\"black\" d=\"M497.694,-449.243C523.294,-449.243 569.52,-449.243 599.732,-449.243\"/>\n<polygon fill=\"black\" stroke=\"black\" points=\"600.07,-452.743 610.07,-449.243 600.07,-445.743 600.07,-452.743\"/>\n<text text-anchor=\"middle\" x=\"554\" y=\"-453.043\" font-family=\"Times,serif\" font-size=\"14.00\">p_3:&lt;eps&gt;</text>\n</g>\n<!-- 25&#45;&gt;25 -->\n<g id=\"edge56\" class=\"edge\"><title>25&#45;&gt;25</title>\n<path fill=\"none\" stroke=\"black\" d=\"M617.953,-464.446C614.031,-475.366 618.047,-486.243 630,-486.243 638.031,-486.243 642.479,-481.333 643.344,-474.799\"/>\n<polygon fill=\"black\" stroke=\"black\" points=\"646.763,-473.933 642.047,-464.446 639.817,-474.803 646.763,-473.933\"/>\n<text text-anchor=\"middle\" x=\"630\" y=\"-490.043\" font-family=\"Times,serif\" font-size=\"14.00\">eh_1:&lt;eps&gt;</text>\n</g>\n<!-- 26 -->\n<g id=\"node33\" class=\"node\"><title>26</title>\n<ellipse fill=\"none\" stroke=\"black\" cx=\"787\" cy=\"-449.243\" rx=\"19.4965\" ry=\"19.4965\"/>\n<text text-anchor=\"middle\" x=\"787\" y=\"-445.543\" font-family=\"Times,serif\" font-size=\"14.00\">26</text>\n</g>\n<!-- 25&#45;&gt;26 -->\n<g id=\"edge57\" class=\"edge\"><title>25&#45;&gt;26</title>\n<path fill=\"none\" stroke=\"black\" d=\"M649.697,-449.243C676.346,-449.243 725.5,-449.243 756.926,-449.243\"/>\n<polygon fill=\"black\" stroke=\"black\" points=\"757.237,-452.743 767.237,-449.243 757.237,-445.743 757.237,-452.743\"/>\n<text text-anchor=\"middle\" x=\"702\" y=\"-453.043\" font-family=\"Times,serif\" font-size=\"14.00\">eh_1:&lt;eps&gt;</text>\n</g>\n<!-- 26&#45;&gt;26 -->\n<g id=\"edge58\" class=\"edge\"><title>26&#45;&gt;26</title>\n<path fill=\"none\" stroke=\"black\" d=\"M773.465,-463.29C768.051,-474.585 772.562,-486.243 787,-486.243 797.151,-486.243 802.396,-480.479 802.733,-473.131\"/>\n<polygon fill=\"black\" stroke=\"black\" points=\"806.13,-472.287 800.535,-463.29 799.299,-473.812 806.13,-472.287\"/>\n<text text-anchor=\"middle\" x=\"787\" y=\"-490.043\" font-family=\"Times,serif\" font-size=\"14.00\">eh_2:&lt;eps&gt;</text>\n</g>\n<!-- 27 -->\n<g id=\"node34\" class=\"node\"><title>27</title>\n<ellipse fill=\"none\" stroke=\"black\" cx=\"944\" cy=\"-449.243\" rx=\"19.4965\" ry=\"19.4965\"/>\n<text text-anchor=\"middle\" x=\"944\" y=\"-445.543\" font-family=\"Times,serif\" font-size=\"14.00\">27</text>\n</g>\n<!-- 26&#45;&gt;27 -->\n<g id=\"edge59\" class=\"edge\"><title>26&#45;&gt;27</title>\n<path fill=\"none\" stroke=\"black\" d=\"M806.697,-449.243C833.346,-449.243 882.5,-449.243 913.926,-449.243\"/>\n<polygon fill=\"black\" stroke=\"black\" points=\"914.237,-452.743 924.237,-449.243 914.237,-445.743 914.237,-452.743\"/>\n<text text-anchor=\"middle\" x=\"872\" y=\"-453.043\" font-family=\"Times,serif\" font-size=\"14.00\">eh_2:&lt;eps&gt;</text>\n</g>\n<!-- 27&#45;&gt;27 -->\n<g id=\"edge60\" class=\"edge\"><title>27&#45;&gt;27</title>\n<path fill=\"none\" stroke=\"black\" d=\"M931.953,-464.446C928.031,-475.366 932.047,-486.243 944,-486.243 952.031,-486.243 956.479,-481.333 957.344,-474.799\"/>\n<polygon fill=\"black\" stroke=\"black\" points=\"960.763,-473.933 956.047,-464.446 953.817,-474.803 960.763,-473.933\"/>\n<text text-anchor=\"middle\" x=\"944\" y=\"-490.043\" font-family=\"Times,serif\" font-size=\"14.00\">eh_3:&lt;eps&gt;</text>\n</g>\n<!-- 28 -->\n<g id=\"node35\" class=\"node\"><title>28</title>\n<ellipse fill=\"none\" stroke=\"black\" cx=\"1100\" cy=\"-449.243\" rx=\"19.4965\" ry=\"19.4965\"/>\n<text text-anchor=\"middle\" x=\"1100\" y=\"-445.543\" font-family=\"Times,serif\" font-size=\"14.00\">28</text>\n</g>\n<!-- 27&#45;&gt;28 -->\n<g id=\"edge61\" class=\"edge\"><title>27&#45;&gt;28</title>\n<path fill=\"none\" stroke=\"black\" d=\"M963.576,-449.243C990.054,-449.243 1038.89,-449.243 1070.11,-449.243\"/>\n<polygon fill=\"black\" stroke=\"black\" points=\"1070.36,-452.743 1080.36,-449.243 1070.36,-445.743 1070.36,-452.743\"/>\n<text text-anchor=\"middle\" x=\"1020\" y=\"-453.043\" font-family=\"Times,serif\" font-size=\"14.00\">eh_3:&lt;eps&gt;</text>\n</g>\n<!-- 28&#45;&gt;28 -->\n<g id=\"edge62\" class=\"edge\"><title>28&#45;&gt;28</title>\n<path fill=\"none\" stroke=\"black\" d=\"M1087.95,-464.446C1084.03,-475.366 1088.05,-486.243 1100,-486.243 1108.03,-486.243 1112.48,-481.333 1113.34,-474.799\"/>\n<polygon fill=\"black\" stroke=\"black\" points=\"1116.76,-473.933 1112.05,-464.446 1109.82,-474.803 1116.76,-473.933\"/>\n<text text-anchor=\"middle\" x=\"1100\" y=\"-490.043\" font-family=\"Times,serif\" font-size=\"14.00\">p_1:&lt;eps&gt;</text>\n</g>\n<!-- 29 -->\n<g id=\"node36\" class=\"node\"><title>29</title>\n<ellipse fill=\"none\" stroke=\"black\" cx=\"1255\" cy=\"-449.243\" rx=\"19.4965\" ry=\"19.4965\"/>\n<text text-anchor=\"middle\" x=\"1255\" y=\"-445.543\" font-family=\"Times,serif\" font-size=\"14.00\">29</text>\n</g>\n<!-- 28&#45;&gt;29 -->\n<g id=\"edge63\" class=\"edge\"><title>28&#45;&gt;29</title>\n<path fill=\"none\" stroke=\"black\" d=\"M1119.76,-449.243C1146.03,-449.243 1194.01,-449.243 1224.93,-449.243\"/>\n<polygon fill=\"black\" stroke=\"black\" points=\"1225.09,-452.743 1235.09,-449.243 1225.09,-445.743 1225.09,-452.743\"/>\n<text text-anchor=\"middle\" x=\"1173\" y=\"-453.043\" font-family=\"Times,serif\" font-size=\"14.00\">p_1:&lt;eps&gt;</text>\n</g>\n<!-- 29&#45;&gt;29 -->\n<g id=\"edge64\" class=\"edge\"><title>29&#45;&gt;29</title>\n<path fill=\"none\" stroke=\"black\" d=\"M1241.61,-463.675C1236.6,-474.848 1241.07,-486.243 1255,-486.243 1264.58,-486.243 1269.68,-480.857 1270.31,-473.86\"/>\n<polygon fill=\"black\" stroke=\"black\" points=\"1273.68,-472.854 1268.39,-463.675 1266.8,-474.15 1273.68,-472.854\"/>\n<text text-anchor=\"middle\" x=\"1255\" y=\"-490.043\" font-family=\"Times,serif\" font-size=\"14.00\">p_2:&lt;eps&gt;</text>\n</g>\n<!-- 30 -->\n<g id=\"node37\" class=\"node\"><title>30</title>\n<ellipse fill=\"none\" stroke=\"black\" cx=\"1406\" cy=\"-449.243\" rx=\"19.4965\" ry=\"19.4965\"/>\n<text text-anchor=\"middle\" x=\"1406\" y=\"-445.543\" font-family=\"Times,serif\" font-size=\"14.00\">30</text>\n</g>\n<!-- 29&#45;&gt;30 -->\n<g id=\"edge65\" class=\"edge\"><title>29&#45;&gt;30</title>\n<path fill=\"none\" stroke=\"black\" d=\"M1274.57,-449.243C1300,-449.243 1345.92,-449.243 1375.93,-449.243\"/>\n<polygon fill=\"black\" stroke=\"black\" points=\"1376.2,-452.743 1386.2,-449.243 1376.2,-445.743 1376.2,-452.743\"/>\n<text text-anchor=\"middle\" x=\"1337\" y=\"-453.043\" font-family=\"Times,serif\" font-size=\"14.00\">p_2:&lt;eps&gt;</text>\n</g>\n<!-- 30&#45;&gt;30 -->\n<g id=\"edge66\" class=\"edge\"><title>30&#45;&gt;30</title>\n<path fill=\"none\" stroke=\"black\" d=\"M1394.5,-464.831C1391.01,-475.62 1394.84,-486.243 1406,-486.243 1413.5,-486.243 1417.69,-481.448 1418.57,-475.029\"/>\n<polygon fill=\"black\" stroke=\"black\" points=\"1422.03,-474.413 1417.5,-464.831 1415.06,-475.141 1422.03,-474.413\"/>\n<text text-anchor=\"middle\" x=\"1406\" y=\"-490.043\" font-family=\"Times,serif\" font-size=\"14.00\">p_3:&lt;eps&gt;</text>\n</g>\n<!-- 31 -->\n<g id=\"node38\" class=\"node\"><title>31</title>\n<ellipse fill=\"none\" stroke=\"black\" cx=\"1558\" cy=\"-449.243\" rx=\"19.4965\" ry=\"19.4965\"/>\n<text text-anchor=\"middle\" x=\"1558\" y=\"-445.543\" font-family=\"Times,serif\" font-size=\"14.00\">31</text>\n</g>\n<!-- 30&#45;&gt;31 -->\n<g id=\"edge67\" class=\"edge\"><title>30&#45;&gt;31</title>\n<path fill=\"none\" stroke=\"black\" d=\"M1425.69,-449.243C1451.29,-449.243 1497.52,-449.243 1527.73,-449.243\"/>\n<polygon fill=\"black\" stroke=\"black\" points=\"1528.07,-452.743 1538.07,-449.243 1528.07,-445.743 1528.07,-452.743\"/>\n<text text-anchor=\"middle\" x=\"1482\" y=\"-453.043\" font-family=\"Times,serif\" font-size=\"14.00\">p_3:&lt;eps&gt;</text>\n</g>\n<!-- 31&#45;&gt;31 -->\n<g id=\"edge68\" class=\"edge\"><title>31&#45;&gt;31</title>\n<path fill=\"none\" stroke=\"black\" d=\"M1545.95,-464.446C1542.03,-475.366 1546.05,-486.243 1558,-486.243 1566.03,-486.243 1570.48,-481.333 1571.34,-474.799\"/>\n<polygon fill=\"black\" stroke=\"black\" points=\"1574.76,-473.933 1570.05,-464.446 1567.82,-474.803 1574.76,-473.933\"/>\n<text text-anchor=\"middle\" x=\"1558\" y=\"-490.043\" font-family=\"Times,serif\" font-size=\"14.00\">er_1:&lt;eps&gt;</text>\n</g>\n<!-- 32 -->\n<g id=\"node39\" class=\"node\"><title>32</title>\n<ellipse fill=\"none\" stroke=\"black\" cx=\"1702\" cy=\"-449.243\" rx=\"19.4965\" ry=\"19.4965\"/>\n<text text-anchor=\"middle\" x=\"1702\" y=\"-445.543\" font-family=\"Times,serif\" font-size=\"14.00\">32</text>\n</g>\n<!-- 31&#45;&gt;32 -->\n<g id=\"edge69\" class=\"edge\"><title>31&#45;&gt;32</title>\n<path fill=\"none\" stroke=\"black\" d=\"M1577.56,-449.243C1601.7,-449.243 1644.09,-449.243 1672.36,-449.243\"/>\n<polygon fill=\"black\" stroke=\"black\" points=\"1672.43,-452.743 1682.43,-449.243 1672.43,-445.743 1672.43,-452.743\"/>\n<text text-anchor=\"middle\" x=\"1630\" y=\"-453.043\" font-family=\"Times,serif\" font-size=\"14.00\">er_1:&lt;eps&gt;</text>\n</g>\n<!-- 32&#45;&gt;32 -->\n<g id=\"edge70\" class=\"edge\"><title>32&#45;&gt;32</title>\n<path fill=\"none\" stroke=\"black\" d=\"M1689.95,-464.446C1686.03,-475.366 1690.05,-486.243 1702,-486.243 1710.03,-486.243 1714.48,-481.333 1715.34,-474.799\"/>\n<polygon fill=\"black\" stroke=\"black\" points=\"1718.76,-473.933 1714.05,-464.446 1711.82,-474.803 1718.76,-473.933\"/>\n<text text-anchor=\"middle\" x=\"1702\" y=\"-490.043\" font-family=\"Times,serif\" font-size=\"14.00\">er_2:&lt;eps&gt;</text>\n</g>\n<!-- 33 -->\n<g id=\"node40\" class=\"node\"><title>33</title>\n<ellipse fill=\"none\" stroke=\"black\" cx=\"1846\" cy=\"-449.243\" rx=\"19.4965\" ry=\"19.4965\"/>\n<text text-anchor=\"middle\" x=\"1846\" y=\"-445.543\" font-family=\"Times,serif\" font-size=\"14.00\">33</text>\n</g>\n<!-- 32&#45;&gt;33 -->\n<g id=\"edge71\" class=\"edge\"><title>32&#45;&gt;33</title>\n<path fill=\"none\" stroke=\"black\" d=\"M1721.56,-449.243C1745.7,-449.243 1788.09,-449.243 1816.36,-449.243\"/>\n<polygon fill=\"black\" stroke=\"black\" points=\"1816.43,-452.743 1826.43,-449.243 1816.43,-445.743 1816.43,-452.743\"/>\n<text text-anchor=\"middle\" x=\"1774\" y=\"-453.043\" font-family=\"Times,serif\" font-size=\"14.00\">er_2:&lt;eps&gt;</text>\n</g>\n<!-- 33&#45;&gt;33 -->\n<g id=\"edge72\" class=\"edge\"><title>33&#45;&gt;33</title>\n<path fill=\"none\" stroke=\"black\" d=\"M1833.95,-464.446C1830.03,-475.366 1834.05,-486.243 1846,-486.243 1854.03,-486.243 1858.48,-481.333 1859.34,-474.799\"/>\n<polygon fill=\"black\" stroke=\"black\" points=\"1862.76,-473.933 1858.05,-464.446 1855.82,-474.803 1862.76,-473.933\"/>\n<text text-anchor=\"middle\" x=\"1846\" y=\"-490.043\" font-family=\"Times,serif\" font-size=\"14.00\">er_3:&lt;eps&gt;</text>\n</g>\n<!-- 34 -->\n<g id=\"node41\" class=\"node\"><title>34</title>\n<ellipse fill=\"none\" stroke=\"black\" cx=\"1994\" cy=\"-478.243\" rx=\"19.4965\" ry=\"19.4965\"/>\n<text text-anchor=\"middle\" x=\"1994\" y=\"-474.543\" font-family=\"Times,serif\" font-size=\"14.00\">34</text>\n</g>\n<!-- 33&#45;&gt;34 -->\n<g id=\"edge73\" class=\"edge\"><title>33&#45;&gt;34</title>\n<path fill=\"none\" stroke=\"black\" d=\"M1865.2,-452.858C1890.11,-457.807 1935.11,-466.744 1964.51,-472.585\"/>\n<polygon fill=\"black\" stroke=\"black\" points=\"1964.08,-476.068 1974.57,-474.584 1965.45,-469.202 1964.08,-476.068\"/>\n<text text-anchor=\"middle\" x=\"1918\" y=\"-474.043\" font-family=\"Times,serif\" font-size=\"14.00\">er_3:&lt;eps&gt;</text>\n</g>\n<!-- 34&#45;&gt;34 -->\n<g id=\"edge74\" class=\"edge\"><title>34&#45;&gt;34</title>\n<path fill=\"none\" stroke=\"black\" d=\"M1981.95,-493.446C1978.03,-504.366 1982.05,-515.243 1994,-515.243 2002.03,-515.243 2006.48,-510.333 2007.34,-503.799\"/>\n<polygon fill=\"black\" stroke=\"black\" points=\"2010.76,-502.933 2006.05,-493.446 2003.82,-503.803 2010.76,-502.933\"/>\n<text text-anchor=\"middle\" x=\"1994\" y=\"-519.043\" font-family=\"Times,serif\" font-size=\"14.00\">z_1:&lt;eps&gt;</text>\n</g>\n<!-- 35 -->\n<g id=\"node42\" class=\"node\"><title>35</title>\n<ellipse fill=\"none\" stroke=\"black\" cx=\"2130\" cy=\"-940.243\" rx=\"19.4965\" ry=\"19.4965\"/>\n<text text-anchor=\"middle\" x=\"2130\" y=\"-936.543\" font-family=\"Times,serif\" font-size=\"14.00\">35</text>\n</g>\n<!-- 34&#45;&gt;35 -->\n<g id=\"edge75\" class=\"edge\"><title>34&#45;&gt;35</title>\n<path fill=\"none\" stroke=\"black\" d=\"M2002.25,-495.873C2007.98,-510.138 2015.99,-530.813 2022,-549.243 2065.72,-683.294 2106.54,-847.003 2122.23,-911.847\"/>\n<polygon fill=\"black\" stroke=\"black\" points=\"2118.86,-912.833 2124.61,-921.735 2125.67,-911.194 2118.86,-912.833\"/>\n<text text-anchor=\"middle\" x=\"2066\" y=\"-803.043\" font-family=\"Times,serif\" font-size=\"14.00\">z_1:&lt;eps&gt;</text>\n</g>\n<!-- 35&#45;&gt;35 -->\n<g id=\"edge76\" class=\"edge\"><title>35&#45;&gt;35</title>\n<path fill=\"none\" stroke=\"black\" d=\"M2119.06,-956.217C2115.98,-966.872 2119.62,-977.243 2130,-977.243 2136.97,-977.243 2140.9,-972.561 2141.8,-966.257\"/>\n<polygon fill=\"black\" stroke=\"black\" points=\"2145.28,-965.882 2140.94,-956.217 2138.31,-966.478 2145.28,-965.882\"/>\n<text text-anchor=\"middle\" x=\"2130\" y=\"-981.043\" font-family=\"Times,serif\" font-size=\"14.00\">z_2:&lt;eps&gt;</text>\n</g>\n<!-- 36 -->\n<g id=\"node43\" class=\"node\"><title>36</title>\n<ellipse fill=\"none\" stroke=\"black\" cx=\"2258\" cy=\"-1056.24\" rx=\"19.4965\" ry=\"19.4965\"/>\n<text text-anchor=\"middle\" x=\"2258\" y=\"-1052.54\" font-family=\"Times,serif\" font-size=\"14.00\">36</text>\n</g>\n<!-- 35&#45;&gt;36 -->\n<g id=\"edge77\" class=\"edge\"><title>35&#45;&gt;36</title>\n<path fill=\"none\" stroke=\"black\" d=\"M2144.97,-953.101C2166.91,-973.308 2209.65,-1012.65 2235.52,-1036.47\"/>\n<polygon fill=\"black\" stroke=\"black\" points=\"2233.24,-1039.13 2242.97,-1043.33 2237.99,-1033.98 2233.24,-1039.13\"/>\n<text text-anchor=\"middle\" x=\"2194\" y=\"-1025.04\" font-family=\"Times,serif\" font-size=\"14.00\">z_2:&lt;eps&gt;</text>\n</g>\n<!-- 36&#45;&gt;36 -->\n<g id=\"edge78\" class=\"edge\"><title>36&#45;&gt;36</title>\n<path fill=\"none\" stroke=\"black\" d=\"M2247.29,-1072.6C2244.5,-1083.12 2248.07,-1093.24 2258,-1093.24 2264.52,-1093.24 2268.29,-1088.88 2269.33,-1082.91\"/>\n<polygon fill=\"black\" stroke=\"black\" points=\"2272.8,-1082.37 2268.71,-1072.6 2265.82,-1082.79 2272.8,-1082.37\"/>\n<text text-anchor=\"middle\" x=\"2258\" y=\"-1097.04\" font-family=\"Times,serif\" font-size=\"14.00\">z_3:&lt;eps&gt;</text>\n</g>\n<!-- 37 -->\n<g id=\"node44\" class=\"node\"><title>37</title>\n<ellipse fill=\"none\" stroke=\"black\" cx=\"2388\" cy=\"-1128.24\" rx=\"19.4968\" ry=\"19.4968\"/>\n<ellipse fill=\"none\" stroke=\"black\" cx=\"2388\" cy=\"-1128.24\" rx=\"23.4965\" ry=\"23.4965\"/>\n<text text-anchor=\"middle\" x=\"2388\" y=\"-1124.54\" font-family=\"Times,serif\" font-size=\"14.00\">37</text>\n</g>\n<!-- 36&#45;&gt;37 -->\n<g id=\"edge79\" class=\"edge\"><title>36&#45;&gt;37</title>\n<path fill=\"none\" stroke=\"black\" d=\"M2275.21,-1065.36C2296.06,-1077.09 2332.63,-1097.66 2358.25,-1112.07\"/>\n<polygon fill=\"black\" stroke=\"black\" points=\"2356.71,-1115.22 2367.14,-1117.07 2360.14,-1109.12 2356.71,-1115.22\"/>\n<text text-anchor=\"middle\" x=\"2321\" y=\"-1108.04\" font-family=\"Times,serif\" font-size=\"14.00\">z_3:p</text>\n</g>\n<!-- 37&#45;&gt;0 -->\n<g id=\"edge80\" class=\"edge\"><title>37&#45;&gt;0</title>\n<path fill=\"none\" stroke=\"black\" d=\"M2367.39,-1140.09C2342.93,-1153.72 2299.38,-1174.24 2259,-1174.24 163,-1174.24 163,-1174.24 163,-1174.24 106.104,-1174.24 81.5259,-1160.26 51,-1112.24 27.0853,-1074.63 20.7413,-762.563 19.3461,-666.365\"/>\n<polygon fill=\"black\" stroke=\"black\" points=\"22.8441,-666.183 19.2062,-656.233 15.8447,-666.28 22.8441,-666.183\"/>\n<text text-anchor=\"middle\" x=\"1255\" y=\"-1178.04\" font-family=\"Times,serif\" font-size=\"14.00\">&lt;eps&gt;:&lt;eps&gt;</text>\n</g>\n<!-- 39&#45;&gt;39 -->\n<g id=\"edge83\" class=\"edge\"><title>39&#45;&gt;39</title>\n<path fill=\"none\" stroke=\"black\" d=\"M307.465,-1108.29C302.051,-1119.58 306.562,-1131.24 321,-1131.24 331.151,-1131.24 336.396,-1125.48 336.733,-1118.13\"/>\n<polygon fill=\"black\" stroke=\"black\" points=\"340.13,-1117.29 334.535,-1108.29 333.299,-1118.81 340.13,-1117.29\"/>\n<text text-anchor=\"middle\" x=\"321\" y=\"-1135.04\" font-family=\"Times,serif\" font-size=\"14.00\">p_2:&lt;eps&gt;</text>\n</g>\n<!-- 40 -->\n<g id=\"node46\" class=\"node\"><title>40</title>\n<ellipse fill=\"none\" stroke=\"black\" cx=\"478\" cy=\"-1094.24\" rx=\"19.4965\" ry=\"19.4965\"/>\n<text text-anchor=\"middle\" x=\"478\" y=\"-1090.54\" font-family=\"Times,serif\" font-size=\"14.00\">40</text>\n</g>\n<!-- 39&#45;&gt;40 -->\n<g id=\"edge84\" class=\"edge\"><title>39&#45;&gt;40</title>\n<path fill=\"none\" stroke=\"black\" d=\"M340.697,-1094.24C367.346,-1094.24 416.5,-1094.24 447.926,-1094.24\"/>\n<polygon fill=\"black\" stroke=\"black\" points=\"448.237,-1097.74 458.237,-1094.24 448.237,-1090.74 448.237,-1097.74\"/>\n<text text-anchor=\"middle\" x=\"406\" y=\"-1098.04\" font-family=\"Times,serif\" font-size=\"14.00\">p_2:&lt;eps&gt;</text>\n</g>\n<!-- 40&#45;&gt;40 -->\n<g id=\"edge85\" class=\"edge\"><title>40&#45;&gt;40</title>\n<path fill=\"none\" stroke=\"black\" d=\"M465.953,-1109.45C462.031,-1120.37 466.047,-1131.24 478,-1131.24 486.031,-1131.24 490.479,-1126.33 491.344,-1119.8\"/>\n<polygon fill=\"black\" stroke=\"black\" points=\"494.763,-1118.93 490.047,-1109.45 487.817,-1119.8 494.763,-1118.93\"/>\n<text text-anchor=\"middle\" x=\"478\" y=\"-1135.04\" font-family=\"Times,serif\" font-size=\"14.00\">p_3:&lt;eps&gt;</text>\n</g>\n<!-- 41 -->\n<g id=\"node47\" class=\"node\"><title>41</title>\n<ellipse fill=\"none\" stroke=\"black\" cx=\"630\" cy=\"-1094.24\" rx=\"19.4965\" ry=\"19.4965\"/>\n<text text-anchor=\"middle\" x=\"630\" y=\"-1090.54\" font-family=\"Times,serif\" font-size=\"14.00\">41</text>\n</g>\n<!-- 40&#45;&gt;41 -->\n<g id=\"edge86\" class=\"edge\"><title>40&#45;&gt;41</title>\n<path fill=\"none\" stroke=\"black\" d=\"M497.694,-1094.24C523.294,-1094.24 569.52,-1094.24 599.732,-1094.24\"/>\n<polygon fill=\"black\" stroke=\"black\" points=\"600.07,-1097.74 610.07,-1094.24 600.07,-1090.74 600.07,-1097.74\"/>\n<text text-anchor=\"middle\" x=\"554\" y=\"-1098.04\" font-family=\"Times,serif\" font-size=\"14.00\">p_3:&lt;eps&gt;</text>\n</g>\n<!-- 41&#45;&gt;41 -->\n<g id=\"edge87\" class=\"edge\"><title>41&#45;&gt;41</title>\n<path fill=\"none\" stroke=\"black\" d=\"M617.953,-1109.45C614.031,-1120.37 618.047,-1131.24 630,-1131.24 638.031,-1131.24 642.479,-1126.33 643.344,-1119.8\"/>\n<polygon fill=\"black\" stroke=\"black\" points=\"646.763,-1118.93 642.047,-1109.45 639.817,-1119.8 646.763,-1118.93\"/>\n<text text-anchor=\"middle\" x=\"630\" y=\"-1135.04\" font-family=\"Times,serif\" font-size=\"14.00\">iy_1:&lt;eps&gt;</text>\n</g>\n<!-- 42 -->\n<g id=\"node48\" class=\"node\"><title>42</title>\n<ellipse fill=\"none\" stroke=\"black\" cx=\"787\" cy=\"-1094.24\" rx=\"19.4965\" ry=\"19.4965\"/>\n<text text-anchor=\"middle\" x=\"787\" y=\"-1090.54\" font-family=\"Times,serif\" font-size=\"14.00\">42</text>\n</g>\n<!-- 41&#45;&gt;42 -->\n<g id=\"edge88\" class=\"edge\"><title>41&#45;&gt;42</title>\n<path fill=\"none\" stroke=\"black\" d=\"M649.697,-1094.24C676.346,-1094.24 725.5,-1094.24 756.926,-1094.24\"/>\n<polygon fill=\"black\" stroke=\"black\" points=\"757.237,-1097.74 767.237,-1094.24 757.237,-1090.74 757.237,-1097.74\"/>\n<text text-anchor=\"middle\" x=\"702\" y=\"-1098.04\" font-family=\"Times,serif\" font-size=\"14.00\">iy_1:&lt;eps&gt;</text>\n</g>\n<!-- 42&#45;&gt;42 -->\n<g id=\"edge89\" class=\"edge\"><title>42&#45;&gt;42</title>\n<path fill=\"none\" stroke=\"black\" d=\"M773.465,-1108.29C768.051,-1119.58 772.562,-1131.24 787,-1131.24 797.151,-1131.24 802.396,-1125.48 802.733,-1118.13\"/>\n<polygon fill=\"black\" stroke=\"black\" points=\"806.13,-1117.29 800.535,-1108.29 799.299,-1118.81 806.13,-1117.29\"/>\n<text text-anchor=\"middle\" x=\"787\" y=\"-1135.04\" font-family=\"Times,serif\" font-size=\"14.00\">iy_2:&lt;eps&gt;</text>\n</g>\n<!-- 43 -->\n<g id=\"node49\" class=\"node\"><title>43</title>\n<ellipse fill=\"none\" stroke=\"black\" cx=\"944\" cy=\"-1091.24\" rx=\"19.4965\" ry=\"19.4965\"/>\n<text text-anchor=\"middle\" x=\"944\" y=\"-1087.54\" font-family=\"Times,serif\" font-size=\"14.00\">43</text>\n</g>\n<!-- 42&#45;&gt;43 -->\n<g id=\"edge90\" class=\"edge\"><title>42&#45;&gt;43</title>\n<path fill=\"none\" stroke=\"black\" d=\"M806.697,-1093.88C833.346,-1093.37 882.5,-1092.41 913.926,-1091.81\"/>\n<polygon fill=\"black\" stroke=\"black\" points=\"914.307,-1095.3 924.237,-1091.61 914.171,-1088.3 914.307,-1095.3\"/>\n<text text-anchor=\"middle\" x=\"872\" y=\"-1096.04\" font-family=\"Times,serif\" font-size=\"14.00\">iy_2:&lt;eps&gt;</text>\n</g>\n<!-- 43&#45;&gt;43 -->\n<g id=\"edge91\" class=\"edge\"><title>43&#45;&gt;43</title>\n<path fill=\"none\" stroke=\"black\" d=\"M931.953,-1106.45C928.031,-1117.37 932.047,-1128.24 944,-1128.24 952.031,-1128.24 956.479,-1123.33 957.344,-1116.8\"/>\n<polygon fill=\"black\" stroke=\"black\" points=\"960.763,-1115.93 956.047,-1106.45 953.817,-1116.8 960.763,-1115.93\"/>\n<text text-anchor=\"middle\" x=\"944\" y=\"-1132.04\" font-family=\"Times,serif\" font-size=\"14.00\">iy_3:&lt;eps&gt;</text>\n</g>\n<!-- 44 -->\n<g id=\"node50\" class=\"node\"><title>44</title>\n<ellipse fill=\"none\" stroke=\"black\" cx=\"1100\" cy=\"-1088.24\" rx=\"19.4965\" ry=\"19.4965\"/>\n<text text-anchor=\"middle\" x=\"1100\" y=\"-1084.54\" font-family=\"Times,serif\" font-size=\"14.00\">44</text>\n</g>\n<!-- 43&#45;&gt;44 -->\n<g id=\"edge92\" class=\"edge\"><title>43&#45;&gt;44</title>\n<path fill=\"none\" stroke=\"black\" d=\"M963.576,-1090.88C990.054,-1090.37 1038.89,-1089.41 1070.11,-1088.81\"/>\n<polygon fill=\"black\" stroke=\"black\" points=\"1070.43,-1092.3 1080.36,-1088.61 1070.29,-1085.3 1070.43,-1092.3\"/>\n<text text-anchor=\"middle\" x=\"1020\" y=\"-1094.04\" font-family=\"Times,serif\" font-size=\"14.00\">iy_3:&lt;eps&gt;</text>\n</g>\n<!-- 44&#45;&gt;44 -->\n<g id=\"edge93\" class=\"edge\"><title>44&#45;&gt;44</title>\n<path fill=\"none\" stroke=\"black\" d=\"M1087.95,-1103.45C1084.03,-1114.37 1088.05,-1125.24 1100,-1125.24 1108.03,-1125.24 1112.48,-1120.33 1113.34,-1113.8\"/>\n<polygon fill=\"black\" stroke=\"black\" points=\"1116.76,-1112.93 1112.05,-1103.45 1109.82,-1113.8 1116.76,-1112.93\"/>\n<text text-anchor=\"middle\" x=\"1100\" y=\"-1129.04\" font-family=\"Times,serif\" font-size=\"14.00\">t_1:&lt;eps&gt;</text>\n</g>\n<!-- 45 -->\n<g id=\"node51\" class=\"node\"><title>45</title>\n<ellipse fill=\"none\" stroke=\"black\" cx=\"1255\" cy=\"-1086.24\" rx=\"19.4965\" ry=\"19.4965\"/>\n<text text-anchor=\"middle\" x=\"1255\" y=\"-1082.54\" font-family=\"Times,serif\" font-size=\"14.00\">45</text>\n</g>\n<!-- 44&#45;&gt;45 -->\n<g id=\"edge94\" class=\"edge\"><title>44&#45;&gt;45</title>\n<path fill=\"none\" stroke=\"black\" d=\"M1119.76,-1088C1146.03,-1087.65 1194.01,-1087.03 1224.93,-1086.62\"/>\n<polygon fill=\"black\" stroke=\"black\" points=\"1225.13,-1090.12 1235.09,-1086.49 1225.04,-1083.12 1225.13,-1090.12\"/>\n<text text-anchor=\"middle\" x=\"1173\" y=\"-1091.04\" font-family=\"Times,serif\" font-size=\"14.00\">t_1:&lt;eps&gt;</text>\n</g>\n<!-- 45&#45;&gt;45 -->\n<g id=\"edge95\" class=\"edge\"><title>45&#45;&gt;45</title>\n<path fill=\"none\" stroke=\"black\" d=\"M1241.61,-1100.68C1236.6,-1111.85 1241.07,-1123.24 1255,-1123.24 1264.58,-1123.24 1269.68,-1117.86 1270.31,-1110.86\"/>\n<polygon fill=\"black\" stroke=\"black\" points=\"1273.68,-1109.85 1268.39,-1100.68 1266.8,-1111.15 1273.68,-1109.85\"/>\n<text text-anchor=\"middle\" x=\"1255\" y=\"-1127.04\" font-family=\"Times,serif\" font-size=\"14.00\">t_2:&lt;eps&gt;</text>\n</g>\n<!-- 46 -->\n<g id=\"node52\" class=\"node\"><title>46</title>\n<ellipse fill=\"none\" stroke=\"black\" cx=\"1406\" cy=\"-1086.24\" rx=\"19.4965\" ry=\"19.4965\"/>\n<text text-anchor=\"middle\" x=\"1406\" y=\"-1082.54\" font-family=\"Times,serif\" font-size=\"14.00\">46</text>\n</g>\n<!-- 45&#45;&gt;46 -->\n<g id=\"edge96\" class=\"edge\"><title>45&#45;&gt;46</title>\n<path fill=\"none\" stroke=\"black\" d=\"M1274.57,-1086.24C1300,-1086.24 1345.92,-1086.24 1375.93,-1086.24\"/>\n<polygon fill=\"black\" stroke=\"black\" points=\"1376.2,-1089.74 1386.2,-1086.24 1376.2,-1082.74 1376.2,-1089.74\"/>\n<text text-anchor=\"middle\" x=\"1337\" y=\"-1090.04\" font-family=\"Times,serif\" font-size=\"14.00\">t_2:&lt;eps&gt;</text>\n</g>\n<!-- 46&#45;&gt;46 -->\n<g id=\"edge97\" class=\"edge\"><title>46&#45;&gt;46</title>\n<path fill=\"none\" stroke=\"black\" d=\"M1394.5,-1101.83C1391.01,-1112.62 1394.84,-1123.24 1406,-1123.24 1413.5,-1123.24 1417.69,-1118.45 1418.57,-1112.03\"/>\n<polygon fill=\"black\" stroke=\"black\" points=\"1422.03,-1111.41 1417.5,-1101.83 1415.06,-1112.14 1422.03,-1111.41\"/>\n<text text-anchor=\"middle\" x=\"1406\" y=\"-1127.04\" font-family=\"Times,serif\" font-size=\"14.00\">t_3:&lt;eps&gt;</text>\n</g>\n<!-- 47 -->\n<g id=\"node53\" class=\"node\"><title>47</title>\n<ellipse fill=\"none\" stroke=\"black\" cx=\"1558\" cy=\"-1039.24\" rx=\"19.4965\" ry=\"19.4965\"/>\n<text text-anchor=\"middle\" x=\"1558\" y=\"-1035.54\" font-family=\"Times,serif\" font-size=\"14.00\">47</text>\n</g>\n<!-- 46&#45;&gt;47 -->\n<g id=\"edge98\" class=\"edge\"><title>46&#45;&gt;47</title>\n<path fill=\"none\" stroke=\"black\" d=\"M1424.96,-1081.35C1447.18,-1075.2 1486.09,-1064.14 1519,-1053.24 1522.62,-1052.05 1526.4,-1050.73 1530.13,-1049.39\"/>\n<polygon fill=\"black\" stroke=\"black\" points=\"1531.49,-1052.62 1539.68,-1045.9 1529.09,-1046.05 1531.49,-1052.62\"/>\n<text text-anchor=\"middle\" x=\"1482\" y=\"-1078.04\" font-family=\"Times,serif\" font-size=\"14.00\">t_3:&lt;eps&gt;</text>\n</g>\n<!-- 47&#45;&gt;47 -->\n<g id=\"edge99\" class=\"edge\"><title>47&#45;&gt;47</title>\n<path fill=\"none\" stroke=\"black\" d=\"M1545.95,-1054.45C1542.03,-1065.37 1546.05,-1076.24 1558,-1076.24 1566.03,-1076.24 1570.48,-1071.33 1571.34,-1064.8\"/>\n<polygon fill=\"black\" stroke=\"black\" points=\"1574.76,-1063.93 1570.05,-1054.45 1567.82,-1064.8 1574.76,-1063.93\"/>\n<text text-anchor=\"middle\" x=\"1558\" y=\"-1080.04\" font-family=\"Times,serif\" font-size=\"14.00\">er_1:&lt;eps&gt;</text>\n</g>\n<!-- 48 -->\n<g id=\"node54\" class=\"node\"><title>48</title>\n<ellipse fill=\"none\" stroke=\"black\" cx=\"1702\" cy=\"-934.243\" rx=\"19.4965\" ry=\"19.4965\"/>\n<text text-anchor=\"middle\" x=\"1702\" y=\"-930.543\" font-family=\"Times,serif\" font-size=\"14.00\">48</text>\n</g>\n<!-- 47&#45;&gt;48 -->\n<g id=\"edge100\" class=\"edge\"><title>47&#45;&gt;48</title>\n<path fill=\"none\" stroke=\"black\" d=\"M1574.2,-1028.01C1598.97,-1009.69 1648.21,-973.278 1677.51,-951.613\"/>\n<polygon fill=\"black\" stroke=\"black\" points=\"1679.95,-954.159 1685.91,-945.399 1675.79,-948.531 1679.95,-954.159\"/>\n<text text-anchor=\"middle\" x=\"1630\" y=\"-1014.04\" font-family=\"Times,serif\" font-size=\"14.00\">er_1:&lt;eps&gt;</text>\n</g>\n<!-- 48&#45;&gt;48 -->\n<g id=\"edge101\" class=\"edge\"><title>48&#45;&gt;48</title>\n<path fill=\"none\" stroke=\"black\" d=\"M1689.95,-949.446C1686.03,-960.366 1690.05,-971.243 1702,-971.243 1710.03,-971.243 1714.48,-966.333 1715.34,-959.799\"/>\n<polygon fill=\"black\" stroke=\"black\" points=\"1718.76,-958.933 1714.05,-949.446 1711.82,-959.803 1718.76,-958.933\"/>\n<text text-anchor=\"middle\" x=\"1702\" y=\"-975.043\" font-family=\"Times,serif\" font-size=\"14.00\">er_2:&lt;eps&gt;</text>\n</g>\n<!-- 49 -->\n<g id=\"node55\" class=\"node\"><title>49</title>\n<ellipse fill=\"none\" stroke=\"black\" cx=\"1846\" cy=\"-725.243\" rx=\"19.4965\" ry=\"19.4965\"/>\n<text text-anchor=\"middle\" x=\"1846\" y=\"-721.543\" font-family=\"Times,serif\" font-size=\"14.00\">49</text>\n</g>\n<!-- 48&#45;&gt;49 -->\n<g id=\"edge102\" class=\"edge\"><title>48&#45;&gt;49</title>\n<path fill=\"none\" stroke=\"black\" d=\"M1713.67,-918.534C1738.3,-882.285 1799.24,-792.598 1828.63,-749.34\"/>\n<polygon fill=\"black\" stroke=\"black\" points=\"1831.67,-751.088 1834.4,-740.85 1825.88,-747.154 1831.67,-751.088\"/>\n<text text-anchor=\"middle\" x=\"1774\" y=\"-881.043\" font-family=\"Times,serif\" font-size=\"14.00\">er_2:&lt;eps&gt;</text>\n</g>\n<!-- 49&#45;&gt;49 -->\n<g id=\"edge103\" class=\"edge\"><title>49&#45;&gt;49</title>\n<path fill=\"none\" stroke=\"black\" d=\"M1833.95,-740.446C1830.03,-751.366 1834.05,-762.243 1846,-762.243 1854.03,-762.243 1858.48,-757.333 1859.34,-750.799\"/>\n<polygon fill=\"black\" stroke=\"black\" points=\"1862.76,-749.933 1858.05,-740.446 1855.82,-750.803 1862.76,-749.933\"/>\n<text text-anchor=\"middle\" x=\"1846\" y=\"-766.043\" font-family=\"Times,serif\" font-size=\"14.00\">er_3:&lt;eps&gt;</text>\n</g>\n<!-- 50 -->\n<g id=\"node56\" class=\"node\"><title>50</title>\n<ellipse fill=\"none\" stroke=\"black\" cx=\"1994\" cy=\"-683.243\" rx=\"19.4968\" ry=\"19.4968\"/>\n<ellipse fill=\"none\" stroke=\"black\" cx=\"1994\" cy=\"-683.243\" rx=\"23.4965\" ry=\"23.4965\"/>\n<text text-anchor=\"middle\" x=\"1994\" y=\"-679.543\" font-family=\"Times,serif\" font-size=\"14.00\">50</text>\n</g>\n<!-- 49&#45;&gt;50 -->\n<g id=\"edge104\" class=\"edge\"><title>49&#45;&gt;50</title>\n<path fill=\"none\" stroke=\"black\" d=\"M1864.9,-720.093C1888.88,-713.196 1931.81,-700.845 1961.32,-692.357\"/>\n<polygon fill=\"black\" stroke=\"black\" points=\"1962.5,-695.659 1971.14,-689.531 1960.56,-688.932 1962.5,-695.659\"/>\n<text text-anchor=\"middle\" x=\"1918\" y=\"-717.043\" font-family=\"Times,serif\" font-size=\"14.00\">er_3:eh</text>\n</g>\n<!-- 50&#45;&gt;0 -->\n<g id=\"edge105\" class=\"edge\"><title>50&#45;&gt;0</title>\n<path fill=\"none\" stroke=\"black\" d=\"M1970.96,-676.816C1942.56,-669.117 1891.54,-657.243 1847,-657.243 163,-657.243 163,-657.243 163,-657.243 121.857,-657.243 74.6664,-649.526 45.8483,-643.928\"/>\n<polygon fill=\"black\" stroke=\"black\" points=\"46.2466,-640.438 35.754,-641.907 44.8722,-647.302 46.2466,-640.438\"/>\n<text text-anchor=\"middle\" x=\"1020\" y=\"-661.043\" font-family=\"Times,serif\" font-size=\"14.00\">&lt;eps&gt;:&lt;eps&gt;</text>\n</g>\n<!-- 52&#45;&gt;52 -->\n<g id=\"edge108\" class=\"edge\"><title>52&#45;&gt;52</title>\n<path fill=\"none\" stroke=\"black\" d=\"M307.465,-553.29C302.051,-564.585 306.562,-576.243 321,-576.243 331.151,-576.243 336.396,-570.479 336.733,-563.131\"/>\n<polygon fill=\"black\" stroke=\"black\" points=\"340.13,-562.287 334.535,-553.29 333.299,-563.812 340.13,-562.287\"/>\n<text text-anchor=\"middle\" x=\"321\" y=\"-580.043\" font-family=\"Times,serif\" font-size=\"14.00\">p_2:&lt;eps&gt;</text>\n</g>\n<!-- 53 -->\n<g id=\"node58\" class=\"node\"><title>53</title>\n<ellipse fill=\"none\" stroke=\"black\" cx=\"478\" cy=\"-539.243\" rx=\"19.4965\" ry=\"19.4965\"/>\n<text text-anchor=\"middle\" x=\"478\" y=\"-535.543\" font-family=\"Times,serif\" font-size=\"14.00\">53</text>\n</g>\n<!-- 52&#45;&gt;53 -->\n<g id=\"edge109\" class=\"edge\"><title>52&#45;&gt;53</title>\n<path fill=\"none\" stroke=\"black\" d=\"M340.697,-539.243C367.346,-539.243 416.5,-539.243 447.926,-539.243\"/>\n<polygon fill=\"black\" stroke=\"black\" points=\"448.237,-542.743 458.237,-539.243 448.237,-535.743 448.237,-542.743\"/>\n<text text-anchor=\"middle\" x=\"406\" y=\"-543.043\" font-family=\"Times,serif\" font-size=\"14.00\">p_2:&lt;eps&gt;</text>\n</g>\n<!-- 53&#45;&gt;53 -->\n<g id=\"edge110\" class=\"edge\"><title>53&#45;&gt;53</title>\n<path fill=\"none\" stroke=\"black\" d=\"M465.953,-554.446C462.031,-565.366 466.047,-576.243 478,-576.243 486.031,-576.243 490.479,-571.333 491.344,-564.799\"/>\n<polygon fill=\"black\" stroke=\"black\" points=\"494.763,-563.933 490.047,-554.446 487.817,-564.803 494.763,-563.933\"/>\n<text text-anchor=\"middle\" x=\"478\" y=\"-580.043\" font-family=\"Times,serif\" font-size=\"14.00\">p_3:&lt;eps&gt;</text>\n</g>\n<!-- 54 -->\n<g id=\"node59\" class=\"node\"><title>54</title>\n<ellipse fill=\"none\" stroke=\"black\" cx=\"630\" cy=\"-539.243\" rx=\"19.4965\" ry=\"19.4965\"/>\n<text text-anchor=\"middle\" x=\"630\" y=\"-535.543\" font-family=\"Times,serif\" font-size=\"14.00\">54</text>\n</g>\n<!-- 53&#45;&gt;54 -->\n<g id=\"edge111\" class=\"edge\"><title>53&#45;&gt;54</title>\n<path fill=\"none\" stroke=\"black\" d=\"M497.694,-539.243C523.294,-539.243 569.52,-539.243 599.732,-539.243\"/>\n<polygon fill=\"black\" stroke=\"black\" points=\"600.07,-542.743 610.07,-539.243 600.07,-535.743 600.07,-542.743\"/>\n<text text-anchor=\"middle\" x=\"554\" y=\"-543.043\" font-family=\"Times,serif\" font-size=\"14.00\">p_3:&lt;eps&gt;</text>\n</g>\n<!-- 54&#45;&gt;54 -->\n<g id=\"edge112\" class=\"edge\"><title>54&#45;&gt;54</title>\n<path fill=\"none\" stroke=\"black\" d=\"M617.953,-554.446C614.031,-565.366 618.047,-576.243 630,-576.243 638.031,-576.243 642.479,-571.333 643.344,-564.799\"/>\n<polygon fill=\"black\" stroke=\"black\" points=\"646.763,-563.933 642.047,-554.446 639.817,-564.803 646.763,-563.933\"/>\n<text text-anchor=\"middle\" x=\"630\" y=\"-580.043\" font-family=\"Times,serif\" font-size=\"14.00\">ih_1:&lt;eps&gt;</text>\n</g>\n<!-- 55 -->\n<g id=\"node60\" class=\"node\"><title>55</title>\n<ellipse fill=\"none\" stroke=\"black\" cx=\"787\" cy=\"-539.243\" rx=\"19.4965\" ry=\"19.4965\"/>\n<text text-anchor=\"middle\" x=\"787\" y=\"-535.543\" font-family=\"Times,serif\" font-size=\"14.00\">55</text>\n</g>\n<!-- 54&#45;&gt;55 -->\n<g id=\"edge113\" class=\"edge\"><title>54&#45;&gt;55</title>\n<path fill=\"none\" stroke=\"black\" d=\"M649.697,-539.243C676.346,-539.243 725.5,-539.243 756.926,-539.243\"/>\n<polygon fill=\"black\" stroke=\"black\" points=\"757.237,-542.743 767.237,-539.243 757.237,-535.743 757.237,-542.743\"/>\n<text text-anchor=\"middle\" x=\"702\" y=\"-543.043\" font-family=\"Times,serif\" font-size=\"14.00\">ih_1:&lt;eps&gt;</text>\n</g>\n<!-- 55&#45;&gt;55 -->\n<g id=\"edge114\" class=\"edge\"><title>55&#45;&gt;55</title>\n<path fill=\"none\" stroke=\"black\" d=\"M773.465,-553.29C768.051,-564.585 772.562,-576.243 787,-576.243 797.151,-576.243 802.396,-570.479 802.733,-563.131\"/>\n<polygon fill=\"black\" stroke=\"black\" points=\"806.13,-562.287 800.535,-553.29 799.299,-563.812 806.13,-562.287\"/>\n<text text-anchor=\"middle\" x=\"787\" y=\"-580.043\" font-family=\"Times,serif\" font-size=\"14.00\">ih_2:&lt;eps&gt;</text>\n</g>\n<!-- 56 -->\n<g id=\"node61\" class=\"node\"><title>56</title>\n<ellipse fill=\"none\" stroke=\"black\" cx=\"944\" cy=\"-539.243\" rx=\"19.4965\" ry=\"19.4965\"/>\n<text text-anchor=\"middle\" x=\"944\" y=\"-535.543\" font-family=\"Times,serif\" font-size=\"14.00\">56</text>\n</g>\n<!-- 55&#45;&gt;56 -->\n<g id=\"edge115\" class=\"edge\"><title>55&#45;&gt;56</title>\n<path fill=\"none\" stroke=\"black\" d=\"M806.697,-539.243C833.346,-539.243 882.5,-539.243 913.926,-539.243\"/>\n<polygon fill=\"black\" stroke=\"black\" points=\"914.237,-542.743 924.237,-539.243 914.237,-535.743 914.237,-542.743\"/>\n<text text-anchor=\"middle\" x=\"872\" y=\"-543.043\" font-family=\"Times,serif\" font-size=\"14.00\">ih_2:&lt;eps&gt;</text>\n</g>\n<!-- 56&#45;&gt;56 -->\n<g id=\"edge116\" class=\"edge\"><title>56&#45;&gt;56</title>\n<path fill=\"none\" stroke=\"black\" d=\"M931.953,-554.446C928.031,-565.366 932.047,-576.243 944,-576.243 952.031,-576.243 956.479,-571.333 957.344,-564.799\"/>\n<polygon fill=\"black\" stroke=\"black\" points=\"960.763,-563.933 956.047,-554.446 953.817,-564.803 960.763,-563.933\"/>\n<text text-anchor=\"middle\" x=\"944\" y=\"-580.043\" font-family=\"Times,serif\" font-size=\"14.00\">ih_3:&lt;eps&gt;</text>\n</g>\n<!-- 57 -->\n<g id=\"node62\" class=\"node\"><title>57</title>\n<ellipse fill=\"none\" stroke=\"black\" cx=\"1100\" cy=\"-539.243\" rx=\"19.4965\" ry=\"19.4965\"/>\n<text text-anchor=\"middle\" x=\"1100\" y=\"-535.543\" font-family=\"Times,serif\" font-size=\"14.00\">57</text>\n</g>\n<!-- 56&#45;&gt;57 -->\n<g id=\"edge117\" class=\"edge\"><title>56&#45;&gt;57</title>\n<path fill=\"none\" stroke=\"black\" d=\"M963.576,-539.243C990.054,-539.243 1038.89,-539.243 1070.11,-539.243\"/>\n<polygon fill=\"black\" stroke=\"black\" points=\"1070.36,-542.743 1080.36,-539.243 1070.36,-535.743 1070.36,-542.743\"/>\n<text text-anchor=\"middle\" x=\"1020\" y=\"-543.043\" font-family=\"Times,serif\" font-size=\"14.00\">ih_3:&lt;eps&gt;</text>\n</g>\n<!-- 57&#45;&gt;57 -->\n<g id=\"edge118\" class=\"edge\"><title>57&#45;&gt;57</title>\n<path fill=\"none\" stroke=\"black\" d=\"M1087.95,-554.446C1084.03,-565.366 1088.05,-576.243 1100,-576.243 1108.03,-576.243 1112.48,-571.333 1113.34,-564.799\"/>\n<polygon fill=\"black\" stroke=\"black\" points=\"1116.76,-563.933 1112.05,-554.446 1109.82,-564.803 1116.76,-563.933\"/>\n<text text-anchor=\"middle\" x=\"1100\" y=\"-580.043\" font-family=\"Times,serif\" font-size=\"14.00\">k_1:&lt;eps&gt;</text>\n</g>\n<!-- 58 -->\n<g id=\"node63\" class=\"node\"><title>58</title>\n<ellipse fill=\"none\" stroke=\"black\" cx=\"1255\" cy=\"-539.243\" rx=\"19.4965\" ry=\"19.4965\"/>\n<text text-anchor=\"middle\" x=\"1255\" y=\"-535.543\" font-family=\"Times,serif\" font-size=\"14.00\">58</text>\n</g>\n<!-- 57&#45;&gt;58 -->\n<g id=\"edge119\" class=\"edge\"><title>57&#45;&gt;58</title>\n<path fill=\"none\" stroke=\"black\" d=\"M1119.76,-539.243C1146.03,-539.243 1194.01,-539.243 1224.93,-539.243\"/>\n<polygon fill=\"black\" stroke=\"black\" points=\"1225.09,-542.743 1235.09,-539.243 1225.09,-535.743 1225.09,-542.743\"/>\n<text text-anchor=\"middle\" x=\"1173\" y=\"-543.043\" font-family=\"Times,serif\" font-size=\"14.00\">k_1:&lt;eps&gt;</text>\n</g>\n<!-- 58&#45;&gt;58 -->\n<g id=\"edge120\" class=\"edge\"><title>58&#45;&gt;58</title>\n<path fill=\"none\" stroke=\"black\" d=\"M1241.61,-553.675C1236.6,-564.848 1241.07,-576.243 1255,-576.243 1264.58,-576.243 1269.68,-570.857 1270.31,-563.86\"/>\n<polygon fill=\"black\" stroke=\"black\" points=\"1273.68,-562.854 1268.39,-553.675 1266.8,-564.15 1273.68,-562.854\"/>\n<text text-anchor=\"middle\" x=\"1255\" y=\"-580.043\" font-family=\"Times,serif\" font-size=\"14.00\">k_2:&lt;eps&gt;</text>\n</g>\n<!-- 59 -->\n<g id=\"node64\" class=\"node\"><title>59</title>\n<ellipse fill=\"none\" stroke=\"black\" cx=\"1406\" cy=\"-539.243\" rx=\"19.4965\" ry=\"19.4965\"/>\n<text text-anchor=\"middle\" x=\"1406\" y=\"-535.543\" font-family=\"Times,serif\" font-size=\"14.00\">59</text>\n</g>\n<!-- 58&#45;&gt;59 -->\n<g id=\"edge121\" class=\"edge\"><title>58&#45;&gt;59</title>\n<path fill=\"none\" stroke=\"black\" d=\"M1274.57,-539.243C1300,-539.243 1345.92,-539.243 1375.93,-539.243\"/>\n<polygon fill=\"black\" stroke=\"black\" points=\"1376.2,-542.743 1386.2,-539.243 1376.2,-535.743 1376.2,-542.743\"/>\n<text text-anchor=\"middle\" x=\"1337\" y=\"-543.043\" font-family=\"Times,serif\" font-size=\"14.00\">k_2:&lt;eps&gt;</text>\n</g>\n<!-- 59&#45;&gt;59 -->\n<g id=\"edge122\" class=\"edge\"><title>59&#45;&gt;59</title>\n<path fill=\"none\" stroke=\"black\" d=\"M1394.5,-554.831C1391.01,-565.62 1394.84,-576.243 1406,-576.243 1413.5,-576.243 1417.69,-571.448 1418.57,-565.029\"/>\n<polygon fill=\"black\" stroke=\"black\" points=\"1422.03,-564.413 1417.5,-554.831 1415.06,-565.141 1422.03,-564.413\"/>\n<text text-anchor=\"middle\" x=\"1406\" y=\"-580.043\" font-family=\"Times,serif\" font-size=\"14.00\">k_3:&lt;eps&gt;</text>\n</g>\n<!-- 60 -->\n<g id=\"node65\" class=\"node\"><title>60</title>\n<ellipse fill=\"none\" stroke=\"black\" cx=\"1558\" cy=\"-539.243\" rx=\"19.4965\" ry=\"19.4965\"/>\n<text text-anchor=\"middle\" x=\"1558\" y=\"-535.543\" font-family=\"Times,serif\" font-size=\"14.00\">60</text>\n</g>\n<!-- 59&#45;&gt;60 -->\n<g id=\"edge123\" class=\"edge\"><title>59&#45;&gt;60</title>\n<path fill=\"none\" stroke=\"black\" d=\"M1425.69,-539.243C1451.29,-539.243 1497.52,-539.243 1527.73,-539.243\"/>\n<polygon fill=\"black\" stroke=\"black\" points=\"1528.07,-542.743 1538.07,-539.243 1528.07,-535.743 1528.07,-542.743\"/>\n<text text-anchor=\"middle\" x=\"1482\" y=\"-543.043\" font-family=\"Times,serif\" font-size=\"14.00\">k_3:&lt;eps&gt;</text>\n</g>\n<!-- 60&#45;&gt;60 -->\n<g id=\"edge124\" class=\"edge\"><title>60&#45;&gt;60</title>\n<path fill=\"none\" stroke=\"black\" d=\"M1545.95,-554.446C1542.03,-565.366 1546.05,-576.243 1558,-576.243 1566.03,-576.243 1570.48,-571.333 1571.34,-564.799\"/>\n<polygon fill=\"black\" stroke=\"black\" points=\"1574.76,-563.933 1570.05,-554.446 1567.82,-564.803 1574.76,-563.933\"/>\n<text text-anchor=\"middle\" x=\"1558\" y=\"-580.043\" font-family=\"Times,serif\" font-size=\"14.00\">t_1:&lt;eps&gt;</text>\n</g>\n<!-- 61 -->\n<g id=\"node66\" class=\"node\"><title>61</title>\n<ellipse fill=\"none\" stroke=\"black\" cx=\"1702\" cy=\"-539.243\" rx=\"19.4965\" ry=\"19.4965\"/>\n<text text-anchor=\"middle\" x=\"1702\" y=\"-535.543\" font-family=\"Times,serif\" font-size=\"14.00\">61</text>\n</g>\n<!-- 60&#45;&gt;61 -->\n<g id=\"edge125\" class=\"edge\"><title>60&#45;&gt;61</title>\n<path fill=\"none\" stroke=\"black\" d=\"M1577.56,-539.243C1601.7,-539.243 1644.09,-539.243 1672.36,-539.243\"/>\n<polygon fill=\"black\" stroke=\"black\" points=\"1672.43,-542.743 1682.43,-539.243 1672.43,-535.743 1672.43,-542.743\"/>\n<text text-anchor=\"middle\" x=\"1630\" y=\"-543.043\" font-family=\"Times,serif\" font-size=\"14.00\">t_1:&lt;eps&gt;</text>\n</g>\n<!-- 61&#45;&gt;61 -->\n<g id=\"edge126\" class=\"edge\"><title>61&#45;&gt;61</title>\n<path fill=\"none\" stroke=\"black\" d=\"M1689.95,-554.446C1686.03,-565.366 1690.05,-576.243 1702,-576.243 1710.03,-576.243 1714.48,-571.333 1715.34,-564.799\"/>\n<polygon fill=\"black\" stroke=\"black\" points=\"1718.76,-563.933 1714.05,-554.446 1711.82,-564.803 1718.76,-563.933\"/>\n<text text-anchor=\"middle\" x=\"1702\" y=\"-580.043\" font-family=\"Times,serif\" font-size=\"14.00\">t_2:&lt;eps&gt;</text>\n</g>\n<!-- 62 -->\n<g id=\"node67\" class=\"node\"><title>62</title>\n<ellipse fill=\"none\" stroke=\"black\" cx=\"1846\" cy=\"-539.243\" rx=\"19.4965\" ry=\"19.4965\"/>\n<text text-anchor=\"middle\" x=\"1846\" y=\"-535.543\" font-family=\"Times,serif\" font-size=\"14.00\">62</text>\n</g>\n<!-- 61&#45;&gt;62 -->\n<g id=\"edge127\" class=\"edge\"><title>61&#45;&gt;62</title>\n<path fill=\"none\" stroke=\"black\" d=\"M1721.56,-539.243C1745.7,-539.243 1788.09,-539.243 1816.36,-539.243\"/>\n<polygon fill=\"black\" stroke=\"black\" points=\"1816.43,-542.743 1826.43,-539.243 1816.43,-535.743 1816.43,-542.743\"/>\n<text text-anchor=\"middle\" x=\"1774\" y=\"-543.043\" font-family=\"Times,serif\" font-size=\"14.00\">t_2:&lt;eps&gt;</text>\n</g>\n<!-- 62&#45;&gt;62 -->\n<g id=\"edge128\" class=\"edge\"><title>62&#45;&gt;62</title>\n<path fill=\"none\" stroke=\"black\" d=\"M1833.95,-554.446C1830.03,-565.366 1834.05,-576.243 1846,-576.243 1854.03,-576.243 1858.48,-571.333 1859.34,-564.799\"/>\n<polygon fill=\"black\" stroke=\"black\" points=\"1862.76,-563.933 1858.05,-554.446 1855.82,-564.803 1862.76,-563.933\"/>\n<text text-anchor=\"middle\" x=\"1846\" y=\"-580.043\" font-family=\"Times,serif\" font-size=\"14.00\">t_3:&lt;eps&gt;</text>\n</g>\n<!-- 63 -->\n<g id=\"node68\" class=\"node\"><title>63</title>\n<ellipse fill=\"none\" stroke=\"black\" cx=\"1994\" cy=\"-581.243\" rx=\"19.4968\" ry=\"19.4968\"/>\n<ellipse fill=\"none\" stroke=\"black\" cx=\"1994\" cy=\"-581.243\" rx=\"23.4965\" ry=\"23.4965\"/>\n<text text-anchor=\"middle\" x=\"1994\" y=\"-577.543\" font-family=\"Times,serif\" font-size=\"14.00\">63</text>\n</g>\n<!-- 62&#45;&gt;63 -->\n<g id=\"edge129\" class=\"edge\"><title>62&#45;&gt;63</title>\n<path fill=\"none\" stroke=\"black\" d=\"M1864.9,-544.393C1888.88,-551.291 1931.81,-563.642 1961.32,-572.13\"/>\n<polygon fill=\"black\" stroke=\"black\" points=\"1960.56,-575.554 1971.14,-574.956 1962.5,-568.827 1960.56,-575.554\"/>\n<text text-anchor=\"middle\" x=\"1918\" y=\"-573.043\" font-family=\"Times,serif\" font-size=\"14.00\">t_3:k</text>\n</g>\n<!-- 63&#45;&gt;0 -->\n<g id=\"edge130\" class=\"edge\"><title>63&#45;&gt;0</title>\n<path fill=\"none\" stroke=\"black\" d=\"M1972.17,-590.249C1944.23,-601.486 1892.84,-619.243 1847,-619.243 163,-619.243 163,-619.243 163,-619.243 121.857,-619.243 74.6664,-626.961 45.8483,-632.559\"/>\n<polygon fill=\"black\" stroke=\"black\" points=\"44.8722,-629.185 35.754,-634.58 46.2466,-636.048 44.8722,-629.185\"/>\n<text text-anchor=\"middle\" x=\"1020\" y=\"-623.043\" font-family=\"Times,serif\" font-size=\"14.00\">&lt;eps&gt;:&lt;eps&gt;</text>\n</g>\n<!-- 65&#45;&gt;65 -->\n<g id=\"edge133\" class=\"edge\"><title>65&#45;&gt;65</title>\n<path fill=\"none\" stroke=\"black\" d=\"M307.465,-1235.29C302.051,-1246.58 306.562,-1258.24 321,-1258.24 331.151,-1258.24 336.396,-1252.48 336.733,-1245.13\"/>\n<polygon fill=\"black\" stroke=\"black\" points=\"340.13,-1244.29 334.535,-1235.29 333.299,-1245.81 340.13,-1244.29\"/>\n<text text-anchor=\"middle\" x=\"321\" y=\"-1262.04\" font-family=\"Times,serif\" font-size=\"14.00\">p_2:&lt;eps&gt;</text>\n</g>\n<!-- 66 -->\n<g id=\"node70\" class=\"node\"><title>66</title>\n<ellipse fill=\"none\" stroke=\"black\" cx=\"478\" cy=\"-1221.24\" rx=\"19.4965\" ry=\"19.4965\"/>\n<text text-anchor=\"middle\" x=\"478\" y=\"-1217.54\" font-family=\"Times,serif\" font-size=\"14.00\">66</text>\n</g>\n<!-- 65&#45;&gt;66 -->\n<g id=\"edge134\" class=\"edge\"><title>65&#45;&gt;66</title>\n<path fill=\"none\" stroke=\"black\" d=\"M340.697,-1221.24C367.346,-1221.24 416.5,-1221.24 447.926,-1221.24\"/>\n<polygon fill=\"black\" stroke=\"black\" points=\"448.237,-1224.74 458.237,-1221.24 448.237,-1217.74 448.237,-1224.74\"/>\n<text text-anchor=\"middle\" x=\"406\" y=\"-1225.04\" font-family=\"Times,serif\" font-size=\"14.00\">p_2:&lt;eps&gt;</text>\n</g>\n<!-- 66&#45;&gt;66 -->\n<g id=\"edge135\" class=\"edge\"><title>66&#45;&gt;66</title>\n<path fill=\"none\" stroke=\"black\" d=\"M465.953,-1236.45C462.031,-1247.37 466.047,-1258.24 478,-1258.24 486.031,-1258.24 490.479,-1253.33 491.344,-1246.8\"/>\n<polygon fill=\"black\" stroke=\"black\" points=\"494.763,-1245.93 490.047,-1236.45 487.817,-1246.8 494.763,-1245.93\"/>\n<text text-anchor=\"middle\" x=\"478\" y=\"-1262.04\" font-family=\"Times,serif\" font-size=\"14.00\">p_3:&lt;eps&gt;</text>\n</g>\n<!-- 67 -->\n<g id=\"node71\" class=\"node\"><title>67</title>\n<ellipse fill=\"none\" stroke=\"black\" cx=\"630\" cy=\"-1221.24\" rx=\"19.4965\" ry=\"19.4965\"/>\n<text text-anchor=\"middle\" x=\"630\" y=\"-1217.54\" font-family=\"Times,serif\" font-size=\"14.00\">67</text>\n</g>\n<!-- 66&#45;&gt;67 -->\n<g id=\"edge136\" class=\"edge\"><title>66&#45;&gt;67</title>\n<path fill=\"none\" stroke=\"black\" d=\"M497.694,-1221.24C523.294,-1221.24 569.52,-1221.24 599.732,-1221.24\"/>\n<polygon fill=\"black\" stroke=\"black\" points=\"600.07,-1224.74 610.07,-1221.24 600.07,-1217.74 600.07,-1224.74\"/>\n<text text-anchor=\"middle\" x=\"554\" y=\"-1225.04\" font-family=\"Times,serif\" font-size=\"14.00\">p_3:&lt;eps&gt;</text>\n</g>\n<!-- 67&#45;&gt;67 -->\n<g id=\"edge137\" class=\"edge\"><title>67&#45;&gt;67</title>\n<path fill=\"none\" stroke=\"black\" d=\"M617.953,-1236.45C614.031,-1247.37 618.047,-1258.24 630,-1258.24 638.031,-1258.24 642.479,-1253.33 643.344,-1246.8\"/>\n<polygon fill=\"black\" stroke=\"black\" points=\"646.763,-1245.93 642.047,-1236.45 639.817,-1246.8 646.763,-1245.93\"/>\n<text text-anchor=\"middle\" x=\"630\" y=\"-1262.04\" font-family=\"Times,serif\" font-size=\"14.00\">ih_1:&lt;eps&gt;</text>\n</g>\n<!-- 68 -->\n<g id=\"node72\" class=\"node\"><title>68</title>\n<ellipse fill=\"none\" stroke=\"black\" cx=\"787\" cy=\"-1221.24\" rx=\"19.4965\" ry=\"19.4965\"/>\n<text text-anchor=\"middle\" x=\"787\" y=\"-1217.54\" font-family=\"Times,serif\" font-size=\"14.00\">68</text>\n</g>\n<!-- 67&#45;&gt;68 -->\n<g id=\"edge138\" class=\"edge\"><title>67&#45;&gt;68</title>\n<path fill=\"none\" stroke=\"black\" d=\"M649.697,-1221.24C676.346,-1221.24 725.5,-1221.24 756.926,-1221.24\"/>\n<polygon fill=\"black\" stroke=\"black\" points=\"757.237,-1224.74 767.237,-1221.24 757.237,-1217.74 757.237,-1224.74\"/>\n<text text-anchor=\"middle\" x=\"702\" y=\"-1225.04\" font-family=\"Times,serif\" font-size=\"14.00\">ih_1:&lt;eps&gt;</text>\n</g>\n<!-- 68&#45;&gt;68 -->\n<g id=\"edge139\" class=\"edge\"><title>68&#45;&gt;68</title>\n<path fill=\"none\" stroke=\"black\" d=\"M773.465,-1235.29C768.051,-1246.58 772.562,-1258.24 787,-1258.24 797.151,-1258.24 802.396,-1252.48 802.733,-1245.13\"/>\n<polygon fill=\"black\" stroke=\"black\" points=\"806.13,-1244.29 800.535,-1235.29 799.299,-1245.81 806.13,-1244.29\"/>\n<text text-anchor=\"middle\" x=\"787\" y=\"-1262.04\" font-family=\"Times,serif\" font-size=\"14.00\">ih_2:&lt;eps&gt;</text>\n</g>\n<!-- 69 -->\n<g id=\"node73\" class=\"node\"><title>69</title>\n<ellipse fill=\"none\" stroke=\"black\" cx=\"944\" cy=\"-1221.24\" rx=\"19.4965\" ry=\"19.4965\"/>\n<text text-anchor=\"middle\" x=\"944\" y=\"-1217.54\" font-family=\"Times,serif\" font-size=\"14.00\">69</text>\n</g>\n<!-- 68&#45;&gt;69 -->\n<g id=\"edge140\" class=\"edge\"><title>68&#45;&gt;69</title>\n<path fill=\"none\" stroke=\"black\" d=\"M806.697,-1221.24C833.346,-1221.24 882.5,-1221.24 913.926,-1221.24\"/>\n<polygon fill=\"black\" stroke=\"black\" points=\"914.237,-1224.74 924.237,-1221.24 914.237,-1217.74 914.237,-1224.74\"/>\n<text text-anchor=\"middle\" x=\"872\" y=\"-1225.04\" font-family=\"Times,serif\" font-size=\"14.00\">ih_2:&lt;eps&gt;</text>\n</g>\n<!-- 69&#45;&gt;69 -->\n<g id=\"edge141\" class=\"edge\"><title>69&#45;&gt;69</title>\n<path fill=\"none\" stroke=\"black\" d=\"M931.953,-1236.45C928.031,-1247.37 932.047,-1258.24 944,-1258.24 952.031,-1258.24 956.479,-1253.33 957.344,-1246.8\"/>\n<polygon fill=\"black\" stroke=\"black\" points=\"960.763,-1245.93 956.047,-1236.45 953.817,-1246.8 960.763,-1245.93\"/>\n<text text-anchor=\"middle\" x=\"944\" y=\"-1262.04\" font-family=\"Times,serif\" font-size=\"14.00\">ih_3:&lt;eps&gt;</text>\n</g>\n<!-- 70 -->\n<g id=\"node74\" class=\"node\"><title>70</title>\n<ellipse fill=\"none\" stroke=\"black\" cx=\"1100\" cy=\"-1223.24\" rx=\"19.4965\" ry=\"19.4965\"/>\n<text text-anchor=\"middle\" x=\"1100\" y=\"-1219.54\" font-family=\"Times,serif\" font-size=\"14.00\">70</text>\n</g>\n<!-- 69&#45;&gt;70 -->\n<g id=\"edge142\" class=\"edge\"><title>69&#45;&gt;70</title>\n<path fill=\"none\" stroke=\"black\" d=\"M963.576,-1221.48C990.054,-1221.83 1038.89,-1222.46 1070.11,-1222.87\"/>\n<polygon fill=\"black\" stroke=\"black\" points=\"1070.31,-1226.37 1080.36,-1223 1070.4,-1219.37 1070.31,-1226.37\"/>\n<text text-anchor=\"middle\" x=\"1020\" y=\"-1226.04\" font-family=\"Times,serif\" font-size=\"14.00\">ih_3:&lt;eps&gt;</text>\n</g>\n<!-- 70&#45;&gt;70 -->\n<g id=\"edge143\" class=\"edge\"><title>70&#45;&gt;70</title>\n<path fill=\"none\" stroke=\"black\" d=\"M1087.95,-1238.45C1084.03,-1249.37 1088.05,-1260.24 1100,-1260.24 1108.03,-1260.24 1112.48,-1255.33 1113.34,-1248.8\"/>\n<polygon fill=\"black\" stroke=\"black\" points=\"1116.76,-1247.93 1112.05,-1238.45 1109.82,-1248.8 1116.76,-1247.93\"/>\n<text text-anchor=\"middle\" x=\"1100\" y=\"-1264.04\" font-family=\"Times,serif\" font-size=\"14.00\">k_1:&lt;eps&gt;</text>\n</g>\n<!-- 71 -->\n<g id=\"node75\" class=\"node\"><title>71</title>\n<ellipse fill=\"none\" stroke=\"black\" cx=\"1255\" cy=\"-1226.24\" rx=\"19.4965\" ry=\"19.4965\"/>\n<text text-anchor=\"middle\" x=\"1255\" y=\"-1222.54\" font-family=\"Times,serif\" font-size=\"14.00\">71</text>\n</g>\n<!-- 70&#45;&gt;71 -->\n<g id=\"edge144\" class=\"edge\"><title>70&#45;&gt;71</title>\n<path fill=\"none\" stroke=\"black\" d=\"M1119.76,-1223.61C1146.03,-1224.13 1194.01,-1225.07 1224.93,-1225.67\"/>\n<polygon fill=\"black\" stroke=\"black\" points=\"1225.02,-1229.18 1235.09,-1225.87 1225.16,-1222.18 1225.02,-1229.18\"/>\n<text text-anchor=\"middle\" x=\"1173\" y=\"-1228.04\" font-family=\"Times,serif\" font-size=\"14.00\">k_1:&lt;eps&gt;</text>\n</g>\n<!-- 71&#45;&gt;71 -->\n<g id=\"edge145\" class=\"edge\"><title>71&#45;&gt;71</title>\n<path fill=\"none\" stroke=\"black\" d=\"M1241.61,-1240.68C1236.6,-1251.85 1241.07,-1263.24 1255,-1263.24 1264.58,-1263.24 1269.68,-1257.86 1270.31,-1250.86\"/>\n<polygon fill=\"black\" stroke=\"black\" points=\"1273.68,-1249.85 1268.39,-1240.68 1266.8,-1251.15 1273.68,-1249.85\"/>\n<text text-anchor=\"middle\" x=\"1255\" y=\"-1267.04\" font-family=\"Times,serif\" font-size=\"14.00\">k_2:&lt;eps&gt;</text>\n</g>\n<!-- 72 -->\n<g id=\"node76\" class=\"node\"><title>72</title>\n<ellipse fill=\"none\" stroke=\"black\" cx=\"1406\" cy=\"-1223.24\" rx=\"19.4965\" ry=\"19.4965\"/>\n<text text-anchor=\"middle\" x=\"1406\" y=\"-1219.54\" font-family=\"Times,serif\" font-size=\"14.00\">72</text>\n</g>\n<!-- 71&#45;&gt;72 -->\n<g id=\"edge146\" class=\"edge\"><title>71&#45;&gt;72</title>\n<path fill=\"none\" stroke=\"black\" d=\"M1274.57,-1225.87C1300,-1225.36 1345.92,-1224.43 1375.93,-1223.83\"/>\n<polygon fill=\"black\" stroke=\"black\" points=\"1376.27,-1227.32 1386.2,-1223.62 1376.13,-1220.32 1376.27,-1227.32\"/>\n<text text-anchor=\"middle\" x=\"1337\" y=\"-1228.04\" font-family=\"Times,serif\" font-size=\"14.00\">k_2:&lt;eps&gt;</text>\n</g>\n<!-- 72&#45;&gt;72 -->\n<g id=\"edge147\" class=\"edge\"><title>72&#45;&gt;72</title>\n<path fill=\"none\" stroke=\"black\" d=\"M1394.5,-1238.83C1391.01,-1249.62 1394.84,-1260.24 1406,-1260.24 1413.5,-1260.24 1417.69,-1255.45 1418.57,-1249.03\"/>\n<polygon fill=\"black\" stroke=\"black\" points=\"1422.03,-1248.41 1417.5,-1238.83 1415.06,-1249.14 1422.03,-1248.41\"/>\n<text text-anchor=\"middle\" x=\"1406\" y=\"-1264.04\" font-family=\"Times,serif\" font-size=\"14.00\">k_3:&lt;eps&gt;</text>\n</g>\n<!-- 73 -->\n<g id=\"node77\" class=\"node\"><title>73</title>\n<ellipse fill=\"none\" stroke=\"black\" cx=\"1558\" cy=\"-1221.24\" rx=\"19.4965\" ry=\"19.4965\"/>\n<text text-anchor=\"middle\" x=\"1558\" y=\"-1217.54\" font-family=\"Times,serif\" font-size=\"14.00\">73</text>\n</g>\n<!-- 72&#45;&gt;73 -->\n<g id=\"edge148\" class=\"edge\"><title>72&#45;&gt;73</title>\n<path fill=\"none\" stroke=\"black\" d=\"M1425.69,-1222.99C1451.29,-1222.65 1497.52,-1222.04 1527.73,-1221.63\"/>\n<polygon fill=\"black\" stroke=\"black\" points=\"1528.12,-1225.13 1538.07,-1221.5 1528.02,-1218.13 1528.12,-1225.13\"/>\n<text text-anchor=\"middle\" x=\"1482\" y=\"-1226.04\" font-family=\"Times,serif\" font-size=\"14.00\">k_3:&lt;eps&gt;</text>\n</g>\n<!-- 73&#45;&gt;73 -->\n<g id=\"edge149\" class=\"edge\"><title>73&#45;&gt;73</title>\n<path fill=\"none\" stroke=\"black\" d=\"M1545.95,-1236.45C1542.03,-1247.37 1546.05,-1258.24 1558,-1258.24 1566.03,-1258.24 1570.48,-1253.33 1571.34,-1246.8\"/>\n<polygon fill=\"black\" stroke=\"black\" points=\"1574.76,-1245.93 1570.05,-1236.45 1567.82,-1246.8 1574.76,-1245.93\"/>\n<text text-anchor=\"middle\" x=\"1558\" y=\"-1262.04\" font-family=\"Times,serif\" font-size=\"14.00\">ah_1:&lt;eps&gt;</text>\n</g>\n<!-- 74 -->\n<g id=\"node78\" class=\"node\"><title>74</title>\n<ellipse fill=\"none\" stroke=\"black\" cx=\"1702\" cy=\"-1221.24\" rx=\"19.4965\" ry=\"19.4965\"/>\n<text text-anchor=\"middle\" x=\"1702\" y=\"-1217.54\" font-family=\"Times,serif\" font-size=\"14.00\">74</text>\n</g>\n<!-- 73&#45;&gt;74 -->\n<g id=\"edge150\" class=\"edge\"><title>73&#45;&gt;74</title>\n<path fill=\"none\" stroke=\"black\" d=\"M1577.56,-1221.24C1601.7,-1221.24 1644.09,-1221.24 1672.36,-1221.24\"/>\n<polygon fill=\"black\" stroke=\"black\" points=\"1672.43,-1224.74 1682.43,-1221.24 1672.43,-1217.74 1672.43,-1224.74\"/>\n<text text-anchor=\"middle\" x=\"1630\" y=\"-1225.04\" font-family=\"Times,serif\" font-size=\"14.00\">ah_1:&lt;eps&gt;</text>\n</g>\n<!-- 74&#45;&gt;74 -->\n<g id=\"edge151\" class=\"edge\"><title>74&#45;&gt;74</title>\n<path fill=\"none\" stroke=\"black\" d=\"M1689.95,-1236.45C1686.03,-1247.37 1690.05,-1258.24 1702,-1258.24 1710.03,-1258.24 1714.48,-1253.33 1715.34,-1246.8\"/>\n<polygon fill=\"black\" stroke=\"black\" points=\"1718.76,-1245.93 1714.05,-1236.45 1711.82,-1246.8 1718.76,-1245.93\"/>\n<text text-anchor=\"middle\" x=\"1702\" y=\"-1262.04\" font-family=\"Times,serif\" font-size=\"14.00\">ah_2:&lt;eps&gt;</text>\n</g>\n<!-- 75 -->\n<g id=\"node79\" class=\"node\"><title>75</title>\n<ellipse fill=\"none\" stroke=\"black\" cx=\"1846\" cy=\"-1221.24\" rx=\"19.4965\" ry=\"19.4965\"/>\n<text text-anchor=\"middle\" x=\"1846\" y=\"-1217.54\" font-family=\"Times,serif\" font-size=\"14.00\">75</text>\n</g>\n<!-- 74&#45;&gt;75 -->\n<g id=\"edge152\" class=\"edge\"><title>74&#45;&gt;75</title>\n<path fill=\"none\" stroke=\"black\" d=\"M1721.56,-1221.24C1745.7,-1221.24 1788.09,-1221.24 1816.36,-1221.24\"/>\n<polygon fill=\"black\" stroke=\"black\" points=\"1816.43,-1224.74 1826.43,-1221.24 1816.43,-1217.74 1816.43,-1224.74\"/>\n<text text-anchor=\"middle\" x=\"1774\" y=\"-1225.04\" font-family=\"Times,serif\" font-size=\"14.00\">ah_2:&lt;eps&gt;</text>\n</g>\n<!-- 75&#45;&gt;75 -->\n<g id=\"edge153\" class=\"edge\"><title>75&#45;&gt;75</title>\n<path fill=\"none\" stroke=\"black\" d=\"M1833.95,-1236.45C1830.03,-1247.37 1834.05,-1258.24 1846,-1258.24 1854.03,-1258.24 1858.48,-1253.33 1859.34,-1246.8\"/>\n<polygon fill=\"black\" stroke=\"black\" points=\"1862.76,-1245.93 1858.05,-1236.45 1855.82,-1246.8 1862.76,-1245.93\"/>\n<text text-anchor=\"middle\" x=\"1846\" y=\"-1262.04\" font-family=\"Times,serif\" font-size=\"14.00\">ah_3:&lt;eps&gt;</text>\n</g>\n<!-- 76 -->\n<g id=\"node80\" class=\"node\"><title>76</title>\n<ellipse fill=\"none\" stroke=\"black\" cx=\"1994\" cy=\"-1221.24\" rx=\"19.4965\" ry=\"19.4965\"/>\n<text text-anchor=\"middle\" x=\"1994\" y=\"-1217.54\" font-family=\"Times,serif\" font-size=\"14.00\">76</text>\n</g>\n<!-- 75&#45;&gt;76 -->\n<g id=\"edge154\" class=\"edge\"><title>75&#45;&gt;76</title>\n<path fill=\"none\" stroke=\"black\" d=\"M1865.79,-1221.24C1890.65,-1221.24 1934.72,-1221.24 1963.9,-1221.24\"/>\n<polygon fill=\"black\" stroke=\"black\" points=\"1964.28,-1224.74 1974.28,-1221.24 1964.28,-1217.74 1964.28,-1224.74\"/>\n<text text-anchor=\"middle\" x=\"1918\" y=\"-1225.04\" font-family=\"Times,serif\" font-size=\"14.00\">ah_3:&lt;eps&gt;</text>\n</g>\n<!-- 76&#45;&gt;76 -->\n<g id=\"edge155\" class=\"edge\"><title>76&#45;&gt;76</title>\n<path fill=\"none\" stroke=\"black\" d=\"M1981.95,-1236.45C1978.03,-1247.37 1982.05,-1258.24 1994,-1258.24 2002.03,-1258.24 2006.48,-1253.33 2007.34,-1246.8\"/>\n<polygon fill=\"black\" stroke=\"black\" points=\"2010.76,-1245.93 2006.05,-1236.45 2003.82,-1246.8 2010.76,-1245.93\"/>\n<text text-anchor=\"middle\" x=\"1994\" y=\"-1262.04\" font-family=\"Times,serif\" font-size=\"14.00\">l_1:&lt;eps&gt;</text>\n</g>\n<!-- 77 -->\n<g id=\"node81\" class=\"node\"><title>77</title>\n<ellipse fill=\"none\" stroke=\"black\" cx=\"2130\" cy=\"-1221.24\" rx=\"19.4965\" ry=\"19.4965\"/>\n<text text-anchor=\"middle\" x=\"2130\" y=\"-1217.54\" font-family=\"Times,serif\" font-size=\"14.00\">77</text>\n</g>\n<!-- 76&#45;&gt;77 -->\n<g id=\"edge156\" class=\"edge\"><title>76&#45;&gt;77</title>\n<path fill=\"none\" stroke=\"black\" d=\"M2013.63,-1221.24C2036.01,-1221.24 2073.79,-1221.24 2099.99,-1221.24\"/>\n<polygon fill=\"black\" stroke=\"black\" points=\"2100.09,-1224.74 2110.09,-1221.24 2100.09,-1217.74 2100.09,-1224.74\"/>\n<text text-anchor=\"middle\" x=\"2066\" y=\"-1225.04\" font-family=\"Times,serif\" font-size=\"14.00\">l_1:&lt;eps&gt;</text>\n</g>\n<!-- 77&#45;&gt;77 -->\n<g id=\"edge157\" class=\"edge\"><title>77&#45;&gt;77</title>\n<path fill=\"none\" stroke=\"black\" d=\"M2119.06,-1237.22C2115.98,-1247.87 2119.62,-1258.24 2130,-1258.24 2136.97,-1258.24 2140.9,-1253.56 2141.8,-1247.26\"/>\n<polygon fill=\"black\" stroke=\"black\" points=\"2145.28,-1246.88 2140.94,-1237.22 2138.31,-1247.48 2145.28,-1246.88\"/>\n<text text-anchor=\"middle\" x=\"2130\" y=\"-1262.04\" font-family=\"Times,serif\" font-size=\"14.00\">l_2:&lt;eps&gt;</text>\n</g>\n<!-- 78 -->\n<g id=\"node82\" class=\"node\"><title>78</title>\n<ellipse fill=\"none\" stroke=\"black\" cx=\"2258\" cy=\"-1221.24\" rx=\"19.4965\" ry=\"19.4965\"/>\n<text text-anchor=\"middle\" x=\"2258\" y=\"-1217.54\" font-family=\"Times,serif\" font-size=\"14.00\">78</text>\n</g>\n<!-- 77&#45;&gt;78 -->\n<g id=\"edge158\" class=\"edge\"><title>77&#45;&gt;78</title>\n<path fill=\"none\" stroke=\"black\" d=\"M2149.59,-1221.24C2170.34,-1221.24 2204.17,-1221.24 2228.32,-1221.24\"/>\n<polygon fill=\"black\" stroke=\"black\" points=\"2228.33,-1224.74 2238.33,-1221.24 2228.33,-1217.74 2228.33,-1224.74\"/>\n<text text-anchor=\"middle\" x=\"2194\" y=\"-1225.04\" font-family=\"Times,serif\" font-size=\"14.00\">l_2:&lt;eps&gt;</text>\n</g>\n<!-- 78&#45;&gt;78 -->\n<g id=\"edge159\" class=\"edge\"><title>78&#45;&gt;78</title>\n<path fill=\"none\" stroke=\"black\" d=\"M2247.29,-1237.6C2244.5,-1248.12 2248.07,-1258.24 2258,-1258.24 2264.52,-1258.24 2268.29,-1253.88 2269.33,-1247.91\"/>\n<polygon fill=\"black\" stroke=\"black\" points=\"2272.8,-1247.37 2268.71,-1237.6 2265.82,-1247.79 2272.8,-1247.37\"/>\n<text text-anchor=\"middle\" x=\"2258\" y=\"-1262.04\" font-family=\"Times,serif\" font-size=\"14.00\">l_3:&lt;eps&gt;</text>\n</g>\n<!-- 79 -->\n<g id=\"node83\" class=\"node\"><title>79</title>\n<ellipse fill=\"none\" stroke=\"black\" cx=\"2388\" cy=\"-1201.24\" rx=\"19.4965\" ry=\"19.4965\"/>\n<text text-anchor=\"middle\" x=\"2388\" y=\"-1197.54\" font-family=\"Times,serif\" font-size=\"14.00\">79</text>\n</g>\n<!-- 78&#45;&gt;79 -->\n<g id=\"edge160\" class=\"edge\"><title>78&#45;&gt;79</title>\n<path fill=\"none\" stroke=\"black\" d=\"M2277.34,-1218.38C2298.63,-1215.05 2333.99,-1209.53 2358.79,-1205.65\"/>\n<polygon fill=\"black\" stroke=\"black\" points=\"2359.35,-1209.11 2368.69,-1204.1 2358.27,-1202.19 2359.35,-1209.11\"/>\n<text text-anchor=\"middle\" x=\"2321\" y=\"-1219.04\" font-family=\"Times,serif\" font-size=\"14.00\">l_3:&lt;eps&gt;</text>\n</g>\n<!-- 79&#45;&gt;79 -->\n<g id=\"edge161\" class=\"edge\"><title>79&#45;&gt;79</title>\n<path fill=\"none\" stroke=\"black\" d=\"M2376.72,-1217.22C2373.54,-1227.87 2377.3,-1238.24 2388,-1238.24 2395.19,-1238.24 2399.25,-1233.56 2400.17,-1227.26\"/>\n<polygon fill=\"black\" stroke=\"black\" points=\"2403.65,-1226.87 2399.28,-1217.22 2396.68,-1227.49 2403.65,-1226.87\"/>\n<text text-anchor=\"middle\" x=\"2388\" y=\"-1242.04\" font-family=\"Times,serif\" font-size=\"14.00\">d_1:&lt;eps&gt;</text>\n</g>\n<!-- 80 -->\n<g id=\"node84\" class=\"node\"><title>80</title>\n<ellipse fill=\"none\" stroke=\"black\" cx=\"2522\" cy=\"-551.243\" rx=\"19.4965\" ry=\"19.4965\"/>\n<text text-anchor=\"middle\" x=\"2522\" y=\"-547.543\" font-family=\"Times,serif\" font-size=\"14.00\">80</text>\n</g>\n<!-- 79&#45;&gt;80 -->\n<g id=\"edge162\" class=\"edge\"><title>79&#45;&gt;80</title>\n<path fill=\"none\" stroke=\"black\" d=\"M2399.48,-1185.48C2403.96,-1178.09 2408.86,-1169 2412,-1160.24 2488.63,-946.464 2513.03,-670.398 2519.21,-580.753\"/>\n<polygon fill=\"black\" stroke=\"black\" points=\"2522.72,-580.737 2519.89,-570.527 2515.73,-580.273 2522.72,-580.737\"/>\n<text text-anchor=\"middle\" x=\"2457\" y=\"-1116.04\" font-family=\"Times,serif\" font-size=\"14.00\">d_1:&lt;eps&gt;</text>\n</g>\n<!-- 80&#45;&gt;80 -->\n<g id=\"edge163\" class=\"edge\"><title>80&#45;&gt;80</title>\n<path fill=\"none\" stroke=\"black\" d=\"M2511.06,-567.217C2507.98,-577.872 2511.62,-588.243 2522,-588.243 2528.97,-588.243 2532.9,-583.561 2533.8,-577.257\"/>\n<polygon fill=\"black\" stroke=\"black\" points=\"2537.28,-576.882 2532.94,-567.217 2530.31,-577.478 2537.28,-576.882\"/>\n<text text-anchor=\"middle\" x=\"2522\" y=\"-592.043\" font-family=\"Times,serif\" font-size=\"14.00\">d_2:&lt;eps&gt;</text>\n</g>\n<!-- 81 -->\n<g id=\"node85\" class=\"node\"><title>81</title>\n<ellipse fill=\"none\" stroke=\"black\" cx=\"2652\" cy=\"-119.243\" rx=\"19.4965\" ry=\"19.4965\"/>\n<text text-anchor=\"middle\" x=\"2652\" y=\"-115.543\" font-family=\"Times,serif\" font-size=\"14.00\">81</text>\n</g>\n<!-- 80&#45;&gt;81 -->\n<g id=\"edge164\" class=\"edge\"><title>80&#45;&gt;81</title>\n<path fill=\"none\" stroke=\"black\" d=\"M2528.42,-532.957C2548.45,-465.347 2618.42,-229.21 2642.66,-147.401\"/>\n<polygon fill=\"black\" stroke=\"black\" points=\"2646.02,-148.358 2645.51,-137.776 2639.31,-146.37 2646.02,-148.358\"/>\n<text text-anchor=\"middle\" x=\"2587\" y=\"-440.043\" font-family=\"Times,serif\" font-size=\"14.00\">d_2:&lt;eps&gt;</text>\n</g>\n<!-- 81&#45;&gt;81 -->\n<g id=\"edge165\" class=\"edge\"><title>81&#45;&gt;81</title>\n<path fill=\"none\" stroke=\"black\" d=\"M2642.86,-136.37C2640.83,-146.608 2643.88,-156.243 2652,-156.243 2657.21,-156.243 2660.33,-152.289 2661.36,-146.755\"/>\n<polygon fill=\"black\" stroke=\"black\" points=\"2664.85,-146.293 2661.14,-136.37 2657.86,-146.443 2664.85,-146.293\"/>\n<text text-anchor=\"middle\" x=\"2652\" y=\"-160.043\" font-family=\"Times,serif\" font-size=\"14.00\">d_3:&lt;eps&gt;</text>\n</g>\n<!-- 82 -->\n<g id=\"node86\" class=\"node\"><title>82</title>\n<ellipse fill=\"none\" stroke=\"black\" cx=\"2762\" cy=\"-38.2434\" rx=\"19.4968\" ry=\"19.4968\"/>\n<ellipse fill=\"none\" stroke=\"black\" cx=\"2762\" cy=\"-38.2434\" rx=\"23.4965\" ry=\"23.4965\"/>\n<text text-anchor=\"middle\" x=\"2762\" y=\"-34.5434\" font-family=\"Times,serif\" font-size=\"14.00\">82</text>\n</g>\n<!-- 81&#45;&gt;82 -->\n<g id=\"edge166\" class=\"edge\"><title>81&#45;&gt;82</title>\n<path fill=\"none\" stroke=\"black\" d=\"M2668.02,-107.981C2685.24,-95.0671 2713.78,-73.6617 2734.7,-57.9661\"/>\n<polygon fill=\"black\" stroke=\"black\" points=\"2736.97,-60.6409 2742.87,-51.8409 2732.77,-55.0409 2736.97,-60.6409\"/>\n<text text-anchor=\"middle\" x=\"2705\" y=\"-97.0434\" font-family=\"Times,serif\" font-size=\"14.00\">d_3:er</text>\n</g>\n<!-- 82&#45;&gt;0 -->\n<g id=\"edge167\" class=\"edge\"><title>82&#45;&gt;0</title>\n<path fill=\"none\" stroke=\"black\" d=\"M2741.42,-26.8421C2720.32,-15.649 2685.4,-0.243374 2653,-0.243374 163,-0.243374 163,-0.243374 163,-0.243374 110.435,-0.243374 82.7483,3.65061 51,-38.2434 16.2448,-84.1051 17.6291,-496.655 18.6739,-609.708\"/>\n<polygon fill=\"black\" stroke=\"black\" points=\"15.1767,-610.016 18.7758,-619.981 22.1764,-609.947 15.1767,-610.016\"/>\n<text text-anchor=\"middle\" x=\"1482\" y=\"-4.04337\" font-family=\"Times,serif\" font-size=\"14.00\">&lt;eps&gt;:&lt;eps&gt;</text>\n</g>\n<!-- 84&#45;&gt;84 -->\n<g id=\"edge170\" class=\"edge\"><title>84&#45;&gt;84</title>\n<path fill=\"none\" stroke=\"black\" d=\"M307.465,-199.29C302.051,-210.585 306.562,-222.243 321,-222.243 331.151,-222.243 336.396,-216.479 336.733,-209.131\"/>\n<polygon fill=\"black\" stroke=\"black\" points=\"340.13,-208.287 334.535,-199.29 333.299,-209.812 340.13,-208.287\"/>\n<text text-anchor=\"middle\" x=\"321\" y=\"-226.043\" font-family=\"Times,serif\" font-size=\"14.00\">p_2:&lt;eps&gt;</text>\n</g>\n<!-- 85 -->\n<g id=\"node88\" class=\"node\"><title>85</title>\n<ellipse fill=\"none\" stroke=\"black\" cx=\"478\" cy=\"-185.243\" rx=\"19.4965\" ry=\"19.4965\"/>\n<text text-anchor=\"middle\" x=\"478\" y=\"-181.543\" font-family=\"Times,serif\" font-size=\"14.00\">85</text>\n</g>\n<!-- 84&#45;&gt;85 -->\n<g id=\"edge171\" class=\"edge\"><title>84&#45;&gt;85</title>\n<path fill=\"none\" stroke=\"black\" d=\"M340.697,-185.243C367.346,-185.243 416.5,-185.243 447.926,-185.243\"/>\n<polygon fill=\"black\" stroke=\"black\" points=\"448.237,-188.743 458.237,-185.243 448.237,-181.743 448.237,-188.743\"/>\n<text text-anchor=\"middle\" x=\"406\" y=\"-189.043\" font-family=\"Times,serif\" font-size=\"14.00\">p_2:&lt;eps&gt;</text>\n</g>\n<!-- 85&#45;&gt;85 -->\n<g id=\"edge172\" class=\"edge\"><title>85&#45;&gt;85</title>\n<path fill=\"none\" stroke=\"black\" d=\"M465.953,-200.446C462.031,-211.366 466.047,-222.243 478,-222.243 486.031,-222.243 490.479,-217.333 491.344,-210.799\"/>\n<polygon fill=\"black\" stroke=\"black\" points=\"494.763,-209.933 490.047,-200.446 487.817,-210.803 494.763,-209.933\"/>\n<text text-anchor=\"middle\" x=\"478\" y=\"-226.043\" font-family=\"Times,serif\" font-size=\"14.00\">p_3:&lt;eps&gt;</text>\n</g>\n<!-- 86 -->\n<g id=\"node89\" class=\"node\"><title>86</title>\n<ellipse fill=\"none\" stroke=\"black\" cx=\"630\" cy=\"-185.243\" rx=\"19.4965\" ry=\"19.4965\"/>\n<text text-anchor=\"middle\" x=\"630\" y=\"-181.543\" font-family=\"Times,serif\" font-size=\"14.00\">86</text>\n</g>\n<!-- 85&#45;&gt;86 -->\n<g id=\"edge173\" class=\"edge\"><title>85&#45;&gt;86</title>\n<path fill=\"none\" stroke=\"black\" d=\"M497.694,-185.243C523.294,-185.243 569.52,-185.243 599.732,-185.243\"/>\n<polygon fill=\"black\" stroke=\"black\" points=\"600.07,-188.743 610.07,-185.243 600.07,-181.743 600.07,-188.743\"/>\n<text text-anchor=\"middle\" x=\"554\" y=\"-189.043\" font-family=\"Times,serif\" font-size=\"14.00\">p_3:&lt;eps&gt;</text>\n</g>\n<!-- 86&#45;&gt;86 -->\n<g id=\"edge174\" class=\"edge\"><title>86&#45;&gt;86</title>\n<path fill=\"none\" stroke=\"black\" d=\"M617.953,-200.446C614.031,-211.366 618.047,-222.243 630,-222.243 638.031,-222.243 642.479,-217.333 643.344,-210.799\"/>\n<polygon fill=\"black\" stroke=\"black\" points=\"646.763,-209.933 642.047,-200.446 639.817,-210.803 646.763,-209.933\"/>\n<text text-anchor=\"middle\" x=\"630\" y=\"-226.043\" font-family=\"Times,serif\" font-size=\"14.00\">ay_1:&lt;eps&gt;</text>\n</g>\n<!-- 87 -->\n<g id=\"node90\" class=\"node\"><title>87</title>\n<ellipse fill=\"none\" stroke=\"black\" cx=\"787\" cy=\"-185.243\" rx=\"19.4965\" ry=\"19.4965\"/>\n<text text-anchor=\"middle\" x=\"787\" y=\"-181.543\" font-family=\"Times,serif\" font-size=\"14.00\">87</text>\n</g>\n<!-- 86&#45;&gt;87 -->\n<g id=\"edge175\" class=\"edge\"><title>86&#45;&gt;87</title>\n<path fill=\"none\" stroke=\"black\" d=\"M649.697,-185.243C676.346,-185.243 725.5,-185.243 756.926,-185.243\"/>\n<polygon fill=\"black\" stroke=\"black\" points=\"757.237,-188.743 767.237,-185.243 757.237,-181.743 757.237,-188.743\"/>\n<text text-anchor=\"middle\" x=\"702\" y=\"-189.043\" font-family=\"Times,serif\" font-size=\"14.00\">ay_1:&lt;eps&gt;</text>\n</g>\n<!-- 87&#45;&gt;87 -->\n<g id=\"edge176\" class=\"edge\"><title>87&#45;&gt;87</title>\n<path fill=\"none\" stroke=\"black\" d=\"M773.465,-199.29C768.051,-210.585 772.562,-222.243 787,-222.243 797.151,-222.243 802.396,-216.479 802.733,-209.131\"/>\n<polygon fill=\"black\" stroke=\"black\" points=\"806.13,-208.287 800.535,-199.29 799.299,-209.812 806.13,-208.287\"/>\n<text text-anchor=\"middle\" x=\"787\" y=\"-226.043\" font-family=\"Times,serif\" font-size=\"14.00\">ay_2:&lt;eps&gt;</text>\n</g>\n<!-- 88 -->\n<g id=\"node91\" class=\"node\"><title>88</title>\n<ellipse fill=\"none\" stroke=\"black\" cx=\"944\" cy=\"-185.243\" rx=\"19.4965\" ry=\"19.4965\"/>\n<text text-anchor=\"middle\" x=\"944\" y=\"-181.543\" font-family=\"Times,serif\" font-size=\"14.00\">88</text>\n</g>\n<!-- 87&#45;&gt;88 -->\n<g id=\"edge177\" class=\"edge\"><title>87&#45;&gt;88</title>\n<path fill=\"none\" stroke=\"black\" d=\"M806.697,-185.243C833.346,-185.243 882.5,-185.243 913.926,-185.243\"/>\n<polygon fill=\"black\" stroke=\"black\" points=\"914.237,-188.743 924.237,-185.243 914.237,-181.743 914.237,-188.743\"/>\n<text text-anchor=\"middle\" x=\"872\" y=\"-189.043\" font-family=\"Times,serif\" font-size=\"14.00\">ay_2:&lt;eps&gt;</text>\n</g>\n<!-- 88&#45;&gt;88 -->\n<g id=\"edge178\" class=\"edge\"><title>88&#45;&gt;88</title>\n<path fill=\"none\" stroke=\"black\" d=\"M931.953,-200.446C928.031,-211.366 932.047,-222.243 944,-222.243 952.031,-222.243 956.479,-217.333 957.344,-210.799\"/>\n<polygon fill=\"black\" stroke=\"black\" points=\"960.763,-209.933 956.047,-200.446 953.817,-210.803 960.763,-209.933\"/>\n<text text-anchor=\"middle\" x=\"944\" y=\"-226.043\" font-family=\"Times,serif\" font-size=\"14.00\">ay_3:&lt;eps&gt;</text>\n</g>\n<!-- 89 -->\n<g id=\"node92\" class=\"node\"><title>89</title>\n<ellipse fill=\"none\" stroke=\"black\" cx=\"1100\" cy=\"-185.243\" rx=\"19.4965\" ry=\"19.4965\"/>\n<text text-anchor=\"middle\" x=\"1100\" y=\"-181.543\" font-family=\"Times,serif\" font-size=\"14.00\">89</text>\n</g>\n<!-- 88&#45;&gt;89 -->\n<g id=\"edge179\" class=\"edge\"><title>88&#45;&gt;89</title>\n<path fill=\"none\" stroke=\"black\" d=\"M963.576,-185.243C990.054,-185.243 1038.89,-185.243 1070.11,-185.243\"/>\n<polygon fill=\"black\" stroke=\"black\" points=\"1070.36,-188.743 1080.36,-185.243 1070.36,-181.743 1070.36,-188.743\"/>\n<text text-anchor=\"middle\" x=\"1020\" y=\"-189.043\" font-family=\"Times,serif\" font-size=\"14.00\">ay_3:&lt;eps&gt;</text>\n</g>\n<!-- 89&#45;&gt;89 -->\n<g id=\"edge180\" class=\"edge\"><title>89&#45;&gt;89</title>\n<path fill=\"none\" stroke=\"black\" d=\"M1087.95,-200.446C1084.03,-211.366 1088.05,-222.243 1100,-222.243 1108.03,-222.243 1112.48,-217.333 1113.34,-210.799\"/>\n<polygon fill=\"black\" stroke=\"black\" points=\"1116.76,-209.933 1112.05,-200.446 1109.82,-210.803 1116.76,-209.933\"/>\n<text text-anchor=\"middle\" x=\"1100\" y=\"-226.043\" font-family=\"Times,serif\" font-size=\"14.00\">p_1:&lt;eps&gt;</text>\n</g>\n<!-- 90 -->\n<g id=\"node93\" class=\"node\"><title>90</title>\n<ellipse fill=\"none\" stroke=\"black\" cx=\"1255\" cy=\"-185.243\" rx=\"19.4965\" ry=\"19.4965\"/>\n<text text-anchor=\"middle\" x=\"1255\" y=\"-181.543\" font-family=\"Times,serif\" font-size=\"14.00\">90</text>\n</g>\n<!-- 89&#45;&gt;90 -->\n<g id=\"edge181\" class=\"edge\"><title>89&#45;&gt;90</title>\n<path fill=\"none\" stroke=\"black\" d=\"M1119.76,-185.243C1146.03,-185.243 1194.01,-185.243 1224.93,-185.243\"/>\n<polygon fill=\"black\" stroke=\"black\" points=\"1225.09,-188.743 1235.09,-185.243 1225.09,-181.743 1225.09,-188.743\"/>\n<text text-anchor=\"middle\" x=\"1173\" y=\"-189.043\" font-family=\"Times,serif\" font-size=\"14.00\">p_1:&lt;eps&gt;</text>\n</g>\n<!-- 90&#45;&gt;90 -->\n<g id=\"edge182\" class=\"edge\"><title>90&#45;&gt;90</title>\n<path fill=\"none\" stroke=\"black\" d=\"M1241.61,-199.675C1236.6,-210.848 1241.07,-222.243 1255,-222.243 1264.58,-222.243 1269.68,-216.857 1270.31,-209.86\"/>\n<polygon fill=\"black\" stroke=\"black\" points=\"1273.68,-208.854 1268.39,-199.675 1266.8,-210.15 1273.68,-208.854\"/>\n<text text-anchor=\"middle\" x=\"1255\" y=\"-226.043\" font-family=\"Times,serif\" font-size=\"14.00\">p_2:&lt;eps&gt;</text>\n</g>\n<!-- 91 -->\n<g id=\"node94\" class=\"node\"><title>91</title>\n<ellipse fill=\"none\" stroke=\"black\" cx=\"1406\" cy=\"-185.243\" rx=\"19.4965\" ry=\"19.4965\"/>\n<text text-anchor=\"middle\" x=\"1406\" y=\"-181.543\" font-family=\"Times,serif\" font-size=\"14.00\">91</text>\n</g>\n<!-- 90&#45;&gt;91 -->\n<g id=\"edge183\" class=\"edge\"><title>90&#45;&gt;91</title>\n<path fill=\"none\" stroke=\"black\" d=\"M1274.57,-185.243C1300,-185.243 1345.92,-185.243 1375.93,-185.243\"/>\n<polygon fill=\"black\" stroke=\"black\" points=\"1376.2,-188.743 1386.2,-185.243 1376.2,-181.743 1376.2,-188.743\"/>\n<text text-anchor=\"middle\" x=\"1337\" y=\"-189.043\" font-family=\"Times,serif\" font-size=\"14.00\">p_2:&lt;eps&gt;</text>\n</g>\n<!-- 91&#45;&gt;91 -->\n<g id=\"edge184\" class=\"edge\"><title>91&#45;&gt;91</title>\n<path fill=\"none\" stroke=\"black\" d=\"M1394.5,-200.831C1391.01,-211.62 1394.84,-222.243 1406,-222.243 1413.5,-222.243 1417.69,-217.448 1418.57,-211.029\"/>\n<polygon fill=\"black\" stroke=\"black\" points=\"1422.03,-210.413 1417.5,-200.831 1415.06,-211.141 1422.03,-210.413\"/>\n<text text-anchor=\"middle\" x=\"1406\" y=\"-226.043\" font-family=\"Times,serif\" font-size=\"14.00\">p_3:&lt;eps&gt;</text>\n</g>\n<!-- 92 -->\n<g id=\"node95\" class=\"node\"><title>92</title>\n<ellipse fill=\"none\" stroke=\"black\" cx=\"1558\" cy=\"-185.243\" rx=\"19.4965\" ry=\"19.4965\"/>\n<text text-anchor=\"middle\" x=\"1558\" y=\"-181.543\" font-family=\"Times,serif\" font-size=\"14.00\">92</text>\n</g>\n<!-- 91&#45;&gt;92 -->\n<g id=\"edge185\" class=\"edge\"><title>91&#45;&gt;92</title>\n<path fill=\"none\" stroke=\"black\" d=\"M1425.69,-185.243C1451.29,-185.243 1497.52,-185.243 1527.73,-185.243\"/>\n<polygon fill=\"black\" stroke=\"black\" points=\"1528.07,-188.743 1538.07,-185.243 1528.07,-181.743 1528.07,-188.743\"/>\n<text text-anchor=\"middle\" x=\"1482\" y=\"-189.043\" font-family=\"Times,serif\" font-size=\"14.00\">p_3:&lt;eps&gt;</text>\n</g>\n<!-- 92&#45;&gt;92 -->\n<g id=\"edge186\" class=\"edge\"><title>92&#45;&gt;92</title>\n<path fill=\"none\" stroke=\"black\" d=\"M1545.95,-200.446C1542.03,-211.366 1546.05,-222.243 1558,-222.243 1566.03,-222.243 1570.48,-217.333 1571.34,-210.799\"/>\n<polygon fill=\"black\" stroke=\"black\" points=\"1574.76,-209.933 1570.05,-200.446 1567.82,-210.803 1574.76,-209.933\"/>\n<text text-anchor=\"middle\" x=\"1558\" y=\"-226.043\" font-family=\"Times,serif\" font-size=\"14.00\">er_1:&lt;eps&gt;</text>\n</g>\n<!-- 93 -->\n<g id=\"node96\" class=\"node\"><title>93</title>\n<ellipse fill=\"none\" stroke=\"black\" cx=\"1702\" cy=\"-185.243\" rx=\"19.4965\" ry=\"19.4965\"/>\n<text text-anchor=\"middle\" x=\"1702\" y=\"-181.543\" font-family=\"Times,serif\" font-size=\"14.00\">93</text>\n</g>\n<!-- 92&#45;&gt;93 -->\n<g id=\"edge187\" class=\"edge\"><title>92&#45;&gt;93</title>\n<path fill=\"none\" stroke=\"black\" d=\"M1577.56,-185.243C1601.7,-185.243 1644.09,-185.243 1672.36,-185.243\"/>\n<polygon fill=\"black\" stroke=\"black\" points=\"1672.43,-188.743 1682.43,-185.243 1672.43,-181.743 1672.43,-188.743\"/>\n<text text-anchor=\"middle\" x=\"1630\" y=\"-189.043\" font-family=\"Times,serif\" font-size=\"14.00\">er_1:&lt;eps&gt;</text>\n</g>\n<!-- 93&#45;&gt;93 -->\n<g id=\"edge188\" class=\"edge\"><title>93&#45;&gt;93</title>\n<path fill=\"none\" stroke=\"black\" d=\"M1689.95,-200.446C1686.03,-211.366 1690.05,-222.243 1702,-222.243 1710.03,-222.243 1714.48,-217.333 1715.34,-210.799\"/>\n<polygon fill=\"black\" stroke=\"black\" points=\"1718.76,-209.933 1714.05,-200.446 1711.82,-210.803 1718.76,-209.933\"/>\n<text text-anchor=\"middle\" x=\"1702\" y=\"-226.043\" font-family=\"Times,serif\" font-size=\"14.00\">er_2:&lt;eps&gt;</text>\n</g>\n<!-- 94 -->\n<g id=\"node97\" class=\"node\"><title>94</title>\n<ellipse fill=\"none\" stroke=\"black\" cx=\"1846\" cy=\"-185.243\" rx=\"19.4965\" ry=\"19.4965\"/>\n<text text-anchor=\"middle\" x=\"1846\" y=\"-181.543\" font-family=\"Times,serif\" font-size=\"14.00\">94</text>\n</g>\n<!-- 93&#45;&gt;94 -->\n<g id=\"edge189\" class=\"edge\"><title>93&#45;&gt;94</title>\n<path fill=\"none\" stroke=\"black\" d=\"M1721.56,-185.243C1745.7,-185.243 1788.09,-185.243 1816.36,-185.243\"/>\n<polygon fill=\"black\" stroke=\"black\" points=\"1816.43,-188.743 1826.43,-185.243 1816.43,-181.743 1816.43,-188.743\"/>\n<text text-anchor=\"middle\" x=\"1774\" y=\"-189.043\" font-family=\"Times,serif\" font-size=\"14.00\">er_2:&lt;eps&gt;</text>\n</g>\n<!-- 94&#45;&gt;94 -->\n<g id=\"edge190\" class=\"edge\"><title>94&#45;&gt;94</title>\n<path fill=\"none\" stroke=\"black\" d=\"M1833.95,-200.446C1830.03,-211.366 1834.05,-222.243 1846,-222.243 1854.03,-222.243 1858.48,-217.333 1859.34,-210.799\"/>\n<polygon fill=\"black\" stroke=\"black\" points=\"1862.76,-209.933 1858.05,-200.446 1855.82,-210.803 1862.76,-209.933\"/>\n<text text-anchor=\"middle\" x=\"1846\" y=\"-226.043\" font-family=\"Times,serif\" font-size=\"14.00\">er_3:&lt;eps&gt;</text>\n</g>\n<!-- 95 -->\n<g id=\"node98\" class=\"node\"><title>95</title>\n<ellipse fill=\"none\" stroke=\"black\" cx=\"1994\" cy=\"-250.243\" rx=\"19.4968\" ry=\"19.4968\"/>\n<ellipse fill=\"none\" stroke=\"black\" cx=\"1994\" cy=\"-250.243\" rx=\"23.4965\" ry=\"23.4965\"/>\n<text text-anchor=\"middle\" x=\"1994\" y=\"-246.543\" font-family=\"Times,serif\" font-size=\"14.00\">95</text>\n</g>\n<!-- 94&#45;&gt;95 -->\n<g id=\"edge191\" class=\"edge\"><title>94&#45;&gt;95</title>\n<path fill=\"none\" stroke=\"black\" d=\"M1864.03,-192.827C1888.23,-203.598 1932.92,-223.495 1962.81,-236.802\"/>\n<polygon fill=\"black\" stroke=\"black\" points=\"1961.77,-240.169 1972.33,-241.039 1964.61,-233.774 1961.77,-240.169\"/>\n<text text-anchor=\"middle\" x=\"1918\" y=\"-235.043\" font-family=\"Times,serif\" font-size=\"14.00\">er_3:z</text>\n</g>\n<!-- 95&#45;&gt;0 -->\n<g id=\"edge192\" class=\"edge\"><title>95&#45;&gt;0</title>\n<path fill=\"none\" stroke=\"black\" d=\"M1970.31,-254.029C1941.67,-258.472 1890.83,-265.243 1847,-265.243 163,-265.243 163,-265.243 163,-265.243 106.318,-265.243 82.4008,-279.054 51,-326.243 20.3543,-372.298 18.1969,-541.795 18.611,-609.768\"/>\n<polygon fill=\"black\" stroke=\"black\" points=\"15.1142,-610.167 18.6996,-620.137 22.114,-610.108 15.1142,-610.167\"/>\n<text text-anchor=\"middle\" x=\"1020\" y=\"-269.043\" font-family=\"Times,serif\" font-size=\"14.00\">&lt;eps&gt;:&lt;eps&gt;</text>\n</g>\n<!-- 97&#45;&gt;97 -->\n<g id=\"edge195\" class=\"edge\"><title>97&#45;&gt;97</title>\n<path fill=\"none\" stroke=\"black\" d=\"M307.465,-334.29C302.051,-345.585 306.562,-357.243 321,-357.243 331.151,-357.243 336.396,-351.479 336.733,-344.131\"/>\n<polygon fill=\"black\" stroke=\"black\" points=\"340.13,-343.287 334.535,-334.29 333.299,-344.812 340.13,-343.287\"/>\n<text text-anchor=\"middle\" x=\"321\" y=\"-361.043\" font-family=\"Times,serif\" font-size=\"14.00\">dh_2:&lt;eps&gt;</text>\n</g>\n<!-- 98 -->\n<g id=\"node100\" class=\"node\"><title>98</title>\n<ellipse fill=\"none\" stroke=\"black\" cx=\"478\" cy=\"-320.243\" rx=\"19.4965\" ry=\"19.4965\"/>\n<text text-anchor=\"middle\" x=\"478\" y=\"-316.543\" font-family=\"Times,serif\" font-size=\"14.00\">98</text>\n</g>\n<!-- 97&#45;&gt;98 -->\n<g id=\"edge196\" class=\"edge\"><title>97&#45;&gt;98</title>\n<path fill=\"none\" stroke=\"black\" d=\"M340.697,-320.243C367.346,-320.243 416.5,-320.243 447.926,-320.243\"/>\n<polygon fill=\"black\" stroke=\"black\" points=\"448.237,-323.743 458.237,-320.243 448.237,-316.743 448.237,-323.743\"/>\n<text text-anchor=\"middle\" x=\"406\" y=\"-324.043\" font-family=\"Times,serif\" font-size=\"14.00\">dh_2:&lt;eps&gt;</text>\n</g>\n<!-- 98&#45;&gt;98 -->\n<g id=\"edge197\" class=\"edge\"><title>98&#45;&gt;98</title>\n<path fill=\"none\" stroke=\"black\" d=\"M465.953,-335.446C462.031,-346.366 466.047,-357.243 478,-357.243 486.031,-357.243 490.479,-352.333 491.344,-345.799\"/>\n<polygon fill=\"black\" stroke=\"black\" points=\"494.763,-344.933 490.047,-335.446 487.817,-345.803 494.763,-344.933\"/>\n<text text-anchor=\"middle\" x=\"478\" y=\"-361.043\" font-family=\"Times,serif\" font-size=\"14.00\">dh_3:&lt;eps&gt;</text>\n</g>\n<!-- 99 -->\n<g id=\"node101\" class=\"node\"><title>99</title>\n<ellipse fill=\"none\" stroke=\"black\" cx=\"630\" cy=\"-320.243\" rx=\"19.4965\" ry=\"19.4965\"/>\n<text text-anchor=\"middle\" x=\"630\" y=\"-316.543\" font-family=\"Times,serif\" font-size=\"14.00\">99</text>\n</g>\n<!-- 98&#45;&gt;99 -->\n<g id=\"edge198\" class=\"edge\"><title>98&#45;&gt;99</title>\n<path fill=\"none\" stroke=\"black\" d=\"M497.694,-320.243C523.294,-320.243 569.52,-320.243 599.732,-320.243\"/>\n<polygon fill=\"black\" stroke=\"black\" points=\"600.07,-323.743 610.07,-320.243 600.07,-316.743 600.07,-323.743\"/>\n<text text-anchor=\"middle\" x=\"554\" y=\"-324.043\" font-family=\"Times,serif\" font-size=\"14.00\">dh_3:&lt;eps&gt;</text>\n</g>\n<!-- 99&#45;&gt;99 -->\n<g id=\"edge199\" class=\"edge\"><title>99&#45;&gt;99</title>\n<path fill=\"none\" stroke=\"black\" d=\"M617.953,-335.446C614.031,-346.366 618.047,-357.243 630,-357.243 638.031,-357.243 642.479,-352.333 643.344,-345.799\"/>\n<polygon fill=\"black\" stroke=\"black\" points=\"646.763,-344.933 642.047,-335.446 639.817,-345.803 646.763,-344.933\"/>\n<text text-anchor=\"middle\" x=\"630\" y=\"-361.043\" font-family=\"Times,serif\" font-size=\"14.00\">iy_1:&lt;eps&gt;</text>\n</g>\n<!-- 100 -->\n<g id=\"node102\" class=\"node\"><title>100</title>\n<ellipse fill=\"none\" stroke=\"black\" cx=\"787\" cy=\"-317.243\" rx=\"24.0958\" ry=\"24.0958\"/>\n<text text-anchor=\"middle\" x=\"787\" y=\"-313.543\" font-family=\"Times,serif\" font-size=\"14.00\">100</text>\n</g>\n<!-- 99&#45;&gt;100 -->\n<g id=\"edge200\" class=\"edge\"><title>99&#45;&gt;100</title>\n<path fill=\"none\" stroke=\"black\" d=\"M649.697,-319.882C675.233,-319.387 721.432,-318.493 752.898,-317.884\"/>\n<polygon fill=\"black\" stroke=\"black\" points=\"753.022,-321.382 762.953,-317.689 752.887,-314.384 753.022,-321.382\"/>\n<text text-anchor=\"middle\" x=\"702\" y=\"-324.043\" font-family=\"Times,serif\" font-size=\"14.00\">iy_1:&lt;eps&gt;</text>\n</g>\n<!-- 100&#45;&gt;100 -->\n<g id=\"edge201\" class=\"edge\"><title>100&#45;&gt;100</title>\n<path fill=\"none\" stroke=\"black\" d=\"M772.234,-336.685C768.953,-348.306 773.875,-359.243 787,-359.243 796.023,-359.243 801.17,-354.074 802.439,-347.066\"/>\n<polygon fill=\"black\" stroke=\"black\" points=\"805.905,-346.437 801.766,-336.685 798.92,-346.89 805.905,-346.437\"/>\n<text text-anchor=\"middle\" x=\"787\" y=\"-363.043\" font-family=\"Times,serif\" font-size=\"14.00\">iy_2:&lt;eps&gt;</text>\n</g>\n<!-- 101 -->\n<g id=\"node103\" class=\"node\"><title>101</title>\n<ellipse fill=\"none\" stroke=\"black\" cx=\"944\" cy=\"-317.243\" rx=\"24.0958\" ry=\"24.0958\"/>\n<text text-anchor=\"middle\" x=\"944\" y=\"-313.543\" font-family=\"Times,serif\" font-size=\"14.00\">101</text>\n</g>\n<!-- 100&#45;&gt;101 -->\n<g id=\"edge202\" class=\"edge\"><title>100&#45;&gt;101</title>\n<path fill=\"none\" stroke=\"black\" d=\"M811.205,-317.243C837.305,-317.243 879.915,-317.243 909.595,-317.243\"/>\n<polygon fill=\"black\" stroke=\"black\" points=\"909.89,-320.743 919.89,-317.243 909.89,-313.743 909.89,-320.743\"/>\n<text text-anchor=\"middle\" x=\"872\" y=\"-321.043\" font-family=\"Times,serif\" font-size=\"14.00\">iy_2:&lt;eps&gt;</text>\n</g>\n<!-- 101&#45;&gt;101 -->\n<g id=\"edge203\" class=\"edge\"><title>101&#45;&gt;101</title>\n<path fill=\"none\" stroke=\"black\" d=\"M931.146,-337.555C928.747,-348.846 933.031,-359.243 944,-359.243 951.541,-359.243 955.923,-354.329 957.145,-347.588\"/>\n<polygon fill=\"black\" stroke=\"black\" points=\"960.643,-347.449 956.854,-337.555 953.646,-347.652 960.643,-347.449\"/>\n<text text-anchor=\"middle\" x=\"944\" y=\"-363.043\" font-family=\"Times,serif\" font-size=\"14.00\">iy_3:&lt;eps&gt;</text>\n</g>\n<!-- 102 -->\n<g id=\"node104\" class=\"node\"><title>102</title>\n<ellipse fill=\"none\" stroke=\"black\" cx=\"1100\" cy=\"-364.243\" rx=\"24.089\" ry=\"24.089\"/>\n<ellipse fill=\"none\" stroke=\"black\" cx=\"1100\" cy=\"-364.243\" rx=\"28.0958\" ry=\"28.0958\"/>\n<text text-anchor=\"middle\" x=\"1100\" y=\"-360.543\" font-family=\"Times,serif\" font-size=\"14.00\">102</text>\n</g>\n<!-- 101&#45;&gt;102 -->\n<g id=\"edge204\" class=\"edge\"><title>101&#45;&gt;102</title>\n<path fill=\"none\" stroke=\"black\" d=\"M967.393,-324.078C992.466,-331.73 1033.45,-344.239 1063.03,-353.266\"/>\n<polygon fill=\"black\" stroke=\"black\" points=\"1062.39,-356.729 1072.97,-356.3 1064.43,-350.034 1062.39,-356.729\"/>\n<text text-anchor=\"middle\" x=\"1020\" y=\"-355.043\" font-family=\"Times,serif\" font-size=\"14.00\">iy_3:iy</text>\n</g>\n<!-- 102&#45;&gt;0 -->\n<g id=\"edge205\" class=\"edge\"><title>102&#45;&gt;0</title>\n<path fill=\"none\" stroke=\"black\" d=\"M1073.86,-374.427C1043.75,-385.683 991.539,-402.243 945,-402.243 163,-402.243 163,-402.243 163,-402.243 105.447,-402.243 84.2045,-420.234 51,-467.243 35.0505,-489.824 25.5482,-567.553 21.4284,-610.011\"/>\n<polygon fill=\"black\" stroke=\"black\" points=\"17.9185,-609.955 20.4742,-620.237 24.8882,-610.605 17.9185,-609.955\"/>\n<text text-anchor=\"middle\" x=\"554\" y=\"-406.043\" font-family=\"Times,serif\" font-size=\"14.00\">&lt;eps&gt;:&lt;eps&gt;</text>\n</g>\n<!-- 104&#45;&gt;104 -->\n<g id=\"edge208\" class=\"edge\"><title>104&#45;&gt;104</title>\n<path fill=\"none\" stroke=\"black\" d=\"M306.234,-109.685C302.953,-121.306 307.875,-132.243 321,-132.243 330.023,-132.243 335.17,-127.074 336.439,-120.066\"/>\n<polygon fill=\"black\" stroke=\"black\" points=\"339.905,-119.437 335.766,-109.685 332.92,-119.89 339.905,-119.437\"/>\n<text text-anchor=\"middle\" x=\"321\" y=\"-136.043\" font-family=\"Times,serif\" font-size=\"14.00\">w_2:&lt;eps&gt;</text>\n</g>\n<!-- 105 -->\n<g id=\"node106\" class=\"node\"><title>105</title>\n<ellipse fill=\"none\" stroke=\"black\" cx=\"478\" cy=\"-90.2434\" rx=\"24.0958\" ry=\"24.0958\"/>\n<text text-anchor=\"middle\" x=\"478\" y=\"-86.5434\" font-family=\"Times,serif\" font-size=\"14.00\">105</text>\n</g>\n<!-- 104&#45;&gt;105 -->\n<g id=\"edge209\" class=\"edge\"><title>104&#45;&gt;105</title>\n<path fill=\"none\" stroke=\"black\" d=\"M345.205,-90.2434C371.305,-90.2434 413.915,-90.2434 443.595,-90.2434\"/>\n<polygon fill=\"black\" stroke=\"black\" points=\"443.89,-93.7435 453.89,-90.2434 443.89,-86.7435 443.89,-93.7435\"/>\n<text text-anchor=\"middle\" x=\"406\" y=\"-94.0434\" font-family=\"Times,serif\" font-size=\"14.00\">w_2:&lt;eps&gt;</text>\n</g>\n<!-- 105&#45;&gt;105 -->\n<g id=\"edge210\" class=\"edge\"><title>105&#45;&gt;105</title>\n<path fill=\"none\" stroke=\"black\" d=\"M465.146,-110.555C462.747,-121.846 467.031,-132.243 478,-132.243 485.541,-132.243 489.923,-127.329 491.145,-120.588\"/>\n<polygon fill=\"black\" stroke=\"black\" points=\"494.643,-120.449 490.854,-110.555 487.646,-120.652 494.643,-120.449\"/>\n<text text-anchor=\"middle\" x=\"478\" y=\"-136.043\" font-family=\"Times,serif\" font-size=\"14.00\">w_3:&lt;eps&gt;</text>\n</g>\n<!-- 106 -->\n<g id=\"node107\" class=\"node\"><title>106</title>\n<ellipse fill=\"none\" stroke=\"black\" cx=\"630\" cy=\"-90.2434\" rx=\"24.0958\" ry=\"24.0958\"/>\n<text text-anchor=\"middle\" x=\"630\" y=\"-86.5434\" font-family=\"Times,serif\" font-size=\"14.00\">106</text>\n</g>\n<!-- 105&#45;&gt;106 -->\n<g id=\"edge211\" class=\"edge\"><title>105&#45;&gt;106</title>\n<path fill=\"none\" stroke=\"black\" d=\"M502.109,-90.2434C527.031,-90.2434 566.946,-90.2434 595.35,-90.2434\"/>\n<polygon fill=\"black\" stroke=\"black\" points=\"595.618,-93.7435 605.618,-90.2434 595.618,-86.7435 595.618,-93.7435\"/>\n<text text-anchor=\"middle\" x=\"554\" y=\"-94.0434\" font-family=\"Times,serif\" font-size=\"14.00\">w_3:&lt;eps&gt;</text>\n</g>\n<!-- 106&#45;&gt;106 -->\n<g id=\"edge212\" class=\"edge\"><title>106&#45;&gt;106</title>\n<path fill=\"none\" stroke=\"black\" d=\"M617.146,-110.555C614.747,-121.846 619.031,-132.243 630,-132.243 637.541,-132.243 641.923,-127.329 643.145,-120.588\"/>\n<polygon fill=\"black\" stroke=\"black\" points=\"646.643,-120.449 642.854,-110.555 639.646,-120.652 646.643,-120.449\"/>\n<text text-anchor=\"middle\" x=\"630\" y=\"-136.043\" font-family=\"Times,serif\" font-size=\"14.00\">eh_1:&lt;eps&gt;</text>\n</g>\n<!-- 107 -->\n<g id=\"node108\" class=\"node\"><title>107</title>\n<ellipse fill=\"none\" stroke=\"black\" cx=\"787\" cy=\"-90.2434\" rx=\"24.0958\" ry=\"24.0958\"/>\n<text text-anchor=\"middle\" x=\"787\" y=\"-86.5434\" font-family=\"Times,serif\" font-size=\"14.00\">107</text>\n</g>\n<!-- 106&#45;&gt;107 -->\n<g id=\"edge213\" class=\"edge\"><title>106&#45;&gt;107</title>\n<path fill=\"none\" stroke=\"black\" d=\"M654.205,-90.2434C680.305,-90.2434 722.915,-90.2434 752.595,-90.2434\"/>\n<polygon fill=\"black\" stroke=\"black\" points=\"752.89,-93.7435 762.89,-90.2434 752.89,-86.7435 752.89,-93.7435\"/>\n<text text-anchor=\"middle\" x=\"702\" y=\"-94.0434\" font-family=\"Times,serif\" font-size=\"14.00\">eh_1:&lt;eps&gt;</text>\n</g>\n<!-- 107&#45;&gt;107 -->\n<g id=\"edge214\" class=\"edge\"><title>107&#45;&gt;107</title>\n<path fill=\"none\" stroke=\"black\" d=\"M772.234,-109.685C768.953,-121.306 773.875,-132.243 787,-132.243 796.023,-132.243 801.17,-127.074 802.439,-120.066\"/>\n<polygon fill=\"black\" stroke=\"black\" points=\"805.905,-119.437 801.766,-109.685 798.92,-119.89 805.905,-119.437\"/>\n<text text-anchor=\"middle\" x=\"787\" y=\"-136.043\" font-family=\"Times,serif\" font-size=\"14.00\">eh_2:&lt;eps&gt;</text>\n</g>\n<!-- 108 -->\n<g id=\"node109\" class=\"node\"><title>108</title>\n<ellipse fill=\"none\" stroke=\"black\" cx=\"944\" cy=\"-90.2434\" rx=\"24.0958\" ry=\"24.0958\"/>\n<text text-anchor=\"middle\" x=\"944\" y=\"-86.5434\" font-family=\"Times,serif\" font-size=\"14.00\">108</text>\n</g>\n<!-- 107&#45;&gt;108 -->\n<g id=\"edge215\" class=\"edge\"><title>107&#45;&gt;108</title>\n<path fill=\"none\" stroke=\"black\" d=\"M811.205,-90.2434C837.305,-90.2434 879.915,-90.2434 909.595,-90.2434\"/>\n<polygon fill=\"black\" stroke=\"black\" points=\"909.89,-93.7435 919.89,-90.2434 909.89,-86.7435 909.89,-93.7435\"/>\n<text text-anchor=\"middle\" x=\"872\" y=\"-94.0434\" font-family=\"Times,serif\" font-size=\"14.00\">eh_2:&lt;eps&gt;</text>\n</g>\n<!-- 108&#45;&gt;108 -->\n<g id=\"edge216\" class=\"edge\"><title>108&#45;&gt;108</title>\n<path fill=\"none\" stroke=\"black\" d=\"M931.146,-110.555C928.747,-121.846 933.031,-132.243 944,-132.243 951.541,-132.243 955.923,-127.329 957.145,-120.588\"/>\n<polygon fill=\"black\" stroke=\"black\" points=\"960.643,-120.449 956.854,-110.555 953.646,-120.652 960.643,-120.449\"/>\n<text text-anchor=\"middle\" x=\"944\" y=\"-136.043\" font-family=\"Times,serif\" font-size=\"14.00\">eh_3:&lt;eps&gt;</text>\n</g>\n<!-- 109 -->\n<g id=\"node110\" class=\"node\"><title>109</title>\n<ellipse fill=\"none\" stroke=\"black\" cx=\"1100\" cy=\"-90.2434\" rx=\"24.0958\" ry=\"24.0958\"/>\n<text text-anchor=\"middle\" x=\"1100\" y=\"-86.5434\" font-family=\"Times,serif\" font-size=\"14.00\">109</text>\n</g>\n<!-- 108&#45;&gt;109 -->\n<g id=\"edge217\" class=\"edge\"><title>108&#45;&gt;109</title>\n<path fill=\"none\" stroke=\"black\" d=\"M968.055,-90.2434C993.912,-90.2434 1036.08,-90.2434 1065.55,-90.2434\"/>\n<polygon fill=\"black\" stroke=\"black\" points=\"1065.79,-93.7435 1075.79,-90.2434 1065.79,-86.7435 1065.79,-93.7435\"/>\n<text text-anchor=\"middle\" x=\"1020\" y=\"-94.0434\" font-family=\"Times,serif\" font-size=\"14.00\">eh_3:&lt;eps&gt;</text>\n</g>\n<!-- 109&#45;&gt;109 -->\n<g id=\"edge218\" class=\"edge\"><title>109&#45;&gt;109</title>\n<path fill=\"none\" stroke=\"black\" d=\"M1087.15,-110.555C1084.75,-121.846 1089.03,-132.243 1100,-132.243 1107.54,-132.243 1111.92,-127.329 1113.15,-120.588\"/>\n<polygon fill=\"black\" stroke=\"black\" points=\"1116.64,-120.449 1112.85,-110.555 1109.65,-120.652 1116.64,-120.449\"/>\n<text text-anchor=\"middle\" x=\"1100\" y=\"-136.043\" font-family=\"Times,serif\" font-size=\"14.00\">r_1:&lt;eps&gt;</text>\n</g>\n<!-- 110 -->\n<g id=\"node111\" class=\"node\"><title>110</title>\n<ellipse fill=\"none\" stroke=\"black\" cx=\"1255\" cy=\"-90.2434\" rx=\"24.0958\" ry=\"24.0958\"/>\n<text text-anchor=\"middle\" x=\"1255\" y=\"-86.5434\" font-family=\"Times,serif\" font-size=\"14.00\">110</text>\n</g>\n<!-- 109&#45;&gt;110 -->\n<g id=\"edge219\" class=\"edge\"><title>109&#45;&gt;110</title>\n<path fill=\"none\" stroke=\"black\" d=\"M1124.24,-90.2434C1149.85,-90.2434 1191.27,-90.2434 1220.42,-90.2434\"/>\n<polygon fill=\"black\" stroke=\"black\" points=\"1220.54,-93.7435 1230.54,-90.2434 1220.54,-86.7435 1220.54,-93.7435\"/>\n<text text-anchor=\"middle\" x=\"1173\" y=\"-94.0434\" font-family=\"Times,serif\" font-size=\"14.00\">r_1:&lt;eps&gt;</text>\n</g>\n<!-- 110&#45;&gt;110 -->\n<g id=\"edge220\" class=\"edge\"><title>110&#45;&gt;110</title>\n<path fill=\"none\" stroke=\"black\" d=\"M1240.59,-109.685C1237.38,-121.306 1242.19,-132.243 1255,-132.243 1263.81,-132.243 1268.83,-127.074 1270.07,-120.066\"/>\n<polygon fill=\"black\" stroke=\"black\" points=\"1273.54,-119.444 1269.41,-109.685 1266.55,-119.886 1273.54,-119.444\"/>\n<text text-anchor=\"middle\" x=\"1255\" y=\"-136.043\" font-family=\"Times,serif\" font-size=\"14.00\">r_2:&lt;eps&gt;</text>\n</g>\n<!-- 111 -->\n<g id=\"node112\" class=\"node\"><title>111</title>\n<ellipse fill=\"none\" stroke=\"black\" cx=\"1406\" cy=\"-90.2434\" rx=\"24.0958\" ry=\"24.0958\"/>\n<text text-anchor=\"middle\" x=\"1406\" y=\"-86.5434\" font-family=\"Times,serif\" font-size=\"14.00\">111</text>\n</g>\n<!-- 110&#45;&gt;111 -->\n<g id=\"edge221\" class=\"edge\"><title>110&#45;&gt;111</title>\n<path fill=\"none\" stroke=\"black\" d=\"M1279.28,-90.2434C1304.1,-90.2434 1343.62,-90.2434 1371.73,-90.2434\"/>\n<polygon fill=\"black\" stroke=\"black\" points=\"1371.88,-93.7435 1381.88,-90.2434 1371.88,-86.7435 1371.88,-93.7435\"/>\n<text text-anchor=\"middle\" x=\"1337\" y=\"-94.0434\" font-family=\"Times,serif\" font-size=\"14.00\">r_2:&lt;eps&gt;</text>\n</g>\n<!-- 111&#45;&gt;111 -->\n<g id=\"edge222\" class=\"edge\"><title>111&#45;&gt;111</title>\n<path fill=\"none\" stroke=\"black\" d=\"M1393.78,-110.989C1391.7,-122.111 1395.77,-132.243 1406,-132.243 1412.87,-132.243 1416.96,-127.669 1418.28,-121.294\"/>\n<polygon fill=\"black\" stroke=\"black\" points=\"1421.78,-120.969 1418.22,-110.989 1414.78,-121.008 1421.78,-120.969\"/>\n<text text-anchor=\"middle\" x=\"1406\" y=\"-136.043\" font-family=\"Times,serif\" font-size=\"14.00\">r_3:&lt;eps&gt;</text>\n</g>\n<!-- 112 -->\n<g id=\"node113\" class=\"node\"><title>112</title>\n<ellipse fill=\"none\" stroke=\"black\" cx=\"1558\" cy=\"-90.2434\" rx=\"24.0958\" ry=\"24.0958\"/>\n<text text-anchor=\"middle\" x=\"1558\" y=\"-86.5434\" font-family=\"Times,serif\" font-size=\"14.00\">112</text>\n</g>\n<!-- 111&#45;&gt;112 -->\n<g id=\"edge223\" class=\"edge\"><title>111&#45;&gt;112</title>\n<path fill=\"none\" stroke=\"black\" d=\"M1430.11,-90.2434C1455.03,-90.2434 1494.95,-90.2434 1523.35,-90.2434\"/>\n<polygon fill=\"black\" stroke=\"black\" points=\"1523.62,-93.7435 1533.62,-90.2434 1523.62,-86.7435 1523.62,-93.7435\"/>\n<text text-anchor=\"middle\" x=\"1482\" y=\"-94.0434\" font-family=\"Times,serif\" font-size=\"14.00\">r_3:&lt;eps&gt;</text>\n</g>\n<!-- 112&#45;&gt;112 -->\n<g id=\"edge224\" class=\"edge\"><title>112&#45;&gt;112</title>\n<path fill=\"none\" stroke=\"black\" d=\"M1545.15,-110.555C1542.75,-121.846 1547.03,-132.243 1558,-132.243 1565.54,-132.243 1569.92,-127.329 1571.15,-120.588\"/>\n<polygon fill=\"black\" stroke=\"black\" points=\"1574.64,-120.449 1570.85,-110.555 1567.65,-120.652 1574.64,-120.449\"/>\n<text text-anchor=\"middle\" x=\"1558\" y=\"-136.043\" font-family=\"Times,serif\" font-size=\"14.00\">z_1:&lt;eps&gt;</text>\n</g>\n<!-- 113 -->\n<g id=\"node114\" class=\"node\"><title>113</title>\n<ellipse fill=\"none\" stroke=\"black\" cx=\"1702\" cy=\"-90.2434\" rx=\"24.0958\" ry=\"24.0958\"/>\n<text text-anchor=\"middle\" x=\"1702\" y=\"-86.5434\" font-family=\"Times,serif\" font-size=\"14.00\">113</text>\n</g>\n<!-- 112&#45;&gt;113 -->\n<g id=\"edge225\" class=\"edge\"><title>112&#45;&gt;113</title>\n<path fill=\"none\" stroke=\"black\" d=\"M1582.13,-90.2434C1605.34,-90.2434 1641.32,-90.2434 1667.62,-90.2434\"/>\n<polygon fill=\"black\" stroke=\"black\" points=\"1667.88,-93.7435 1677.88,-90.2434 1667.88,-86.7435 1667.88,-93.7435\"/>\n<text text-anchor=\"middle\" x=\"1630\" y=\"-94.0434\" font-family=\"Times,serif\" font-size=\"14.00\">z_1:&lt;eps&gt;</text>\n</g>\n<!-- 113&#45;&gt;113 -->\n<g id=\"edge226\" class=\"edge\"><title>113&#45;&gt;113</title>\n<path fill=\"none\" stroke=\"black\" d=\"M1689.15,-110.555C1686.75,-121.846 1691.03,-132.243 1702,-132.243 1709.54,-132.243 1713.92,-127.329 1715.15,-120.588\"/>\n<polygon fill=\"black\" stroke=\"black\" points=\"1718.64,-120.449 1714.85,-110.555 1711.65,-120.652 1718.64,-120.449\"/>\n<text text-anchor=\"middle\" x=\"1702\" y=\"-136.043\" font-family=\"Times,serif\" font-size=\"14.00\">z_2:&lt;eps&gt;</text>\n</g>\n<!-- 114 -->\n<g id=\"node115\" class=\"node\"><title>114</title>\n<ellipse fill=\"none\" stroke=\"black\" cx=\"1846\" cy=\"-90.2434\" rx=\"24.0958\" ry=\"24.0958\"/>\n<text text-anchor=\"middle\" x=\"1846\" y=\"-86.5434\" font-family=\"Times,serif\" font-size=\"14.00\">114</text>\n</g>\n<!-- 113&#45;&gt;114 -->\n<g id=\"edge227\" class=\"edge\"><title>113&#45;&gt;114</title>\n<path fill=\"none\" stroke=\"black\" d=\"M1726.13,-90.2434C1749.34,-90.2434 1785.32,-90.2434 1811.62,-90.2434\"/>\n<polygon fill=\"black\" stroke=\"black\" points=\"1811.88,-93.7435 1821.88,-90.2434 1811.88,-86.7435 1811.88,-93.7435\"/>\n<text text-anchor=\"middle\" x=\"1774\" y=\"-94.0434\" font-family=\"Times,serif\" font-size=\"14.00\">z_2:&lt;eps&gt;</text>\n</g>\n<!-- 114&#45;&gt;114 -->\n<g id=\"edge228\" class=\"edge\"><title>114&#45;&gt;114</title>\n<path fill=\"none\" stroke=\"black\" d=\"M1833.15,-110.555C1830.75,-121.846 1835.03,-132.243 1846,-132.243 1853.54,-132.243 1857.92,-127.329 1859.15,-120.588\"/>\n<polygon fill=\"black\" stroke=\"black\" points=\"1862.64,-120.449 1858.85,-110.555 1855.65,-120.652 1862.64,-120.449\"/>\n<text text-anchor=\"middle\" x=\"1846\" y=\"-136.043\" font-family=\"Times,serif\" font-size=\"14.00\">z_3:&lt;eps&gt;</text>\n</g>\n<!-- 115 -->\n<g id=\"node116\" class=\"node\"><title>115</title>\n<ellipse fill=\"none\" stroke=\"black\" cx=\"1994\" cy=\"-65.2434\" rx=\"24.089\" ry=\"24.089\"/>\n<ellipse fill=\"none\" stroke=\"black\" cx=\"1994\" cy=\"-65.2434\" rx=\"28.0958\" ry=\"28.0958\"/>\n<text text-anchor=\"middle\" x=\"1994\" y=\"-61.5434\" font-family=\"Times,serif\" font-size=\"14.00\">115</text>\n</g>\n<!-- 114&#45;&gt;115 -->\n<g id=\"edge229\" class=\"edge\"><title>114&#45;&gt;115</title>\n<path fill=\"none\" stroke=\"black\" d=\"M1869.81,-86.3371C1892.92,-82.3795 1929.05,-76.1944 1956.21,-71.543\"/>\n<polygon fill=\"black\" stroke=\"black\" points=\"1956.87,-74.981 1966.14,-69.8433 1955.69,-68.0814 1956.87,-74.981\"/>\n<text text-anchor=\"middle\" x=\"1918\" y=\"-88.0434\" font-family=\"Times,serif\" font-size=\"14.00\">z_3:t</text>\n</g>\n<!-- 115&#45;&gt;0 -->\n<g id=\"edge230\" class=\"edge\"><title>115&#45;&gt;0</title>\n<path fill=\"none\" stroke=\"black\" d=\"M1966.89,-57.4339C1937.89,-49.4597 1889.53,-38.2434 1847,-38.2434 163,-38.2434 163,-38.2434 163,-38.2434 104.995,-38.2434 81.1117,-55.6669 51,-105.243 24.7104,-148.527 19.9862,-506.263 19.1664,-610.093\"/>\n<polygon fill=\"black\" stroke=\"black\" points=\"15.6662,-610.112 19.0932,-620.138 22.6661,-610.163 15.6662,-610.112\"/>\n<text text-anchor=\"middle\" x=\"1020\" y=\"-42.0434\" font-family=\"Times,serif\" font-size=\"14.00\">&lt;eps&gt;:&lt;eps&gt;</text>\n</g>\n</g>\n</svg>\n",
            "text/plain": [
              "<vector Fst at 0x7f9fec0ffca8>"
            ]
          },
          "metadata": {
            "tags": []
          },
          "execution_count": 16
        }
      ]
    },
    {
      "cell_type": "code",
      "metadata": {
        "id": "tZmmxDNHfYGL",
        "colab_type": "code",
        "colab": {}
      },
      "source": [
        "wfst = MyWFST(mode='baseline')\n",
        "f_baseline = wfst.generate()\n",
        "lex = wfst.get_lexicon()\n",
        "word_table, phone_table, state_table = wfst.get_tables()"
      ],
      "execution_count": null,
      "outputs": []
    },
    {
      "cell_type": "code",
      "metadata": {
        "id": "REo8aIg8fYGP",
        "colab_type": "code",
        "colab": {}
      },
      "source": [
        "import cProfile\n",
        "import re\n",
        "cProfile.run('error_list, words_count_list, forward_computations_list = test_baseline(f_baseline, wfst.mode, lex, word_table, phone_table, state_table)')"
      ],
      "execution_count": null,
      "outputs": []
    },
    {
      "cell_type": "code",
      "metadata": {
        "id": "un_5l3LPfYGR",
        "colab_type": "code",
        "colab": {}
      },
      "source": [
        "output_wfst('baseline', f_baseline)"
      ],
      "execution_count": null,
      "outputs": []
    },
    {
      "cell_type": "markdown",
      "metadata": {
        "id": "JYwbhz9nfYGV",
        "colab_type": "text"
      },
      "source": [
        "- Testing - baseline\n",
        "- States number: 116\n",
        "- Arcs number: 230\n",
        "- Total errors: 1693\n",
        "- Words number: 2177\n",
        "- Total WER: 0.7776757005052825\n",
        "- The number of forward computations per wav: 109421.5"
      ]
    },
    {
      "cell_type": "markdown",
      "metadata": {
        "id": "ls3bXiybfYGW",
        "colab_type": "text"
      },
      "source": [
        "## next_weight & sl_weight "
      ]
    },
    {
      "cell_type": "markdown",
      "metadata": {
        "id": "dsd0ppcvfYGW",
        "colab_type": "text"
      },
      "source": [
        "### baseline 1 - next_weight=0.9  sl_weight=0.1"
      ]
    },
    {
      "cell_type": "code",
      "metadata": {
        "id": "fcm2PrOyfYGX",
        "colab_type": "code",
        "colab": {}
      },
      "source": [
        "wfst = MyWFST(mode='baseline1')\n",
        "f_baseline = wfst.generate()\n",
        "lex = wfst.get_lexicon()\n",
        "word_table, phone_table, state_table = wfst.get_tables()"
      ],
      "execution_count": null,
      "outputs": []
    },
    {
      "cell_type": "code",
      "metadata": {
        "id": "pxT5kJ9pfYGa",
        "colab_type": "code",
        "colab": {}
      },
      "source": [
        "import cProfile\n",
        "import re\n",
        "cProfile.run('error_list, words_count_list, forward_computations_list = test_baseline(f_baseline, wfst.mode, lex, word_table, phone_table, state_table)')"
      ],
      "execution_count": null,
      "outputs": []
    },
    {
      "cell_type": "markdown",
      "metadata": {
        "id": "6UzGpZU4fYGc",
        "colab_type": "text"
      },
      "source": [
        "- Testing - baseline1\n",
        "- States number: 116\n",
        "- Arcs number: 230\n",
        "- Total errors: 2374\n",
        "- Words number: 2177\n",
        "- Total WER: 1.0904915020670647\n",
        "- The number of forward computations per wav: 109421.5"
      ]
    },
    {
      "cell_type": "code",
      "metadata": {
        "id": "7IeWI6U7fYGd",
        "colab_type": "code",
        "colab": {}
      },
      "source": [
        "save_list(error_list, \"error_list.1.baseline\")\n",
        "save_list(words_count_list, \"words_count_list.1.baseline\")\n",
        "save_list(forward_computations_list, \"forward_computations_list.1.baseline\")"
      ],
      "execution_count": null,
      "outputs": []
    },
    {
      "cell_type": "markdown",
      "metadata": {
        "id": "jkmgLc7HfYGh",
        "colab_type": "text"
      },
      "source": [
        "### baseline 2 - next_weight=0.5 sl_weight=0.5"
      ]
    },
    {
      "cell_type": "code",
      "metadata": {
        "id": "XAQzKbr_fYGi",
        "colab_type": "code",
        "colab": {}
      },
      "source": [
        "wfst = MyWFST(mode='baseline2')\n",
        "f_baseline = wfst.generate()\n",
        "lex = wfst.get_lexicon()\n",
        "word_table, phone_table, state_table = wfst.get_tables()"
      ],
      "execution_count": null,
      "outputs": []
    },
    {
      "cell_type": "code",
      "metadata": {
        "id": "We33XbQ8fYGm",
        "colab_type": "code",
        "colab": {}
      },
      "source": [
        "import cProfile\n",
        "import re\n",
        "cProfile.run('error_list, words_count_list, forward_computations_list = test_baseline(f_baseline, wfst.mode, lex, word_table, phone_table, state_table)')"
      ],
      "execution_count": null,
      "outputs": []
    },
    {
      "cell_type": "code",
      "metadata": {
        "id": "kzsJQkTJfYG5",
        "colab_type": "code",
        "colab": {}
      },
      "source": [
        "save_list(error_list, \"error_list.2.baseline\")\n",
        "save_list(words_count_list, \"words_count_list.2.baseline\")\n",
        "save_list(forward_computations_list, \"forward_computations_list.2.baseline\")"
      ],
      "execution_count": null,
      "outputs": []
    },
    {
      "cell_type": "markdown",
      "metadata": {
        "id": "56ee7ffGfYG_",
        "colab_type": "text"
      },
      "source": [
        "- Testing - baseline2\n",
        "- States number: 116\n",
        "- Arcs number: 230\n",
        "- Total errors: 1643\n",
        "- Words number: 2177\n",
        "- Total WER: 0.7547083141938448\n",
        "- The number of forward computations per wav: 109421.5"
      ]
    },
    {
      "cell_type": "markdown",
      "metadata": {
        "id": "YWFBR3SyfYHA",
        "colab_type": "text"
      },
      "source": [
        "### baseline 3 - next_weight=0.7 sl_weight=0.3"
      ]
    },
    {
      "cell_type": "code",
      "metadata": {
        "id": "zlBYpKbsfYHB",
        "colab_type": "code",
        "colab": {}
      },
      "source": [
        "wfst = MyWFST(mode='baseline3')\n",
        "f_baseline = wfst.generate()\n",
        "lex = wfst.get_lexicon()\n",
        "word_table, phone_table, state_table = wfst.get_tables()"
      ],
      "execution_count": null,
      "outputs": []
    },
    {
      "cell_type": "code",
      "metadata": {
        "id": "Rl6KBFzffYHF",
        "colab_type": "code",
        "colab": {}
      },
      "source": [
        "import cProfile\n",
        "import re\n",
        "cProfile.run('error_list, words_count_list, forward_computations_list = test_baseline(f_baseline, wfst.mode, lex, word_table, phone_table, state_table)')"
      ],
      "execution_count": null,
      "outputs": []
    },
    {
      "cell_type": "markdown",
      "metadata": {
        "id": "Wc_0NK1-fYHH",
        "colab_type": "text"
      },
      "source": [
        "- Testing - baseline3\n",
        "- States number: 116\n",
        "- Arcs number: 230\n",
        "- Total errors: 1770\n",
        "- Words number: 2177\n",
        "- Total WER: 0.8130454754248967\n",
        "- The number of forward computations per wav: 109421.5"
      ]
    },
    {
      "cell_type": "markdown",
      "metadata": {
        "id": "ZRV69V1TfYHI",
        "colab_type": "text"
      },
      "source": [
        "### baseline 4 - next_weight=0.3 sl_weight=0.7"
      ]
    },
    {
      "cell_type": "code",
      "metadata": {
        "id": "slyynNMyfYHI",
        "colab_type": "code",
        "colab": {}
      },
      "source": [
        "wfst = MyWFST(mode='baseline4')\n",
        "f_baseline = wfst.generate()\n",
        "lex = wfst.get_lexicon()\n",
        "word_table, phone_table, state_table = wfst.get_tables()"
      ],
      "execution_count": null,
      "outputs": []
    },
    {
      "cell_type": "code",
      "metadata": {
        "id": "RYa6-EXafYHL",
        "colab_type": "code",
        "colab": {}
      },
      "source": [
        "import cProfile\n",
        "import re\n",
        "cProfile.run('error_list, words_count_list, forward_computations_list = test_baseline(f_baseline, wfst.mode, lex, word_table, phone_table, state_table)')"
      ],
      "execution_count": null,
      "outputs": []
    },
    {
      "cell_type": "markdown",
      "metadata": {
        "id": "DZu4aP2NfYHO",
        "colab_type": "text"
      },
      "source": [
        "- Testing - baseline4\n",
        "- States number: 116\n",
        "- Arcs number: 230\n",
        "- Total errors: 1562\n",
        "- Words number: 2177\n",
        "- Total WER: 0.7175011483693156\n",
        "- The number of forward computations per wav: 109421.5"
      ]
    },
    {
      "cell_type": "markdown",
      "metadata": {
        "id": "IoJnIg0GfYHO",
        "colab_type": "text"
      },
      "source": [
        "### baseline 5 - next_weight=0.2 sl_weight=0.8"
      ]
    },
    {
      "cell_type": "code",
      "metadata": {
        "scrolled": true,
        "id": "wKfEiogNfYHP",
        "colab_type": "code",
        "colab": {}
      },
      "source": [
        "wfst = MyWFST(mode='baseline5')\n",
        "f_baseline = wfst.generate()\n",
        "lex = wfst.get_lexicon()\n",
        "word_table, phone_table, state_table = wfst.get_tables()"
      ],
      "execution_count": null,
      "outputs": []
    },
    {
      "cell_type": "code",
      "metadata": {
        "id": "z9CB7rmofYHR",
        "colab_type": "code",
        "colab": {}
      },
      "source": [
        "import cProfile\n",
        "import re\n",
        "cProfile.run('error_list, words_count_list, forward_computations_list = test_baseline(f_baseline, wfst.mode, lex, word_table, phone_table, state_table)')"
      ],
      "execution_count": null,
      "outputs": []
    },
    {
      "cell_type": "markdown",
      "metadata": {
        "id": "ooOTRvIgfYHT",
        "colab_type": "text"
      },
      "source": [
        "- Testing - baseline5\n",
        "- States number: 116\n",
        "- Arcs number: 230\n",
        "- Total errors: 1523\n",
        "- Words number: 2177\n",
        "- Total WER: 0.6995865870463941\n",
        "- The number of forward computations per wav: 109421.5"
      ]
    },
    {
      "cell_type": "markdown",
      "metadata": {
        "id": "uK32qofnfYHU",
        "colab_type": "text"
      },
      "source": [
        "### baseline 6 - next_weight = 0.4  sl_weight=0.6"
      ]
    },
    {
      "cell_type": "code",
      "metadata": {
        "id": "y_FzR5LffYHV",
        "colab_type": "code",
        "colab": {}
      },
      "source": [
        "wfst = MyWFST(mode='baseline6')\n",
        "f_baseline = wfst.generate()\n",
        "lex = wfst.get_lexicon()\n",
        "word_table, phone_table, state_table = wfst.get_tables()"
      ],
      "execution_count": null,
      "outputs": []
    },
    {
      "cell_type": "code",
      "metadata": {
        "id": "8cm_dx0pfYHY",
        "colab_type": "code",
        "colab": {}
      },
      "source": [
        "import cProfile\n",
        "import re\n",
        "cProfile.run('error_list, words_count_list, forward_computations_list = test_baseline(f_baseline, wfst.mode, lex, word_table, phone_table, state_table)')"
      ],
      "execution_count": null,
      "outputs": []
    },
    {
      "cell_type": "markdown",
      "metadata": {
        "id": "P17MpzumfYHb",
        "colab_type": "text"
      },
      "source": [
        "- Testing - baseline6\n",
        "- States number: 116\n",
        "- Arcs number: 230\n",
        "- Total errors: 1602\n",
        "- Words number: 2177\n",
        "- Total WER: 0.7358750574184658\n",
        "- The number of forward computations per wav: 109421.5"
      ]
    },
    {
      "cell_type": "markdown",
      "metadata": {
        "id": "UL3sBdnSfYHb",
        "colab_type": "text"
      },
      "source": [
        "## Final weight - set next_weight=0.2 sl_weight=0.8"
      ]
    },
    {
      "cell_type": "markdown",
      "metadata": {
        "id": "8w8A2RfyfYHc",
        "colab_type": "text"
      },
      "source": [
        "### baseline 7 final_weight = 0.5 back_weight = 0.5"
      ]
    },
    {
      "cell_type": "code",
      "metadata": {
        "id": "bsygmxcRfYHc",
        "colab_type": "code",
        "colab": {}
      },
      "source": [
        "wfst = MyWFST(mode='baseline7')\n",
        "f_baseline = wfst.generate()\n",
        "lex = wfst.get_lexicon()\n",
        "word_table, phone_table, state_table = wfst.get_tables()"
      ],
      "execution_count": null,
      "outputs": []
    },
    {
      "cell_type": "code",
      "metadata": {
        "id": "PBNbQQFVfYHe",
        "colab_type": "code",
        "colab": {}
      },
      "source": [
        "import cProfile\n",
        "import re\n",
        "cProfile.run('error_list, words_count_list, forward_computations_list = test_baseline(f_baseline, wfst.mode, lex, word_table, phone_table, state_table)')"
      ],
      "execution_count": null,
      "outputs": []
    },
    {
      "cell_type": "code",
      "metadata": {
        "id": "T8y0K-mqfYHl",
        "colab_type": "code",
        "colab": {}
      },
      "source": [
        "save_list(error_list, \"error_list.7.baseline\")\n",
        "save_list(words_count_list, \"words_count_list.7.baseline\")\n",
        "save_list(forward_computations_list, \"forward_computations_list.7.baseline\")"
      ],
      "execution_count": null,
      "outputs": []
    },
    {
      "cell_type": "code",
      "metadata": {
        "id": "AOLIyotIfYHo",
        "colab_type": "code",
        "colab": {}
      },
      "source": [
        "output_wfst('7.baseline', f_baseline)"
      ],
      "execution_count": null,
      "outputs": []
    },
    {
      "cell_type": "markdown",
      "metadata": {
        "id": "6nAoorK6fYHs",
        "colab_type": "text"
      },
      "source": [
        "- Testing - baseline7\n",
        "- States number: 116\n",
        "- Arcs number: 230\n",
        "- Total errors: 1514\n",
        "- Words number: 2177\n",
        "- Total WER: 0.6954524575103354\n",
        "- The number of forward computations per wav: 109421.5"
      ]
    },
    {
      "cell_type": "markdown",
      "metadata": {
        "id": "v6XXqkEGfYHt",
        "colab_type": "text"
      },
      "source": [
        "### baseline 8 final_weight=0.2 back_weight=0.8"
      ]
    },
    {
      "cell_type": "code",
      "metadata": {
        "id": "OJHOB6wLfYHu",
        "colab_type": "code",
        "colab": {}
      },
      "source": [
        "wfst = MyWFST(mode='baseline8')\n",
        "f_baseline = wfst.generate()\n",
        "lex = wfst.get_lexicon()\n",
        "word_table, phone_table, state_table = wfst.get_tables()"
      ],
      "execution_count": null,
      "outputs": []
    },
    {
      "cell_type": "code",
      "metadata": {
        "id": "yzKmBINffYHx",
        "colab_type": "code",
        "colab": {}
      },
      "source": [
        "import cProfile\n",
        "import re\n",
        "cProfile.run('error_list, words_count_list, forward_computations_list = test_baseline(f_baseline, wfst.mode, lex, word_table, phone_table, state_table)')"
      ],
      "execution_count": null,
      "outputs": []
    },
    {
      "cell_type": "code",
      "metadata": {
        "id": "9eI5FhsQfYH1",
        "colab_type": "code",
        "colab": {}
      },
      "source": [
        "save_list(error_list, \"error_list.8.baseline\")\n",
        "save_list(words_count_list, \"words_count_list.8.baseline\")\n",
        "save_list(forward_computations_list, \"forward_computations_list.8.baseline\")"
      ],
      "execution_count": null,
      "outputs": []
    },
    {
      "cell_type": "markdown",
      "metadata": {
        "id": "ffg9o4DofYH7",
        "colab_type": "text"
      },
      "source": [
        "- Testing - baseline8\n",
        "- States number: 116\n",
        "- Arcs number: 230\n",
        "- Total errors: 1523\n",
        "- Words number: 2177\n",
        "- Total WER: 0.6995865870463941\n",
        "- The number of forward computations per wav: 109421.5"
      ]
    },
    {
      "cell_type": "markdown",
      "metadata": {
        "id": "QEHuJfTqfYH8",
        "colab_type": "text"
      },
      "source": [
        "### baseline 9 final_weight=0.7 back_weight=0.3"
      ]
    },
    {
      "cell_type": "code",
      "metadata": {
        "id": "wJaBmfBIfYH9",
        "colab_type": "code",
        "colab": {}
      },
      "source": [
        "wfst = MyWFST(mode='baseline9')\n",
        "f_baseline = wfst.generate()\n",
        "lex = wfst.get_lexicon()\n",
        "word_table, phone_table, state_table = wfst.get_tables()"
      ],
      "execution_count": null,
      "outputs": []
    },
    {
      "cell_type": "code",
      "metadata": {
        "id": "pAOdznm5fYIB",
        "colab_type": "code",
        "colab": {}
      },
      "source": [
        "import cProfile\n",
        "import re\n",
        "cProfile.run('error_list, words_count_list, forward_computations_list = test_baseline(f_baseline, wfst.mode, lex, word_table, phone_table, state_table)')"
      ],
      "execution_count": null,
      "outputs": []
    },
    {
      "cell_type": "code",
      "metadata": {
        "id": "34kbBFF9fYIE",
        "colab_type": "code",
        "colab": {}
      },
      "source": [
        "save_list(error_list, \"error_list.9.baseline\")\n",
        "save_list(words_count_list, \"words_count_list.9.baseline\")\n",
        "save_list(forward_computations_list, \"forward_computations_list.9.baseline\")"
      ],
      "execution_count": null,
      "outputs": []
    },
    {
      "cell_type": "markdown",
      "metadata": {
        "id": "Yy5jgwAffYIG",
        "colab_type": "text"
      },
      "source": [
        "- Testing - baseline9\n",
        "- States number: 116\n",
        "- Arcs number: 230\n",
        "- Total errors: 1507\n",
        "- Words number: 2177\n",
        "- Total WER: 0.692237023426734\n",
        "- The number of forward computations per wav: 109421.5"
      ]
    },
    {
      "cell_type": "markdown",
      "metadata": {
        "id": "U2vbjHS0fYIH",
        "colab_type": "text"
      },
      "source": [
        "### baseline 10 final_weight=0.6 back_weight=0.4"
      ]
    },
    {
      "cell_type": "code",
      "metadata": {
        "id": "Cp47PU_mfYII",
        "colab_type": "code",
        "colab": {}
      },
      "source": [
        "wfst = MyWFST(mode='baseline10')\n",
        "f_baseline = wfst.generate()\n",
        "lex = wfst.get_lexicon()\n",
        "word_table, phone_table, state_table = wfst.get_tables()"
      ],
      "execution_count": null,
      "outputs": []
    },
    {
      "cell_type": "code",
      "metadata": {
        "id": "1noXRnplfYIL",
        "colab_type": "code",
        "colab": {}
      },
      "source": [
        "import cProfile\n",
        "import re\n",
        "cProfile.run('error_list, words_count_list, forward_computations_list = test_baseline(f_baseline, wfst.mode, lex, word_table, phone_table, state_table)')"
      ],
      "execution_count": null,
      "outputs": []
    },
    {
      "cell_type": "markdown",
      "metadata": {
        "id": "7fWP97zDfYIQ",
        "colab_type": "text"
      },
      "source": [
        "- Testing - baseline10\n",
        "- States number: 116\n",
        "- Arcs number: 230\n",
        "- Total errors: 1511\n",
        "- Words number: 2177\n",
        "- Total WER: 0.6940744143316491\n",
        "- The number of forward computations per wav: 109421.5"
      ]
    },
    {
      "cell_type": "markdown",
      "metadata": {
        "id": "Mz6UYqD6fYIR",
        "colab_type": "text"
      },
      "source": [
        "## Use unigram"
      ]
    },
    {
      "cell_type": "markdown",
      "metadata": {
        "id": "RYFiUR8QfYIT",
        "colab_type": "text"
      },
      "source": [
        "### baseline 2 - next_weight=0.5 sl_weight=0.5 Use unigram"
      ]
    },
    {
      "cell_type": "code",
      "metadata": {
        "id": "bES58WK_fYIT",
        "colab_type": "code",
        "colab": {}
      },
      "source": [
        "wfst = MyWFST(mode='baseline2', use_unigram=True)\n",
        "f_baseline = wfst.generate()\n",
        "lex = wfst.get_lexicon()\n",
        "word_table, phone_table, state_table = wfst.get_tables()"
      ],
      "execution_count": null,
      "outputs": []
    },
    {
      "cell_type": "code",
      "metadata": {
        "id": "I4SW5dpcfYIa",
        "colab_type": "code",
        "colab": {}
      },
      "source": [
        "import cProfile\n",
        "import re\n",
        "cProfile.run('error_list, words_count_list, forward_computations_list = test_baseline(f_baseline, wfst.mode, lex, word_table, phone_table, state_table)')"
      ],
      "execution_count": null,
      "outputs": []
    },
    {
      "cell_type": "code",
      "metadata": {
        "id": "axHE_S3ifYIg",
        "colab_type": "code",
        "colab": {}
      },
      "source": [
        "save_list(error_list, \"error_list.2.uni.baseline\")\n",
        "save_list(words_count_list, \"words_count_list.2.uni.baseline\")\n",
        "save_list(forward_computations_list, \"forward_computations_list.2.uni.baseline\")"
      ],
      "execution_count": null,
      "outputs": []
    },
    {
      "cell_type": "markdown",
      "metadata": {
        "id": "ZFg32iBTfYIl",
        "colab_type": "text"
      },
      "source": [
        "- Testing - baseline2\n",
        "- States number: 116\n",
        "- Arcs number: 230\n",
        "- Total errors: 1642\n",
        "- Words number: 2177\n",
        "- Total WER: 0.754248966467616\n",
        "- The number of forward computations per wav: 109421.5"
      ]
    },
    {
      "cell_type": "markdown",
      "metadata": {
        "id": "mG6dEHKmfYIl",
        "colab_type": "text"
      },
      "source": [
        "### baseline 3 - next_weight=0.7 sl_weight=0.3 - Use unigram"
      ]
    },
    {
      "cell_type": "code",
      "metadata": {
        "id": "lYJC2fEnfYIm",
        "colab_type": "code",
        "colab": {}
      },
      "source": [
        "wfst = MyWFST(mode='baseline3', use_unigram=True)\n",
        "f_baseline = wfst.generate()\n",
        "lex = wfst.get_lexicon()\n",
        "word_table, phone_table, state_table = wfst.get_tables()"
      ],
      "execution_count": null,
      "outputs": []
    },
    {
      "cell_type": "code",
      "metadata": {
        "id": "E3uz3PN3fYIp",
        "colab_type": "code",
        "colab": {}
      },
      "source": [
        "import cProfile\n",
        "import re\n",
        "cProfile.run('error_list, words_count_list, forward_computations_list = test_baseline(f_baseline, wfst.mode, lex, word_table, phone_table, state_table)')"
      ],
      "execution_count": null,
      "outputs": []
    },
    {
      "cell_type": "code",
      "metadata": {
        "id": "RexgFGRdfYIs",
        "colab_type": "code",
        "colab": {}
      },
      "source": [
        "save_list(error_list, \"error_list.3.uni.baseline\")\n",
        "save_list(words_count_list, \"words_count_list.3.uni.baseline\")\n",
        "save_list(forward_computations_list, \"forward_computations_list.3.uni.baseline\")"
      ],
      "execution_count": null,
      "outputs": []
    },
    {
      "cell_type": "markdown",
      "metadata": {
        "id": "d14-8Kb4fYIv",
        "colab_type": "text"
      },
      "source": [
        "- Testing - baseline3\n",
        "- States number: 116\n",
        "- Arcs number: 230\n",
        "- Total errors: 1762\n",
        "- Words number: 2177\n",
        "- Total WER: 0.8093706936150666\n",
        "- The number of forward computations per wav: 109421.5"
      ]
    },
    {
      "cell_type": "markdown",
      "metadata": {
        "id": "d1P7NLBofYIw",
        "colab_type": "text"
      },
      "source": [
        "### baseline 4 - next_weight=0.3 sl_weight=0.7 - Use unigram"
      ]
    },
    {
      "cell_type": "code",
      "metadata": {
        "id": "0g1sl0xifYIx",
        "colab_type": "code",
        "colab": {}
      },
      "source": [
        "wfst = MyWFST(mode='baseline4', use_unigram=True)\n",
        "f_baseline = wfst.generate()\n",
        "lex = wfst.get_lexicon()\n",
        "word_table, phone_table, state_table = wfst.get_tables()"
      ],
      "execution_count": null,
      "outputs": []
    },
    {
      "cell_type": "code",
      "metadata": {
        "id": "b5XOlvYUfYI2",
        "colab_type": "code",
        "colab": {}
      },
      "source": [
        "import cProfile\n",
        "import re\n",
        "cProfile.run('error_list, words_count_list, forward_computations_list = test_baseline(f_baseline, wfst.mode, lex, word_table, phone_table, state_table)')"
      ],
      "execution_count": null,
      "outputs": []
    },
    {
      "cell_type": "code",
      "metadata": {
        "id": "csIIQh84fYI7",
        "colab_type": "code",
        "colab": {}
      },
      "source": [
        "save_list(error_list, \"error_list.4.uni.baseline\")\n",
        "save_list(words_count_list, \"words_count_list.4.uni.baseline\")\n",
        "save_list(forward_computations_list, \"forward_computations_list.4.uni.baseline\")"
      ],
      "execution_count": null,
      "outputs": []
    },
    {
      "cell_type": "markdown",
      "metadata": {
        "id": "L2heFALafYJA",
        "colab_type": "text"
      },
      "source": [
        "- Testing - baseline4\n",
        "- States number: 116\n",
        "- Arcs number: 230\n",
        "- Total errors: 1561\n",
        "- Words number: 2177\n",
        "- Total WER: 0.7170418006430869\n",
        "- The number of forward computations per wav: 109421.5"
      ]
    },
    {
      "cell_type": "markdown",
      "metadata": {
        "id": "0bbD5JREfYJB",
        "colab_type": "text"
      },
      "source": [
        "### baseline 5 - next_weight=0.2 sl_weight=0.8 - 1 - Use unigram"
      ]
    },
    {
      "cell_type": "code",
      "metadata": {
        "id": "6OF7XJpsfYJC",
        "colab_type": "code",
        "colab": {}
      },
      "source": [
        "wfst = MyWFST(mode='baseline5', use_unigram=True)\n",
        "f_baseline = wfst.generate()\n",
        "lex = wfst.get_lexicon()\n",
        "word_table, phone_table, state_table = wfst.get_tables()"
      ],
      "execution_count": null,
      "outputs": []
    },
    {
      "cell_type": "code",
      "metadata": {
        "id": "aMkqXPeEfYJH",
        "colab_type": "code",
        "colab": {}
      },
      "source": [
        "import cProfile\n",
        "import re\n",
        "cProfile.run('error_list, words_count_list, forward_computations_list = test_baseline(f_baseline, wfst.mode, lex, word_table, phone_table, state_table)')"
      ],
      "execution_count": null,
      "outputs": []
    },
    {
      "cell_type": "code",
      "metadata": {
        "id": "148oI20yfYJM",
        "colab_type": "code",
        "colab": {}
      },
      "source": [
        "save_list(error_list, \"error_list.5.uni.baseline\")\n",
        "save_list(words_count_list, \"words_count_list.5.uni.baseline\")\n",
        "save_list(forward_computations_list, \"forward_computations_list.5.uni.baseline\")"
      ],
      "execution_count": null,
      "outputs": []
    },
    {
      "cell_type": "markdown",
      "metadata": {
        "id": "MeIOY6aMfYJR",
        "colab_type": "text"
      },
      "source": [
        "- Testing - baseline5 - Use unigram\n",
        "- States number: 116\n",
        "- Arcs number: 230\n",
        "- Total errors: 1521\n",
        "- Words number: 2177\n",
        "- Total WER: 0.6986678915939366\n",
        "- The number of forward computations per wav: 109421.5"
      ]
    },
    {
      "cell_type": "markdown",
      "metadata": {
        "id": "UVCw_vK4fYJS",
        "colab_type": "text"
      },
      "source": [
        "### baseline 6 - 0.6 0.4 - 1 - Use unigram"
      ]
    },
    {
      "cell_type": "code",
      "metadata": {
        "id": "Lkfj65kwfYJS",
        "colab_type": "code",
        "colab": {}
      },
      "source": [
        "wfst = MyWFST(mode='baseline6', use_unigram=True)\n",
        "f_baseline = wfst.generate()\n",
        "lex = wfst.get_lexicon()\n",
        "word_table, phone_table, state_table = wfst.get_tables()"
      ],
      "execution_count": null,
      "outputs": []
    },
    {
      "cell_type": "code",
      "metadata": {
        "scrolled": true,
        "id": "-q5ovaoHfYJZ",
        "colab_type": "code",
        "colab": {}
      },
      "source": [
        "import cProfile\n",
        "import re\n",
        "cProfile.run('error_list, words_count_list, forward_computations_list = test_baseline(f_baseline, wfst.mode, lex, word_table, phone_table, state_table)')"
      ],
      "execution_count": null,
      "outputs": []
    },
    {
      "cell_type": "code",
      "metadata": {
        "id": "LCQHy-okfYJd",
        "colab_type": "code",
        "colab": {}
      },
      "source": [
        "save_list(error_list, \"error_list.6.uni.baseline\")\n",
        "save_list(words_count_list, \"words_count_list.6.uni.baseline\")\n",
        "save_list(forward_computations_list, \"forward_computations_list.6.uni.baseline\")"
      ],
      "execution_count": null,
      "outputs": []
    },
    {
      "cell_type": "markdown",
      "metadata": {
        "id": "aLwsNwgEfYJg",
        "colab_type": "text"
      },
      "source": [
        "- Testing - baseline6\n",
        "- States number: 116\n",
        "- Arcs number: 230\n",
        "- Total errors: 1602\n",
        "- Words number: 2177\n",
        "- Total WER: 0.7358750574184658\n",
        "- The number of forward computations per wav: 109421.5"
      ]
    },
    {
      "cell_type": "markdown",
      "metadata": {
        "id": "bJZMLXkifYJh",
        "colab_type": "text"
      },
      "source": [
        "### baseline 9 next_weight=0.2 sl_weight=0.8 final_weight=0.7 back_weight=0.3 Use unigram"
      ]
    },
    {
      "cell_type": "code",
      "metadata": {
        "id": "DOiBo5DvfYJi",
        "colab_type": "code",
        "colab": {}
      },
      "source": [
        "wfst = MyWFST(mode='baseline9', use_unigram=True)\n",
        "f_baseline = wfst.generate()\n",
        "lex = wfst.get_lexicon()\n",
        "word_table, phone_table, state_table = wfst.get_tables()"
      ],
      "execution_count": null,
      "outputs": []
    },
    {
      "cell_type": "code",
      "metadata": {
        "id": "bNTG0diGfYJm",
        "colab_type": "code",
        "colab": {}
      },
      "source": [
        "import cProfile\n",
        "import re\n",
        "cProfile.run('error_list, words_count_list, forward_computations_list = test_baseline(f_baseline, wfst.mode, lex, word_table, phone_table, state_table)')"
      ],
      "execution_count": null,
      "outputs": []
    },
    {
      "cell_type": "code",
      "metadata": {
        "id": "1jOs-VL6fYJo",
        "colab_type": "code",
        "colab": {}
      },
      "source": [
        "save_list(error_list, \"error_list.9.uni.baseline\")\n",
        "save_list(words_count_list, \"words_count_list.9.uni.baseline\")\n",
        "save_list(forward_computations_list, \"forward_computations_list.9.uni.baseline\")"
      ],
      "execution_count": null,
      "outputs": []
    },
    {
      "cell_type": "markdown",
      "metadata": {
        "id": "bTM_uoUNfYJr",
        "colab_type": "text"
      },
      "source": [
        "- Testing - baseline9 - Use unigram\n",
        "- States number: 116\n",
        "- Arcs number: 230\n",
        "- Total errors: 1505\n",
        "- Words number: 2177\n",
        "- Total WER: 0.6913183279742765\n",
        "- The number of forward computations per wav: 109421.5"
      ]
    },
    {
      "cell_type": "markdown",
      "metadata": {
        "id": "oqoW8yztfYJs",
        "colab_type": "text"
      },
      "source": [
        "### baseline 8 next_weight=0.2 sl_weight=0.8 final_weight=0.2 back_weight=0.8 Use unigram"
      ]
    },
    {
      "cell_type": "code",
      "metadata": {
        "id": "Pe3aRn4efYJs",
        "colab_type": "code",
        "colab": {}
      },
      "source": [
        "wfst = MyWFST(mode='baseline8', use_unigram=True)\n",
        "f_baseline = wfst.generate()\n",
        "lex = wfst.get_lexicon()\n",
        "word_table, phone_table, state_table = wfst.get_tables()"
      ],
      "execution_count": null,
      "outputs": []
    },
    {
      "cell_type": "code",
      "metadata": {
        "scrolled": true,
        "id": "4DvWxyzFfYJz",
        "colab_type": "code",
        "colab": {}
      },
      "source": [
        "import cProfile\n",
        "import re\n",
        "cProfile.run('error_list, words_count_list, forward_computations_list = test_baseline(f_baseline, wfst.mode, lex, word_table, phone_table, state_table)')"
      ],
      "execution_count": null,
      "outputs": []
    },
    {
      "cell_type": "code",
      "metadata": {
        "id": "6pg5Xv2hfYJ3",
        "colab_type": "code",
        "colab": {}
      },
      "source": [
        "save_list(error_list, \"error_list.8.uni.baseline\")\n",
        "save_list(words_count_list, \"words_count_list.8.uni.baseline\")\n",
        "save_list(forward_computations_list, \"forward_computations_list.8.uni.baseline\")"
      ],
      "execution_count": null,
      "outputs": []
    },
    {
      "cell_type": "markdown",
      "metadata": {
        "id": "yd-nBdHAfYJ_",
        "colab_type": "text"
      },
      "source": [
        "- Testing - baseline8 - Use unigram\n",
        "- States number: 116\n",
        "- Arcs number: 230\n",
        "- Total errors: 1492\n",
        "- Words number: 2177\n",
        "- Total WER: 0.6853468075333027\n",
        "- The number of forward computations per wav: 109421.5"
      ]
    },
    {
      "cell_type": "markdown",
      "metadata": {
        "id": "4HI9S7Q-fYJ_",
        "colab_type": "text"
      },
      "source": [
        "### baseline 7 next_weight=0.2 sl_weight=0.8 final_weight=0.5 back_weight=0.5 Use unigram"
      ]
    },
    {
      "cell_type": "code",
      "metadata": {
        "scrolled": true,
        "id": "8SdHY_8WfYJ_",
        "colab_type": "code",
        "colab": {}
      },
      "source": [
        "wfst = MyWFST(mode='baseline7', use_unigram=True)\n",
        "f_baseline = wfst.generate()\n",
        "lex = wfst.get_lexicon()\n",
        "word_table, phone_table, state_table = wfst.get_tables()"
      ],
      "execution_count": null,
      "outputs": []
    },
    {
      "cell_type": "code",
      "metadata": {
        "id": "ztMwr9pgfYKC",
        "colab_type": "code",
        "colab": {}
      },
      "source": [
        "import cProfile\n",
        "import re\n",
        "cProfile.run('error_list, words_count_list, forward_computations_list = test_baseline(f_baseline, wfst.mode, lex, word_table, phone_table, state_table)')"
      ],
      "execution_count": null,
      "outputs": []
    },
    {
      "cell_type": "code",
      "metadata": {
        "id": "Ko7kC77mfYKE",
        "colab_type": "code",
        "colab": {}
      },
      "source": [
        "save_list(error_list, \"error_list.7.uni.baseline\")\n",
        "save_list(words_count_list, \"words_count_list.7.uni.baseline\")\n",
        "save_list(forward_computations_list, \"forward_computations_list.7.uni.baseline\")"
      ],
      "execution_count": null,
      "outputs": []
    },
    {
      "cell_type": "markdown",
      "metadata": {
        "id": "gf3BVNY8fYKF",
        "colab_type": "text"
      },
      "source": [
        "- Testing - baseline7 - Use unigram\n",
        "- States number: 116\n",
        "- Arcs number: 230\n",
        "- Total errors: 1508\n",
        "- Words number: 2177\n",
        "- Total WER: 0.6926963711529628\n",
        "- The number of forward computations per wav: 109421.5"
      ]
    },
    {
      "cell_type": "markdown",
      "metadata": {
        "id": "dQFgB8A8fYKG",
        "colab_type": "text"
      },
      "source": [
        "## Add silence"
      ]
    },
    {
      "cell_type": "code",
      "metadata": {
        "id": "6xiBL5d0fYKG",
        "colab_type": "code",
        "colab": {},
        "outputId": "0b1fc5d0-23c4-48ff-b4c8-d04dd5a565e0"
      },
      "source": [
        "wfst = MyWFST(mode='baseline', add_silence=True, add_silence_v=3)\n",
        "wfst.generate()"
      ],
      "execution_count": null,
      "outputs": [
        {
          "output_type": "stream",
          "text": [
            "Init ...\n",
            "Creating word/phone/state tables ...\n",
            "Init weights for WFST ...\n",
            "Generating ...\n"
          ],
          "name": "stdout"
        },
        {
          "output_type": "execute_result",
          "data": {
            "image/svg+xml": "<?xml version=\"1.0\" encoding=\"UTF-8\" standalone=\"no\"?>\n<!DOCTYPE svg PUBLIC \"-//W3C//DTD SVG 1.1//EN\"\n \"http://www.w3.org/Graphics/SVG/1.1/DTD/svg11.dtd\">\n<!-- Generated by graphviz version 2.30.1 (20180413.0232)\n -->\n<!-- Title: FST Pages: 1 -->\n<svg width=\"612pt\" height=\"270pt\"\n viewBox=\"0.00 0.00 612.00 269.85\" xmlns=\"http://www.w3.org/2000/svg\" xmlns:xlink=\"http://www.w3.org/1999/xlink\">\n<g id=\"graph0\" class=\"graph\" transform=\"scale(0.158549 0.158549) rotate(0) translate(4 1698)\">\n<title>FST</title>\n<polygon fill=\"white\" stroke=\"white\" points=\"-4,5 -4,-1698 3857,-1698 3857,5 -4,5\"/>\n<!-- 0 -->\n<g id=\"node1\" class=\"node\"><title>0</title>\n<ellipse fill=\"none\" stroke=\"black\" stroke-width=\"2\" cx=\"18\" cy=\"-854\" rx=\"18\" ry=\"18\"/>\n<text text-anchor=\"middle\" x=\"18\" y=\"-850.3\" font-family=\"Times,serif\" font-size=\"14.00\">0</text>\n</g>\n<!-- 1 -->\n<g id=\"node2\" class=\"node\"><title>1</title>\n<ellipse fill=\"none\" stroke=\"black\" cx=\"164\" cy=\"-1170\" rx=\"18\" ry=\"18\"/>\n<text text-anchor=\"middle\" x=\"164\" y=\"-1166.3\" font-family=\"Times,serif\" font-size=\"14.00\">1</text>\n</g>\n<!-- 0&#45;&gt;1 -->\n<g id=\"edge1\" class=\"edge\"><title>0&#45;&gt;1</title>\n<path fill=\"none\" stroke=\"black\" d=\"M18.5555,-872.176C17.5641,-928.023 17.4934,-1095.78 51,-1136 71.5978,-1160.73 109.576,-1167.87 135.546,-1169.73\"/>\n<polygon fill=\"black\" stroke=\"black\" points=\"135.695,-1173.24 145.855,-1170.23 136.039,-1166.25 135.695,-1173.24\"/>\n<text text-anchor=\"middle\" x=\"88\" y=\"-1171.8\" font-family=\"Times,serif\" font-size=\"14.00\">&lt;eps&gt;:&lt;eps&gt;</text>\n</g>\n<!-- 11 -->\n<g id=\"node3\" class=\"node\"><title>11</title>\n<ellipse fill=\"none\" stroke=\"black\" cx=\"164\" cy=\"-1337\" rx=\"19.4965\" ry=\"19.4965\"/>\n<text text-anchor=\"middle\" x=\"164\" y=\"-1333.3\" font-family=\"Times,serif\" font-size=\"14.00\">11</text>\n</g>\n<!-- 0&#45;&gt;11 -->\n<g id=\"edge2\" class=\"edge\"><title>0&#45;&gt;11</title>\n<path fill=\"none\" stroke=\"black\" d=\"M19.0878,-872C19.6341,-951.638 23.5325,-1269.87 51,-1304 70.8823,-1328.71 108.291,-1335.54 134.38,-1337.12\"/>\n<polygon fill=\"black\" stroke=\"black\" points=\"134.317,-1340.62 144.444,-1337.51 134.585,-1333.62 134.317,-1340.62\"/>\n<text text-anchor=\"middle\" x=\"88\" y=\"-1339.8\" font-family=\"Times,serif\" font-size=\"14.00\">&lt;eps&gt;:&lt;eps&gt;</text>\n</g>\n<!-- 24 -->\n<g id=\"node4\" class=\"node\"><title>24</title>\n<ellipse fill=\"none\" stroke=\"black\" cx=\"164\" cy=\"-996\" rx=\"19.4965\" ry=\"19.4965\"/>\n<text text-anchor=\"middle\" x=\"164\" y=\"-992.3\" font-family=\"Times,serif\" font-size=\"14.00\">24</text>\n</g>\n<!-- 0&#45;&gt;24 -->\n<g id=\"edge3\" class=\"edge\"><title>0&#45;&gt;24</title>\n<path fill=\"none\" stroke=\"black\" d=\"M19.2346,-872.086C20.5422,-896.133 26.4675,-938.443 51,-963 73.0631,-985.085 109.112,-992.541 134.336,-994.976\"/>\n<polygon fill=\"black\" stroke=\"black\" points=\"134.174,-998.474 144.411,-995.741 134.704,-991.494 134.174,-998.474\"/>\n<text text-anchor=\"middle\" x=\"88\" y=\"-997.8\" font-family=\"Times,serif\" font-size=\"14.00\">&lt;eps&gt;:&lt;eps&gt;</text>\n</g>\n<!-- 40 -->\n<g id=\"node5\" class=\"node\"><title>40</title>\n<ellipse fill=\"none\" stroke=\"black\" cx=\"164\" cy=\"-1637\" rx=\"19.4965\" ry=\"19.4965\"/>\n<text text-anchor=\"middle\" x=\"164\" y=\"-1633.3\" font-family=\"Times,serif\" font-size=\"14.00\">40</text>\n</g>\n<!-- 0&#45;&gt;40 -->\n<g id=\"edge4\" class=\"edge\"><title>0&#45;&gt;40</title>\n<path fill=\"none\" stroke=\"black\" d=\"M19.1811,-872.114C20.3705,-983.725 27.7496,-1574.25 51,-1604 70.5301,-1628.99 108.018,-1635.76 134.221,-1637.25\"/>\n<polygon fill=\"black\" stroke=\"black\" points=\"134.218,-1640.75 144.332,-1637.59 134.459,-1633.75 134.218,-1640.75\"/>\n<text text-anchor=\"middle\" x=\"88\" y=\"-1639.8\" font-family=\"Times,serif\" font-size=\"14.00\">&lt;eps&gt;:&lt;eps&gt;</text>\n</g>\n<!-- 62 -->\n<g id=\"node6\" class=\"node\"><title>62</title>\n<ellipse fill=\"none\" stroke=\"black\" cx=\"164\" cy=\"-1464\" rx=\"19.4965\" ry=\"19.4965\"/>\n<text text-anchor=\"middle\" x=\"164\" y=\"-1460.3\" font-family=\"Times,serif\" font-size=\"14.00\">62</text>\n</g>\n<!-- 0&#45;&gt;62 -->\n<g id=\"edge5\" class=\"edge\"><title>0&#45;&gt;62</title>\n<path fill=\"none\" stroke=\"black\" d=\"M18.7843,-872.198C17.8404,-965.362 15.5732,-1386.27 51,-1431 70.6891,-1455.86 108.141,-1462.66 134.293,-1464.19\"/>\n<polygon fill=\"black\" stroke=\"black\" points=\"134.262,-1467.69 144.383,-1464.55 134.516,-1460.69 134.262,-1467.69\"/>\n<text text-anchor=\"middle\" x=\"88\" y=\"-1466.8\" font-family=\"Times,serif\" font-size=\"14.00\">&lt;eps&gt;:&lt;eps&gt;</text>\n</g>\n<!-- 81 -->\n<g id=\"node7\" class=\"node\"><title>81</title>\n<ellipse fill=\"none\" stroke=\"black\" cx=\"164\" cy=\"-655\" rx=\"19.4965\" ry=\"19.4965\"/>\n<text text-anchor=\"middle\" x=\"164\" y=\"-651.3\" font-family=\"Times,serif\" font-size=\"14.00\">81</text>\n</g>\n<!-- 0&#45;&gt;81 -->\n<g id=\"edge6\" class=\"edge\"><title>0&#45;&gt;81</title>\n<path fill=\"none\" stroke=\"black\" d=\"M20.9897,-836.179C24.2126,-813.571 32.2262,-774.144 51,-746 73.5355,-712.216 112.436,-684.731 137.942,-669.113\"/>\n<polygon fill=\"black\" stroke=\"black\" points=\"139.88,-672.033 146.678,-663.907 136.296,-666.02 139.88,-672.033\"/>\n<text text-anchor=\"middle\" x=\"88\" y=\"-749.8\" font-family=\"Times,serif\" font-size=\"14.00\">&lt;eps&gt;:&lt;eps&gt;</text>\n</g>\n<!-- 100 -->\n<g id=\"node8\" class=\"node\"><title>100</title>\n<ellipse fill=\"none\" stroke=\"black\" cx=\"164\" cy=\"-750\" rx=\"24.0958\" ry=\"24.0958\"/>\n<text text-anchor=\"middle\" x=\"164\" y=\"-746.3\" font-family=\"Times,serif\" font-size=\"14.00\">100</text>\n</g>\n<!-- 0&#45;&gt;100 -->\n<g id=\"edge7\" class=\"edge\"><title>0&#45;&gt;100</title>\n<path fill=\"none\" stroke=\"black\" d=\"M26.7708,-838.189C32.3956,-827.998 40.7887,-815.014 51,-806 74.5298,-785.228 107.142,-770.075 131.108,-760.809\"/>\n<polygon fill=\"black\" stroke=\"black\" points=\"132.65,-763.969 140.799,-757.199 130.206,-757.41 132.65,-763.969\"/>\n<text text-anchor=\"middle\" x=\"88\" y=\"-809.8\" font-family=\"Times,serif\" font-size=\"14.00\">&lt;eps&gt;:&lt;eps&gt;</text>\n</g>\n<!-- 125 -->\n<g id=\"node9\" class=\"node\"><title>125</title>\n<ellipse fill=\"none\" stroke=\"black\" cx=\"164\" cy=\"-447\" rx=\"24.0958\" ry=\"24.0958\"/>\n<text text-anchor=\"middle\" x=\"164\" y=\"-443.3\" font-family=\"Times,serif\" font-size=\"14.00\">125</text>\n</g>\n<!-- 0&#45;&gt;125 -->\n<g id=\"edge8\" class=\"edge\"><title>0&#45;&gt;125</title>\n<path fill=\"none\" stroke=\"black\" d=\"M19.6284,-835.857C22.1212,-767.869 32.1103,-530.668 51,-503 69.2879,-476.213 104.3,-461.628 130.332,-454.121\"/>\n<polygon fill=\"black\" stroke=\"black\" points=\"131.406,-457.457 140.164,-451.494 129.599,-450.694 131.406,-457.457\"/>\n<text text-anchor=\"middle\" x=\"88\" y=\"-506.8\" font-family=\"Times,serif\" font-size=\"14.00\">&lt;eps&gt;:&lt;eps&gt;</text>\n</g>\n<!-- 144 -->\n<g id=\"node10\" class=\"node\"><title>144</title>\n<ellipse fill=\"none\" stroke=\"black\" cx=\"164\" cy=\"-348\" rx=\"24.0958\" ry=\"24.0958\"/>\n<text text-anchor=\"middle\" x=\"164\" y=\"-344.3\" font-family=\"Times,serif\" font-size=\"14.00\">144</text>\n</g>\n<!-- 0&#45;&gt;144 -->\n<g id=\"edge9\" class=\"edge\"><title>0&#45;&gt;144</title>\n<path fill=\"none\" stroke=\"black\" d=\"M19.5357,-836.026C21.8943,-760.692 32.0861,-472.635 51,-437 69.0192,-403.051 106.181,-377.624 132.757,-362.821\"/>\n<polygon fill=\"black\" stroke=\"black\" points=\"134.516,-365.849 141.667,-358.032 131.202,-359.683 134.516,-365.849\"/>\n<text text-anchor=\"middle\" x=\"88\" y=\"-440.8\" font-family=\"Times,serif\" font-size=\"14.00\">&lt;eps&gt;:&lt;eps&gt;</text>\n</g>\n<!-- 157 -->\n<g id=\"node11\" class=\"node\"><title>157</title>\n<ellipse fill=\"none\" stroke=\"black\" cx=\"164\" cy=\"-97\" rx=\"24.0958\" ry=\"24.0958\"/>\n<text text-anchor=\"middle\" x=\"164\" y=\"-93.3\" font-family=\"Times,serif\" font-size=\"14.00\">157</text>\n</g>\n<!-- 0&#45;&gt;157 -->\n<g id=\"edge10\" class=\"edge\"><title>0&#45;&gt;157</title>\n<path fill=\"none\" stroke=\"black\" d=\"M19.3136,-835.746C21.2234,-728.348 31.849,-182.463 51,-153 68.6766,-125.806 103.79,-111.288 130.013,-103.908\"/>\n<polygon fill=\"black\" stroke=\"black\" points=\"131.125,-107.236 139.924,-101.334 129.365,-100.461 131.125,-107.236\"/>\n<text text-anchor=\"middle\" x=\"88\" y=\"-156.8\" font-family=\"Times,serif\" font-size=\"14.00\">&lt;eps&gt;:&lt;eps&gt;</text>\n</g>\n<!-- 1&#45;&gt;1 -->\n<g id=\"edge11\" class=\"edge\"><title>1&#45;&gt;1</title>\n<path fill=\"none\" stroke=\"black\" d=\"M152.244,-1184.04C147.847,-1194.91 151.766,-1206 164,-1206 172.411,-1206 176.892,-1200.76 177.442,-1193.95\"/>\n<polygon fill=\"black\" stroke=\"black\" points=\"180.884,-1193.31 175.756,-1184.04 173.983,-1194.49 180.884,-1193.31\"/>\n<text text-anchor=\"middle\" x=\"164\" y=\"-1209.8\" font-family=\"Times,serif\" font-size=\"14.00\">ey_1:&lt;eps&gt;</text>\n</g>\n<!-- 2 -->\n<g id=\"node12\" class=\"node\"><title>2</title>\n<ellipse fill=\"none\" stroke=\"black\" cx=\"321\" cy=\"-1173\" rx=\"18\" ry=\"18\"/>\n<text text-anchor=\"middle\" x=\"321\" y=\"-1169.3\" font-family=\"Times,serif\" font-size=\"14.00\">2</text>\n</g>\n<!-- 1&#45;&gt;2 -->\n<g id=\"edge12\" class=\"edge\"><title>1&#45;&gt;2</title>\n<path fill=\"none\" stroke=\"black\" d=\"M182.18,-1170.33C208.832,-1170.85 260.391,-1171.85 292.335,-1172.46\"/>\n<polygon fill=\"black\" stroke=\"black\" points=\"292.677,-1175.97 302.743,-1172.67 292.813,-1168.97 292.677,-1175.97\"/>\n<text text-anchor=\"middle\" x=\"236\" y=\"-1174.8\" font-family=\"Times,serif\" font-size=\"14.00\">ey_1:&lt;eps&gt;</text>\n</g>\n<!-- 11&#45;&gt;11 -->\n<g id=\"edge30\" class=\"edge\"><title>11&#45;&gt;11</title>\n<path fill=\"none\" stroke=\"black\" d=\"M151.953,-1352.2C148.031,-1363.12 152.047,-1374 164,-1374 172.031,-1374 176.479,-1369.09 177.344,-1362.56\"/>\n<polygon fill=\"black\" stroke=\"black\" points=\"180.763,-1361.69 176.047,-1352.2 173.817,-1362.56 180.763,-1361.69\"/>\n<text text-anchor=\"middle\" x=\"164\" y=\"-1377.8\" font-family=\"Times,serif\" font-size=\"14.00\">ah_1:&lt;eps&gt;</text>\n</g>\n<!-- 12 -->\n<g id=\"node21\" class=\"node\"><title>12</title>\n<ellipse fill=\"none\" stroke=\"black\" cx=\"321\" cy=\"-1337\" rx=\"19.4965\" ry=\"19.4965\"/>\n<text text-anchor=\"middle\" x=\"321\" y=\"-1333.3\" font-family=\"Times,serif\" font-size=\"14.00\">12</text>\n</g>\n<!-- 11&#45;&gt;12 -->\n<g id=\"edge31\" class=\"edge\"><title>11&#45;&gt;12</title>\n<path fill=\"none\" stroke=\"black\" d=\"M183.697,-1337C210.346,-1337 259.5,-1337 290.926,-1337\"/>\n<polygon fill=\"black\" stroke=\"black\" points=\"291.237,-1340.5 301.237,-1337 291.237,-1333.5 291.237,-1340.5\"/>\n<text text-anchor=\"middle\" x=\"236\" y=\"-1340.8\" font-family=\"Times,serif\" font-size=\"14.00\">ah_1:&lt;eps&gt;</text>\n</g>\n<!-- 24&#45;&gt;24 -->\n<g id=\"edge55\" class=\"edge\"><title>24&#45;&gt;24</title>\n<path fill=\"none\" stroke=\"black\" d=\"M151.953,-1011.2C148.031,-1022.12 152.047,-1033 164,-1033 172.031,-1033 176.479,-1028.09 177.344,-1021.56\"/>\n<polygon fill=\"black\" stroke=\"black\" points=\"180.763,-1020.69 176.047,-1011.2 173.817,-1021.56 180.763,-1020.69\"/>\n<text text-anchor=\"middle\" x=\"164\" y=\"-1036.8\" font-family=\"Times,serif\" font-size=\"14.00\">p_1:&lt;eps&gt;</text>\n</g>\n<!-- 25 -->\n<g id=\"node33\" class=\"node\"><title>25</title>\n<ellipse fill=\"none\" stroke=\"black\" cx=\"321\" cy=\"-996\" rx=\"19.4965\" ry=\"19.4965\"/>\n<text text-anchor=\"middle\" x=\"321\" y=\"-992.3\" font-family=\"Times,serif\" font-size=\"14.00\">25</text>\n</g>\n<!-- 24&#45;&gt;25 -->\n<g id=\"edge56\" class=\"edge\"><title>24&#45;&gt;25</title>\n<path fill=\"none\" stroke=\"black\" d=\"M183.697,-996C210.346,-996 259.5,-996 290.926,-996\"/>\n<polygon fill=\"black\" stroke=\"black\" points=\"291.237,-999.5 301.237,-996 291.237,-992.5 291.237,-999.5\"/>\n<text text-anchor=\"middle\" x=\"236\" y=\"-999.8\" font-family=\"Times,serif\" font-size=\"14.00\">p_1:&lt;eps&gt;</text>\n</g>\n<!-- 40&#45;&gt;40 -->\n<g id=\"edge86\" class=\"edge\"><title>40&#45;&gt;40</title>\n<path fill=\"none\" stroke=\"black\" d=\"M151.953,-1652.2C148.031,-1663.12 152.047,-1674 164,-1674 172.031,-1674 176.479,-1669.09 177.344,-1662.56\"/>\n<polygon fill=\"black\" stroke=\"black\" points=\"180.763,-1661.69 176.047,-1652.2 173.817,-1662.56 180.763,-1661.69\"/>\n<text text-anchor=\"middle\" x=\"164\" y=\"-1677.8\" font-family=\"Times,serif\" font-size=\"14.00\">p_1:&lt;eps&gt;</text>\n</g>\n<!-- 41 -->\n<g id=\"node48\" class=\"node\"><title>41</title>\n<ellipse fill=\"none\" stroke=\"black\" cx=\"321\" cy=\"-1637\" rx=\"19.4965\" ry=\"19.4965\"/>\n<text text-anchor=\"middle\" x=\"321\" y=\"-1633.3\" font-family=\"Times,serif\" font-size=\"14.00\">41</text>\n</g>\n<!-- 40&#45;&gt;41 -->\n<g id=\"edge87\" class=\"edge\"><title>40&#45;&gt;41</title>\n<path fill=\"none\" stroke=\"black\" d=\"M183.697,-1637C210.346,-1637 259.5,-1637 290.926,-1637\"/>\n<polygon fill=\"black\" stroke=\"black\" points=\"291.237,-1640.5 301.237,-1637 291.237,-1633.5 291.237,-1640.5\"/>\n<text text-anchor=\"middle\" x=\"236\" y=\"-1640.8\" font-family=\"Times,serif\" font-size=\"14.00\">p_1:&lt;eps&gt;</text>\n</g>\n<!-- 62&#45;&gt;62 -->\n<g id=\"edge129\" class=\"edge\"><title>62&#45;&gt;62</title>\n<path fill=\"none\" stroke=\"black\" d=\"M151.953,-1479.2C148.031,-1490.12 152.047,-1501 164,-1501 172.031,-1501 176.479,-1496.09 177.344,-1489.56\"/>\n<polygon fill=\"black\" stroke=\"black\" points=\"180.763,-1488.69 176.047,-1479.2 173.817,-1489.56 180.763,-1488.69\"/>\n<text text-anchor=\"middle\" x=\"164\" y=\"-1504.8\" font-family=\"Times,serif\" font-size=\"14.00\">p_1:&lt;eps&gt;</text>\n</g>\n<!-- 63 -->\n<g id=\"node69\" class=\"node\"><title>63</title>\n<ellipse fill=\"none\" stroke=\"black\" cx=\"321\" cy=\"-1464\" rx=\"19.4965\" ry=\"19.4965\"/>\n<text text-anchor=\"middle\" x=\"321\" y=\"-1460.3\" font-family=\"Times,serif\" font-size=\"14.00\">63</text>\n</g>\n<!-- 62&#45;&gt;63 -->\n<g id=\"edge130\" class=\"edge\"><title>62&#45;&gt;63</title>\n<path fill=\"none\" stroke=\"black\" d=\"M183.697,-1464C210.346,-1464 259.5,-1464 290.926,-1464\"/>\n<polygon fill=\"black\" stroke=\"black\" points=\"291.237,-1467.5 301.237,-1464 291.237,-1460.5 291.237,-1467.5\"/>\n<text text-anchor=\"middle\" x=\"236\" y=\"-1467.8\" font-family=\"Times,serif\" font-size=\"14.00\">p_1:&lt;eps&gt;</text>\n</g>\n<!-- 81&#45;&gt;81 -->\n<g id=\"edge166\" class=\"edge\"><title>81&#45;&gt;81</title>\n<path fill=\"none\" stroke=\"black\" d=\"M151.953,-670.203C148.031,-681.123 152.047,-692 164,-692 172.031,-692 176.479,-687.09 177.344,-680.555\"/>\n<polygon fill=\"black\" stroke=\"black\" points=\"180.763,-679.69 176.047,-670.203 173.817,-680.56 180.763,-679.69\"/>\n<text text-anchor=\"middle\" x=\"164\" y=\"-695.8\" font-family=\"Times,serif\" font-size=\"14.00\">p_1:&lt;eps&gt;</text>\n</g>\n<!-- 82 -->\n<g id=\"node87\" class=\"node\"><title>82</title>\n<ellipse fill=\"none\" stroke=\"black\" cx=\"321\" cy=\"-655\" rx=\"19.4965\" ry=\"19.4965\"/>\n<text text-anchor=\"middle\" x=\"321\" y=\"-651.3\" font-family=\"Times,serif\" font-size=\"14.00\">82</text>\n</g>\n<!-- 81&#45;&gt;82 -->\n<g id=\"edge167\" class=\"edge\"><title>81&#45;&gt;82</title>\n<path fill=\"none\" stroke=\"black\" d=\"M183.697,-655C210.346,-655 259.5,-655 290.926,-655\"/>\n<polygon fill=\"black\" stroke=\"black\" points=\"291.237,-658.5 301.237,-655 291.237,-651.5 291.237,-658.5\"/>\n<text text-anchor=\"middle\" x=\"236\" y=\"-658.8\" font-family=\"Times,serif\" font-size=\"14.00\">p_1:&lt;eps&gt;</text>\n</g>\n<!-- 100&#45;&gt;100 -->\n<g id=\"edge203\" class=\"edge\"><title>100&#45;&gt;100</title>\n<path fill=\"none\" stroke=\"black\" d=\"M151.146,-770.312C148.747,-781.603 153.031,-792 164,-792 171.541,-792 175.923,-787.086 177.145,-780.345\"/>\n<polygon fill=\"black\" stroke=\"black\" points=\"180.643,-780.206 176.854,-770.312 173.646,-780.409 180.643,-780.206\"/>\n<text text-anchor=\"middle\" x=\"164\" y=\"-795.8\" font-family=\"Times,serif\" font-size=\"14.00\">p_1:&lt;eps&gt;</text>\n</g>\n<!-- 101 -->\n<g id=\"node105\" class=\"node\"><title>101</title>\n<ellipse fill=\"none\" stroke=\"black\" cx=\"321\" cy=\"-750\" rx=\"24.0958\" ry=\"24.0958\"/>\n<text text-anchor=\"middle\" x=\"321\" y=\"-746.3\" font-family=\"Times,serif\" font-size=\"14.00\">101</text>\n</g>\n<!-- 100&#45;&gt;101 -->\n<g id=\"edge204\" class=\"edge\"><title>100&#45;&gt;101</title>\n<path fill=\"none\" stroke=\"black\" d=\"M188.205,-750C214.305,-750 256.915,-750 286.595,-750\"/>\n<polygon fill=\"black\" stroke=\"black\" points=\"286.89,-753.5 296.89,-750 286.89,-746.5 286.89,-753.5\"/>\n<text text-anchor=\"middle\" x=\"236\" y=\"-753.8\" font-family=\"Times,serif\" font-size=\"14.00\">p_1:&lt;eps&gt;</text>\n</g>\n<!-- 125&#45;&gt;125 -->\n<g id=\"edge252\" class=\"edge\"><title>125&#45;&gt;125</title>\n<path fill=\"none\" stroke=\"black\" d=\"M151.146,-467.312C148.747,-478.603 153.031,-489 164,-489 171.541,-489 175.923,-484.086 177.145,-477.345\"/>\n<polygon fill=\"black\" stroke=\"black\" points=\"180.643,-477.206 176.854,-467.312 173.646,-477.409 180.643,-477.206\"/>\n<text text-anchor=\"middle\" x=\"164\" y=\"-492.8\" font-family=\"Times,serif\" font-size=\"14.00\">p_1:&lt;eps&gt;</text>\n</g>\n<!-- 126 -->\n<g id=\"node129\" class=\"node\"><title>126</title>\n<ellipse fill=\"none\" stroke=\"black\" cx=\"321\" cy=\"-447\" rx=\"24.0958\" ry=\"24.0958\"/>\n<text text-anchor=\"middle\" x=\"321\" y=\"-443.3\" font-family=\"Times,serif\" font-size=\"14.00\">126</text>\n</g>\n<!-- 125&#45;&gt;126 -->\n<g id=\"edge253\" class=\"edge\"><title>125&#45;&gt;126</title>\n<path fill=\"none\" stroke=\"black\" d=\"M188.205,-447C214.305,-447 256.915,-447 286.595,-447\"/>\n<polygon fill=\"black\" stroke=\"black\" points=\"286.89,-450.5 296.89,-447 286.89,-443.5 286.89,-450.5\"/>\n<text text-anchor=\"middle\" x=\"236\" y=\"-450.8\" font-family=\"Times,serif\" font-size=\"14.00\">p_1:&lt;eps&gt;</text>\n</g>\n<!-- 144&#45;&gt;144 -->\n<g id=\"edge289\" class=\"edge\"><title>144&#45;&gt;144</title>\n<path fill=\"none\" stroke=\"black\" d=\"M151.146,-368.312C148.747,-379.603 153.031,-390 164,-390 171.541,-390 175.923,-385.086 177.145,-378.345\"/>\n<polygon fill=\"black\" stroke=\"black\" points=\"180.643,-378.206 176.854,-368.312 173.646,-378.409 180.643,-378.206\"/>\n<text text-anchor=\"middle\" x=\"164\" y=\"-393.8\" font-family=\"Times,serif\" font-size=\"14.00\">dh_1:&lt;eps&gt;</text>\n</g>\n<!-- 145 -->\n<g id=\"node147\" class=\"node\"><title>145</title>\n<ellipse fill=\"none\" stroke=\"black\" cx=\"321\" cy=\"-348\" rx=\"24.0958\" ry=\"24.0958\"/>\n<text text-anchor=\"middle\" x=\"321\" y=\"-344.3\" font-family=\"Times,serif\" font-size=\"14.00\">145</text>\n</g>\n<!-- 144&#45;&gt;145 -->\n<g id=\"edge290\" class=\"edge\"><title>144&#45;&gt;145</title>\n<path fill=\"none\" stroke=\"black\" d=\"M188.205,-348C214.305,-348 256.915,-348 286.595,-348\"/>\n<polygon fill=\"black\" stroke=\"black\" points=\"286.89,-351.5 296.89,-348 286.89,-344.5 286.89,-351.5\"/>\n<text text-anchor=\"middle\" x=\"236\" y=\"-351.8\" font-family=\"Times,serif\" font-size=\"14.00\">dh_1:&lt;eps&gt;</text>\n</g>\n<!-- 157&#45;&gt;157 -->\n<g id=\"edge314\" class=\"edge\"><title>157&#45;&gt;157</title>\n<path fill=\"none\" stroke=\"black\" d=\"M151.146,-117.312C148.747,-128.603 153.031,-139 164,-139 171.541,-139 175.923,-134.086 177.145,-127.345\"/>\n<polygon fill=\"black\" stroke=\"black\" points=\"180.643,-127.206 176.854,-117.312 173.646,-127.409 180.643,-127.206\"/>\n<text text-anchor=\"middle\" x=\"164\" y=\"-142.8\" font-family=\"Times,serif\" font-size=\"14.00\">w_1:&lt;eps&gt;</text>\n</g>\n<!-- 158 -->\n<g id=\"node159\" class=\"node\"><title>158</title>\n<ellipse fill=\"none\" stroke=\"black\" cx=\"321\" cy=\"-97\" rx=\"24.0958\" ry=\"24.0958\"/>\n<text text-anchor=\"middle\" x=\"321\" y=\"-93.3\" font-family=\"Times,serif\" font-size=\"14.00\">158</text>\n</g>\n<!-- 157&#45;&gt;158 -->\n<g id=\"edge315\" class=\"edge\"><title>157&#45;&gt;158</title>\n<path fill=\"none\" stroke=\"black\" d=\"M188.205,-97C214.305,-97 256.915,-97 286.595,-97\"/>\n<polygon fill=\"black\" stroke=\"black\" points=\"286.89,-100.5 296.89,-97 286.89,-93.5001 286.89,-100.5\"/>\n<text text-anchor=\"middle\" x=\"236\" y=\"-100.8\" font-family=\"Times,serif\" font-size=\"14.00\">w_1:&lt;eps&gt;</text>\n</g>\n<!-- 2&#45;&gt;2 -->\n<g id=\"edge13\" class=\"edge\"><title>2&#45;&gt;2</title>\n<path fill=\"none\" stroke=\"black\" d=\"M308.053,-1185.54C301.755,-1196.87 306.07,-1209 321,-1209 331.614,-1209 336.863,-1202.87 336.748,-1195.26\"/>\n<polygon fill=\"black\" stroke=\"black\" points=\"340.082,-1194.18 333.947,-1185.54 333.356,-1196.12 340.082,-1194.18\"/>\n<text text-anchor=\"middle\" x=\"321\" y=\"-1212.8\" font-family=\"Times,serif\" font-size=\"14.00\">ey_2:&lt;eps&gt;</text>\n</g>\n<!-- 3 -->\n<g id=\"node13\" class=\"node\"><title>3</title>\n<ellipse fill=\"none\" stroke=\"black\" cx=\"478\" cy=\"-1170\" rx=\"18\" ry=\"18\"/>\n<text text-anchor=\"middle\" x=\"478\" y=\"-1166.3\" font-family=\"Times,serif\" font-size=\"14.00\">3</text>\n</g>\n<!-- 2&#45;&gt;3 -->\n<g id=\"edge14\" class=\"edge\"><title>2&#45;&gt;3</title>\n<path fill=\"none\" stroke=\"black\" d=\"M339.18,-1172.67C365.832,-1172.15 417.391,-1171.15 449.335,-1170.54\"/>\n<polygon fill=\"black\" stroke=\"black\" points=\"449.813,-1174.03 459.743,-1170.33 449.677,-1167.03 449.813,-1174.03\"/>\n<text text-anchor=\"middle\" x=\"406\" y=\"-1174.8\" font-family=\"Times,serif\" font-size=\"14.00\">ey_2:&lt;eps&gt;</text>\n</g>\n<!-- 3&#45;&gt;3 -->\n<g id=\"edge15\" class=\"edge\"><title>3&#45;&gt;3</title>\n<path fill=\"none\" stroke=\"black\" d=\"M466.244,-1184.04C461.847,-1194.91 465.766,-1206 478,-1206 486.411,-1206 490.892,-1200.76 491.442,-1193.95\"/>\n<polygon fill=\"black\" stroke=\"black\" points=\"494.884,-1193.31 489.756,-1184.04 487.983,-1194.49 494.884,-1193.31\"/>\n<text text-anchor=\"middle\" x=\"478\" y=\"-1209.8\" font-family=\"Times,serif\" font-size=\"14.00\">ey_3:&lt;eps&gt;</text>\n</g>\n<!-- 4 -->\n<g id=\"node14\" class=\"node\"><title>4</title>\n<ellipse fill=\"none\" stroke=\"black\" cx=\"630\" cy=\"-1160\" rx=\"18\" ry=\"18\"/>\n<text text-anchor=\"middle\" x=\"630\" y=\"-1156.3\" font-family=\"Times,serif\" font-size=\"14.00\">4</text>\n</g>\n<!-- 3&#45;&gt;4 -->\n<g id=\"edge16\" class=\"edge\"><title>3&#45;&gt;4</title>\n<path fill=\"none\" stroke=\"black\" d=\"M496.207,-1168.85C522.09,-1167.13 571.273,-1163.85 601.974,-1161.8\"/>\n<polygon fill=\"black\" stroke=\"black\" points=\"602.249,-1165.29 611.994,-1161.13 601.783,-1158.31 602.249,-1165.29\"/>\n<text text-anchor=\"middle\" x=\"554\" y=\"-1170.8\" font-family=\"Times,serif\" font-size=\"14.00\">ey_3:ey</text>\n</g>\n<!-- 4&#45;&gt;0 -->\n<g id=\"edge17\" class=\"edge\"><title>4&#45;&gt;0</title>\n<path fill=\"none\" stroke=\"black\" d=\"M613.132,-1153.21C586.118,-1142.28 529.236,-1122 479,-1122 163,-1122 163,-1122 163,-1122 111.23,-1122 84.8877,-1129.14 51,-1090 24.548,-1059.45 19.8346,-937.963 19.0845,-882.22\"/>\n<polygon fill=\"black\" stroke=\"black\" points=\"22.5821,-881.958 18.982,-871.994 15.5825,-882.029 22.5821,-881.958\"/>\n<text text-anchor=\"middle\" x=\"321\" y=\"-1125.8\" font-family=\"Times,serif\" font-size=\"14.00\">&lt;eps&gt;:&lt;eps&gt;</text>\n</g>\n<!-- 5 -->\n<g id=\"node15\" class=\"node\"><title>5</title>\n<ellipse fill=\"none\" stroke=\"black\" cx=\"795\" cy=\"-1160\" rx=\"18\" ry=\"18\"/>\n<text text-anchor=\"middle\" x=\"795\" y=\"-1156.3\" font-family=\"Times,serif\" font-size=\"14.00\">5</text>\n</g>\n<!-- 4&#45;&gt;5 -->\n<g id=\"edge18\" class=\"edge\"><title>4&#45;&gt;5</title>\n<path fill=\"none\" stroke=\"black\" d=\"M648.136,-1160C676.31,-1160 732.661,-1160 766.479,-1160\"/>\n<polygon fill=\"black\" stroke=\"black\" points=\"766.603,-1163.5 776.603,-1160 766.603,-1156.5 766.603,-1163.5\"/>\n<text text-anchor=\"middle\" x=\"706\" y=\"-1163.8\" font-family=\"Times,serif\" font-size=\"14.00\">&lt;eps&gt;:&lt;eps&gt;</text>\n</g>\n<!-- 5&#45;&gt;5 -->\n<g id=\"edge19\" class=\"edge\"><title>5&#45;&gt;5</title>\n<path fill=\"none\" stroke=\"black\" d=\"M782.053,-1172.54C775.755,-1183.87 780.07,-1196 795,-1196 805.614,-1196 810.863,-1189.87 810.748,-1182.26\"/>\n<polygon fill=\"black\" stroke=\"black\" points=\"814.082,-1181.18 807.947,-1172.54 807.356,-1183.12 814.082,-1181.18\"/>\n<text text-anchor=\"middle\" x=\"795\" y=\"-1199.8\" font-family=\"Times,serif\" font-size=\"14.00\">sil_1:&lt;eps&gt;</text>\n</g>\n<!-- 6 -->\n<g id=\"node16\" class=\"node\"><title>6</title>\n<ellipse fill=\"none\" stroke=\"black\" cx=\"952\" cy=\"-1163\" rx=\"18\" ry=\"18\"/>\n<text text-anchor=\"middle\" x=\"952\" y=\"-1159.3\" font-family=\"Times,serif\" font-size=\"14.00\">6</text>\n</g>\n<!-- 5&#45;&gt;6 -->\n<g id=\"edge20\" class=\"edge\"><title>5&#45;&gt;6</title>\n<path fill=\"none\" stroke=\"black\" d=\"M813.18,-1160.33C839.832,-1160.85 891.391,-1161.85 923.335,-1162.46\"/>\n<polygon fill=\"black\" stroke=\"black\" points=\"923.677,-1165.97 933.743,-1162.67 923.813,-1158.97 923.677,-1165.97\"/>\n<text text-anchor=\"middle\" x=\"880\" y=\"-1165.8\" font-family=\"Times,serif\" font-size=\"14.00\">sil_1:&lt;eps&gt;</text>\n</g>\n<!-- 6&#45;&gt;6 -->\n<g id=\"edge21\" class=\"edge\"><title>6&#45;&gt;6</title>\n<path fill=\"none\" stroke=\"black\" d=\"M940.244,-1177.04C935.847,-1187.91 939.766,-1199 952,-1199 960.411,-1199 964.892,-1193.76 965.442,-1186.95\"/>\n<polygon fill=\"black\" stroke=\"black\" points=\"968.884,-1186.31 963.756,-1177.04 961.983,-1187.49 968.884,-1186.31\"/>\n<text text-anchor=\"middle\" x=\"952\" y=\"-1202.8\" font-family=\"Times,serif\" font-size=\"14.00\">sil_2:&lt;eps&gt;</text>\n</g>\n<!-- 7 -->\n<g id=\"node17\" class=\"node\"><title>7</title>\n<ellipse fill=\"none\" stroke=\"black\" cx=\"1104\" cy=\"-1163\" rx=\"18\" ry=\"18\"/>\n<text text-anchor=\"middle\" x=\"1104\" y=\"-1159.3\" font-family=\"Times,serif\" font-size=\"14.00\">7</text>\n</g>\n<!-- 6&#45;&gt;7 -->\n<g id=\"edge22\" class=\"edge\"><title>6&#45;&gt;7</title>\n<path fill=\"none\" stroke=\"black\" d=\"M970.207,-1163C996.09,-1163 1045.27,-1163 1075.97,-1163\"/>\n<polygon fill=\"black\" stroke=\"black\" points=\"1075.99,-1166.5 1085.99,-1163 1075.99,-1159.5 1075.99,-1166.5\"/>\n<text text-anchor=\"middle\" x=\"1028\" y=\"-1166.8\" font-family=\"Times,serif\" font-size=\"14.00\">sil_2:&lt;eps&gt;</text>\n</g>\n<!-- 7&#45;&gt;7 -->\n<g id=\"edge23\" class=\"edge\"><title>7&#45;&gt;7</title>\n<path fill=\"none\" stroke=\"black\" d=\"M1091.75,-1176.67C1086.86,-1187.66 1090.94,-1199 1104,-1199 1112.98,-1199 1117.72,-1193.64 1118.21,-1186.72\"/>\n<polygon fill=\"black\" stroke=\"black\" points=\"1121.6,-1185.81 1116.25,-1176.67 1114.73,-1187.15 1121.6,-1185.81\"/>\n<text text-anchor=\"middle\" x=\"1104\" y=\"-1202.8\" font-family=\"Times,serif\" font-size=\"14.00\">sil_3:&lt;eps&gt;</text>\n</g>\n<!-- 8 -->\n<g id=\"node18\" class=\"node\"><title>8</title>\n<ellipse fill=\"none\" stroke=\"black\" cx=\"1269\" cy=\"-1163\" rx=\"18\" ry=\"18\"/>\n<text text-anchor=\"middle\" x=\"1269\" y=\"-1159.3\" font-family=\"Times,serif\" font-size=\"14.00\">8</text>\n</g>\n<!-- 7&#45;&gt;8 -->\n<g id=\"edge24\" class=\"edge\"><title>7&#45;&gt;8</title>\n<path fill=\"none\" stroke=\"black\" d=\"M1122.14,-1163C1150.31,-1163 1206.66,-1163 1240.48,-1163\"/>\n<polygon fill=\"black\" stroke=\"black\" points=\"1240.6,-1166.5 1250.6,-1163 1240.6,-1159.5 1240.6,-1166.5\"/>\n<text text-anchor=\"middle\" x=\"1180\" y=\"-1166.8\" font-family=\"Times,serif\" font-size=\"14.00\">sil_3:&lt;eps&gt;</text>\n</g>\n<!-- 8&#45;&gt;8 -->\n<g id=\"edge25\" class=\"edge\"><title>8&#45;&gt;8</title>\n<path fill=\"none\" stroke=\"black\" d=\"M1256.05,-1175.54C1249.75,-1186.87 1254.07,-1199 1269,-1199 1279.61,-1199 1284.86,-1192.87 1284.75,-1185.26\"/>\n<polygon fill=\"black\" stroke=\"black\" points=\"1288.08,-1184.18 1281.95,-1175.54 1281.36,-1186.12 1288.08,-1184.18\"/>\n<text text-anchor=\"middle\" x=\"1269\" y=\"-1202.8\" font-family=\"Times,serif\" font-size=\"14.00\">sil_4:&lt;eps&gt;</text>\n</g>\n<!-- 9 -->\n<g id=\"node19\" class=\"node\"><title>9</title>\n<ellipse fill=\"none\" stroke=\"black\" cx=\"1426\" cy=\"-1167\" rx=\"18\" ry=\"18\"/>\n<text text-anchor=\"middle\" x=\"1426\" y=\"-1163.3\" font-family=\"Times,serif\" font-size=\"14.00\">9</text>\n</g>\n<!-- 8&#45;&gt;9 -->\n<g id=\"edge26\" class=\"edge\"><title>8&#45;&gt;9</title>\n<path fill=\"none\" stroke=\"black\" d=\"M1287.18,-1163.44C1313.83,-1164.13 1365.39,-1165.46 1397.34,-1166.29\"/>\n<polygon fill=\"black\" stroke=\"black\" points=\"1397.66,-1169.8 1407.74,-1166.55 1397.84,-1162.8 1397.66,-1169.8\"/>\n<text text-anchor=\"middle\" x=\"1354\" y=\"-1168.8\" font-family=\"Times,serif\" font-size=\"14.00\">sil_4:&lt;eps&gt;</text>\n</g>\n<!-- 9&#45;&gt;9 -->\n<g id=\"edge27\" class=\"edge\"><title>9&#45;&gt;9</title>\n<path fill=\"none\" stroke=\"black\" d=\"M1414.24,-1181.04C1409.85,-1191.91 1413.77,-1203 1426,-1203 1434.41,-1203 1438.89,-1197.76 1439.44,-1190.95\"/>\n<polygon fill=\"black\" stroke=\"black\" points=\"1442.88,-1190.31 1437.76,-1181.04 1435.98,-1191.49 1442.88,-1190.31\"/>\n<text text-anchor=\"middle\" x=\"1426\" y=\"-1206.8\" font-family=\"Times,serif\" font-size=\"14.00\">sil_5:&lt;eps&gt;</text>\n</g>\n<!-- 10 -->\n<g id=\"node20\" class=\"node\"><title>10</title>\n<ellipse fill=\"none\" stroke=\"black\" cx=\"1578\" cy=\"-1221\" rx=\"19.4968\" ry=\"19.4968\"/>\n<ellipse fill=\"none\" stroke=\"black\" cx=\"1578\" cy=\"-1221\" rx=\"23.4965\" ry=\"23.4965\"/>\n<text text-anchor=\"middle\" x=\"1578\" y=\"-1217.3\" font-family=\"Times,serif\" font-size=\"14.00\">10</text>\n</g>\n<!-- 9&#45;&gt;10 -->\n<g id=\"edge28\" class=\"edge\"><title>9&#45;&gt;10</title>\n<path fill=\"none\" stroke=\"black\" d=\"M1443.05,-1172.78C1467.6,-1181.62 1514.92,-1198.65 1546.23,-1209.92\"/>\n<polygon fill=\"black\" stroke=\"black\" points=\"1545.19,-1213.27 1555.79,-1213.36 1547.56,-1206.68 1545.19,-1213.27\"/>\n<text text-anchor=\"middle\" x=\"1502\" y=\"-1209.8\" font-family=\"Times,serif\" font-size=\"14.00\">sil_5:&lt;eps&gt;</text>\n</g>\n<!-- 10&#45;&gt;0 -->\n<g id=\"edge29\" class=\"edge\"><title>10&#45;&gt;0</title>\n<path fill=\"none\" stroke=\"black\" d=\"M1554.84,-1227.29C1525.76,-1234.99 1472.99,-1247 1427,-1247 879,-1247 879,-1247 879,-1247 356.958,-1247 119.62,-1285.54 51,-1187 33.76,-1162.24 23.425,-958.303 20.1433,-882.356\"/>\n<polygon fill=\"black\" stroke=\"black\" points=\"23.6297,-881.96 19.7103,-872.116 16.636,-882.255 23.6297,-881.96\"/>\n<text text-anchor=\"middle\" x=\"795\" y=\"-1250.8\" font-family=\"Times,serif\" font-size=\"14.00\">&lt;eps&gt;:&lt;eps&gt;</text>\n</g>\n<!-- 12&#45;&gt;12 -->\n<g id=\"edge32\" class=\"edge\"><title>12&#45;&gt;12</title>\n<path fill=\"none\" stroke=\"black\" d=\"M307.465,-1351.05C302.051,-1362.34 306.562,-1374 321,-1374 331.151,-1374 336.396,-1368.24 336.733,-1360.89\"/>\n<polygon fill=\"black\" stroke=\"black\" points=\"340.13,-1360.04 334.535,-1351.05 333.299,-1361.57 340.13,-1360.04\"/>\n<text text-anchor=\"middle\" x=\"321\" y=\"-1377.8\" font-family=\"Times,serif\" font-size=\"14.00\">ah_2:&lt;eps&gt;</text>\n</g>\n<!-- 13 -->\n<g id=\"node22\" class=\"node\"><title>13</title>\n<ellipse fill=\"none\" stroke=\"black\" cx=\"478\" cy=\"-1337\" rx=\"19.4965\" ry=\"19.4965\"/>\n<text text-anchor=\"middle\" x=\"478\" y=\"-1333.3\" font-family=\"Times,serif\" font-size=\"14.00\">13</text>\n</g>\n<!-- 12&#45;&gt;13 -->\n<g id=\"edge33\" class=\"edge\"><title>12&#45;&gt;13</title>\n<path fill=\"none\" stroke=\"black\" d=\"M340.697,-1337C367.346,-1337 416.5,-1337 447.926,-1337\"/>\n<polygon fill=\"black\" stroke=\"black\" points=\"448.237,-1340.5 458.237,-1337 448.237,-1333.5 448.237,-1340.5\"/>\n<text text-anchor=\"middle\" x=\"406\" y=\"-1340.8\" font-family=\"Times,serif\" font-size=\"14.00\">ah_2:&lt;eps&gt;</text>\n</g>\n<!-- 13&#45;&gt;13 -->\n<g id=\"edge34\" class=\"edge\"><title>13&#45;&gt;13</title>\n<path fill=\"none\" stroke=\"black\" d=\"M465.953,-1352.2C462.031,-1363.12 466.047,-1374 478,-1374 486.031,-1374 490.479,-1369.09 491.344,-1362.56\"/>\n<polygon fill=\"black\" stroke=\"black\" points=\"494.763,-1361.69 490.047,-1352.2 487.817,-1362.56 494.763,-1361.69\"/>\n<text text-anchor=\"middle\" x=\"478\" y=\"-1377.8\" font-family=\"Times,serif\" font-size=\"14.00\">ah_3:&lt;eps&gt;</text>\n</g>\n<!-- 14 -->\n<g id=\"node23\" class=\"node\"><title>14</title>\n<ellipse fill=\"none\" stroke=\"black\" cx=\"630\" cy=\"-1337\" rx=\"19.4965\" ry=\"19.4965\"/>\n<text text-anchor=\"middle\" x=\"630\" y=\"-1333.3\" font-family=\"Times,serif\" font-size=\"14.00\">14</text>\n</g>\n<!-- 13&#45;&gt;14 -->\n<g id=\"edge35\" class=\"edge\"><title>13&#45;&gt;14</title>\n<path fill=\"none\" stroke=\"black\" d=\"M497.694,-1337C523.294,-1337 569.52,-1337 599.732,-1337\"/>\n<polygon fill=\"black\" stroke=\"black\" points=\"600.07,-1340.5 610.07,-1337 600.07,-1333.5 600.07,-1340.5\"/>\n<text text-anchor=\"middle\" x=\"554\" y=\"-1340.8\" font-family=\"Times,serif\" font-size=\"14.00\">ah_3:&lt;eps&gt;</text>\n</g>\n<!-- 14&#45;&gt;14 -->\n<g id=\"edge36\" class=\"edge\"><title>14&#45;&gt;14</title>\n<path fill=\"none\" stroke=\"black\" d=\"M617.434,-1351.82C613.046,-1362.87 617.234,-1374 630,-1374 638.776,-1374 643.499,-1368.74 644.167,-1361.86\"/>\n<polygon fill=\"black\" stroke=\"black\" points=\"647.597,-1361.14 642.566,-1351.82 640.685,-1362.24 647.597,-1361.14\"/>\n<text text-anchor=\"middle\" x=\"630\" y=\"-1377.8\" font-family=\"Times,serif\" font-size=\"14.00\">v_1:&lt;eps&gt;</text>\n</g>\n<!-- 15 -->\n<g id=\"node24\" class=\"node\"><title>15</title>\n<ellipse fill=\"none\" stroke=\"black\" cx=\"795\" cy=\"-1337\" rx=\"19.4965\" ry=\"19.4965\"/>\n<text text-anchor=\"middle\" x=\"795\" y=\"-1333.3\" font-family=\"Times,serif\" font-size=\"14.00\">15</text>\n</g>\n<!-- 14&#45;&gt;15 -->\n<g id=\"edge37\" class=\"edge\"><title>14&#45;&gt;15</title>\n<path fill=\"none\" stroke=\"black\" d=\"M649.698,-1337C677.994,-1337 731.918,-1337 765.235,-1337\"/>\n<polygon fill=\"black\" stroke=\"black\" points=\"765.27,-1340.5 775.27,-1337 765.269,-1333.5 765.27,-1340.5\"/>\n<text text-anchor=\"middle\" x=\"706\" y=\"-1340.8\" font-family=\"Times,serif\" font-size=\"14.00\">v_1:&lt;eps&gt;</text>\n</g>\n<!-- 15&#45;&gt;15 -->\n<g id=\"edge38\" class=\"edge\"><title>15&#45;&gt;15</title>\n<path fill=\"none\" stroke=\"black\" d=\"M781.465,-1351.05C776.051,-1362.34 780.562,-1374 795,-1374 805.151,-1374 810.396,-1368.24 810.733,-1360.89\"/>\n<polygon fill=\"black\" stroke=\"black\" points=\"814.13,-1360.04 808.535,-1351.05 807.299,-1361.57 814.13,-1360.04\"/>\n<text text-anchor=\"middle\" x=\"795\" y=\"-1377.8\" font-family=\"Times,serif\" font-size=\"14.00\">v_2:&lt;eps&gt;</text>\n</g>\n<!-- 16 -->\n<g id=\"node25\" class=\"node\"><title>16</title>\n<ellipse fill=\"none\" stroke=\"black\" cx=\"952\" cy=\"-1337\" rx=\"19.4965\" ry=\"19.4965\"/>\n<text text-anchor=\"middle\" x=\"952\" y=\"-1333.3\" font-family=\"Times,serif\" font-size=\"14.00\">16</text>\n</g>\n<!-- 15&#45;&gt;16 -->\n<g id=\"edge39\" class=\"edge\"><title>15&#45;&gt;16</title>\n<path fill=\"none\" stroke=\"black\" d=\"M814.697,-1337C841.346,-1337 890.5,-1337 921.926,-1337\"/>\n<polygon fill=\"black\" stroke=\"black\" points=\"922.237,-1340.5 932.237,-1337 922.237,-1333.5 922.237,-1340.5\"/>\n<text text-anchor=\"middle\" x=\"880\" y=\"-1340.8\" font-family=\"Times,serif\" font-size=\"14.00\">v_2:&lt;eps&gt;</text>\n</g>\n<!-- 16&#45;&gt;16 -->\n<g id=\"edge40\" class=\"edge\"><title>16&#45;&gt;16</title>\n<path fill=\"none\" stroke=\"black\" d=\"M939.953,-1352.2C936.031,-1363.12 940.047,-1374 952,-1374 960.031,-1374 964.479,-1369.09 965.344,-1362.56\"/>\n<polygon fill=\"black\" stroke=\"black\" points=\"968.763,-1361.69 964.047,-1352.2 961.817,-1362.56 968.763,-1361.69\"/>\n<text text-anchor=\"middle\" x=\"952\" y=\"-1377.8\" font-family=\"Times,serif\" font-size=\"14.00\">v_3:&lt;eps&gt;</text>\n</g>\n<!-- 17 -->\n<g id=\"node26\" class=\"node\"><title>17</title>\n<ellipse fill=\"none\" stroke=\"black\" cx=\"1104\" cy=\"-1337\" rx=\"19.4965\" ry=\"19.4965\"/>\n<text text-anchor=\"middle\" x=\"1104\" y=\"-1333.3\" font-family=\"Times,serif\" font-size=\"14.00\">17</text>\n</g>\n<!-- 16&#45;&gt;17 -->\n<g id=\"edge41\" class=\"edge\"><title>16&#45;&gt;17</title>\n<path fill=\"none\" stroke=\"black\" d=\"M971.694,-1337C997.294,-1337 1043.52,-1337 1073.73,-1337\"/>\n<polygon fill=\"black\" stroke=\"black\" points=\"1074.07,-1340.5 1084.07,-1337 1074.07,-1333.5 1074.07,-1340.5\"/>\n<text text-anchor=\"middle\" x=\"1028\" y=\"-1340.8\" font-family=\"Times,serif\" font-size=\"14.00\">v_3:ah</text>\n</g>\n<!-- 17&#45;&gt;0 -->\n<g id=\"edge42\" class=\"edge\"><title>17&#45;&gt;0</title>\n<path fill=\"none\" stroke=\"black\" d=\"M1089.41,-1350.21C1064.54,-1372.93 1009.08,-1417 953,-1417 163,-1417 163,-1417 163,-1417 106.104,-1417 81.4389,-1403.07 51,-1355 25.6913,-1315.03 20.2945,-982.509 19.2389,-882.405\"/>\n<polygon fill=\"black\" stroke=\"black\" points=\"22.7363,-882.119 19.1376,-872.154 15.7367,-882.188 22.7363,-882.119\"/>\n<text text-anchor=\"middle\" x=\"554\" y=\"-1420.8\" font-family=\"Times,serif\" font-size=\"14.00\">&lt;eps&gt;:&lt;eps&gt;</text>\n</g>\n<!-- 18 -->\n<g id=\"node27\" class=\"node\"><title>18</title>\n<ellipse fill=\"none\" stroke=\"black\" cx=\"1269\" cy=\"-1337\" rx=\"19.4965\" ry=\"19.4965\"/>\n<text text-anchor=\"middle\" x=\"1269\" y=\"-1333.3\" font-family=\"Times,serif\" font-size=\"14.00\">18</text>\n</g>\n<!-- 17&#45;&gt;18 -->\n<g id=\"edge43\" class=\"edge\"><title>17&#45;&gt;18</title>\n<path fill=\"none\" stroke=\"black\" d=\"M1123.7,-1337C1151.99,-1337 1205.92,-1337 1239.23,-1337\"/>\n<polygon fill=\"black\" stroke=\"black\" points=\"1239.27,-1340.5 1249.27,-1337 1239.27,-1333.5 1239.27,-1340.5\"/>\n<text text-anchor=\"middle\" x=\"1180\" y=\"-1340.8\" font-family=\"Times,serif\" font-size=\"14.00\">&lt;eps&gt;:&lt;eps&gt;</text>\n</g>\n<!-- 18&#45;&gt;18 -->\n<g id=\"edge44\" class=\"edge\"><title>18&#45;&gt;18</title>\n<path fill=\"none\" stroke=\"black\" d=\"M1255.46,-1351.05C1250.05,-1362.34 1254.56,-1374 1269,-1374 1279.15,-1374 1284.4,-1368.24 1284.73,-1360.89\"/>\n<polygon fill=\"black\" stroke=\"black\" points=\"1288.13,-1360.04 1282.54,-1351.05 1281.3,-1361.57 1288.13,-1360.04\"/>\n<text text-anchor=\"middle\" x=\"1269\" y=\"-1377.8\" font-family=\"Times,serif\" font-size=\"14.00\">sil_1:&lt;eps&gt;</text>\n</g>\n<!-- 19 -->\n<g id=\"node28\" class=\"node\"><title>19</title>\n<ellipse fill=\"none\" stroke=\"black\" cx=\"1426\" cy=\"-1337\" rx=\"19.4965\" ry=\"19.4965\"/>\n<text text-anchor=\"middle\" x=\"1426\" y=\"-1333.3\" font-family=\"Times,serif\" font-size=\"14.00\">19</text>\n</g>\n<!-- 18&#45;&gt;19 -->\n<g id=\"edge45\" class=\"edge\"><title>18&#45;&gt;19</title>\n<path fill=\"none\" stroke=\"black\" d=\"M1288.7,-1337C1315.35,-1337 1364.5,-1337 1395.93,-1337\"/>\n<polygon fill=\"black\" stroke=\"black\" points=\"1396.24,-1340.5 1406.24,-1337 1396.24,-1333.5 1396.24,-1340.5\"/>\n<text text-anchor=\"middle\" x=\"1354\" y=\"-1340.8\" font-family=\"Times,serif\" font-size=\"14.00\">sil_1:&lt;eps&gt;</text>\n</g>\n<!-- 19&#45;&gt;19 -->\n<g id=\"edge46\" class=\"edge\"><title>19&#45;&gt;19</title>\n<path fill=\"none\" stroke=\"black\" d=\"M1413.95,-1352.2C1410.03,-1363.12 1414.05,-1374 1426,-1374 1434.03,-1374 1438.48,-1369.09 1439.34,-1362.56\"/>\n<polygon fill=\"black\" stroke=\"black\" points=\"1442.76,-1361.69 1438.05,-1352.2 1435.82,-1362.56 1442.76,-1361.69\"/>\n<text text-anchor=\"middle\" x=\"1426\" y=\"-1377.8\" font-family=\"Times,serif\" font-size=\"14.00\">sil_2:&lt;eps&gt;</text>\n</g>\n<!-- 20 -->\n<g id=\"node29\" class=\"node\"><title>20</title>\n<ellipse fill=\"none\" stroke=\"black\" cx=\"1578\" cy=\"-1337\" rx=\"19.4965\" ry=\"19.4965\"/>\n<text text-anchor=\"middle\" x=\"1578\" y=\"-1333.3\" font-family=\"Times,serif\" font-size=\"14.00\">20</text>\n</g>\n<!-- 19&#45;&gt;20 -->\n<g id=\"edge47\" class=\"edge\"><title>19&#45;&gt;20</title>\n<path fill=\"none\" stroke=\"black\" d=\"M1445.69,-1337C1471.29,-1337 1517.52,-1337 1547.73,-1337\"/>\n<polygon fill=\"black\" stroke=\"black\" points=\"1548.07,-1340.5 1558.07,-1337 1548.07,-1333.5 1548.07,-1340.5\"/>\n<text text-anchor=\"middle\" x=\"1502\" y=\"-1340.8\" font-family=\"Times,serif\" font-size=\"14.00\">sil_2:&lt;eps&gt;</text>\n</g>\n<!-- 20&#45;&gt;20 -->\n<g id=\"edge48\" class=\"edge\"><title>20&#45;&gt;20</title>\n<path fill=\"none\" stroke=\"black\" d=\"M1565.43,-1351.82C1561.05,-1362.87 1565.23,-1374 1578,-1374 1586.78,-1374 1591.5,-1368.74 1592.17,-1361.86\"/>\n<polygon fill=\"black\" stroke=\"black\" points=\"1595.6,-1361.14 1590.57,-1351.82 1588.68,-1362.24 1595.6,-1361.14\"/>\n<text text-anchor=\"middle\" x=\"1578\" y=\"-1377.8\" font-family=\"Times,serif\" font-size=\"14.00\">sil_3:&lt;eps&gt;</text>\n</g>\n<!-- 21 -->\n<g id=\"node30\" class=\"node\"><title>21</title>\n<ellipse fill=\"none\" stroke=\"black\" cx=\"1743\" cy=\"-1337\" rx=\"19.4965\" ry=\"19.4965\"/>\n<text text-anchor=\"middle\" x=\"1743\" y=\"-1333.3\" font-family=\"Times,serif\" font-size=\"14.00\">21</text>\n</g>\n<!-- 20&#45;&gt;21 -->\n<g id=\"edge49\" class=\"edge\"><title>20&#45;&gt;21</title>\n<path fill=\"none\" stroke=\"black\" d=\"M1597.7,-1337C1625.99,-1337 1679.92,-1337 1713.23,-1337\"/>\n<polygon fill=\"black\" stroke=\"black\" points=\"1713.27,-1340.5 1723.27,-1337 1713.27,-1333.5 1713.27,-1340.5\"/>\n<text text-anchor=\"middle\" x=\"1654\" y=\"-1340.8\" font-family=\"Times,serif\" font-size=\"14.00\">sil_3:&lt;eps&gt;</text>\n</g>\n<!-- 21&#45;&gt;21 -->\n<g id=\"edge50\" class=\"edge\"><title>21&#45;&gt;21</title>\n<path fill=\"none\" stroke=\"black\" d=\"M1729.46,-1351.05C1724.05,-1362.34 1728.56,-1374 1743,-1374 1753.15,-1374 1758.4,-1368.24 1758.73,-1360.89\"/>\n<polygon fill=\"black\" stroke=\"black\" points=\"1762.13,-1360.04 1756.54,-1351.05 1755.3,-1361.57 1762.13,-1360.04\"/>\n<text text-anchor=\"middle\" x=\"1743\" y=\"-1377.8\" font-family=\"Times,serif\" font-size=\"14.00\">sil_4:&lt;eps&gt;</text>\n</g>\n<!-- 22 -->\n<g id=\"node31\" class=\"node\"><title>22</title>\n<ellipse fill=\"none\" stroke=\"black\" cx=\"1900\" cy=\"-1337\" rx=\"19.4965\" ry=\"19.4965\"/>\n<text text-anchor=\"middle\" x=\"1900\" y=\"-1333.3\" font-family=\"Times,serif\" font-size=\"14.00\">22</text>\n</g>\n<!-- 21&#45;&gt;22 -->\n<g id=\"edge51\" class=\"edge\"><title>21&#45;&gt;22</title>\n<path fill=\"none\" stroke=\"black\" d=\"M1762.7,-1337C1789.35,-1337 1838.5,-1337 1869.93,-1337\"/>\n<polygon fill=\"black\" stroke=\"black\" points=\"1870.24,-1340.5 1880.24,-1337 1870.24,-1333.5 1870.24,-1340.5\"/>\n<text text-anchor=\"middle\" x=\"1828\" y=\"-1340.8\" font-family=\"Times,serif\" font-size=\"14.00\">sil_4:&lt;eps&gt;</text>\n</g>\n<!-- 22&#45;&gt;22 -->\n<g id=\"edge52\" class=\"edge\"><title>22&#45;&gt;22</title>\n<path fill=\"none\" stroke=\"black\" d=\"M1887.95,-1352.2C1884.03,-1363.12 1888.05,-1374 1900,-1374 1908.03,-1374 1912.48,-1369.09 1913.34,-1362.56\"/>\n<polygon fill=\"black\" stroke=\"black\" points=\"1916.76,-1361.69 1912.05,-1352.2 1909.82,-1362.56 1916.76,-1361.69\"/>\n<text text-anchor=\"middle\" x=\"1900\" y=\"-1377.8\" font-family=\"Times,serif\" font-size=\"14.00\">sil_5:&lt;eps&gt;</text>\n</g>\n<!-- 23 -->\n<g id=\"node32\" class=\"node\"><title>23</title>\n<ellipse fill=\"none\" stroke=\"black\" cx=\"2056\" cy=\"-1310\" rx=\"19.4968\" ry=\"19.4968\"/>\n<ellipse fill=\"none\" stroke=\"black\" cx=\"2056\" cy=\"-1310\" rx=\"23.4965\" ry=\"23.4965\"/>\n<text text-anchor=\"middle\" x=\"2056\" y=\"-1306.3\" font-family=\"Times,serif\" font-size=\"14.00\">23</text>\n</g>\n<!-- 22&#45;&gt;23 -->\n<g id=\"edge53\" class=\"edge\"><title>22&#45;&gt;23</title>\n<path fill=\"none\" stroke=\"black\" d=\"M1919.27,-1333.8C1944.75,-1329.33 1991.37,-1321.16 2022.76,-1315.65\"/>\n<polygon fill=\"black\" stroke=\"black\" points=\"2023.53,-1319.07 2032.78,-1313.9 2022.32,-1312.18 2023.53,-1319.07\"/>\n<text text-anchor=\"middle\" x=\"1976\" y=\"-1332.8\" font-family=\"Times,serif\" font-size=\"14.00\">sil_5:&lt;eps&gt;</text>\n</g>\n<!-- 23&#45;&gt;0 -->\n<g id=\"edge54\" class=\"edge\"><title>23&#45;&gt;0</title>\n<path fill=\"none\" stroke=\"black\" d=\"M2032.93,-1305.31C2003.13,-1299.4 1948.32,-1290 1901,-1290 163,-1290 163,-1290 163,-1290 105.222,-1290 81.8024,-1272.88 51,-1224 32.907,-1195.29 22.9296,-963.528 19.957,-882.135\"/>\n<polygon fill=\"black\" stroke=\"black\" points=\"23.4539,-881.981 19.5989,-872.113 16.4583,-882.232 23.4539,-881.981\"/>\n<text text-anchor=\"middle\" x=\"1028\" y=\"-1293.8\" font-family=\"Times,serif\" font-size=\"14.00\">&lt;eps&gt;:&lt;eps&gt;</text>\n</g>\n<!-- 25&#45;&gt;25 -->\n<g id=\"edge57\" class=\"edge\"><title>25&#45;&gt;25</title>\n<path fill=\"none\" stroke=\"black\" d=\"M307.465,-1010.05C302.051,-1021.34 306.562,-1033 321,-1033 331.151,-1033 336.396,-1027.24 336.733,-1019.89\"/>\n<polygon fill=\"black\" stroke=\"black\" points=\"340.13,-1019.04 334.535,-1010.05 333.299,-1020.57 340.13,-1019.04\"/>\n<text text-anchor=\"middle\" x=\"321\" y=\"-1036.8\" font-family=\"Times,serif\" font-size=\"14.00\">p_2:&lt;eps&gt;</text>\n</g>\n<!-- 26 -->\n<g id=\"node34\" class=\"node\"><title>26</title>\n<ellipse fill=\"none\" stroke=\"black\" cx=\"478\" cy=\"-999\" rx=\"19.4965\" ry=\"19.4965\"/>\n<text text-anchor=\"middle\" x=\"478\" y=\"-995.3\" font-family=\"Times,serif\" font-size=\"14.00\">26</text>\n</g>\n<!-- 25&#45;&gt;26 -->\n<g id=\"edge58\" class=\"edge\"><title>25&#45;&gt;26</title>\n<path fill=\"none\" stroke=\"black\" d=\"M340.697,-996.362C367.346,-996.878 416.5,-997.829 447.926,-998.437\"/>\n<polygon fill=\"black\" stroke=\"black\" points=\"448.171,-1001.94 458.237,-998.637 448.307,-994.944 448.171,-1001.94\"/>\n<text text-anchor=\"middle\" x=\"406\" y=\"-1001.8\" font-family=\"Times,serif\" font-size=\"14.00\">p_2:&lt;eps&gt;</text>\n</g>\n<!-- 26&#45;&gt;26 -->\n<g id=\"edge59\" class=\"edge\"><title>26&#45;&gt;26</title>\n<path fill=\"none\" stroke=\"black\" d=\"M465.953,-1014.2C462.031,-1025.12 466.047,-1036 478,-1036 486.031,-1036 490.479,-1031.09 491.344,-1024.56\"/>\n<polygon fill=\"black\" stroke=\"black\" points=\"494.763,-1023.69 490.047,-1014.2 487.817,-1024.56 494.763,-1023.69\"/>\n<text text-anchor=\"middle\" x=\"478\" y=\"-1039.8\" font-family=\"Times,serif\" font-size=\"14.00\">p_3:&lt;eps&gt;</text>\n</g>\n<!-- 27 -->\n<g id=\"node35\" class=\"node\"><title>27</title>\n<ellipse fill=\"none\" stroke=\"black\" cx=\"630\" cy=\"-1000\" rx=\"19.4965\" ry=\"19.4965\"/>\n<text text-anchor=\"middle\" x=\"630\" y=\"-996.3\" font-family=\"Times,serif\" font-size=\"14.00\">27</text>\n</g>\n<!-- 26&#45;&gt;27 -->\n<g id=\"edge60\" class=\"edge\"><title>26&#45;&gt;27</title>\n<path fill=\"none\" stroke=\"black\" d=\"M497.694,-999.125C523.294,-999.295 569.52,-999.603 599.732,-999.805\"/>\n<polygon fill=\"black\" stroke=\"black\" points=\"600.047,-1003.31 610.07,-999.874 600.094,-996.307 600.047,-1003.31\"/>\n<text text-anchor=\"middle\" x=\"554\" y=\"-1002.8\" font-family=\"Times,serif\" font-size=\"14.00\">p_3:&lt;eps&gt;</text>\n</g>\n<!-- 27&#45;&gt;27 -->\n<g id=\"edge61\" class=\"edge\"><title>27&#45;&gt;27</title>\n<path fill=\"none\" stroke=\"black\" d=\"M617.434,-1014.82C613.046,-1025.87 617.234,-1037 630,-1037 638.776,-1037 643.499,-1031.74 644.167,-1024.86\"/>\n<polygon fill=\"black\" stroke=\"black\" points=\"647.597,-1024.14 642.566,-1014.82 640.685,-1025.24 647.597,-1024.14\"/>\n<text text-anchor=\"middle\" x=\"630\" y=\"-1040.8\" font-family=\"Times,serif\" font-size=\"14.00\">eh_1:&lt;eps&gt;</text>\n</g>\n<!-- 28 -->\n<g id=\"node36\" class=\"node\"><title>28</title>\n<ellipse fill=\"none\" stroke=\"black\" cx=\"795\" cy=\"-1000\" rx=\"19.4965\" ry=\"19.4965\"/>\n<text text-anchor=\"middle\" x=\"795\" y=\"-996.3\" font-family=\"Times,serif\" font-size=\"14.00\">28</text>\n</g>\n<!-- 27&#45;&gt;28 -->\n<g id=\"edge62\" class=\"edge\"><title>27&#45;&gt;28</title>\n<path fill=\"none\" stroke=\"black\" d=\"M649.698,-1000C677.994,-1000 731.918,-1000 765.235,-1000\"/>\n<polygon fill=\"black\" stroke=\"black\" points=\"765.27,-1003.5 775.27,-1000 765.269,-996.5 765.27,-1003.5\"/>\n<text text-anchor=\"middle\" x=\"706\" y=\"-1003.8\" font-family=\"Times,serif\" font-size=\"14.00\">eh_1:&lt;eps&gt;</text>\n</g>\n<!-- 28&#45;&gt;28 -->\n<g id=\"edge63\" class=\"edge\"><title>28&#45;&gt;28</title>\n<path fill=\"none\" stroke=\"black\" d=\"M781.465,-1014.05C776.051,-1025.34 780.562,-1037 795,-1037 805.151,-1037 810.396,-1031.24 810.733,-1023.89\"/>\n<polygon fill=\"black\" stroke=\"black\" points=\"814.13,-1023.04 808.535,-1014.05 807.299,-1024.57 814.13,-1023.04\"/>\n<text text-anchor=\"middle\" x=\"795\" y=\"-1040.8\" font-family=\"Times,serif\" font-size=\"14.00\">eh_2:&lt;eps&gt;</text>\n</g>\n<!-- 29 -->\n<g id=\"node37\" class=\"node\"><title>29</title>\n<ellipse fill=\"none\" stroke=\"black\" cx=\"952\" cy=\"-1006\" rx=\"19.4965\" ry=\"19.4965\"/>\n<text text-anchor=\"middle\" x=\"952\" y=\"-1002.3\" font-family=\"Times,serif\" font-size=\"14.00\">29</text>\n</g>\n<!-- 28&#45;&gt;29 -->\n<g id=\"edge64\" class=\"edge\"><title>28&#45;&gt;29</title>\n<path fill=\"none\" stroke=\"black\" d=\"M814.697,-1000.72C841.346,-1001.76 890.5,-1003.66 921.926,-1004.87\"/>\n<polygon fill=\"black\" stroke=\"black\" points=\"922.109,-1008.38 932.237,-1005.27 922.38,-1001.39 922.109,-1008.38\"/>\n<text text-anchor=\"middle\" x=\"880\" y=\"-1007.8\" font-family=\"Times,serif\" font-size=\"14.00\">eh_2:&lt;eps&gt;</text>\n</g>\n<!-- 29&#45;&gt;29 -->\n<g id=\"edge65\" class=\"edge\"><title>29&#45;&gt;29</title>\n<path fill=\"none\" stroke=\"black\" d=\"M939.953,-1021.2C936.031,-1032.12 940.047,-1043 952,-1043 960.031,-1043 964.479,-1038.09 965.344,-1031.56\"/>\n<polygon fill=\"black\" stroke=\"black\" points=\"968.763,-1030.69 964.047,-1021.2 961.817,-1031.56 968.763,-1030.69\"/>\n<text text-anchor=\"middle\" x=\"952\" y=\"-1046.8\" font-family=\"Times,serif\" font-size=\"14.00\">eh_3:&lt;eps&gt;</text>\n</g>\n<!-- 30 -->\n<g id=\"node38\" class=\"node\"><title>30</title>\n<ellipse fill=\"none\" stroke=\"black\" cx=\"1104\" cy=\"-1008\" rx=\"19.4965\" ry=\"19.4965\"/>\n<text text-anchor=\"middle\" x=\"1104\" y=\"-1004.3\" font-family=\"Times,serif\" font-size=\"14.00\">30</text>\n</g>\n<!-- 29&#45;&gt;30 -->\n<g id=\"edge66\" class=\"edge\"><title>29&#45;&gt;30</title>\n<path fill=\"none\" stroke=\"black\" d=\"M971.694,-1006.25C997.294,-1006.59 1043.52,-1007.21 1073.73,-1007.61\"/>\n<polygon fill=\"black\" stroke=\"black\" points=\"1074.02,-1011.11 1084.07,-1007.75 1074.12,-1004.11 1074.02,-1011.11\"/>\n<text text-anchor=\"middle\" x=\"1028\" y=\"-1010.8\" font-family=\"Times,serif\" font-size=\"14.00\">eh_3:&lt;eps&gt;</text>\n</g>\n<!-- 30&#45;&gt;30 -->\n<g id=\"edge67\" class=\"edge\"><title>30&#45;&gt;30</title>\n<path fill=\"none\" stroke=\"black\" d=\"M1091.43,-1022.82C1087.05,-1033.87 1091.23,-1045 1104,-1045 1112.78,-1045 1117.5,-1039.74 1118.17,-1032.86\"/>\n<polygon fill=\"black\" stroke=\"black\" points=\"1121.6,-1032.14 1116.57,-1022.82 1114.68,-1033.24 1121.6,-1032.14\"/>\n<text text-anchor=\"middle\" x=\"1104\" y=\"-1048.8\" font-family=\"Times,serif\" font-size=\"14.00\">k_1:&lt;eps&gt;</text>\n</g>\n<!-- 31 -->\n<g id=\"node39\" class=\"node\"><title>31</title>\n<ellipse fill=\"none\" stroke=\"black\" cx=\"1269\" cy=\"-1009\" rx=\"19.4965\" ry=\"19.4965\"/>\n<text text-anchor=\"middle\" x=\"1269\" y=\"-1005.3\" font-family=\"Times,serif\" font-size=\"14.00\">31</text>\n</g>\n<!-- 30&#45;&gt;31 -->\n<g id=\"edge68\" class=\"edge\"><title>30&#45;&gt;31</title>\n<path fill=\"none\" stroke=\"black\" d=\"M1123.7,-1008.11C1151.99,-1008.29 1205.92,-1008.62 1239.23,-1008.82\"/>\n<polygon fill=\"black\" stroke=\"black\" points=\"1239.25,-1012.32 1249.27,-1008.89 1239.29,-1005.32 1239.25,-1012.32\"/>\n<text text-anchor=\"middle\" x=\"1180\" y=\"-1011.8\" font-family=\"Times,serif\" font-size=\"14.00\">k_1:&lt;eps&gt;</text>\n</g>\n<!-- 31&#45;&gt;31 -->\n<g id=\"edge69\" class=\"edge\"><title>31&#45;&gt;31</title>\n<path fill=\"none\" stroke=\"black\" d=\"M1255.46,-1023.05C1250.05,-1034.34 1254.56,-1046 1269,-1046 1279.15,-1046 1284.4,-1040.24 1284.73,-1032.89\"/>\n<polygon fill=\"black\" stroke=\"black\" points=\"1288.13,-1032.04 1282.54,-1023.05 1281.3,-1033.57 1288.13,-1032.04\"/>\n<text text-anchor=\"middle\" x=\"1269\" y=\"-1049.8\" font-family=\"Times,serif\" font-size=\"14.00\">k_2:&lt;eps&gt;</text>\n</g>\n<!-- 32 -->\n<g id=\"node40\" class=\"node\"><title>32</title>\n<ellipse fill=\"none\" stroke=\"black\" cx=\"1426\" cy=\"-1009\" rx=\"19.4965\" ry=\"19.4965\"/>\n<text text-anchor=\"middle\" x=\"1426\" y=\"-1005.3\" font-family=\"Times,serif\" font-size=\"14.00\">32</text>\n</g>\n<!-- 31&#45;&gt;32 -->\n<g id=\"edge70\" class=\"edge\"><title>31&#45;&gt;32</title>\n<path fill=\"none\" stroke=\"black\" d=\"M1288.7,-1009C1315.35,-1009 1364.5,-1009 1395.93,-1009\"/>\n<polygon fill=\"black\" stroke=\"black\" points=\"1396.24,-1012.5 1406.24,-1009 1396.24,-1005.5 1396.24,-1012.5\"/>\n<text text-anchor=\"middle\" x=\"1354\" y=\"-1012.8\" font-family=\"Times,serif\" font-size=\"14.00\">k_2:&lt;eps&gt;</text>\n</g>\n<!-- 32&#45;&gt;32 -->\n<g id=\"edge71\" class=\"edge\"><title>32&#45;&gt;32</title>\n<path fill=\"none\" stroke=\"black\" d=\"M1413.95,-1024.2C1410.03,-1035.12 1414.05,-1046 1426,-1046 1434.03,-1046 1438.48,-1041.09 1439.34,-1034.56\"/>\n<polygon fill=\"black\" stroke=\"black\" points=\"1442.76,-1033.69 1438.05,-1024.2 1435.82,-1034.56 1442.76,-1033.69\"/>\n<text text-anchor=\"middle\" x=\"1426\" y=\"-1049.8\" font-family=\"Times,serif\" font-size=\"14.00\">k_3:&lt;eps&gt;</text>\n</g>\n<!-- 33 -->\n<g id=\"node41\" class=\"node\"><title>33</title>\n<ellipse fill=\"none\" stroke=\"black\" cx=\"1578\" cy=\"-1009\" rx=\"19.4965\" ry=\"19.4965\"/>\n<text text-anchor=\"middle\" x=\"1578\" y=\"-1005.3\" font-family=\"Times,serif\" font-size=\"14.00\">33</text>\n</g>\n<!-- 32&#45;&gt;33 -->\n<g id=\"edge72\" class=\"edge\"><title>32&#45;&gt;33</title>\n<path fill=\"none\" stroke=\"black\" d=\"M1445.69,-1009C1471.29,-1009 1517.52,-1009 1547.73,-1009\"/>\n<polygon fill=\"black\" stroke=\"black\" points=\"1548.07,-1012.5 1558.07,-1009 1548.07,-1005.5 1548.07,-1012.5\"/>\n<text text-anchor=\"middle\" x=\"1502\" y=\"-1012.8\" font-family=\"Times,serif\" font-size=\"14.00\">k_3:v</text>\n</g>\n<!-- 33&#45;&gt;0 -->\n<g id=\"edge73\" class=\"edge\"><title>33&#45;&gt;0</title>\n<path fill=\"none\" stroke=\"black\" d=\"M1563.41,-1022.21C1538.54,-1044.93 1483.08,-1089 1427,-1089 1103,-1089 1103,-1089 1103,-1089 888.882,-1089 347.663,-1109.18 140,-1057 97.2048,-1046.25 77.884,-1047.99 51,-1013 35.5211,-992.854 25.964,-922.105 21.6714,-882.103\"/>\n<polygon fill=\"black\" stroke=\"black\" points=\"25.1307,-881.527 20.623,-871.939 18.1676,-882.245 25.1307,-881.527\"/>\n<text text-anchor=\"middle\" x=\"795\" y=\"-1095.8\" font-family=\"Times,serif\" font-size=\"14.00\">&lt;eps&gt;:&lt;eps&gt;</text>\n</g>\n<!-- 34 -->\n<g id=\"node42\" class=\"node\"><title>34</title>\n<ellipse fill=\"none\" stroke=\"black\" cx=\"1743\" cy=\"-1009\" rx=\"19.4965\" ry=\"19.4965\"/>\n<text text-anchor=\"middle\" x=\"1743\" y=\"-1005.3\" font-family=\"Times,serif\" font-size=\"14.00\">34</text>\n</g>\n<!-- 33&#45;&gt;34 -->\n<g id=\"edge74\" class=\"edge\"><title>33&#45;&gt;34</title>\n<path fill=\"none\" stroke=\"black\" d=\"M1597.7,-1009C1625.99,-1009 1679.92,-1009 1713.23,-1009\"/>\n<polygon fill=\"black\" stroke=\"black\" points=\"1713.27,-1012.5 1723.27,-1009 1713.27,-1005.5 1713.27,-1012.5\"/>\n<text text-anchor=\"middle\" x=\"1654\" y=\"-1012.8\" font-family=\"Times,serif\" font-size=\"14.00\">&lt;eps&gt;:&lt;eps&gt;</text>\n</g>\n<!-- 34&#45;&gt;34 -->\n<g id=\"edge75\" class=\"edge\"><title>34&#45;&gt;34</title>\n<path fill=\"none\" stroke=\"black\" d=\"M1729.46,-1023.05C1724.05,-1034.34 1728.56,-1046 1743,-1046 1753.15,-1046 1758.4,-1040.24 1758.73,-1032.89\"/>\n<polygon fill=\"black\" stroke=\"black\" points=\"1762.13,-1032.04 1756.54,-1023.05 1755.3,-1033.57 1762.13,-1032.04\"/>\n<text text-anchor=\"middle\" x=\"1743\" y=\"-1049.8\" font-family=\"Times,serif\" font-size=\"14.00\">sil_1:&lt;eps&gt;</text>\n</g>\n<!-- 35 -->\n<g id=\"node43\" class=\"node\"><title>35</title>\n<ellipse fill=\"none\" stroke=\"black\" cx=\"1900\" cy=\"-1009\" rx=\"19.4965\" ry=\"19.4965\"/>\n<text text-anchor=\"middle\" x=\"1900\" y=\"-1005.3\" font-family=\"Times,serif\" font-size=\"14.00\">35</text>\n</g>\n<!-- 34&#45;&gt;35 -->\n<g id=\"edge76\" class=\"edge\"><title>34&#45;&gt;35</title>\n<path fill=\"none\" stroke=\"black\" d=\"M1762.7,-1009C1789.35,-1009 1838.5,-1009 1869.93,-1009\"/>\n<polygon fill=\"black\" stroke=\"black\" points=\"1870.24,-1012.5 1880.24,-1009 1870.24,-1005.5 1870.24,-1012.5\"/>\n<text text-anchor=\"middle\" x=\"1828\" y=\"-1012.8\" font-family=\"Times,serif\" font-size=\"14.00\">sil_1:&lt;eps&gt;</text>\n</g>\n<!-- 35&#45;&gt;35 -->\n<g id=\"edge77\" class=\"edge\"><title>35&#45;&gt;35</title>\n<path fill=\"none\" stroke=\"black\" d=\"M1887.95,-1024.2C1884.03,-1035.12 1888.05,-1046 1900,-1046 1908.03,-1046 1912.48,-1041.09 1913.34,-1034.56\"/>\n<polygon fill=\"black\" stroke=\"black\" points=\"1916.76,-1033.69 1912.05,-1024.2 1909.82,-1034.56 1916.76,-1033.69\"/>\n<text text-anchor=\"middle\" x=\"1900\" y=\"-1049.8\" font-family=\"Times,serif\" font-size=\"14.00\">sil_2:&lt;eps&gt;</text>\n</g>\n<!-- 36 -->\n<g id=\"node44\" class=\"node\"><title>36</title>\n<ellipse fill=\"none\" stroke=\"black\" cx=\"2056\" cy=\"-1009\" rx=\"19.4965\" ry=\"19.4965\"/>\n<text text-anchor=\"middle\" x=\"2056\" y=\"-1005.3\" font-family=\"Times,serif\" font-size=\"14.00\">36</text>\n</g>\n<!-- 35&#45;&gt;36 -->\n<g id=\"edge78\" class=\"edge\"><title>35&#45;&gt;36</title>\n<path fill=\"none\" stroke=\"black\" d=\"M1919.58,-1009C1946.05,-1009 1994.89,-1009 2026.11,-1009\"/>\n<polygon fill=\"black\" stroke=\"black\" points=\"2026.36,-1012.5 2036.36,-1009 2026.36,-1005.5 2026.36,-1012.5\"/>\n<text text-anchor=\"middle\" x=\"1976\" y=\"-1012.8\" font-family=\"Times,serif\" font-size=\"14.00\">sil_2:&lt;eps&gt;</text>\n</g>\n<!-- 36&#45;&gt;36 -->\n<g id=\"edge79\" class=\"edge\"><title>36&#45;&gt;36</title>\n<path fill=\"none\" stroke=\"black\" d=\"M2042.94,-1023.43C2038.05,-1034.6 2042.41,-1046 2056,-1046 2065.35,-1046 2070.32,-1040.61 2070.94,-1033.62\"/>\n<polygon fill=\"black\" stroke=\"black\" points=\"2074.31,-1032.63 2069.06,-1023.43 2067.43,-1033.9 2074.31,-1032.63\"/>\n<text text-anchor=\"middle\" x=\"2056\" y=\"-1049.8\" font-family=\"Times,serif\" font-size=\"14.00\">sil_3:&lt;eps&gt;</text>\n</g>\n<!-- 37 -->\n<g id=\"node45\" class=\"node\"><title>37</title>\n<ellipse fill=\"none\" stroke=\"black\" cx=\"2212\" cy=\"-1009\" rx=\"19.4965\" ry=\"19.4965\"/>\n<text text-anchor=\"middle\" x=\"2212\" y=\"-1005.3\" font-family=\"Times,serif\" font-size=\"14.00\">37</text>\n</g>\n<!-- 36&#45;&gt;37 -->\n<g id=\"edge80\" class=\"edge\"><title>36&#45;&gt;37</title>\n<path fill=\"none\" stroke=\"black\" d=\"M2075.58,-1009C2102.05,-1009 2150.89,-1009 2182.11,-1009\"/>\n<polygon fill=\"black\" stroke=\"black\" points=\"2182.36,-1012.5 2192.36,-1009 2182.36,-1005.5 2182.36,-1012.5\"/>\n<text text-anchor=\"middle\" x=\"2136\" y=\"-1012.8\" font-family=\"Times,serif\" font-size=\"14.00\">sil_3:&lt;eps&gt;</text>\n</g>\n<!-- 37&#45;&gt;37 -->\n<g id=\"edge81\" class=\"edge\"><title>37&#45;&gt;37</title>\n<path fill=\"none\" stroke=\"black\" d=\"M2199.95,-1024.2C2196.03,-1035.12 2200.05,-1046 2212,-1046 2220.03,-1046 2224.48,-1041.09 2225.34,-1034.56\"/>\n<polygon fill=\"black\" stroke=\"black\" points=\"2228.76,-1033.69 2224.05,-1024.2 2221.82,-1034.56 2228.76,-1033.69\"/>\n<text text-anchor=\"middle\" x=\"2212\" y=\"-1049.8\" font-family=\"Times,serif\" font-size=\"14.00\">sil_4:&lt;eps&gt;</text>\n</g>\n<!-- 38 -->\n<g id=\"node46\" class=\"node\"><title>38</title>\n<ellipse fill=\"none\" stroke=\"black\" cx=\"2356\" cy=\"-1009\" rx=\"19.4965\" ry=\"19.4965\"/>\n<text text-anchor=\"middle\" x=\"2356\" y=\"-1005.3\" font-family=\"Times,serif\" font-size=\"14.00\">38</text>\n</g>\n<!-- 37&#45;&gt;38 -->\n<g id=\"edge82\" class=\"edge\"><title>37&#45;&gt;38</title>\n<path fill=\"none\" stroke=\"black\" d=\"M2231.56,-1009C2255.7,-1009 2298.09,-1009 2326.36,-1009\"/>\n<polygon fill=\"black\" stroke=\"black\" points=\"2326.43,-1012.5 2336.43,-1009 2326.43,-1005.5 2326.43,-1012.5\"/>\n<text text-anchor=\"middle\" x=\"2284\" y=\"-1012.8\" font-family=\"Times,serif\" font-size=\"14.00\">sil_4:&lt;eps&gt;</text>\n</g>\n<!-- 38&#45;&gt;38 -->\n<g id=\"edge83\" class=\"edge\"><title>38&#45;&gt;38</title>\n<path fill=\"none\" stroke=\"black\" d=\"M2343.95,-1024.2C2340.03,-1035.12 2344.05,-1046 2356,-1046 2364.03,-1046 2368.48,-1041.09 2369.34,-1034.56\"/>\n<polygon fill=\"black\" stroke=\"black\" points=\"2372.76,-1033.69 2368.05,-1024.2 2365.82,-1034.56 2372.76,-1033.69\"/>\n<text text-anchor=\"middle\" x=\"2356\" y=\"-1049.8\" font-family=\"Times,serif\" font-size=\"14.00\">sil_5:&lt;eps&gt;</text>\n</g>\n<!-- 39 -->\n<g id=\"node47\" class=\"node\"><title>39</title>\n<ellipse fill=\"none\" stroke=\"black\" cx=\"2500\" cy=\"-985\" rx=\"19.4968\" ry=\"19.4968\"/>\n<ellipse fill=\"none\" stroke=\"black\" cx=\"2500\" cy=\"-985\" rx=\"23.4965\" ry=\"23.4965\"/>\n<text text-anchor=\"middle\" x=\"2500\" y=\"-981.3\" font-family=\"Times,serif\" font-size=\"14.00\">39</text>\n</g>\n<!-- 38&#45;&gt;39 -->\n<g id=\"edge84\" class=\"edge\"><title>38&#45;&gt;39</title>\n<path fill=\"none\" stroke=\"black\" d=\"M2375.27,-1005.91C2398.25,-1002.03 2438.12,-995.289 2466.38,-990.513\"/>\n<polygon fill=\"black\" stroke=\"black\" points=\"2467.31,-993.905 2476.59,-988.788 2466.15,-987.003 2467.31,-993.905\"/>\n<text text-anchor=\"middle\" x=\"2428\" y=\"-1005.8\" font-family=\"Times,serif\" font-size=\"14.00\">sil_5:&lt;eps&gt;</text>\n</g>\n<!-- 39&#45;&gt;0 -->\n<g id=\"edge85\" class=\"edge\"><title>39&#45;&gt;0</title>\n<path fill=\"none\" stroke=\"black\" d=\"M2477.04,-979.196C2449.29,-972.383 2399.96,-962 2357,-962 1827,-962 1827,-962 1827,-962 1261.64,-962 1120.36,-949 555,-949 163,-949 163,-949 163,-949 112.092,-949 90.6093,-956.98 51,-925 37.5807,-914.166 29.5895,-896.5 24.9487,-881.501\"/>\n<polygon fill=\"black\" stroke=\"black\" points=\"28.2693,-880.375 22.2456,-871.659 21.5192,-882.229 28.2693,-880.375\"/>\n<text text-anchor=\"middle\" x=\"1269\" y=\"-961.8\" font-family=\"Times,serif\" font-size=\"14.00\">&lt;eps&gt;:&lt;eps&gt;</text>\n</g>\n<!-- 41&#45;&gt;41 -->\n<g id=\"edge88\" class=\"edge\"><title>41&#45;&gt;41</title>\n<path fill=\"none\" stroke=\"black\" d=\"M307.465,-1651.05C302.051,-1662.34 306.562,-1674 321,-1674 331.151,-1674 336.396,-1668.24 336.733,-1660.89\"/>\n<polygon fill=\"black\" stroke=\"black\" points=\"340.13,-1660.04 334.535,-1651.05 333.299,-1661.57 340.13,-1660.04\"/>\n<text text-anchor=\"middle\" x=\"321\" y=\"-1677.8\" font-family=\"Times,serif\" font-size=\"14.00\">p_2:&lt;eps&gt;</text>\n</g>\n<!-- 42 -->\n<g id=\"node49\" class=\"node\"><title>42</title>\n<ellipse fill=\"none\" stroke=\"black\" cx=\"478\" cy=\"-1637\" rx=\"19.4965\" ry=\"19.4965\"/>\n<text text-anchor=\"middle\" x=\"478\" y=\"-1633.3\" font-family=\"Times,serif\" font-size=\"14.00\">42</text>\n</g>\n<!-- 41&#45;&gt;42 -->\n<g id=\"edge89\" class=\"edge\"><title>41&#45;&gt;42</title>\n<path fill=\"none\" stroke=\"black\" d=\"M340.697,-1637C367.346,-1637 416.5,-1637 447.926,-1637\"/>\n<polygon fill=\"black\" stroke=\"black\" points=\"448.237,-1640.5 458.237,-1637 448.237,-1633.5 448.237,-1640.5\"/>\n<text text-anchor=\"middle\" x=\"406\" y=\"-1640.8\" font-family=\"Times,serif\" font-size=\"14.00\">p_2:&lt;eps&gt;</text>\n</g>\n<!-- 42&#45;&gt;42 -->\n<g id=\"edge90\" class=\"edge\"><title>42&#45;&gt;42</title>\n<path fill=\"none\" stroke=\"black\" d=\"M465.953,-1652.2C462.031,-1663.12 466.047,-1674 478,-1674 486.031,-1674 490.479,-1669.09 491.344,-1662.56\"/>\n<polygon fill=\"black\" stroke=\"black\" points=\"494.763,-1661.69 490.047,-1652.2 487.817,-1662.56 494.763,-1661.69\"/>\n<text text-anchor=\"middle\" x=\"478\" y=\"-1677.8\" font-family=\"Times,serif\" font-size=\"14.00\">p_3:&lt;eps&gt;</text>\n</g>\n<!-- 43 -->\n<g id=\"node50\" class=\"node\"><title>43</title>\n<ellipse fill=\"none\" stroke=\"black\" cx=\"630\" cy=\"-1637\" rx=\"19.4965\" ry=\"19.4965\"/>\n<text text-anchor=\"middle\" x=\"630\" y=\"-1633.3\" font-family=\"Times,serif\" font-size=\"14.00\">43</text>\n</g>\n<!-- 42&#45;&gt;43 -->\n<g id=\"edge91\" class=\"edge\"><title>42&#45;&gt;43</title>\n<path fill=\"none\" stroke=\"black\" d=\"M497.694,-1637C523.294,-1637 569.52,-1637 599.732,-1637\"/>\n<polygon fill=\"black\" stroke=\"black\" points=\"600.07,-1640.5 610.07,-1637 600.07,-1633.5 600.07,-1640.5\"/>\n<text text-anchor=\"middle\" x=\"554\" y=\"-1640.8\" font-family=\"Times,serif\" font-size=\"14.00\">p_3:&lt;eps&gt;</text>\n</g>\n<!-- 43&#45;&gt;43 -->\n<g id=\"edge92\" class=\"edge\"><title>43&#45;&gt;43</title>\n<path fill=\"none\" stroke=\"black\" d=\"M617.434,-1651.82C613.046,-1662.87 617.234,-1674 630,-1674 638.776,-1674 643.499,-1668.74 644.167,-1661.86\"/>\n<polygon fill=\"black\" stroke=\"black\" points=\"647.597,-1661.14 642.566,-1651.82 640.685,-1662.24 647.597,-1661.14\"/>\n<text text-anchor=\"middle\" x=\"630\" y=\"-1677.8\" font-family=\"Times,serif\" font-size=\"14.00\">eh_1:&lt;eps&gt;</text>\n</g>\n<!-- 44 -->\n<g id=\"node51\" class=\"node\"><title>44</title>\n<ellipse fill=\"none\" stroke=\"black\" cx=\"795\" cy=\"-1637\" rx=\"19.4965\" ry=\"19.4965\"/>\n<text text-anchor=\"middle\" x=\"795\" y=\"-1633.3\" font-family=\"Times,serif\" font-size=\"14.00\">44</text>\n</g>\n<!-- 43&#45;&gt;44 -->\n<g id=\"edge93\" class=\"edge\"><title>43&#45;&gt;44</title>\n<path fill=\"none\" stroke=\"black\" d=\"M649.698,-1637C677.994,-1637 731.918,-1637 765.235,-1637\"/>\n<polygon fill=\"black\" stroke=\"black\" points=\"765.27,-1640.5 775.27,-1637 765.269,-1633.5 765.27,-1640.5\"/>\n<text text-anchor=\"middle\" x=\"706\" y=\"-1640.8\" font-family=\"Times,serif\" font-size=\"14.00\">eh_1:&lt;eps&gt;</text>\n</g>\n<!-- 44&#45;&gt;44 -->\n<g id=\"edge94\" class=\"edge\"><title>44&#45;&gt;44</title>\n<path fill=\"none\" stroke=\"black\" d=\"M781.465,-1651.05C776.051,-1662.34 780.562,-1674 795,-1674 805.151,-1674 810.396,-1668.24 810.733,-1660.89\"/>\n<polygon fill=\"black\" stroke=\"black\" points=\"814.13,-1660.04 808.535,-1651.05 807.299,-1661.57 814.13,-1660.04\"/>\n<text text-anchor=\"middle\" x=\"795\" y=\"-1677.8\" font-family=\"Times,serif\" font-size=\"14.00\">eh_2:&lt;eps&gt;</text>\n</g>\n<!-- 45 -->\n<g id=\"node52\" class=\"node\"><title>45</title>\n<ellipse fill=\"none\" stroke=\"black\" cx=\"952\" cy=\"-1637\" rx=\"19.4965\" ry=\"19.4965\"/>\n<text text-anchor=\"middle\" x=\"952\" y=\"-1633.3\" font-family=\"Times,serif\" font-size=\"14.00\">45</text>\n</g>\n<!-- 44&#45;&gt;45 -->\n<g id=\"edge95\" class=\"edge\"><title>44&#45;&gt;45</title>\n<path fill=\"none\" stroke=\"black\" d=\"M814.697,-1637C841.346,-1637 890.5,-1637 921.926,-1637\"/>\n<polygon fill=\"black\" stroke=\"black\" points=\"922.237,-1640.5 932.237,-1637 922.237,-1633.5 922.237,-1640.5\"/>\n<text text-anchor=\"middle\" x=\"880\" y=\"-1640.8\" font-family=\"Times,serif\" font-size=\"14.00\">eh_2:&lt;eps&gt;</text>\n</g>\n<!-- 45&#45;&gt;45 -->\n<g id=\"edge96\" class=\"edge\"><title>45&#45;&gt;45</title>\n<path fill=\"none\" stroke=\"black\" d=\"M939.953,-1652.2C936.031,-1663.12 940.047,-1674 952,-1674 960.031,-1674 964.479,-1669.09 965.344,-1662.56\"/>\n<polygon fill=\"black\" stroke=\"black\" points=\"968.763,-1661.69 964.047,-1652.2 961.817,-1662.56 968.763,-1661.69\"/>\n<text text-anchor=\"middle\" x=\"952\" y=\"-1677.8\" font-family=\"Times,serif\" font-size=\"14.00\">eh_3:&lt;eps&gt;</text>\n</g>\n<!-- 46 -->\n<g id=\"node53\" class=\"node\"><title>46</title>\n<ellipse fill=\"none\" stroke=\"black\" cx=\"1104\" cy=\"-1639\" rx=\"19.4965\" ry=\"19.4965\"/>\n<text text-anchor=\"middle\" x=\"1104\" y=\"-1635.3\" font-family=\"Times,serif\" font-size=\"14.00\">46</text>\n</g>\n<!-- 45&#45;&gt;46 -->\n<g id=\"edge97\" class=\"edge\"><title>45&#45;&gt;46</title>\n<path fill=\"none\" stroke=\"black\" d=\"M971.694,-1637.25C997.294,-1637.59 1043.52,-1638.21 1073.73,-1638.61\"/>\n<polygon fill=\"black\" stroke=\"black\" points=\"1074.02,-1642.11 1084.07,-1638.75 1074.12,-1635.11 1074.02,-1642.11\"/>\n<text text-anchor=\"middle\" x=\"1028\" y=\"-1641.8\" font-family=\"Times,serif\" font-size=\"14.00\">eh_3:&lt;eps&gt;</text>\n</g>\n<!-- 46&#45;&gt;46 -->\n<g id=\"edge98\" class=\"edge\"><title>46&#45;&gt;46</title>\n<path fill=\"none\" stroke=\"black\" d=\"M1091.43,-1653.82C1087.05,-1664.87 1091.23,-1676 1104,-1676 1112.78,-1676 1117.5,-1670.74 1118.17,-1663.86\"/>\n<polygon fill=\"black\" stroke=\"black\" points=\"1121.6,-1663.14 1116.57,-1653.82 1114.68,-1664.24 1121.6,-1663.14\"/>\n<text text-anchor=\"middle\" x=\"1104\" y=\"-1679.8\" font-family=\"Times,serif\" font-size=\"14.00\">p_1:&lt;eps&gt;</text>\n</g>\n<!-- 47 -->\n<g id=\"node54\" class=\"node\"><title>47</title>\n<ellipse fill=\"none\" stroke=\"black\" cx=\"1269\" cy=\"-1642\" rx=\"19.4965\" ry=\"19.4965\"/>\n<text text-anchor=\"middle\" x=\"1269\" y=\"-1638.3\" font-family=\"Times,serif\" font-size=\"14.00\">47</text>\n</g>\n<!-- 46&#45;&gt;47 -->\n<g id=\"edge99\" class=\"edge\"><title>46&#45;&gt;47</title>\n<path fill=\"none\" stroke=\"black\" d=\"M1123.7,-1639.34C1151.99,-1639.86 1205.92,-1640.86 1239.23,-1641.47\"/>\n<polygon fill=\"black\" stroke=\"black\" points=\"1239.21,-1644.97 1249.27,-1641.66 1239.34,-1637.97 1239.21,-1644.97\"/>\n<text text-anchor=\"middle\" x=\"1180\" y=\"-1644.8\" font-family=\"Times,serif\" font-size=\"14.00\">p_1:&lt;eps&gt;</text>\n</g>\n<!-- 47&#45;&gt;47 -->\n<g id=\"edge100\" class=\"edge\"><title>47&#45;&gt;47</title>\n<path fill=\"none\" stroke=\"black\" d=\"M1255.46,-1656.05C1250.05,-1667.34 1254.56,-1679 1269,-1679 1279.15,-1679 1284.4,-1673.24 1284.73,-1665.89\"/>\n<polygon fill=\"black\" stroke=\"black\" points=\"1288.13,-1665.04 1282.54,-1656.05 1281.3,-1666.57 1288.13,-1665.04\"/>\n<text text-anchor=\"middle\" x=\"1269\" y=\"-1682.8\" font-family=\"Times,serif\" font-size=\"14.00\">p_2:&lt;eps&gt;</text>\n</g>\n<!-- 48 -->\n<g id=\"node55\" class=\"node\"><title>48</title>\n<ellipse fill=\"none\" stroke=\"black\" cx=\"1426\" cy=\"-1639\" rx=\"19.4965\" ry=\"19.4965\"/>\n<text text-anchor=\"middle\" x=\"1426\" y=\"-1635.3\" font-family=\"Times,serif\" font-size=\"14.00\">48</text>\n</g>\n<!-- 47&#45;&gt;48 -->\n<g id=\"edge101\" class=\"edge\"><title>47&#45;&gt;48</title>\n<path fill=\"none\" stroke=\"black\" d=\"M1288.7,-1641.64C1315.35,-1641.12 1364.5,-1640.17 1395.93,-1639.56\"/>\n<polygon fill=\"black\" stroke=\"black\" points=\"1396.31,-1643.06 1406.24,-1639.36 1396.17,-1636.06 1396.31,-1643.06\"/>\n<text text-anchor=\"middle\" x=\"1354\" y=\"-1643.8\" font-family=\"Times,serif\" font-size=\"14.00\">p_2:&lt;eps&gt;</text>\n</g>\n<!-- 48&#45;&gt;48 -->\n<g id=\"edge102\" class=\"edge\"><title>48&#45;&gt;48</title>\n<path fill=\"none\" stroke=\"black\" d=\"M1413.95,-1654.2C1410.03,-1665.12 1414.05,-1676 1426,-1676 1434.03,-1676 1438.48,-1671.09 1439.34,-1664.56\"/>\n<polygon fill=\"black\" stroke=\"black\" points=\"1442.76,-1663.69 1438.05,-1654.2 1435.82,-1664.56 1442.76,-1663.69\"/>\n<text text-anchor=\"middle\" x=\"1426\" y=\"-1679.8\" font-family=\"Times,serif\" font-size=\"14.00\">p_3:&lt;eps&gt;</text>\n</g>\n<!-- 49 -->\n<g id=\"node56\" class=\"node\"><title>49</title>\n<ellipse fill=\"none\" stroke=\"black\" cx=\"1578\" cy=\"-1637\" rx=\"19.4965\" ry=\"19.4965\"/>\n<text text-anchor=\"middle\" x=\"1578\" y=\"-1633.3\" font-family=\"Times,serif\" font-size=\"14.00\">49</text>\n</g>\n<!-- 48&#45;&gt;49 -->\n<g id=\"edge103\" class=\"edge\"><title>48&#45;&gt;49</title>\n<path fill=\"none\" stroke=\"black\" d=\"M1445.69,-1638.75C1471.29,-1638.41 1517.52,-1637.79 1547.73,-1637.39\"/>\n<polygon fill=\"black\" stroke=\"black\" points=\"1548.12,-1640.89 1558.07,-1637.25 1548.02,-1633.89 1548.12,-1640.89\"/>\n<text text-anchor=\"middle\" x=\"1502\" y=\"-1641.8\" font-family=\"Times,serif\" font-size=\"14.00\">p_3:&lt;eps&gt;</text>\n</g>\n<!-- 49&#45;&gt;49 -->\n<g id=\"edge104\" class=\"edge\"><title>49&#45;&gt;49</title>\n<path fill=\"none\" stroke=\"black\" d=\"M1565.43,-1651.82C1561.05,-1662.87 1565.23,-1674 1578,-1674 1586.78,-1674 1591.5,-1668.74 1592.17,-1661.86\"/>\n<polygon fill=\"black\" stroke=\"black\" points=\"1595.6,-1661.14 1590.57,-1651.82 1588.68,-1662.24 1595.6,-1661.14\"/>\n<text text-anchor=\"middle\" x=\"1578\" y=\"-1677.8\" font-family=\"Times,serif\" font-size=\"14.00\">er_1:&lt;eps&gt;</text>\n</g>\n<!-- 50 -->\n<g id=\"node57\" class=\"node\"><title>50</title>\n<ellipse fill=\"none\" stroke=\"black\" cx=\"1743\" cy=\"-1637\" rx=\"19.4965\" ry=\"19.4965\"/>\n<text text-anchor=\"middle\" x=\"1743\" y=\"-1633.3\" font-family=\"Times,serif\" font-size=\"14.00\">50</text>\n</g>\n<!-- 49&#45;&gt;50 -->\n<g id=\"edge105\" class=\"edge\"><title>49&#45;&gt;50</title>\n<path fill=\"none\" stroke=\"black\" d=\"M1597.7,-1637C1625.99,-1637 1679.92,-1637 1713.23,-1637\"/>\n<polygon fill=\"black\" stroke=\"black\" points=\"1713.27,-1640.5 1723.27,-1637 1713.27,-1633.5 1713.27,-1640.5\"/>\n<text text-anchor=\"middle\" x=\"1654\" y=\"-1640.8\" font-family=\"Times,serif\" font-size=\"14.00\">er_1:&lt;eps&gt;</text>\n</g>\n<!-- 50&#45;&gt;50 -->\n<g id=\"edge106\" class=\"edge\"><title>50&#45;&gt;50</title>\n<path fill=\"none\" stroke=\"black\" d=\"M1729.46,-1651.05C1724.05,-1662.34 1728.56,-1674 1743,-1674 1753.15,-1674 1758.4,-1668.24 1758.73,-1660.89\"/>\n<polygon fill=\"black\" stroke=\"black\" points=\"1762.13,-1660.04 1756.54,-1651.05 1755.3,-1661.57 1762.13,-1660.04\"/>\n<text text-anchor=\"middle\" x=\"1743\" y=\"-1677.8\" font-family=\"Times,serif\" font-size=\"14.00\">er_2:&lt;eps&gt;</text>\n</g>\n<!-- 51 -->\n<g id=\"node58\" class=\"node\"><title>51</title>\n<ellipse fill=\"none\" stroke=\"black\" cx=\"1900\" cy=\"-1637\" rx=\"19.4965\" ry=\"19.4965\"/>\n<text text-anchor=\"middle\" x=\"1900\" y=\"-1633.3\" font-family=\"Times,serif\" font-size=\"14.00\">51</text>\n</g>\n<!-- 50&#45;&gt;51 -->\n<g id=\"edge107\" class=\"edge\"><title>50&#45;&gt;51</title>\n<path fill=\"none\" stroke=\"black\" d=\"M1762.7,-1637C1789.35,-1637 1838.5,-1637 1869.93,-1637\"/>\n<polygon fill=\"black\" stroke=\"black\" points=\"1870.24,-1640.5 1880.24,-1637 1870.24,-1633.5 1870.24,-1640.5\"/>\n<text text-anchor=\"middle\" x=\"1828\" y=\"-1640.8\" font-family=\"Times,serif\" font-size=\"14.00\">er_2:&lt;eps&gt;</text>\n</g>\n<!-- 51&#45;&gt;51 -->\n<g id=\"edge108\" class=\"edge\"><title>51&#45;&gt;51</title>\n<path fill=\"none\" stroke=\"black\" d=\"M1887.95,-1652.2C1884.03,-1663.12 1888.05,-1674 1900,-1674 1908.03,-1674 1912.48,-1669.09 1913.34,-1662.56\"/>\n<polygon fill=\"black\" stroke=\"black\" points=\"1916.76,-1661.69 1912.05,-1652.2 1909.82,-1662.56 1916.76,-1661.69\"/>\n<text text-anchor=\"middle\" x=\"1900\" y=\"-1677.8\" font-family=\"Times,serif\" font-size=\"14.00\">er_3:&lt;eps&gt;</text>\n</g>\n<!-- 52 -->\n<g id=\"node59\" class=\"node\"><title>52</title>\n<ellipse fill=\"none\" stroke=\"black\" cx=\"2056\" cy=\"-1637\" rx=\"19.4965\" ry=\"19.4965\"/>\n<text text-anchor=\"middle\" x=\"2056\" y=\"-1633.3\" font-family=\"Times,serif\" font-size=\"14.00\">52</text>\n</g>\n<!-- 51&#45;&gt;52 -->\n<g id=\"edge109\" class=\"edge\"><title>51&#45;&gt;52</title>\n<path fill=\"none\" stroke=\"black\" d=\"M1919.58,-1637C1946.05,-1637 1994.89,-1637 2026.11,-1637\"/>\n<polygon fill=\"black\" stroke=\"black\" points=\"2026.36,-1640.5 2036.36,-1637 2026.36,-1633.5 2026.36,-1640.5\"/>\n<text text-anchor=\"middle\" x=\"1976\" y=\"-1640.8\" font-family=\"Times,serif\" font-size=\"14.00\">er_3:&lt;eps&gt;</text>\n</g>\n<!-- 52&#45;&gt;52 -->\n<g id=\"edge110\" class=\"edge\"><title>52&#45;&gt;52</title>\n<path fill=\"none\" stroke=\"black\" d=\"M2042.94,-1651.43C2038.05,-1662.6 2042.41,-1674 2056,-1674 2065.35,-1674 2070.32,-1668.61 2070.94,-1661.62\"/>\n<polygon fill=\"black\" stroke=\"black\" points=\"2074.31,-1660.63 2069.06,-1651.43 2067.43,-1661.9 2074.31,-1660.63\"/>\n<text text-anchor=\"middle\" x=\"2056\" y=\"-1677.8\" font-family=\"Times,serif\" font-size=\"14.00\">z_1:&lt;eps&gt;</text>\n</g>\n<!-- 53 -->\n<g id=\"node60\" class=\"node\"><title>53</title>\n<ellipse fill=\"none\" stroke=\"black\" cx=\"2212\" cy=\"-1637\" rx=\"19.4965\" ry=\"19.4965\"/>\n<text text-anchor=\"middle\" x=\"2212\" y=\"-1633.3\" font-family=\"Times,serif\" font-size=\"14.00\">53</text>\n</g>\n<!-- 52&#45;&gt;53 -->\n<g id=\"edge111\" class=\"edge\"><title>52&#45;&gt;53</title>\n<path fill=\"none\" stroke=\"black\" d=\"M2075.58,-1637C2102.05,-1637 2150.89,-1637 2182.11,-1637\"/>\n<polygon fill=\"black\" stroke=\"black\" points=\"2182.36,-1640.5 2192.36,-1637 2182.36,-1633.5 2182.36,-1640.5\"/>\n<text text-anchor=\"middle\" x=\"2136\" y=\"-1640.8\" font-family=\"Times,serif\" font-size=\"14.00\">z_1:&lt;eps&gt;</text>\n</g>\n<!-- 53&#45;&gt;53 -->\n<g id=\"edge112\" class=\"edge\"><title>53&#45;&gt;53</title>\n<path fill=\"none\" stroke=\"black\" d=\"M2199.95,-1652.2C2196.03,-1663.12 2200.05,-1674 2212,-1674 2220.03,-1674 2224.48,-1669.09 2225.34,-1662.56\"/>\n<polygon fill=\"black\" stroke=\"black\" points=\"2228.76,-1661.69 2224.05,-1652.2 2221.82,-1662.56 2228.76,-1661.69\"/>\n<text text-anchor=\"middle\" x=\"2212\" y=\"-1677.8\" font-family=\"Times,serif\" font-size=\"14.00\">z_2:&lt;eps&gt;</text>\n</g>\n<!-- 54 -->\n<g id=\"node61\" class=\"node\"><title>54</title>\n<ellipse fill=\"none\" stroke=\"black\" cx=\"2356\" cy=\"-1637\" rx=\"19.4965\" ry=\"19.4965\"/>\n<text text-anchor=\"middle\" x=\"2356\" y=\"-1633.3\" font-family=\"Times,serif\" font-size=\"14.00\">54</text>\n</g>\n<!-- 53&#45;&gt;54 -->\n<g id=\"edge113\" class=\"edge\"><title>53&#45;&gt;54</title>\n<path fill=\"none\" stroke=\"black\" d=\"M2231.56,-1637C2255.7,-1637 2298.09,-1637 2326.36,-1637\"/>\n<polygon fill=\"black\" stroke=\"black\" points=\"2326.43,-1640.5 2336.43,-1637 2326.43,-1633.5 2326.43,-1640.5\"/>\n<text text-anchor=\"middle\" x=\"2284\" y=\"-1640.8\" font-family=\"Times,serif\" font-size=\"14.00\">z_2:&lt;eps&gt;</text>\n</g>\n<!-- 54&#45;&gt;54 -->\n<g id=\"edge114\" class=\"edge\"><title>54&#45;&gt;54</title>\n<path fill=\"none\" stroke=\"black\" d=\"M2343.95,-1652.2C2340.03,-1663.12 2344.05,-1674 2356,-1674 2364.03,-1674 2368.48,-1669.09 2369.34,-1662.56\"/>\n<polygon fill=\"black\" stroke=\"black\" points=\"2372.76,-1661.69 2368.05,-1652.2 2365.82,-1662.56 2372.76,-1661.69\"/>\n<text text-anchor=\"middle\" x=\"2356\" y=\"-1677.8\" font-family=\"Times,serif\" font-size=\"14.00\">z_3:&lt;eps&gt;</text>\n</g>\n<!-- 55 -->\n<g id=\"node62\" class=\"node\"><title>55</title>\n<ellipse fill=\"none\" stroke=\"black\" cx=\"2500\" cy=\"-1590\" rx=\"19.4965\" ry=\"19.4965\"/>\n<text text-anchor=\"middle\" x=\"2500\" y=\"-1586.3\" font-family=\"Times,serif\" font-size=\"14.00\">55</text>\n</g>\n<!-- 54&#45;&gt;55 -->\n<g id=\"edge115\" class=\"edge\"><title>54&#45;&gt;55</title>\n<path fill=\"none\" stroke=\"black\" d=\"M2374.75,-1631.64C2395.51,-1625.3 2430.89,-1614.32 2461,-1604 2464.6,-1602.77 2468.38,-1601.43 2472.11,-1600.08\"/>\n<polygon fill=\"black\" stroke=\"black\" points=\"2473.47,-1603.31 2481.66,-1596.58 2471.06,-1596.74 2473.47,-1603.31\"/>\n<text text-anchor=\"middle\" x=\"2428\" y=\"-1627.8\" font-family=\"Times,serif\" font-size=\"14.00\">z_3:p</text>\n</g>\n<!-- 55&#45;&gt;0 -->\n<g id=\"edge116\" class=\"edge\"><title>55&#45;&gt;0</title>\n<path fill=\"none\" stroke=\"black\" d=\"M2480.16,-1590C2452.97,-1590 2401.13,-1590 2357,-1590 163,-1590 163,-1590 163,-1590 105.447,-1590 80.9007,-1574.18 51,-1525 17.2887,-1469.56 18.0066,-1003.4 18.7696,-882.531\"/>\n<polygon fill=\"black\" stroke=\"black\" points=\"22.2714,-882.268 18.8402,-872.244 15.2716,-882.219 22.2714,-882.268\"/>\n<text text-anchor=\"middle\" x=\"1269\" y=\"-1593.8\" font-family=\"Times,serif\" font-size=\"14.00\">&lt;eps&gt;:&lt;eps&gt;</text>\n</g>\n<!-- 56 -->\n<g id=\"node63\" class=\"node\"><title>56</title>\n<ellipse fill=\"none\" stroke=\"black\" cx=\"2652\" cy=\"-1298\" rx=\"19.4965\" ry=\"19.4965\"/>\n<text text-anchor=\"middle\" x=\"2652\" y=\"-1294.3\" font-family=\"Times,serif\" font-size=\"14.00\">56</text>\n</g>\n<!-- 55&#45;&gt;56 -->\n<g id=\"edge117\" class=\"edge\"><title>55&#45;&gt;56</title>\n<path fill=\"none\" stroke=\"black\" d=\"M2509.71,-1573.04C2534.83,-1524.15 2607.48,-1382.71 2637.64,-1324.01\"/>\n<polygon fill=\"black\" stroke=\"black\" points=\"2640.81,-1325.5 2642.26,-1315.01 2634.58,-1322.3 2640.81,-1325.5\"/>\n<text text-anchor=\"middle\" x=\"2576\" y=\"-1514.8\" font-family=\"Times,serif\" font-size=\"14.00\">&lt;eps&gt;:&lt;eps&gt;</text>\n</g>\n<!-- 56&#45;&gt;56 -->\n<g id=\"edge118\" class=\"edge\"><title>56&#45;&gt;56</title>\n<path fill=\"none\" stroke=\"black\" d=\"M2639.95,-1313.2C2636.03,-1324.12 2640.05,-1335 2652,-1335 2660.03,-1335 2664.48,-1330.09 2665.34,-1323.56\"/>\n<polygon fill=\"black\" stroke=\"black\" points=\"2668.76,-1322.69 2664.05,-1313.2 2661.82,-1323.56 2668.76,-1322.69\"/>\n<text text-anchor=\"middle\" x=\"2652\" y=\"-1338.8\" font-family=\"Times,serif\" font-size=\"14.00\">sil_1:&lt;eps&gt;</text>\n</g>\n<!-- 57 -->\n<g id=\"node64\" class=\"node\"><title>57</title>\n<ellipse fill=\"none\" stroke=\"black\" cx=\"2796\" cy=\"-1100\" rx=\"19.4965\" ry=\"19.4965\"/>\n<text text-anchor=\"middle\" x=\"2796\" y=\"-1096.3\" font-family=\"Times,serif\" font-size=\"14.00\">57</text>\n</g>\n<!-- 56&#45;&gt;57 -->\n<g id=\"edge119\" class=\"edge\"><title>56&#45;&gt;57</title>\n<path fill=\"none\" stroke=\"black\" d=\"M2664.14,-1282.46C2688.87,-1247.98 2748.48,-1164.86 2777.94,-1123.79\"/>\n<polygon fill=\"black\" stroke=\"black\" points=\"2780.93,-1125.63 2783.91,-1115.46 2775.24,-1121.55 2780.93,-1125.63\"/>\n<text text-anchor=\"middle\" x=\"2724\" y=\"-1247.8\" font-family=\"Times,serif\" font-size=\"14.00\">sil_1:&lt;eps&gt;</text>\n</g>\n<!-- 57&#45;&gt;57 -->\n<g id=\"edge120\" class=\"edge\"><title>57&#45;&gt;57</title>\n<path fill=\"none\" stroke=\"black\" d=\"M2783.95,-1115.2C2780.03,-1126.12 2784.05,-1137 2796,-1137 2804.03,-1137 2808.48,-1132.09 2809.34,-1125.56\"/>\n<polygon fill=\"black\" stroke=\"black\" points=\"2812.76,-1124.69 2808.05,-1115.2 2805.82,-1125.56 2812.76,-1124.69\"/>\n<text text-anchor=\"middle\" x=\"2796\" y=\"-1140.8\" font-family=\"Times,serif\" font-size=\"14.00\">sil_2:&lt;eps&gt;</text>\n</g>\n<!-- 58 -->\n<g id=\"node65\" class=\"node\"><title>58</title>\n<ellipse fill=\"none\" stroke=\"black\" cx=\"2944\" cy=\"-1038\" rx=\"19.4965\" ry=\"19.4965\"/>\n<text text-anchor=\"middle\" x=\"2944\" y=\"-1034.3\" font-family=\"Times,serif\" font-size=\"14.00\">58</text>\n</g>\n<!-- 57&#45;&gt;58 -->\n<g id=\"edge121\" class=\"edge\"><title>57&#45;&gt;58</title>\n<path fill=\"none\" stroke=\"black\" d=\"M2814.32,-1092.64C2839.57,-1081.92 2886.68,-1061.91 2916.36,-1049.31\"/>\n<polygon fill=\"black\" stroke=\"black\" points=\"2917.86,-1052.48 2925.7,-1045.35 2915.13,-1046.03 2917.86,-1052.48\"/>\n<text text-anchor=\"middle\" x=\"2868\" y=\"-1086.8\" font-family=\"Times,serif\" font-size=\"14.00\">sil_2:&lt;eps&gt;</text>\n</g>\n<!-- 58&#45;&gt;58 -->\n<g id=\"edge122\" class=\"edge\"><title>58&#45;&gt;58</title>\n<path fill=\"none\" stroke=\"black\" d=\"M2931.43,-1052.82C2927.05,-1063.87 2931.23,-1075 2944,-1075 2952.78,-1075 2957.5,-1069.74 2958.17,-1062.86\"/>\n<polygon fill=\"black\" stroke=\"black\" points=\"2961.6,-1062.14 2956.57,-1052.82 2954.68,-1063.24 2961.6,-1062.14\"/>\n<text text-anchor=\"middle\" x=\"2944\" y=\"-1078.8\" font-family=\"Times,serif\" font-size=\"14.00\">sil_3:&lt;eps&gt;</text>\n</g>\n<!-- 59 -->\n<g id=\"node66\" class=\"node\"><title>59</title>\n<ellipse fill=\"none\" stroke=\"black\" cx=\"3100\" cy=\"-976\" rx=\"19.4965\" ry=\"19.4965\"/>\n<text text-anchor=\"middle\" x=\"3100\" y=\"-972.3\" font-family=\"Times,serif\" font-size=\"14.00\">59</text>\n</g>\n<!-- 58&#45;&gt;59 -->\n<g id=\"edge123\" class=\"edge\"><title>58&#45;&gt;59</title>\n<path fill=\"none\" stroke=\"black\" d=\"M2962.37,-1031.01C2989.05,-1020.26 3040.37,-999.604 3071.96,-986.888\"/>\n<polygon fill=\"black\" stroke=\"black\" points=\"3073.49,-990.043 3081.46,-983.061 3070.88,-983.549 3073.49,-990.043\"/>\n<text text-anchor=\"middle\" x=\"3024\" y=\"-1022.8\" font-family=\"Times,serif\" font-size=\"14.00\">sil_3:&lt;eps&gt;</text>\n</g>\n<!-- 59&#45;&gt;59 -->\n<g id=\"edge124\" class=\"edge\"><title>59&#45;&gt;59</title>\n<path fill=\"none\" stroke=\"black\" d=\"M3087.95,-991.203C3084.03,-1002.12 3088.05,-1013 3100,-1013 3108.03,-1013 3112.48,-1008.09 3113.34,-1001.56\"/>\n<polygon fill=\"black\" stroke=\"black\" points=\"3116.76,-1000.69 3112.05,-991.203 3109.82,-1001.56 3116.76,-1000.69\"/>\n<text text-anchor=\"middle\" x=\"3100\" y=\"-1016.8\" font-family=\"Times,serif\" font-size=\"14.00\">sil_4:&lt;eps&gt;</text>\n</g>\n<!-- 60 -->\n<g id=\"node67\" class=\"node\"><title>60</title>\n<ellipse fill=\"none\" stroke=\"black\" cx=\"3244\" cy=\"-935\" rx=\"19.4965\" ry=\"19.4965\"/>\n<text text-anchor=\"middle\" x=\"3244\" y=\"-931.3\" font-family=\"Times,serif\" font-size=\"14.00\">60</text>\n</g>\n<!-- 59&#45;&gt;60 -->\n<g id=\"edge125\" class=\"edge\"><title>59&#45;&gt;60</title>\n<path fill=\"none\" stroke=\"black\" d=\"M3118.98,-970.807C3143.31,-963.783 3186.93,-951.189 3215.42,-942.965\"/>\n<polygon fill=\"black\" stroke=\"black\" points=\"3216.53,-946.287 3225.16,-940.151 3214.58,-939.562 3216.53,-946.287\"/>\n<text text-anchor=\"middle\" x=\"3172\" y=\"-969.8\" font-family=\"Times,serif\" font-size=\"14.00\">sil_4:&lt;eps&gt;</text>\n</g>\n<!-- 60&#45;&gt;60 -->\n<g id=\"edge126\" class=\"edge\"><title>60&#45;&gt;60</title>\n<path fill=\"none\" stroke=\"black\" d=\"M3231.95,-950.203C3228.03,-961.123 3232.05,-972 3244,-972 3252.03,-972 3256.48,-967.09 3257.34,-960.555\"/>\n<polygon fill=\"black\" stroke=\"black\" points=\"3260.76,-959.69 3256.05,-950.203 3253.82,-960.56 3260.76,-959.69\"/>\n<text text-anchor=\"middle\" x=\"3244\" y=\"-975.8\" font-family=\"Times,serif\" font-size=\"14.00\">sil_5:&lt;eps&gt;</text>\n</g>\n<!-- 61 -->\n<g id=\"node68\" class=\"node\"><title>61</title>\n<ellipse fill=\"none\" stroke=\"black\" cx=\"3388\" cy=\"-897\" rx=\"19.4968\" ry=\"19.4968\"/>\n<ellipse fill=\"none\" stroke=\"black\" cx=\"3388\" cy=\"-897\" rx=\"23.4965\" ry=\"23.4965\"/>\n<text text-anchor=\"middle\" x=\"3388\" y=\"-893.3\" font-family=\"Times,serif\" font-size=\"14.00\">61</text>\n</g>\n<!-- 60&#45;&gt;61 -->\n<g id=\"edge127\" class=\"edge\"><title>60&#45;&gt;61</title>\n<path fill=\"none\" stroke=\"black\" d=\"M3262.98,-930.187C3286.11,-923.997 3326.69,-913.14 3355.11,-905.535\"/>\n<polygon fill=\"black\" stroke=\"black\" points=\"3356.22,-908.861 3364.97,-902.895 3354.41,-902.099 3356.22,-908.861\"/>\n<text text-anchor=\"middle\" x=\"3316\" y=\"-928.8\" font-family=\"Times,serif\" font-size=\"14.00\">sil_5:&lt;eps&gt;</text>\n</g>\n<!-- 61&#45;&gt;0 -->\n<g id=\"edge128\" class=\"edge\"><title>61&#45;&gt;0</title>\n<path fill=\"none\" stroke=\"black\" d=\"M3364.46,-892.88C3336.53,-888.139 3287.42,-881 3245,-881 1827,-881 1827,-881 1827,-881 1539.87,-881 1468.13,-873 1181,-873 163,-873 163,-873 163,-873 121.857,-873 74.6664,-865.282 45.8483,-859.685\"/>\n<polygon fill=\"black\" stroke=\"black\" points=\"46.2466,-856.195 35.754,-857.663 44.8722,-863.059 46.2466,-856.195\"/>\n<text text-anchor=\"middle\" x=\"1743\" y=\"-884.8\" font-family=\"Times,serif\" font-size=\"14.00\">&lt;eps&gt;:&lt;eps&gt;</text>\n</g>\n<!-- 63&#45;&gt;63 -->\n<g id=\"edge131\" class=\"edge\"><title>63&#45;&gt;63</title>\n<path fill=\"none\" stroke=\"black\" d=\"M307.465,-1478.05C302.051,-1489.34 306.562,-1501 321,-1501 331.151,-1501 336.396,-1495.24 336.733,-1487.89\"/>\n<polygon fill=\"black\" stroke=\"black\" points=\"340.13,-1487.04 334.535,-1478.05 333.299,-1488.57 340.13,-1487.04\"/>\n<text text-anchor=\"middle\" x=\"321\" y=\"-1504.8\" font-family=\"Times,serif\" font-size=\"14.00\">p_2:&lt;eps&gt;</text>\n</g>\n<!-- 64 -->\n<g id=\"node70\" class=\"node\"><title>64</title>\n<ellipse fill=\"none\" stroke=\"black\" cx=\"478\" cy=\"-1464\" rx=\"19.4965\" ry=\"19.4965\"/>\n<text text-anchor=\"middle\" x=\"478\" y=\"-1460.3\" font-family=\"Times,serif\" font-size=\"14.00\">64</text>\n</g>\n<!-- 63&#45;&gt;64 -->\n<g id=\"edge132\" class=\"edge\"><title>63&#45;&gt;64</title>\n<path fill=\"none\" stroke=\"black\" d=\"M340.697,-1464C367.346,-1464 416.5,-1464 447.926,-1464\"/>\n<polygon fill=\"black\" stroke=\"black\" points=\"448.237,-1467.5 458.237,-1464 448.237,-1460.5 448.237,-1467.5\"/>\n<text text-anchor=\"middle\" x=\"406\" y=\"-1467.8\" font-family=\"Times,serif\" font-size=\"14.00\">p_2:&lt;eps&gt;</text>\n</g>\n<!-- 64&#45;&gt;64 -->\n<g id=\"edge133\" class=\"edge\"><title>64&#45;&gt;64</title>\n<path fill=\"none\" stroke=\"black\" d=\"M465.953,-1479.2C462.031,-1490.12 466.047,-1501 478,-1501 486.031,-1501 490.479,-1496.09 491.344,-1489.56\"/>\n<polygon fill=\"black\" stroke=\"black\" points=\"494.763,-1488.69 490.047,-1479.2 487.817,-1489.56 494.763,-1488.69\"/>\n<text text-anchor=\"middle\" x=\"478\" y=\"-1504.8\" font-family=\"Times,serif\" font-size=\"14.00\">p_3:&lt;eps&gt;</text>\n</g>\n<!-- 65 -->\n<g id=\"node71\" class=\"node\"><title>65</title>\n<ellipse fill=\"none\" stroke=\"black\" cx=\"630\" cy=\"-1464\" rx=\"19.4965\" ry=\"19.4965\"/>\n<text text-anchor=\"middle\" x=\"630\" y=\"-1460.3\" font-family=\"Times,serif\" font-size=\"14.00\">65</text>\n</g>\n<!-- 64&#45;&gt;65 -->\n<g id=\"edge134\" class=\"edge\"><title>64&#45;&gt;65</title>\n<path fill=\"none\" stroke=\"black\" d=\"M497.694,-1464C523.294,-1464 569.52,-1464 599.732,-1464\"/>\n<polygon fill=\"black\" stroke=\"black\" points=\"600.07,-1467.5 610.07,-1464 600.07,-1460.5 600.07,-1467.5\"/>\n<text text-anchor=\"middle\" x=\"554\" y=\"-1467.8\" font-family=\"Times,serif\" font-size=\"14.00\">p_3:&lt;eps&gt;</text>\n</g>\n<!-- 65&#45;&gt;65 -->\n<g id=\"edge135\" class=\"edge\"><title>65&#45;&gt;65</title>\n<path fill=\"none\" stroke=\"black\" d=\"M617.434,-1478.82C613.046,-1489.87 617.234,-1501 630,-1501 638.776,-1501 643.499,-1495.74 644.167,-1488.86\"/>\n<polygon fill=\"black\" stroke=\"black\" points=\"647.597,-1488.14 642.566,-1478.82 640.685,-1489.24 647.597,-1488.14\"/>\n<text text-anchor=\"middle\" x=\"630\" y=\"-1504.8\" font-family=\"Times,serif\" font-size=\"14.00\">iy_1:&lt;eps&gt;</text>\n</g>\n<!-- 66 -->\n<g id=\"node72\" class=\"node\"><title>66</title>\n<ellipse fill=\"none\" stroke=\"black\" cx=\"795\" cy=\"-1464\" rx=\"19.4965\" ry=\"19.4965\"/>\n<text text-anchor=\"middle\" x=\"795\" y=\"-1460.3\" font-family=\"Times,serif\" font-size=\"14.00\">66</text>\n</g>\n<!-- 65&#45;&gt;66 -->\n<g id=\"edge136\" class=\"edge\"><title>65&#45;&gt;66</title>\n<path fill=\"none\" stroke=\"black\" d=\"M649.698,-1464C677.994,-1464 731.918,-1464 765.235,-1464\"/>\n<polygon fill=\"black\" stroke=\"black\" points=\"765.27,-1467.5 775.27,-1464 765.269,-1460.5 765.27,-1467.5\"/>\n<text text-anchor=\"middle\" x=\"706\" y=\"-1467.8\" font-family=\"Times,serif\" font-size=\"14.00\">iy_1:&lt;eps&gt;</text>\n</g>\n<!-- 66&#45;&gt;66 -->\n<g id=\"edge137\" class=\"edge\"><title>66&#45;&gt;66</title>\n<path fill=\"none\" stroke=\"black\" d=\"M781.465,-1478.05C776.051,-1489.34 780.562,-1501 795,-1501 805.151,-1501 810.396,-1495.24 810.733,-1487.89\"/>\n<polygon fill=\"black\" stroke=\"black\" points=\"814.13,-1487.04 808.535,-1478.05 807.299,-1488.57 814.13,-1487.04\"/>\n<text text-anchor=\"middle\" x=\"795\" y=\"-1504.8\" font-family=\"Times,serif\" font-size=\"14.00\">iy_2:&lt;eps&gt;</text>\n</g>\n<!-- 67 -->\n<g id=\"node73\" class=\"node\"><title>67</title>\n<ellipse fill=\"none\" stroke=\"black\" cx=\"952\" cy=\"-1464\" rx=\"19.4965\" ry=\"19.4965\"/>\n<text text-anchor=\"middle\" x=\"952\" y=\"-1460.3\" font-family=\"Times,serif\" font-size=\"14.00\">67</text>\n</g>\n<!-- 66&#45;&gt;67 -->\n<g id=\"edge138\" class=\"edge\"><title>66&#45;&gt;67</title>\n<path fill=\"none\" stroke=\"black\" d=\"M814.697,-1464C841.346,-1464 890.5,-1464 921.926,-1464\"/>\n<polygon fill=\"black\" stroke=\"black\" points=\"922.237,-1467.5 932.237,-1464 922.237,-1460.5 922.237,-1467.5\"/>\n<text text-anchor=\"middle\" x=\"880\" y=\"-1467.8\" font-family=\"Times,serif\" font-size=\"14.00\">iy_2:&lt;eps&gt;</text>\n</g>\n<!-- 67&#45;&gt;67 -->\n<g id=\"edge139\" class=\"edge\"><title>67&#45;&gt;67</title>\n<path fill=\"none\" stroke=\"black\" d=\"M939.953,-1479.2C936.031,-1490.12 940.047,-1501 952,-1501 960.031,-1501 964.479,-1496.09 965.344,-1489.56\"/>\n<polygon fill=\"black\" stroke=\"black\" points=\"968.763,-1488.69 964.047,-1479.2 961.817,-1489.56 968.763,-1488.69\"/>\n<text text-anchor=\"middle\" x=\"952\" y=\"-1504.8\" font-family=\"Times,serif\" font-size=\"14.00\">iy_3:&lt;eps&gt;</text>\n</g>\n<!-- 68 -->\n<g id=\"node74\" class=\"node\"><title>68</title>\n<ellipse fill=\"none\" stroke=\"black\" cx=\"1104\" cy=\"-1464\" rx=\"19.4965\" ry=\"19.4965\"/>\n<text text-anchor=\"middle\" x=\"1104\" y=\"-1460.3\" font-family=\"Times,serif\" font-size=\"14.00\">68</text>\n</g>\n<!-- 67&#45;&gt;68 -->\n<g id=\"edge140\" class=\"edge\"><title>67&#45;&gt;68</title>\n<path fill=\"none\" stroke=\"black\" d=\"M971.694,-1464C997.294,-1464 1043.52,-1464 1073.73,-1464\"/>\n<polygon fill=\"black\" stroke=\"black\" points=\"1074.07,-1467.5 1084.07,-1464 1074.07,-1460.5 1074.07,-1467.5\"/>\n<text text-anchor=\"middle\" x=\"1028\" y=\"-1467.8\" font-family=\"Times,serif\" font-size=\"14.00\">iy_3:&lt;eps&gt;</text>\n</g>\n<!-- 68&#45;&gt;68 -->\n<g id=\"edge141\" class=\"edge\"><title>68&#45;&gt;68</title>\n<path fill=\"none\" stroke=\"black\" d=\"M1091.43,-1478.82C1087.05,-1489.87 1091.23,-1501 1104,-1501 1112.78,-1501 1117.5,-1495.74 1118.17,-1488.86\"/>\n<polygon fill=\"black\" stroke=\"black\" points=\"1121.6,-1488.14 1116.57,-1478.82 1114.68,-1489.24 1121.6,-1488.14\"/>\n<text text-anchor=\"middle\" x=\"1104\" y=\"-1504.8\" font-family=\"Times,serif\" font-size=\"14.00\">t_1:&lt;eps&gt;</text>\n</g>\n<!-- 69 -->\n<g id=\"node75\" class=\"node\"><title>69</title>\n<ellipse fill=\"none\" stroke=\"black\" cx=\"1269\" cy=\"-1464\" rx=\"19.4965\" ry=\"19.4965\"/>\n<text text-anchor=\"middle\" x=\"1269\" y=\"-1460.3\" font-family=\"Times,serif\" font-size=\"14.00\">69</text>\n</g>\n<!-- 68&#45;&gt;69 -->\n<g id=\"edge142\" class=\"edge\"><title>68&#45;&gt;69</title>\n<path fill=\"none\" stroke=\"black\" d=\"M1123.7,-1464C1151.99,-1464 1205.92,-1464 1239.23,-1464\"/>\n<polygon fill=\"black\" stroke=\"black\" points=\"1239.27,-1467.5 1249.27,-1464 1239.27,-1460.5 1239.27,-1467.5\"/>\n<text text-anchor=\"middle\" x=\"1180\" y=\"-1467.8\" font-family=\"Times,serif\" font-size=\"14.00\">t_1:&lt;eps&gt;</text>\n</g>\n<!-- 69&#45;&gt;69 -->\n<g id=\"edge143\" class=\"edge\"><title>69&#45;&gt;69</title>\n<path fill=\"none\" stroke=\"black\" d=\"M1255.46,-1478.05C1250.05,-1489.34 1254.56,-1501 1269,-1501 1279.15,-1501 1284.4,-1495.24 1284.73,-1487.89\"/>\n<polygon fill=\"black\" stroke=\"black\" points=\"1288.13,-1487.04 1282.54,-1478.05 1281.3,-1488.57 1288.13,-1487.04\"/>\n<text text-anchor=\"middle\" x=\"1269\" y=\"-1504.8\" font-family=\"Times,serif\" font-size=\"14.00\">t_2:&lt;eps&gt;</text>\n</g>\n<!-- 70 -->\n<g id=\"node76\" class=\"node\"><title>70</title>\n<ellipse fill=\"none\" stroke=\"black\" cx=\"1426\" cy=\"-1464\" rx=\"19.4965\" ry=\"19.4965\"/>\n<text text-anchor=\"middle\" x=\"1426\" y=\"-1460.3\" font-family=\"Times,serif\" font-size=\"14.00\">70</text>\n</g>\n<!-- 69&#45;&gt;70 -->\n<g id=\"edge144\" class=\"edge\"><title>69&#45;&gt;70</title>\n<path fill=\"none\" stroke=\"black\" d=\"M1288.7,-1464C1315.35,-1464 1364.5,-1464 1395.93,-1464\"/>\n<polygon fill=\"black\" stroke=\"black\" points=\"1396.24,-1467.5 1406.24,-1464 1396.24,-1460.5 1396.24,-1467.5\"/>\n<text text-anchor=\"middle\" x=\"1354\" y=\"-1467.8\" font-family=\"Times,serif\" font-size=\"14.00\">t_2:&lt;eps&gt;</text>\n</g>\n<!-- 70&#45;&gt;70 -->\n<g id=\"edge145\" class=\"edge\"><title>70&#45;&gt;70</title>\n<path fill=\"none\" stroke=\"black\" d=\"M1413.95,-1479.2C1410.03,-1490.12 1414.05,-1501 1426,-1501 1434.03,-1501 1438.48,-1496.09 1439.34,-1489.56\"/>\n<polygon fill=\"black\" stroke=\"black\" points=\"1442.76,-1488.69 1438.05,-1479.2 1435.82,-1489.56 1442.76,-1488.69\"/>\n<text text-anchor=\"middle\" x=\"1426\" y=\"-1504.8\" font-family=\"Times,serif\" font-size=\"14.00\">t_3:&lt;eps&gt;</text>\n</g>\n<!-- 71 -->\n<g id=\"node77\" class=\"node\"><title>71</title>\n<ellipse fill=\"none\" stroke=\"black\" cx=\"1578\" cy=\"-1464\" rx=\"19.4965\" ry=\"19.4965\"/>\n<text text-anchor=\"middle\" x=\"1578\" y=\"-1460.3\" font-family=\"Times,serif\" font-size=\"14.00\">71</text>\n</g>\n<!-- 70&#45;&gt;71 -->\n<g id=\"edge146\" class=\"edge\"><title>70&#45;&gt;71</title>\n<path fill=\"none\" stroke=\"black\" d=\"M1445.69,-1464C1471.29,-1464 1517.52,-1464 1547.73,-1464\"/>\n<polygon fill=\"black\" stroke=\"black\" points=\"1548.07,-1467.5 1558.07,-1464 1548.07,-1460.5 1548.07,-1467.5\"/>\n<text text-anchor=\"middle\" x=\"1502\" y=\"-1467.8\" font-family=\"Times,serif\" font-size=\"14.00\">t_3:&lt;eps&gt;</text>\n</g>\n<!-- 71&#45;&gt;71 -->\n<g id=\"edge147\" class=\"edge\"><title>71&#45;&gt;71</title>\n<path fill=\"none\" stroke=\"black\" d=\"M1565.43,-1478.82C1561.05,-1489.87 1565.23,-1501 1578,-1501 1586.78,-1501 1591.5,-1495.74 1592.17,-1488.86\"/>\n<polygon fill=\"black\" stroke=\"black\" points=\"1595.6,-1488.14 1590.57,-1478.82 1588.68,-1489.24 1595.6,-1488.14\"/>\n<text text-anchor=\"middle\" x=\"1578\" y=\"-1504.8\" font-family=\"Times,serif\" font-size=\"14.00\">er_1:&lt;eps&gt;</text>\n</g>\n<!-- 72 -->\n<g id=\"node78\" class=\"node\"><title>72</title>\n<ellipse fill=\"none\" stroke=\"black\" cx=\"1743\" cy=\"-1464\" rx=\"19.4965\" ry=\"19.4965\"/>\n<text text-anchor=\"middle\" x=\"1743\" y=\"-1460.3\" font-family=\"Times,serif\" font-size=\"14.00\">72</text>\n</g>\n<!-- 71&#45;&gt;72 -->\n<g id=\"edge148\" class=\"edge\"><title>71&#45;&gt;72</title>\n<path fill=\"none\" stroke=\"black\" d=\"M1597.7,-1464C1625.99,-1464 1679.92,-1464 1713.23,-1464\"/>\n<polygon fill=\"black\" stroke=\"black\" points=\"1713.27,-1467.5 1723.27,-1464 1713.27,-1460.5 1713.27,-1467.5\"/>\n<text text-anchor=\"middle\" x=\"1654\" y=\"-1467.8\" font-family=\"Times,serif\" font-size=\"14.00\">er_1:&lt;eps&gt;</text>\n</g>\n<!-- 72&#45;&gt;72 -->\n<g id=\"edge149\" class=\"edge\"><title>72&#45;&gt;72</title>\n<path fill=\"none\" stroke=\"black\" d=\"M1729.46,-1478.05C1724.05,-1489.34 1728.56,-1501 1743,-1501 1753.15,-1501 1758.4,-1495.24 1758.73,-1487.89\"/>\n<polygon fill=\"black\" stroke=\"black\" points=\"1762.13,-1487.04 1756.54,-1478.05 1755.3,-1488.57 1762.13,-1487.04\"/>\n<text text-anchor=\"middle\" x=\"1743\" y=\"-1504.8\" font-family=\"Times,serif\" font-size=\"14.00\">er_2:&lt;eps&gt;</text>\n</g>\n<!-- 73 -->\n<g id=\"node79\" class=\"node\"><title>73</title>\n<ellipse fill=\"none\" stroke=\"black\" cx=\"1900\" cy=\"-1464\" rx=\"19.4965\" ry=\"19.4965\"/>\n<text text-anchor=\"middle\" x=\"1900\" y=\"-1460.3\" font-family=\"Times,serif\" font-size=\"14.00\">73</text>\n</g>\n<!-- 72&#45;&gt;73 -->\n<g id=\"edge150\" class=\"edge\"><title>72&#45;&gt;73</title>\n<path fill=\"none\" stroke=\"black\" d=\"M1762.7,-1464C1789.35,-1464 1838.5,-1464 1869.93,-1464\"/>\n<polygon fill=\"black\" stroke=\"black\" points=\"1870.24,-1467.5 1880.24,-1464 1870.24,-1460.5 1870.24,-1467.5\"/>\n<text text-anchor=\"middle\" x=\"1828\" y=\"-1467.8\" font-family=\"Times,serif\" font-size=\"14.00\">er_2:&lt;eps&gt;</text>\n</g>\n<!-- 73&#45;&gt;73 -->\n<g id=\"edge151\" class=\"edge\"><title>73&#45;&gt;73</title>\n<path fill=\"none\" stroke=\"black\" d=\"M1887.95,-1479.2C1884.03,-1490.12 1888.05,-1501 1900,-1501 1908.03,-1501 1912.48,-1496.09 1913.34,-1489.56\"/>\n<polygon fill=\"black\" stroke=\"black\" points=\"1916.76,-1488.69 1912.05,-1479.2 1909.82,-1489.56 1916.76,-1488.69\"/>\n<text text-anchor=\"middle\" x=\"1900\" y=\"-1504.8\" font-family=\"Times,serif\" font-size=\"14.00\">er_3:&lt;eps&gt;</text>\n</g>\n<!-- 74 -->\n<g id=\"node80\" class=\"node\"><title>74</title>\n<ellipse fill=\"none\" stroke=\"black\" cx=\"2056\" cy=\"-1464\" rx=\"19.4965\" ry=\"19.4965\"/>\n<text text-anchor=\"middle\" x=\"2056\" y=\"-1460.3\" font-family=\"Times,serif\" font-size=\"14.00\">74</text>\n</g>\n<!-- 73&#45;&gt;74 -->\n<g id=\"edge152\" class=\"edge\"><title>73&#45;&gt;74</title>\n<path fill=\"none\" stroke=\"black\" d=\"M1919.58,-1464C1946.05,-1464 1994.89,-1464 2026.11,-1464\"/>\n<polygon fill=\"black\" stroke=\"black\" points=\"2026.36,-1467.5 2036.36,-1464 2026.36,-1460.5 2026.36,-1467.5\"/>\n<text text-anchor=\"middle\" x=\"1976\" y=\"-1467.8\" font-family=\"Times,serif\" font-size=\"14.00\">er_3:eh</text>\n</g>\n<!-- 74&#45;&gt;0 -->\n<g id=\"edge153\" class=\"edge\"><title>74&#45;&gt;0</title>\n<path fill=\"none\" stroke=\"black\" d=\"M2041.39,-1476.85C2015.95,-1499.47 1958.55,-1544 1901,-1544 163,-1544 163,-1544 163,-1544 106.104,-1544 81.1289,-1530.26 51,-1482 18.9731,-1430.7 18.415,-997.641 18.8433,-882.19\"/>\n<polygon fill=\"black\" stroke=\"black\" points=\"22.3438,-882.047 18.8868,-872.032 15.3439,-882.017 22.3438,-882.047\"/>\n<text text-anchor=\"middle\" x=\"1028\" y=\"-1547.8\" font-family=\"Times,serif\" font-size=\"14.00\">&lt;eps&gt;:&lt;eps&gt;</text>\n</g>\n<!-- 75 -->\n<g id=\"node81\" class=\"node\"><title>75</title>\n<ellipse fill=\"none\" stroke=\"black\" cx=\"2212\" cy=\"-1398\" rx=\"19.4965\" ry=\"19.4965\"/>\n<text text-anchor=\"middle\" x=\"2212\" y=\"-1394.3\" font-family=\"Times,serif\" font-size=\"14.00\">75</text>\n</g>\n<!-- 74&#45;&gt;75 -->\n<g id=\"edge154\" class=\"edge\"><title>74&#45;&gt;75</title>\n<path fill=\"none\" stroke=\"black\" d=\"M2074.07,-1456.68C2100.78,-1445.24 2152.67,-1423 2184.34,-1409.43\"/>\n<polygon fill=\"black\" stroke=\"black\" points=\"2186.04,-1412.5 2193.85,-1405.35 2183.28,-1406.07 2186.04,-1412.5\"/>\n<text text-anchor=\"middle\" x=\"2136\" y=\"-1447.8\" font-family=\"Times,serif\" font-size=\"14.00\">&lt;eps&gt;:&lt;eps&gt;</text>\n</g>\n<!-- 75&#45;&gt;75 -->\n<g id=\"edge155\" class=\"edge\"><title>75&#45;&gt;75</title>\n<path fill=\"none\" stroke=\"black\" d=\"M2199.95,-1413.2C2196.03,-1424.12 2200.05,-1435 2212,-1435 2220.03,-1435 2224.48,-1430.09 2225.34,-1423.56\"/>\n<polygon fill=\"black\" stroke=\"black\" points=\"2228.76,-1422.69 2224.05,-1413.2 2221.82,-1423.56 2228.76,-1422.69\"/>\n<text text-anchor=\"middle\" x=\"2212\" y=\"-1438.8\" font-family=\"Times,serif\" font-size=\"14.00\">sil_1:&lt;eps&gt;</text>\n</g>\n<!-- 76 -->\n<g id=\"node82\" class=\"node\"><title>76</title>\n<ellipse fill=\"none\" stroke=\"black\" cx=\"2356\" cy=\"-1267\" rx=\"19.4965\" ry=\"19.4965\"/>\n<text text-anchor=\"middle\" x=\"2356\" y=\"-1263.3\" font-family=\"Times,serif\" font-size=\"14.00\">76</text>\n</g>\n<!-- 75&#45;&gt;76 -->\n<g id=\"edge156\" class=\"edge\"><title>75&#45;&gt;76</title>\n<path fill=\"none\" stroke=\"black\" d=\"M2226.87,-1385.2C2251.75,-1362.25 2304.1,-1313.96 2333.6,-1286.74\"/>\n<polygon fill=\"black\" stroke=\"black\" points=\"2336.3,-1289.01 2341.28,-1279.66 2331.56,-1283.87 2336.3,-1289.01\"/>\n<text text-anchor=\"middle\" x=\"2284\" y=\"-1365.8\" font-family=\"Times,serif\" font-size=\"14.00\">sil_1:&lt;eps&gt;</text>\n</g>\n<!-- 76&#45;&gt;76 -->\n<g id=\"edge157\" class=\"edge\"><title>76&#45;&gt;76</title>\n<path fill=\"none\" stroke=\"black\" d=\"M2343.95,-1282.2C2340.03,-1293.12 2344.05,-1304 2356,-1304 2364.03,-1304 2368.48,-1299.09 2369.34,-1292.56\"/>\n<polygon fill=\"black\" stroke=\"black\" points=\"2372.76,-1291.69 2368.05,-1282.2 2365.82,-1292.56 2372.76,-1291.69\"/>\n<text text-anchor=\"middle\" x=\"2356\" y=\"-1307.8\" font-family=\"Times,serif\" font-size=\"14.00\">sil_2:&lt;eps&gt;</text>\n</g>\n<!-- 77 -->\n<g id=\"node83\" class=\"node\"><title>77</title>\n<ellipse fill=\"none\" stroke=\"black\" cx=\"2500\" cy=\"-1058\" rx=\"19.4965\" ry=\"19.4965\"/>\n<text text-anchor=\"middle\" x=\"2500\" y=\"-1054.3\" font-family=\"Times,serif\" font-size=\"14.00\">77</text>\n</g>\n<!-- 76&#45;&gt;77 -->\n<g id=\"edge158\" class=\"edge\"><title>76&#45;&gt;77</title>\n<path fill=\"none\" stroke=\"black\" d=\"M2367.67,-1251.29C2392.3,-1215.04 2453.24,-1125.35 2482.63,-1082.1\"/>\n<polygon fill=\"black\" stroke=\"black\" points=\"2485.67,-1083.84 2488.4,-1073.61 2479.88,-1079.91 2485.67,-1083.84\"/>\n<text text-anchor=\"middle\" x=\"2428\" y=\"-1213.8\" font-family=\"Times,serif\" font-size=\"14.00\">sil_2:&lt;eps&gt;</text>\n</g>\n<!-- 77&#45;&gt;77 -->\n<g id=\"edge159\" class=\"edge\"><title>77&#45;&gt;77</title>\n<path fill=\"none\" stroke=\"black\" d=\"M2487.95,-1073.2C2484.03,-1084.12 2488.05,-1095 2500,-1095 2508.03,-1095 2512.48,-1090.09 2513.34,-1083.56\"/>\n<polygon fill=\"black\" stroke=\"black\" points=\"2516.76,-1082.69 2512.05,-1073.2 2509.82,-1083.56 2516.76,-1082.69\"/>\n<text text-anchor=\"middle\" x=\"2500\" y=\"-1098.8\" font-family=\"Times,serif\" font-size=\"14.00\">sil_3:&lt;eps&gt;</text>\n</g>\n<!-- 78 -->\n<g id=\"node84\" class=\"node\"><title>78</title>\n<ellipse fill=\"none\" stroke=\"black\" cx=\"2652\" cy=\"-1004\" rx=\"19.4965\" ry=\"19.4965\"/>\n<text text-anchor=\"middle\" x=\"2652\" y=\"-1000.3\" font-family=\"Times,serif\" font-size=\"14.00\">78</text>\n</g>\n<!-- 77&#45;&gt;78 -->\n<g id=\"edge160\" class=\"edge\"><title>77&#45;&gt;78</title>\n<path fill=\"none\" stroke=\"black\" d=\"M2518.5,-1051.7C2544.33,-1042.4 2592.9,-1024.92 2623.51,-1013.9\"/>\n<polygon fill=\"black\" stroke=\"black\" points=\"2624.92,-1017.11 2633.15,-1010.43 2622.55,-1010.52 2624.92,-1017.11\"/>\n<text text-anchor=\"middle\" x=\"2576\" y=\"-1046.8\" font-family=\"Times,serif\" font-size=\"14.00\">sil_3:&lt;eps&gt;</text>\n</g>\n<!-- 78&#45;&gt;78 -->\n<g id=\"edge161\" class=\"edge\"><title>78&#45;&gt;78</title>\n<path fill=\"none\" stroke=\"black\" d=\"M2639.95,-1019.2C2636.03,-1030.12 2640.05,-1041 2652,-1041 2660.03,-1041 2664.48,-1036.09 2665.34,-1029.56\"/>\n<polygon fill=\"black\" stroke=\"black\" points=\"2668.76,-1028.69 2664.05,-1019.2 2661.82,-1029.56 2668.76,-1028.69\"/>\n<text text-anchor=\"middle\" x=\"2652\" y=\"-1044.8\" font-family=\"Times,serif\" font-size=\"14.00\">sil_4:&lt;eps&gt;</text>\n</g>\n<!-- 79 -->\n<g id=\"node85\" class=\"node\"><title>79</title>\n<ellipse fill=\"none\" stroke=\"black\" cx=\"2796\" cy=\"-982\" rx=\"19.4965\" ry=\"19.4965\"/>\n<text text-anchor=\"middle\" x=\"2796\" y=\"-978.3\" font-family=\"Times,serif\" font-size=\"14.00\">79</text>\n</g>\n<!-- 78&#45;&gt;79 -->\n<g id=\"edge162\" class=\"edge\"><title>78&#45;&gt;79</title>\n<path fill=\"none\" stroke=\"black\" d=\"M2671.56,-1001.12C2695.7,-997.385 2738.09,-990.818 2766.36,-986.438\"/>\n<polygon fill=\"black\" stroke=\"black\" points=\"2767.09,-989.867 2776.43,-984.877 2766.01,-982.949 2767.09,-989.867\"/>\n<text text-anchor=\"middle\" x=\"2724\" y=\"-1001.8\" font-family=\"Times,serif\" font-size=\"14.00\">sil_4:&lt;eps&gt;</text>\n</g>\n<!-- 79&#45;&gt;79 -->\n<g id=\"edge163\" class=\"edge\"><title>79&#45;&gt;79</title>\n<path fill=\"none\" stroke=\"black\" d=\"M2783.95,-997.203C2780.03,-1008.12 2784.05,-1019 2796,-1019 2804.03,-1019 2808.48,-1014.09 2809.34,-1007.56\"/>\n<polygon fill=\"black\" stroke=\"black\" points=\"2812.76,-1006.69 2808.05,-997.203 2805.82,-1007.56 2812.76,-1006.69\"/>\n<text text-anchor=\"middle\" x=\"2796\" y=\"-1022.8\" font-family=\"Times,serif\" font-size=\"14.00\">sil_5:&lt;eps&gt;</text>\n</g>\n<!-- 80 -->\n<g id=\"node86\" class=\"node\"><title>80</title>\n<ellipse fill=\"none\" stroke=\"black\" cx=\"2944\" cy=\"-951\" rx=\"19.4968\" ry=\"19.4968\"/>\n<ellipse fill=\"none\" stroke=\"black\" cx=\"2944\" cy=\"-951\" rx=\"23.4965\" ry=\"23.4965\"/>\n<text text-anchor=\"middle\" x=\"2944\" y=\"-947.3\" font-family=\"Times,serif\" font-size=\"14.00\">80</text>\n</g>\n<!-- 79&#45;&gt;80 -->\n<g id=\"edge164\" class=\"edge\"><title>79&#45;&gt;80</title>\n<path fill=\"none\" stroke=\"black\" d=\"M2815.2,-978.137C2839.13,-973.055 2881.58,-964.041 2910.95,-957.804\"/>\n<polygon fill=\"black\" stroke=\"black\" points=\"2911.69,-961.226 2920.75,-955.725 2910.24,-954.378 2911.69,-961.226\"/>\n<text text-anchor=\"middle\" x=\"2868\" y=\"-977.8\" font-family=\"Times,serif\" font-size=\"14.00\">sil_5:&lt;eps&gt;</text>\n</g>\n<!-- 80&#45;&gt;0 -->\n<g id=\"edge165\" class=\"edge\"><title>80&#45;&gt;0</title>\n<path fill=\"none\" stroke=\"black\" d=\"M2920.97,-944.326C2892.59,-936.33 2841.59,-924 2797,-924 1827,-924 1827,-924 1827,-924 1539.83,-924 1468.17,-911 1181,-911 163,-911 163,-911 163,-911 112.092,-911 95.5301,-911.671 51,-887 45.6336,-884.027 40.6046,-879.863 36.1942,-875.493\"/>\n<polygon fill=\"black\" stroke=\"black\" points=\"38.7524,-873.104 29.4056,-868.115 33.6013,-877.844 38.7524,-873.104\"/>\n<text text-anchor=\"middle\" x=\"1502\" y=\"-922.8\" font-family=\"Times,serif\" font-size=\"14.00\">&lt;eps&gt;:&lt;eps&gt;</text>\n</g>\n<!-- 82&#45;&gt;82 -->\n<g id=\"edge168\" class=\"edge\"><title>82&#45;&gt;82</title>\n<path fill=\"none\" stroke=\"black\" d=\"M307.465,-669.047C302.051,-680.341 306.562,-692 321,-692 331.151,-692 336.396,-686.236 336.733,-678.888\"/>\n<polygon fill=\"black\" stroke=\"black\" points=\"340.13,-678.043 334.535,-669.047 333.299,-679.569 340.13,-678.043\"/>\n<text text-anchor=\"middle\" x=\"321\" y=\"-695.8\" font-family=\"Times,serif\" font-size=\"14.00\">p_2:&lt;eps&gt;</text>\n</g>\n<!-- 83 -->\n<g id=\"node88\" class=\"node\"><title>83</title>\n<ellipse fill=\"none\" stroke=\"black\" cx=\"478\" cy=\"-655\" rx=\"19.4965\" ry=\"19.4965\"/>\n<text text-anchor=\"middle\" x=\"478\" y=\"-651.3\" font-family=\"Times,serif\" font-size=\"14.00\">83</text>\n</g>\n<!-- 82&#45;&gt;83 -->\n<g id=\"edge169\" class=\"edge\"><title>82&#45;&gt;83</title>\n<path fill=\"none\" stroke=\"black\" d=\"M340.697,-655C367.346,-655 416.5,-655 447.926,-655\"/>\n<polygon fill=\"black\" stroke=\"black\" points=\"448.237,-658.5 458.237,-655 448.237,-651.5 448.237,-658.5\"/>\n<text text-anchor=\"middle\" x=\"406\" y=\"-658.8\" font-family=\"Times,serif\" font-size=\"14.00\">p_2:&lt;eps&gt;</text>\n</g>\n<!-- 83&#45;&gt;83 -->\n<g id=\"edge170\" class=\"edge\"><title>83&#45;&gt;83</title>\n<path fill=\"none\" stroke=\"black\" d=\"M465.953,-670.203C462.031,-681.123 466.047,-692 478,-692 486.031,-692 490.479,-687.09 491.344,-680.555\"/>\n<polygon fill=\"black\" stroke=\"black\" points=\"494.763,-679.69 490.047,-670.203 487.817,-680.56 494.763,-679.69\"/>\n<text text-anchor=\"middle\" x=\"478\" y=\"-695.8\" font-family=\"Times,serif\" font-size=\"14.00\">p_3:&lt;eps&gt;</text>\n</g>\n<!-- 84 -->\n<g id=\"node89\" class=\"node\"><title>84</title>\n<ellipse fill=\"none\" stroke=\"black\" cx=\"630\" cy=\"-655\" rx=\"19.4965\" ry=\"19.4965\"/>\n<text text-anchor=\"middle\" x=\"630\" y=\"-651.3\" font-family=\"Times,serif\" font-size=\"14.00\">84</text>\n</g>\n<!-- 83&#45;&gt;84 -->\n<g id=\"edge171\" class=\"edge\"><title>83&#45;&gt;84</title>\n<path fill=\"none\" stroke=\"black\" d=\"M497.694,-655C523.294,-655 569.52,-655 599.732,-655\"/>\n<polygon fill=\"black\" stroke=\"black\" points=\"600.07,-658.5 610.07,-655 600.07,-651.5 600.07,-658.5\"/>\n<text text-anchor=\"middle\" x=\"554\" y=\"-658.8\" font-family=\"Times,serif\" font-size=\"14.00\">p_3:&lt;eps&gt;</text>\n</g>\n<!-- 84&#45;&gt;84 -->\n<g id=\"edge172\" class=\"edge\"><title>84&#45;&gt;84</title>\n<path fill=\"none\" stroke=\"black\" d=\"M617.434,-669.817C613.046,-680.865 617.234,-692 630,-692 638.776,-692 643.499,-686.737 644.167,-679.858\"/>\n<polygon fill=\"black\" stroke=\"black\" points=\"647.597,-679.141 642.566,-669.817 640.685,-680.244 647.597,-679.141\"/>\n<text text-anchor=\"middle\" x=\"630\" y=\"-695.8\" font-family=\"Times,serif\" font-size=\"14.00\">ih_1:&lt;eps&gt;</text>\n</g>\n<!-- 85 -->\n<g id=\"node90\" class=\"node\"><title>85</title>\n<ellipse fill=\"none\" stroke=\"black\" cx=\"795\" cy=\"-655\" rx=\"19.4965\" ry=\"19.4965\"/>\n<text text-anchor=\"middle\" x=\"795\" y=\"-651.3\" font-family=\"Times,serif\" font-size=\"14.00\">85</text>\n</g>\n<!-- 84&#45;&gt;85 -->\n<g id=\"edge173\" class=\"edge\"><title>84&#45;&gt;85</title>\n<path fill=\"none\" stroke=\"black\" d=\"M649.698,-655C677.994,-655 731.918,-655 765.235,-655\"/>\n<polygon fill=\"black\" stroke=\"black\" points=\"765.27,-658.5 775.27,-655 765.269,-651.5 765.27,-658.5\"/>\n<text text-anchor=\"middle\" x=\"706\" y=\"-658.8\" font-family=\"Times,serif\" font-size=\"14.00\">ih_1:&lt;eps&gt;</text>\n</g>\n<!-- 85&#45;&gt;85 -->\n<g id=\"edge174\" class=\"edge\"><title>85&#45;&gt;85</title>\n<path fill=\"none\" stroke=\"black\" d=\"M781.465,-669.047C776.051,-680.341 780.562,-692 795,-692 805.151,-692 810.396,-686.236 810.733,-678.888\"/>\n<polygon fill=\"black\" stroke=\"black\" points=\"814.13,-678.043 808.535,-669.047 807.299,-679.569 814.13,-678.043\"/>\n<text text-anchor=\"middle\" x=\"795\" y=\"-695.8\" font-family=\"Times,serif\" font-size=\"14.00\">ih_2:&lt;eps&gt;</text>\n</g>\n<!-- 86 -->\n<g id=\"node91\" class=\"node\"><title>86</title>\n<ellipse fill=\"none\" stroke=\"black\" cx=\"952\" cy=\"-655\" rx=\"19.4965\" ry=\"19.4965\"/>\n<text text-anchor=\"middle\" x=\"952\" y=\"-651.3\" font-family=\"Times,serif\" font-size=\"14.00\">86</text>\n</g>\n<!-- 85&#45;&gt;86 -->\n<g id=\"edge175\" class=\"edge\"><title>85&#45;&gt;86</title>\n<path fill=\"none\" stroke=\"black\" d=\"M814.697,-655C841.346,-655 890.5,-655 921.926,-655\"/>\n<polygon fill=\"black\" stroke=\"black\" points=\"922.237,-658.5 932.237,-655 922.237,-651.5 922.237,-658.5\"/>\n<text text-anchor=\"middle\" x=\"880\" y=\"-658.8\" font-family=\"Times,serif\" font-size=\"14.00\">ih_2:&lt;eps&gt;</text>\n</g>\n<!-- 86&#45;&gt;86 -->\n<g id=\"edge176\" class=\"edge\"><title>86&#45;&gt;86</title>\n<path fill=\"none\" stroke=\"black\" d=\"M939.953,-670.203C936.031,-681.123 940.047,-692 952,-692 960.031,-692 964.479,-687.09 965.344,-680.555\"/>\n<polygon fill=\"black\" stroke=\"black\" points=\"968.763,-679.69 964.047,-670.203 961.817,-680.56 968.763,-679.69\"/>\n<text text-anchor=\"middle\" x=\"952\" y=\"-695.8\" font-family=\"Times,serif\" font-size=\"14.00\">ih_3:&lt;eps&gt;</text>\n</g>\n<!-- 87 -->\n<g id=\"node92\" class=\"node\"><title>87</title>\n<ellipse fill=\"none\" stroke=\"black\" cx=\"1104\" cy=\"-655\" rx=\"19.4965\" ry=\"19.4965\"/>\n<text text-anchor=\"middle\" x=\"1104\" y=\"-651.3\" font-family=\"Times,serif\" font-size=\"14.00\">87</text>\n</g>\n<!-- 86&#45;&gt;87 -->\n<g id=\"edge177\" class=\"edge\"><title>86&#45;&gt;87</title>\n<path fill=\"none\" stroke=\"black\" d=\"M971.694,-655C997.294,-655 1043.52,-655 1073.73,-655\"/>\n<polygon fill=\"black\" stroke=\"black\" points=\"1074.07,-658.5 1084.07,-655 1074.07,-651.5 1074.07,-658.5\"/>\n<text text-anchor=\"middle\" x=\"1028\" y=\"-658.8\" font-family=\"Times,serif\" font-size=\"14.00\">ih_3:&lt;eps&gt;</text>\n</g>\n<!-- 87&#45;&gt;87 -->\n<g id=\"edge178\" class=\"edge\"><title>87&#45;&gt;87</title>\n<path fill=\"none\" stroke=\"black\" d=\"M1091.43,-669.817C1087.05,-680.865 1091.23,-692 1104,-692 1112.78,-692 1117.5,-686.737 1118.17,-679.858\"/>\n<polygon fill=\"black\" stroke=\"black\" points=\"1121.6,-679.141 1116.57,-669.817 1114.68,-680.244 1121.6,-679.141\"/>\n<text text-anchor=\"middle\" x=\"1104\" y=\"-695.8\" font-family=\"Times,serif\" font-size=\"14.00\">k_1:&lt;eps&gt;</text>\n</g>\n<!-- 88 -->\n<g id=\"node93\" class=\"node\"><title>88</title>\n<ellipse fill=\"none\" stroke=\"black\" cx=\"1269\" cy=\"-655\" rx=\"19.4965\" ry=\"19.4965\"/>\n<text text-anchor=\"middle\" x=\"1269\" y=\"-651.3\" font-family=\"Times,serif\" font-size=\"14.00\">88</text>\n</g>\n<!-- 87&#45;&gt;88 -->\n<g id=\"edge179\" class=\"edge\"><title>87&#45;&gt;88</title>\n<path fill=\"none\" stroke=\"black\" d=\"M1123.7,-655C1151.99,-655 1205.92,-655 1239.23,-655\"/>\n<polygon fill=\"black\" stroke=\"black\" points=\"1239.27,-658.5 1249.27,-655 1239.27,-651.5 1239.27,-658.5\"/>\n<text text-anchor=\"middle\" x=\"1180\" y=\"-658.8\" font-family=\"Times,serif\" font-size=\"14.00\">k_1:&lt;eps&gt;</text>\n</g>\n<!-- 88&#45;&gt;88 -->\n<g id=\"edge180\" class=\"edge\"><title>88&#45;&gt;88</title>\n<path fill=\"none\" stroke=\"black\" d=\"M1255.46,-669.047C1250.05,-680.341 1254.56,-692 1269,-692 1279.15,-692 1284.4,-686.236 1284.73,-678.888\"/>\n<polygon fill=\"black\" stroke=\"black\" points=\"1288.13,-678.043 1282.54,-669.047 1281.3,-679.569 1288.13,-678.043\"/>\n<text text-anchor=\"middle\" x=\"1269\" y=\"-695.8\" font-family=\"Times,serif\" font-size=\"14.00\">k_2:&lt;eps&gt;</text>\n</g>\n<!-- 89 -->\n<g id=\"node94\" class=\"node\"><title>89</title>\n<ellipse fill=\"none\" stroke=\"black\" cx=\"1426\" cy=\"-655\" rx=\"19.4965\" ry=\"19.4965\"/>\n<text text-anchor=\"middle\" x=\"1426\" y=\"-651.3\" font-family=\"Times,serif\" font-size=\"14.00\">89</text>\n</g>\n<!-- 88&#45;&gt;89 -->\n<g id=\"edge181\" class=\"edge\"><title>88&#45;&gt;89</title>\n<path fill=\"none\" stroke=\"black\" d=\"M1288.7,-655C1315.35,-655 1364.5,-655 1395.93,-655\"/>\n<polygon fill=\"black\" stroke=\"black\" points=\"1396.24,-658.5 1406.24,-655 1396.24,-651.5 1396.24,-658.5\"/>\n<text text-anchor=\"middle\" x=\"1354\" y=\"-658.8\" font-family=\"Times,serif\" font-size=\"14.00\">k_2:&lt;eps&gt;</text>\n</g>\n<!-- 89&#45;&gt;89 -->\n<g id=\"edge182\" class=\"edge\"><title>89&#45;&gt;89</title>\n<path fill=\"none\" stroke=\"black\" d=\"M1413.95,-670.203C1410.03,-681.123 1414.05,-692 1426,-692 1434.03,-692 1438.48,-687.09 1439.34,-680.555\"/>\n<polygon fill=\"black\" stroke=\"black\" points=\"1442.76,-679.69 1438.05,-670.203 1435.82,-680.56 1442.76,-679.69\"/>\n<text text-anchor=\"middle\" x=\"1426\" y=\"-695.8\" font-family=\"Times,serif\" font-size=\"14.00\">k_3:&lt;eps&gt;</text>\n</g>\n<!-- 90 -->\n<g id=\"node95\" class=\"node\"><title>90</title>\n<ellipse fill=\"none\" stroke=\"black\" cx=\"1578\" cy=\"-655\" rx=\"19.4965\" ry=\"19.4965\"/>\n<text text-anchor=\"middle\" x=\"1578\" y=\"-651.3\" font-family=\"Times,serif\" font-size=\"14.00\">90</text>\n</g>\n<!-- 89&#45;&gt;90 -->\n<g id=\"edge183\" class=\"edge\"><title>89&#45;&gt;90</title>\n<path fill=\"none\" stroke=\"black\" d=\"M1445.69,-655C1471.29,-655 1517.52,-655 1547.73,-655\"/>\n<polygon fill=\"black\" stroke=\"black\" points=\"1548.07,-658.5 1558.07,-655 1548.07,-651.5 1548.07,-658.5\"/>\n<text text-anchor=\"middle\" x=\"1502\" y=\"-658.8\" font-family=\"Times,serif\" font-size=\"14.00\">k_3:&lt;eps&gt;</text>\n</g>\n<!-- 90&#45;&gt;90 -->\n<g id=\"edge184\" class=\"edge\"><title>90&#45;&gt;90</title>\n<path fill=\"none\" stroke=\"black\" d=\"M1565.43,-669.817C1561.05,-680.865 1565.23,-692 1578,-692 1586.78,-692 1591.5,-686.737 1592.17,-679.858\"/>\n<polygon fill=\"black\" stroke=\"black\" points=\"1595.6,-679.141 1590.57,-669.817 1588.68,-680.244 1595.6,-679.141\"/>\n<text text-anchor=\"middle\" x=\"1578\" y=\"-695.8\" font-family=\"Times,serif\" font-size=\"14.00\">t_1:&lt;eps&gt;</text>\n</g>\n<!-- 91 -->\n<g id=\"node96\" class=\"node\"><title>91</title>\n<ellipse fill=\"none\" stroke=\"black\" cx=\"1743\" cy=\"-655\" rx=\"19.4965\" ry=\"19.4965\"/>\n<text text-anchor=\"middle\" x=\"1743\" y=\"-651.3\" font-family=\"Times,serif\" font-size=\"14.00\">91</text>\n</g>\n<!-- 90&#45;&gt;91 -->\n<g id=\"edge185\" class=\"edge\"><title>90&#45;&gt;91</title>\n<path fill=\"none\" stroke=\"black\" d=\"M1597.7,-655C1625.99,-655 1679.92,-655 1713.23,-655\"/>\n<polygon fill=\"black\" stroke=\"black\" points=\"1713.27,-658.5 1723.27,-655 1713.27,-651.5 1713.27,-658.5\"/>\n<text text-anchor=\"middle\" x=\"1654\" y=\"-658.8\" font-family=\"Times,serif\" font-size=\"14.00\">t_1:&lt;eps&gt;</text>\n</g>\n<!-- 91&#45;&gt;91 -->\n<g id=\"edge186\" class=\"edge\"><title>91&#45;&gt;91</title>\n<path fill=\"none\" stroke=\"black\" d=\"M1729.46,-669.047C1724.05,-680.341 1728.56,-692 1743,-692 1753.15,-692 1758.4,-686.236 1758.73,-678.888\"/>\n<polygon fill=\"black\" stroke=\"black\" points=\"1762.13,-678.043 1756.54,-669.047 1755.3,-679.569 1762.13,-678.043\"/>\n<text text-anchor=\"middle\" x=\"1743\" y=\"-695.8\" font-family=\"Times,serif\" font-size=\"14.00\">t_2:&lt;eps&gt;</text>\n</g>\n<!-- 92 -->\n<g id=\"node97\" class=\"node\"><title>92</title>\n<ellipse fill=\"none\" stroke=\"black\" cx=\"1900\" cy=\"-655\" rx=\"19.4965\" ry=\"19.4965\"/>\n<text text-anchor=\"middle\" x=\"1900\" y=\"-651.3\" font-family=\"Times,serif\" font-size=\"14.00\">92</text>\n</g>\n<!-- 91&#45;&gt;92 -->\n<g id=\"edge187\" class=\"edge\"><title>91&#45;&gt;92</title>\n<path fill=\"none\" stroke=\"black\" d=\"M1762.7,-655C1789.35,-655 1838.5,-655 1869.93,-655\"/>\n<polygon fill=\"black\" stroke=\"black\" points=\"1870.24,-658.5 1880.24,-655 1870.24,-651.5 1870.24,-658.5\"/>\n<text text-anchor=\"middle\" x=\"1828\" y=\"-658.8\" font-family=\"Times,serif\" font-size=\"14.00\">t_2:&lt;eps&gt;</text>\n</g>\n<!-- 92&#45;&gt;92 -->\n<g id=\"edge188\" class=\"edge\"><title>92&#45;&gt;92</title>\n<path fill=\"none\" stroke=\"black\" d=\"M1887.95,-670.203C1884.03,-681.123 1888.05,-692 1900,-692 1908.03,-692 1912.48,-687.09 1913.34,-680.555\"/>\n<polygon fill=\"black\" stroke=\"black\" points=\"1916.76,-679.69 1912.05,-670.203 1909.82,-680.56 1916.76,-679.69\"/>\n<text text-anchor=\"middle\" x=\"1900\" y=\"-695.8\" font-family=\"Times,serif\" font-size=\"14.00\">t_3:&lt;eps&gt;</text>\n</g>\n<!-- 93 -->\n<g id=\"node98\" class=\"node\"><title>93</title>\n<ellipse fill=\"none\" stroke=\"black\" cx=\"2056\" cy=\"-617\" rx=\"19.4965\" ry=\"19.4965\"/>\n<text text-anchor=\"middle\" x=\"2056\" y=\"-613.3\" font-family=\"Times,serif\" font-size=\"14.00\">93</text>\n</g>\n<!-- 92&#45;&gt;93 -->\n<g id=\"edge189\" class=\"edge\"><title>92&#45;&gt;93</title>\n<path fill=\"none\" stroke=\"black\" d=\"M1919.27,-650.492C1945.9,-643.921 1995.6,-631.657 2026.9,-623.933\"/>\n<polygon fill=\"black\" stroke=\"black\" points=\"2027.88,-627.296 2036.75,-621.502 2026.21,-620.5 2027.88,-627.296\"/>\n<text text-anchor=\"middle\" x=\"1976\" y=\"-648.8\" font-family=\"Times,serif\" font-size=\"14.00\">t_3:k</text>\n</g>\n<!-- 93&#45;&gt;0 -->\n<g id=\"edge190\" class=\"edge\"><title>93&#45;&gt;0</title>\n<path fill=\"none\" stroke=\"black\" d=\"M2036.53,-615.222C2007.65,-612.599 1950.01,-608 1901,-608 163,-608 163,-608 163,-608 104.995,-608 83.9573,-627.268 51,-675 34.3879,-699.059 25.0624,-782.012 21.1759,-826.039\"/>\n<polygon fill=\"black\" stroke=\"black\" points=\"17.682,-825.821 20.3245,-836.081 24.6569,-826.412 17.682,-825.821\"/>\n<text text-anchor=\"middle\" x=\"1028\" y=\"-611.8\" font-family=\"Times,serif\" font-size=\"14.00\">&lt;eps&gt;:&lt;eps&gt;</text>\n</g>\n<!-- 94 -->\n<g id=\"node99\" class=\"node\"><title>94</title>\n<ellipse fill=\"none\" stroke=\"black\" cx=\"2212\" cy=\"-617\" rx=\"19.4965\" ry=\"19.4965\"/>\n<text text-anchor=\"middle\" x=\"2212\" y=\"-613.3\" font-family=\"Times,serif\" font-size=\"14.00\">94</text>\n</g>\n<!-- 93&#45;&gt;94 -->\n<g id=\"edge191\" class=\"edge\"><title>93&#45;&gt;94</title>\n<path fill=\"none\" stroke=\"black\" d=\"M2075.58,-617C2102.05,-617 2150.89,-617 2182.11,-617\"/>\n<polygon fill=\"black\" stroke=\"black\" points=\"2182.36,-620.5 2192.36,-617 2182.36,-613.5 2182.36,-620.5\"/>\n<text text-anchor=\"middle\" x=\"2136\" y=\"-620.8\" font-family=\"Times,serif\" font-size=\"14.00\">&lt;eps&gt;:&lt;eps&gt;</text>\n</g>\n<!-- 94&#45;&gt;94 -->\n<g id=\"edge192\" class=\"edge\"><title>94&#45;&gt;94</title>\n<path fill=\"none\" stroke=\"black\" d=\"M2199.95,-632.203C2196.03,-643.123 2200.05,-654 2212,-654 2220.03,-654 2224.48,-649.09 2225.34,-642.555\"/>\n<polygon fill=\"black\" stroke=\"black\" points=\"2228.76,-641.69 2224.05,-632.203 2221.82,-642.56 2228.76,-641.69\"/>\n<text text-anchor=\"middle\" x=\"2212\" y=\"-657.8\" font-family=\"Times,serif\" font-size=\"14.00\">sil_1:&lt;eps&gt;</text>\n</g>\n<!-- 95 -->\n<g id=\"node100\" class=\"node\"><title>95</title>\n<ellipse fill=\"none\" stroke=\"black\" cx=\"2356\" cy=\"-617\" rx=\"19.4965\" ry=\"19.4965\"/>\n<text text-anchor=\"middle\" x=\"2356\" y=\"-613.3\" font-family=\"Times,serif\" font-size=\"14.00\">95</text>\n</g>\n<!-- 94&#45;&gt;95 -->\n<g id=\"edge193\" class=\"edge\"><title>94&#45;&gt;95</title>\n<path fill=\"none\" stroke=\"black\" d=\"M2231.56,-617C2255.7,-617 2298.09,-617 2326.36,-617\"/>\n<polygon fill=\"black\" stroke=\"black\" points=\"2326.43,-620.5 2336.43,-617 2326.43,-613.5 2326.43,-620.5\"/>\n<text text-anchor=\"middle\" x=\"2284\" y=\"-620.8\" font-family=\"Times,serif\" font-size=\"14.00\">sil_1:&lt;eps&gt;</text>\n</g>\n<!-- 95&#45;&gt;95 -->\n<g id=\"edge194\" class=\"edge\"><title>95&#45;&gt;95</title>\n<path fill=\"none\" stroke=\"black\" d=\"M2343.95,-632.203C2340.03,-643.123 2344.05,-654 2356,-654 2364.03,-654 2368.48,-649.09 2369.34,-642.555\"/>\n<polygon fill=\"black\" stroke=\"black\" points=\"2372.76,-641.69 2368.05,-632.203 2365.82,-642.56 2372.76,-641.69\"/>\n<text text-anchor=\"middle\" x=\"2356\" y=\"-657.8\" font-family=\"Times,serif\" font-size=\"14.00\">sil_2:&lt;eps&gt;</text>\n</g>\n<!-- 96 -->\n<g id=\"node101\" class=\"node\"><title>96</title>\n<ellipse fill=\"none\" stroke=\"black\" cx=\"2500\" cy=\"-617\" rx=\"19.4965\" ry=\"19.4965\"/>\n<text text-anchor=\"middle\" x=\"2500\" y=\"-613.3\" font-family=\"Times,serif\" font-size=\"14.00\">96</text>\n</g>\n<!-- 95&#45;&gt;96 -->\n<g id=\"edge195\" class=\"edge\"><title>95&#45;&gt;96</title>\n<path fill=\"none\" stroke=\"black\" d=\"M2375.56,-617C2399.7,-617 2442.09,-617 2470.36,-617\"/>\n<polygon fill=\"black\" stroke=\"black\" points=\"2470.43,-620.5 2480.43,-617 2470.43,-613.5 2470.43,-620.5\"/>\n<text text-anchor=\"middle\" x=\"2428\" y=\"-620.8\" font-family=\"Times,serif\" font-size=\"14.00\">sil_2:&lt;eps&gt;</text>\n</g>\n<!-- 96&#45;&gt;96 -->\n<g id=\"edge196\" class=\"edge\"><title>96&#45;&gt;96</title>\n<path fill=\"none\" stroke=\"black\" d=\"M2487.95,-632.203C2484.03,-643.123 2488.05,-654 2500,-654 2508.03,-654 2512.48,-649.09 2513.34,-642.555\"/>\n<polygon fill=\"black\" stroke=\"black\" points=\"2516.76,-641.69 2512.05,-632.203 2509.82,-642.56 2516.76,-641.69\"/>\n<text text-anchor=\"middle\" x=\"2500\" y=\"-657.8\" font-family=\"Times,serif\" font-size=\"14.00\">sil_3:&lt;eps&gt;</text>\n</g>\n<!-- 97 -->\n<g id=\"node102\" class=\"node\"><title>97</title>\n<ellipse fill=\"none\" stroke=\"black\" cx=\"2652\" cy=\"-617\" rx=\"19.4965\" ry=\"19.4965\"/>\n<text text-anchor=\"middle\" x=\"2652\" y=\"-613.3\" font-family=\"Times,serif\" font-size=\"14.00\">97</text>\n</g>\n<!-- 96&#45;&gt;97 -->\n<g id=\"edge197\" class=\"edge\"><title>96&#45;&gt;97</title>\n<path fill=\"none\" stroke=\"black\" d=\"M2519.69,-617C2545.29,-617 2591.52,-617 2621.73,-617\"/>\n<polygon fill=\"black\" stroke=\"black\" points=\"2622.07,-620.5 2632.07,-617 2622.07,-613.5 2622.07,-620.5\"/>\n<text text-anchor=\"middle\" x=\"2576\" y=\"-620.8\" font-family=\"Times,serif\" font-size=\"14.00\">sil_3:&lt;eps&gt;</text>\n</g>\n<!-- 97&#45;&gt;97 -->\n<g id=\"edge198\" class=\"edge\"><title>97&#45;&gt;97</title>\n<path fill=\"none\" stroke=\"black\" d=\"M2639.95,-632.203C2636.03,-643.123 2640.05,-654 2652,-654 2660.03,-654 2664.48,-649.09 2665.34,-642.555\"/>\n<polygon fill=\"black\" stroke=\"black\" points=\"2668.76,-641.69 2664.05,-632.203 2661.82,-642.56 2668.76,-641.69\"/>\n<text text-anchor=\"middle\" x=\"2652\" y=\"-657.8\" font-family=\"Times,serif\" font-size=\"14.00\">sil_4:&lt;eps&gt;</text>\n</g>\n<!-- 98 -->\n<g id=\"node103\" class=\"node\"><title>98</title>\n<ellipse fill=\"none\" stroke=\"black\" cx=\"2796\" cy=\"-617\" rx=\"19.4965\" ry=\"19.4965\"/>\n<text text-anchor=\"middle\" x=\"2796\" y=\"-613.3\" font-family=\"Times,serif\" font-size=\"14.00\">98</text>\n</g>\n<!-- 97&#45;&gt;98 -->\n<g id=\"edge199\" class=\"edge\"><title>97&#45;&gt;98</title>\n<path fill=\"none\" stroke=\"black\" d=\"M2671.56,-617C2695.7,-617 2738.09,-617 2766.36,-617\"/>\n<polygon fill=\"black\" stroke=\"black\" points=\"2766.43,-620.5 2776.43,-617 2766.43,-613.5 2766.43,-620.5\"/>\n<text text-anchor=\"middle\" x=\"2724\" y=\"-620.8\" font-family=\"Times,serif\" font-size=\"14.00\">sil_4:&lt;eps&gt;</text>\n</g>\n<!-- 98&#45;&gt;98 -->\n<g id=\"edge200\" class=\"edge\"><title>98&#45;&gt;98</title>\n<path fill=\"none\" stroke=\"black\" d=\"M2783.95,-632.203C2780.03,-643.123 2784.05,-654 2796,-654 2804.03,-654 2808.48,-649.09 2809.34,-642.555\"/>\n<polygon fill=\"black\" stroke=\"black\" points=\"2812.76,-641.69 2808.05,-632.203 2805.82,-642.56 2812.76,-641.69\"/>\n<text text-anchor=\"middle\" x=\"2796\" y=\"-657.8\" font-family=\"Times,serif\" font-size=\"14.00\">sil_5:&lt;eps&gt;</text>\n</g>\n<!-- 99 -->\n<g id=\"node104\" class=\"node\"><title>99</title>\n<ellipse fill=\"none\" stroke=\"black\" cx=\"2944\" cy=\"-590\" rx=\"19.4968\" ry=\"19.4968\"/>\n<ellipse fill=\"none\" stroke=\"black\" cx=\"2944\" cy=\"-590\" rx=\"23.4965\" ry=\"23.4965\"/>\n<text text-anchor=\"middle\" x=\"2944\" y=\"-586.3\" font-family=\"Times,serif\" font-size=\"14.00\">99</text>\n</g>\n<!-- 98&#45;&gt;99 -->\n<g id=\"edge201\" class=\"edge\"><title>98&#45;&gt;99</title>\n<path fill=\"none\" stroke=\"black\" d=\"M2815.49,-613.58C2839.41,-609.157 2881.47,-601.379 2910.71,-595.971\"/>\n<polygon fill=\"black\" stroke=\"black\" points=\"2911.65,-599.357 2920.85,-594.097 2910.38,-592.474 2911.65,-599.357\"/>\n<text text-anchor=\"middle\" x=\"2868\" y=\"-613.8\" font-family=\"Times,serif\" font-size=\"14.00\">sil_5:&lt;eps&gt;</text>\n</g>\n<!-- 99&#45;&gt;0 -->\n<g id=\"edge202\" class=\"edge\"><title>99&#45;&gt;0</title>\n<path fill=\"none\" stroke=\"black\" d=\"M2920.87,-585.056C2892.38,-579.134 2841.26,-570 2797,-570 163,-570 163,-570 163,-570 110.291,-570 84.2577,-568.107 51,-609 24.4287,-641.671 19.7924,-768.348 19.0745,-825.611\"/>\n<polygon fill=\"black\" stroke=\"black\" points=\"15.5733,-825.742 18.9797,-835.775 22.5729,-825.808 15.5733,-825.742\"/>\n<text text-anchor=\"middle\" x=\"1502\" y=\"-573.8\" font-family=\"Times,serif\" font-size=\"14.00\">&lt;eps&gt;:&lt;eps&gt;</text>\n</g>\n<!-- 101&#45;&gt;101 -->\n<g id=\"edge205\" class=\"edge\"><title>101&#45;&gt;101</title>\n<path fill=\"none\" stroke=\"black\" d=\"M306.234,-769.441C302.953,-781.062 307.875,-792 321,-792 330.023,-792 335.17,-786.83 336.439,-779.823\"/>\n<polygon fill=\"black\" stroke=\"black\" points=\"339.905,-779.194 335.766,-769.441 332.92,-779.647 339.905,-779.194\"/>\n<text text-anchor=\"middle\" x=\"321\" y=\"-795.8\" font-family=\"Times,serif\" font-size=\"14.00\">p_2:&lt;eps&gt;</text>\n</g>\n<!-- 102 -->\n<g id=\"node106\" class=\"node\"><title>102</title>\n<ellipse fill=\"none\" stroke=\"black\" cx=\"478\" cy=\"-750\" rx=\"24.0958\" ry=\"24.0958\"/>\n<text text-anchor=\"middle\" x=\"478\" y=\"-746.3\" font-family=\"Times,serif\" font-size=\"14.00\">102</text>\n</g>\n<!-- 101&#45;&gt;102 -->\n<g id=\"edge206\" class=\"edge\"><title>101&#45;&gt;102</title>\n<path fill=\"none\" stroke=\"black\" d=\"M345.205,-750C371.305,-750 413.915,-750 443.595,-750\"/>\n<polygon fill=\"black\" stroke=\"black\" points=\"443.89,-753.5 453.89,-750 443.89,-746.5 443.89,-753.5\"/>\n<text text-anchor=\"middle\" x=\"406\" y=\"-753.8\" font-family=\"Times,serif\" font-size=\"14.00\">p_2:&lt;eps&gt;</text>\n</g>\n<!-- 102&#45;&gt;102 -->\n<g id=\"edge207\" class=\"edge\"><title>102&#45;&gt;102</title>\n<path fill=\"none\" stroke=\"black\" d=\"M465.146,-770.312C462.747,-781.603 467.031,-792 478,-792 485.541,-792 489.923,-787.086 491.145,-780.345\"/>\n<polygon fill=\"black\" stroke=\"black\" points=\"494.643,-780.206 490.854,-770.312 487.646,-780.409 494.643,-780.206\"/>\n<text text-anchor=\"middle\" x=\"478\" y=\"-795.8\" font-family=\"Times,serif\" font-size=\"14.00\">p_3:&lt;eps&gt;</text>\n</g>\n<!-- 103 -->\n<g id=\"node107\" class=\"node\"><title>103</title>\n<ellipse fill=\"none\" stroke=\"black\" cx=\"630\" cy=\"-750\" rx=\"24.0958\" ry=\"24.0958\"/>\n<text text-anchor=\"middle\" x=\"630\" y=\"-746.3\" font-family=\"Times,serif\" font-size=\"14.00\">103</text>\n</g>\n<!-- 102&#45;&gt;103 -->\n<g id=\"edge208\" class=\"edge\"><title>102&#45;&gt;103</title>\n<path fill=\"none\" stroke=\"black\" d=\"M502.109,-750C527.031,-750 566.946,-750 595.35,-750\"/>\n<polygon fill=\"black\" stroke=\"black\" points=\"595.618,-753.5 605.618,-750 595.618,-746.5 595.618,-753.5\"/>\n<text text-anchor=\"middle\" x=\"554\" y=\"-753.8\" font-family=\"Times,serif\" font-size=\"14.00\">p_3:&lt;eps&gt;</text>\n</g>\n<!-- 103&#45;&gt;103 -->\n<g id=\"edge209\" class=\"edge\"><title>103&#45;&gt;103</title>\n<path fill=\"none\" stroke=\"black\" d=\"M616.432,-770.312C613.899,-781.603 618.422,-792 630,-792 637.96,-792 642.585,-787.086 643.876,-780.345\"/>\n<polygon fill=\"black\" stroke=\"black\" points=\"647.373,-780.2 643.568,-770.312 640.376,-780.414 647.373,-780.2\"/>\n<text text-anchor=\"middle\" x=\"630\" y=\"-795.8\" font-family=\"Times,serif\" font-size=\"14.00\">ih_1:&lt;eps&gt;</text>\n</g>\n<!-- 104 -->\n<g id=\"node108\" class=\"node\"><title>104</title>\n<ellipse fill=\"none\" stroke=\"black\" cx=\"795\" cy=\"-750\" rx=\"24.0958\" ry=\"24.0958\"/>\n<text text-anchor=\"middle\" x=\"795\" y=\"-746.3\" font-family=\"Times,serif\" font-size=\"14.00\">104</text>\n</g>\n<!-- 103&#45;&gt;104 -->\n<g id=\"edge210\" class=\"edge\"><title>103&#45;&gt;104</title>\n<path fill=\"none\" stroke=\"black\" d=\"M654.354,-750C682.193,-750 728.919,-750 760.579,-750\"/>\n<polygon fill=\"black\" stroke=\"black\" points=\"760.689,-753.5 770.689,-750 760.689,-746.5 760.689,-753.5\"/>\n<text text-anchor=\"middle\" x=\"706\" y=\"-753.8\" font-family=\"Times,serif\" font-size=\"14.00\">ih_1:&lt;eps&gt;</text>\n</g>\n<!-- 104&#45;&gt;104 -->\n<g id=\"edge211\" class=\"edge\"><title>104&#45;&gt;104</title>\n<path fill=\"none\" stroke=\"black\" d=\"M780.234,-769.441C776.953,-781.062 781.875,-792 795,-792 804.023,-792 809.17,-786.83 810.439,-779.823\"/>\n<polygon fill=\"black\" stroke=\"black\" points=\"813.905,-779.194 809.766,-769.441 806.92,-779.647 813.905,-779.194\"/>\n<text text-anchor=\"middle\" x=\"795\" y=\"-795.8\" font-family=\"Times,serif\" font-size=\"14.00\">ih_2:&lt;eps&gt;</text>\n</g>\n<!-- 105 -->\n<g id=\"node109\" class=\"node\"><title>105</title>\n<ellipse fill=\"none\" stroke=\"black\" cx=\"952\" cy=\"-750\" rx=\"24.0958\" ry=\"24.0958\"/>\n<text text-anchor=\"middle\" x=\"952\" y=\"-746.3\" font-family=\"Times,serif\" font-size=\"14.00\">105</text>\n</g>\n<!-- 104&#45;&gt;105 -->\n<g id=\"edge212\" class=\"edge\"><title>104&#45;&gt;105</title>\n<path fill=\"none\" stroke=\"black\" d=\"M819.205,-750C845.305,-750 887.915,-750 917.595,-750\"/>\n<polygon fill=\"black\" stroke=\"black\" points=\"917.89,-753.5 927.89,-750 917.89,-746.5 917.89,-753.5\"/>\n<text text-anchor=\"middle\" x=\"880\" y=\"-753.8\" font-family=\"Times,serif\" font-size=\"14.00\">ih_2:&lt;eps&gt;</text>\n</g>\n<!-- 105&#45;&gt;105 -->\n<g id=\"edge213\" class=\"edge\"><title>105&#45;&gt;105</title>\n<path fill=\"none\" stroke=\"black\" d=\"M939.146,-770.312C936.747,-781.603 941.031,-792 952,-792 959.541,-792 963.923,-787.086 965.145,-780.345\"/>\n<polygon fill=\"black\" stroke=\"black\" points=\"968.643,-780.206 964.854,-770.312 961.646,-780.409 968.643,-780.206\"/>\n<text text-anchor=\"middle\" x=\"952\" y=\"-795.8\" font-family=\"Times,serif\" font-size=\"14.00\">ih_3:&lt;eps&gt;</text>\n</g>\n<!-- 106 -->\n<g id=\"node110\" class=\"node\"><title>106</title>\n<ellipse fill=\"none\" stroke=\"black\" cx=\"1104\" cy=\"-750\" rx=\"24.0958\" ry=\"24.0958\"/>\n<text text-anchor=\"middle\" x=\"1104\" y=\"-746.3\" font-family=\"Times,serif\" font-size=\"14.00\">106</text>\n</g>\n<!-- 105&#45;&gt;106 -->\n<g id=\"edge214\" class=\"edge\"><title>105&#45;&gt;106</title>\n<path fill=\"none\" stroke=\"black\" d=\"M976.109,-750C1001.03,-750 1040.95,-750 1069.35,-750\"/>\n<polygon fill=\"black\" stroke=\"black\" points=\"1069.62,-753.5 1079.62,-750 1069.62,-746.5 1069.62,-753.5\"/>\n<text text-anchor=\"middle\" x=\"1028\" y=\"-753.8\" font-family=\"Times,serif\" font-size=\"14.00\">ih_3:&lt;eps&gt;</text>\n</g>\n<!-- 106&#45;&gt;106 -->\n<g id=\"edge215\" class=\"edge\"><title>106&#45;&gt;106</title>\n<path fill=\"none\" stroke=\"black\" d=\"M1090.43,-770.312C1087.9,-781.603 1092.42,-792 1104,-792 1111.96,-792 1116.59,-787.086 1117.88,-780.345\"/>\n<polygon fill=\"black\" stroke=\"black\" points=\"1121.37,-780.2 1117.57,-770.312 1114.38,-780.414 1121.37,-780.2\"/>\n<text text-anchor=\"middle\" x=\"1104\" y=\"-795.8\" font-family=\"Times,serif\" font-size=\"14.00\">k_1:&lt;eps&gt;</text>\n</g>\n<!-- 107 -->\n<g id=\"node111\" class=\"node\"><title>107</title>\n<ellipse fill=\"none\" stroke=\"black\" cx=\"1269\" cy=\"-750\" rx=\"24.0958\" ry=\"24.0958\"/>\n<text text-anchor=\"middle\" x=\"1269\" y=\"-746.3\" font-family=\"Times,serif\" font-size=\"14.00\">107</text>\n</g>\n<!-- 106&#45;&gt;107 -->\n<g id=\"edge216\" class=\"edge\"><title>106&#45;&gt;107</title>\n<path fill=\"none\" stroke=\"black\" d=\"M1128.35,-750C1156.19,-750 1202.92,-750 1234.58,-750\"/>\n<polygon fill=\"black\" stroke=\"black\" points=\"1234.69,-753.5 1244.69,-750 1234.69,-746.5 1234.69,-753.5\"/>\n<text text-anchor=\"middle\" x=\"1180\" y=\"-753.8\" font-family=\"Times,serif\" font-size=\"14.00\">k_1:&lt;eps&gt;</text>\n</g>\n<!-- 107&#45;&gt;107 -->\n<g id=\"edge217\" class=\"edge\"><title>107&#45;&gt;107</title>\n<path fill=\"none\" stroke=\"black\" d=\"M1254.23,-769.441C1250.95,-781.062 1255.88,-792 1269,-792 1278.02,-792 1283.17,-786.83 1284.44,-779.823\"/>\n<polygon fill=\"black\" stroke=\"black\" points=\"1287.91,-779.194 1283.77,-769.441 1280.92,-779.647 1287.91,-779.194\"/>\n<text text-anchor=\"middle\" x=\"1269\" y=\"-795.8\" font-family=\"Times,serif\" font-size=\"14.00\">k_2:&lt;eps&gt;</text>\n</g>\n<!-- 108 -->\n<g id=\"node112\" class=\"node\"><title>108</title>\n<ellipse fill=\"none\" stroke=\"black\" cx=\"1426\" cy=\"-750\" rx=\"24.0958\" ry=\"24.0958\"/>\n<text text-anchor=\"middle\" x=\"1426\" y=\"-746.3\" font-family=\"Times,serif\" font-size=\"14.00\">108</text>\n</g>\n<!-- 107&#45;&gt;108 -->\n<g id=\"edge218\" class=\"edge\"><title>107&#45;&gt;108</title>\n<path fill=\"none\" stroke=\"black\" d=\"M1293.21,-750C1319.3,-750 1361.92,-750 1391.59,-750\"/>\n<polygon fill=\"black\" stroke=\"black\" points=\"1391.89,-753.5 1401.89,-750 1391.89,-746.5 1391.89,-753.5\"/>\n<text text-anchor=\"middle\" x=\"1354\" y=\"-753.8\" font-family=\"Times,serif\" font-size=\"14.00\">k_2:&lt;eps&gt;</text>\n</g>\n<!-- 108&#45;&gt;108 -->\n<g id=\"edge219\" class=\"edge\"><title>108&#45;&gt;108</title>\n<path fill=\"none\" stroke=\"black\" d=\"M1413.15,-770.312C1410.75,-781.603 1415.03,-792 1426,-792 1433.54,-792 1437.92,-787.086 1439.15,-780.345\"/>\n<polygon fill=\"black\" stroke=\"black\" points=\"1442.64,-780.206 1438.85,-770.312 1435.65,-780.409 1442.64,-780.206\"/>\n<text text-anchor=\"middle\" x=\"1426\" y=\"-795.8\" font-family=\"Times,serif\" font-size=\"14.00\">k_3:&lt;eps&gt;</text>\n</g>\n<!-- 109 -->\n<g id=\"node113\" class=\"node\"><title>109</title>\n<ellipse fill=\"none\" stroke=\"black\" cx=\"1578\" cy=\"-750\" rx=\"24.0958\" ry=\"24.0958\"/>\n<text text-anchor=\"middle\" x=\"1578\" y=\"-746.3\" font-family=\"Times,serif\" font-size=\"14.00\">109</text>\n</g>\n<!-- 108&#45;&gt;109 -->\n<g id=\"edge220\" class=\"edge\"><title>108&#45;&gt;109</title>\n<path fill=\"none\" stroke=\"black\" d=\"M1450.11,-750C1475.03,-750 1514.95,-750 1543.35,-750\"/>\n<polygon fill=\"black\" stroke=\"black\" points=\"1543.62,-753.5 1553.62,-750 1543.62,-746.5 1543.62,-753.5\"/>\n<text text-anchor=\"middle\" x=\"1502\" y=\"-753.8\" font-family=\"Times,serif\" font-size=\"14.00\">k_3:&lt;eps&gt;</text>\n</g>\n<!-- 109&#45;&gt;109 -->\n<g id=\"edge221\" class=\"edge\"><title>109&#45;&gt;109</title>\n<path fill=\"none\" stroke=\"black\" d=\"M1564.43,-770.312C1561.9,-781.603 1566.42,-792 1578,-792 1585.96,-792 1590.59,-787.086 1591.88,-780.345\"/>\n<polygon fill=\"black\" stroke=\"black\" points=\"1595.37,-780.2 1591.57,-770.312 1588.38,-780.414 1595.37,-780.2\"/>\n<text text-anchor=\"middle\" x=\"1578\" y=\"-795.8\" font-family=\"Times,serif\" font-size=\"14.00\">ah_1:&lt;eps&gt;</text>\n</g>\n<!-- 110 -->\n<g id=\"node114\" class=\"node\"><title>110</title>\n<ellipse fill=\"none\" stroke=\"black\" cx=\"1743\" cy=\"-750\" rx=\"24.0958\" ry=\"24.0958\"/>\n<text text-anchor=\"middle\" x=\"1743\" y=\"-746.3\" font-family=\"Times,serif\" font-size=\"14.00\">110</text>\n</g>\n<!-- 109&#45;&gt;110 -->\n<g id=\"edge222\" class=\"edge\"><title>109&#45;&gt;110</title>\n<path fill=\"none\" stroke=\"black\" d=\"M1602.35,-750C1630.19,-750 1676.92,-750 1708.58,-750\"/>\n<polygon fill=\"black\" stroke=\"black\" points=\"1708.69,-753.5 1718.69,-750 1708.69,-746.5 1708.69,-753.5\"/>\n<text text-anchor=\"middle\" x=\"1654\" y=\"-753.8\" font-family=\"Times,serif\" font-size=\"14.00\">ah_1:&lt;eps&gt;</text>\n</g>\n<!-- 110&#45;&gt;110 -->\n<g id=\"edge223\" class=\"edge\"><title>110&#45;&gt;110</title>\n<path fill=\"none\" stroke=\"black\" d=\"M1728.23,-769.441C1724.95,-781.062 1729.88,-792 1743,-792 1752.02,-792 1757.17,-786.83 1758.44,-779.823\"/>\n<polygon fill=\"black\" stroke=\"black\" points=\"1761.91,-779.194 1757.77,-769.441 1754.92,-779.647 1761.91,-779.194\"/>\n<text text-anchor=\"middle\" x=\"1743\" y=\"-795.8\" font-family=\"Times,serif\" font-size=\"14.00\">ah_2:&lt;eps&gt;</text>\n</g>\n<!-- 111 -->\n<g id=\"node115\" class=\"node\"><title>111</title>\n<ellipse fill=\"none\" stroke=\"black\" cx=\"1900\" cy=\"-750\" rx=\"24.0958\" ry=\"24.0958\"/>\n<text text-anchor=\"middle\" x=\"1900\" y=\"-746.3\" font-family=\"Times,serif\" font-size=\"14.00\">111</text>\n</g>\n<!-- 110&#45;&gt;111 -->\n<g id=\"edge224\" class=\"edge\"><title>110&#45;&gt;111</title>\n<path fill=\"none\" stroke=\"black\" d=\"M1767.21,-750C1793.3,-750 1835.92,-750 1865.59,-750\"/>\n<polygon fill=\"black\" stroke=\"black\" points=\"1865.89,-753.5 1875.89,-750 1865.89,-746.5 1865.89,-753.5\"/>\n<text text-anchor=\"middle\" x=\"1828\" y=\"-753.8\" font-family=\"Times,serif\" font-size=\"14.00\">ah_2:&lt;eps&gt;</text>\n</g>\n<!-- 111&#45;&gt;111 -->\n<g id=\"edge225\" class=\"edge\"><title>111&#45;&gt;111</title>\n<path fill=\"none\" stroke=\"black\" d=\"M1887.15,-770.312C1884.75,-781.603 1889.03,-792 1900,-792 1907.54,-792 1911.92,-787.086 1913.15,-780.345\"/>\n<polygon fill=\"black\" stroke=\"black\" points=\"1916.64,-780.206 1912.85,-770.312 1909.65,-780.409 1916.64,-780.206\"/>\n<text text-anchor=\"middle\" x=\"1900\" y=\"-795.8\" font-family=\"Times,serif\" font-size=\"14.00\">ah_3:&lt;eps&gt;</text>\n</g>\n<!-- 112 -->\n<g id=\"node116\" class=\"node\"><title>112</title>\n<ellipse fill=\"none\" stroke=\"black\" cx=\"2056\" cy=\"-750\" rx=\"24.0958\" ry=\"24.0958\"/>\n<text text-anchor=\"middle\" x=\"2056\" y=\"-746.3\" font-family=\"Times,serif\" font-size=\"14.00\">112</text>\n</g>\n<!-- 111&#45;&gt;112 -->\n<g id=\"edge226\" class=\"edge\"><title>111&#45;&gt;112</title>\n<path fill=\"none\" stroke=\"black\" d=\"M1924.06,-750C1949.91,-750 1992.08,-750 2021.55,-750\"/>\n<polygon fill=\"black\" stroke=\"black\" points=\"2021.79,-753.5 2031.79,-750 2021.79,-746.5 2021.79,-753.5\"/>\n<text text-anchor=\"middle\" x=\"1976\" y=\"-753.8\" font-family=\"Times,serif\" font-size=\"14.00\">ah_3:&lt;eps&gt;</text>\n</g>\n<!-- 112&#45;&gt;112 -->\n<g id=\"edge227\" class=\"edge\"><title>112&#45;&gt;112</title>\n<path fill=\"none\" stroke=\"black\" d=\"M2041.82,-769.877C2038.93,-781.334 2043.66,-792 2056,-792 2064.49,-792 2069.37,-786.959 2070.66,-780.085\"/>\n<polygon fill=\"black\" stroke=\"black\" points=\"2074.14,-779.701 2070.18,-769.877 2067.15,-780.03 2074.14,-779.701\"/>\n<text text-anchor=\"middle\" x=\"2056\" y=\"-795.8\" font-family=\"Times,serif\" font-size=\"14.00\">l_1:&lt;eps&gt;</text>\n</g>\n<!-- 113 -->\n<g id=\"node117\" class=\"node\"><title>113</title>\n<ellipse fill=\"none\" stroke=\"black\" cx=\"2212\" cy=\"-750\" rx=\"24.0958\" ry=\"24.0958\"/>\n<text text-anchor=\"middle\" x=\"2212\" y=\"-746.3\" font-family=\"Times,serif\" font-size=\"14.00\">113</text>\n</g>\n<!-- 112&#45;&gt;113 -->\n<g id=\"edge228\" class=\"edge\"><title>112&#45;&gt;113</title>\n<path fill=\"none\" stroke=\"black\" d=\"M2080.06,-750C2105.91,-750 2148.08,-750 2177.55,-750\"/>\n<polygon fill=\"black\" stroke=\"black\" points=\"2177.79,-753.5 2187.79,-750 2177.79,-746.5 2177.79,-753.5\"/>\n<text text-anchor=\"middle\" x=\"2136\" y=\"-753.8\" font-family=\"Times,serif\" font-size=\"14.00\">l_1:&lt;eps&gt;</text>\n</g>\n<!-- 113&#45;&gt;113 -->\n<g id=\"edge229\" class=\"edge\"><title>113&#45;&gt;113</title>\n<path fill=\"none\" stroke=\"black\" d=\"M2199.15,-770.312C2196.75,-781.603 2201.03,-792 2212,-792 2219.54,-792 2223.92,-787.086 2225.15,-780.345\"/>\n<polygon fill=\"black\" stroke=\"black\" points=\"2228.64,-780.206 2224.85,-770.312 2221.65,-780.409 2228.64,-780.206\"/>\n<text text-anchor=\"middle\" x=\"2212\" y=\"-795.8\" font-family=\"Times,serif\" font-size=\"14.00\">l_2:&lt;eps&gt;</text>\n</g>\n<!-- 114 -->\n<g id=\"node118\" class=\"node\"><title>114</title>\n<ellipse fill=\"none\" stroke=\"black\" cx=\"2356\" cy=\"-750\" rx=\"24.0958\" ry=\"24.0958\"/>\n<text text-anchor=\"middle\" x=\"2356\" y=\"-746.3\" font-family=\"Times,serif\" font-size=\"14.00\">114</text>\n</g>\n<!-- 113&#45;&gt;114 -->\n<g id=\"edge230\" class=\"edge\"><title>113&#45;&gt;114</title>\n<path fill=\"none\" stroke=\"black\" d=\"M2236.13,-750C2259.34,-750 2295.32,-750 2321.62,-750\"/>\n<polygon fill=\"black\" stroke=\"black\" points=\"2321.88,-753.5 2331.88,-750 2321.88,-746.5 2321.88,-753.5\"/>\n<text text-anchor=\"middle\" x=\"2284\" y=\"-753.8\" font-family=\"Times,serif\" font-size=\"14.00\">l_2:&lt;eps&gt;</text>\n</g>\n<!-- 114&#45;&gt;114 -->\n<g id=\"edge231\" class=\"edge\"><title>114&#45;&gt;114</title>\n<path fill=\"none\" stroke=\"black\" d=\"M2343.15,-770.312C2340.75,-781.603 2345.03,-792 2356,-792 2363.54,-792 2367.92,-787.086 2369.15,-780.345\"/>\n<polygon fill=\"black\" stroke=\"black\" points=\"2372.64,-780.206 2368.85,-770.312 2365.65,-780.409 2372.64,-780.206\"/>\n<text text-anchor=\"middle\" x=\"2356\" y=\"-795.8\" font-family=\"Times,serif\" font-size=\"14.00\">l_3:&lt;eps&gt;</text>\n</g>\n<!-- 115 -->\n<g id=\"node119\" class=\"node\"><title>115</title>\n<ellipse fill=\"none\" stroke=\"black\" cx=\"2500\" cy=\"-750\" rx=\"24.0958\" ry=\"24.0958\"/>\n<text text-anchor=\"middle\" x=\"2500\" y=\"-746.3\" font-family=\"Times,serif\" font-size=\"14.00\">115</text>\n</g>\n<!-- 114&#45;&gt;115 -->\n<g id=\"edge232\" class=\"edge\"><title>114&#45;&gt;115</title>\n<path fill=\"none\" stroke=\"black\" d=\"M2380.13,-750C2403.34,-750 2439.32,-750 2465.62,-750\"/>\n<polygon fill=\"black\" stroke=\"black\" points=\"2465.88,-753.5 2475.88,-750 2465.88,-746.5 2465.88,-753.5\"/>\n<text text-anchor=\"middle\" x=\"2428\" y=\"-753.8\" font-family=\"Times,serif\" font-size=\"14.00\">l_3:&lt;eps&gt;</text>\n</g>\n<!-- 115&#45;&gt;115 -->\n<g id=\"edge233\" class=\"edge\"><title>115&#45;&gt;115</title>\n<path fill=\"none\" stroke=\"black\" d=\"M2487.15,-770.312C2484.75,-781.603 2489.03,-792 2500,-792 2507.54,-792 2511.92,-787.086 2513.15,-780.345\"/>\n<polygon fill=\"black\" stroke=\"black\" points=\"2516.64,-780.206 2512.85,-770.312 2509.65,-780.409 2516.64,-780.206\"/>\n<text text-anchor=\"middle\" x=\"2500\" y=\"-795.8\" font-family=\"Times,serif\" font-size=\"14.00\">d_1:&lt;eps&gt;</text>\n</g>\n<!-- 116 -->\n<g id=\"node120\" class=\"node\"><title>116</title>\n<ellipse fill=\"none\" stroke=\"black\" cx=\"2652\" cy=\"-750\" rx=\"24.0958\" ry=\"24.0958\"/>\n<text text-anchor=\"middle\" x=\"2652\" y=\"-746.3\" font-family=\"Times,serif\" font-size=\"14.00\">116</text>\n</g>\n<!-- 115&#45;&gt;116 -->\n<g id=\"edge234\" class=\"edge\"><title>115&#45;&gt;116</title>\n<path fill=\"none\" stroke=\"black\" d=\"M2524.11,-750C2549.03,-750 2588.95,-750 2617.35,-750\"/>\n<polygon fill=\"black\" stroke=\"black\" points=\"2617.62,-753.5 2627.62,-750 2617.62,-746.5 2617.62,-753.5\"/>\n<text text-anchor=\"middle\" x=\"2576\" y=\"-753.8\" font-family=\"Times,serif\" font-size=\"14.00\">d_1:&lt;eps&gt;</text>\n</g>\n<!-- 116&#45;&gt;116 -->\n<g id=\"edge235\" class=\"edge\"><title>116&#45;&gt;116</title>\n<path fill=\"none\" stroke=\"black\" d=\"M2639.15,-770.312C2636.75,-781.603 2641.03,-792 2652,-792 2659.54,-792 2663.92,-787.086 2665.15,-780.345\"/>\n<polygon fill=\"black\" stroke=\"black\" points=\"2668.64,-780.206 2664.85,-770.312 2661.65,-780.409 2668.64,-780.206\"/>\n<text text-anchor=\"middle\" x=\"2652\" y=\"-795.8\" font-family=\"Times,serif\" font-size=\"14.00\">d_2:&lt;eps&gt;</text>\n</g>\n<!-- 117 -->\n<g id=\"node121\" class=\"node\"><title>117</title>\n<ellipse fill=\"none\" stroke=\"black\" cx=\"2796\" cy=\"-750\" rx=\"24.0958\" ry=\"24.0958\"/>\n<text text-anchor=\"middle\" x=\"2796\" y=\"-746.3\" font-family=\"Times,serif\" font-size=\"14.00\">117</text>\n</g>\n<!-- 116&#45;&gt;117 -->\n<g id=\"edge236\" class=\"edge\"><title>116&#45;&gt;117</title>\n<path fill=\"none\" stroke=\"black\" d=\"M2676.13,-750C2699.34,-750 2735.32,-750 2761.62,-750\"/>\n<polygon fill=\"black\" stroke=\"black\" points=\"2761.88,-753.5 2771.88,-750 2761.88,-746.5 2761.88,-753.5\"/>\n<text text-anchor=\"middle\" x=\"2724\" y=\"-753.8\" font-family=\"Times,serif\" font-size=\"14.00\">d_2:&lt;eps&gt;</text>\n</g>\n<!-- 117&#45;&gt;117 -->\n<g id=\"edge237\" class=\"edge\"><title>117&#45;&gt;117</title>\n<path fill=\"none\" stroke=\"black\" d=\"M2783.15,-770.312C2780.75,-781.603 2785.03,-792 2796,-792 2803.54,-792 2807.92,-787.086 2809.15,-780.345\"/>\n<polygon fill=\"black\" stroke=\"black\" points=\"2812.64,-780.206 2808.85,-770.312 2805.65,-780.409 2812.64,-780.206\"/>\n<text text-anchor=\"middle\" x=\"2796\" y=\"-795.8\" font-family=\"Times,serif\" font-size=\"14.00\">d_3:&lt;eps&gt;</text>\n</g>\n<!-- 118 -->\n<g id=\"node122\" class=\"node\"><title>118</title>\n<ellipse fill=\"none\" stroke=\"black\" cx=\"2944\" cy=\"-750\" rx=\"24.0958\" ry=\"24.0958\"/>\n<text text-anchor=\"middle\" x=\"2944\" y=\"-746.3\" font-family=\"Times,serif\" font-size=\"14.00\">118</text>\n</g>\n<!-- 117&#45;&gt;118 -->\n<g id=\"edge238\" class=\"edge\"><title>117&#45;&gt;118</title>\n<path fill=\"none\" stroke=\"black\" d=\"M2820.13,-750C2844.13,-750 2881.89,-750 2909.21,-750\"/>\n<polygon fill=\"black\" stroke=\"black\" points=\"2909.49,-753.5 2919.49,-750 2909.49,-746.5 2909.49,-753.5\"/>\n<text text-anchor=\"middle\" x=\"2868\" y=\"-753.8\" font-family=\"Times,serif\" font-size=\"14.00\">d_3:er</text>\n</g>\n<!-- 118&#45;&gt;0 -->\n<g id=\"edge239\" class=\"edge\"><title>118&#45;&gt;0</title>\n<path fill=\"none\" stroke=\"black\" d=\"M2926.84,-767.201C2901.65,-792.038 2850.38,-835 2797,-835 163,-835 163,-835 163,-835 121.857,-835 74.6664,-842.718 45.8483,-848.315\"/>\n<polygon fill=\"black\" stroke=\"black\" points=\"44.8722,-844.941 35.754,-850.337 46.2466,-851.805 44.8722,-844.941\"/>\n<text text-anchor=\"middle\" x=\"1502\" y=\"-838.8\" font-family=\"Times,serif\" font-size=\"14.00\">&lt;eps&gt;:&lt;eps&gt;</text>\n</g>\n<!-- 119 -->\n<g id=\"node123\" class=\"node\"><title>119</title>\n<ellipse fill=\"none\" stroke=\"black\" cx=\"3100\" cy=\"-232\" rx=\"24.0958\" ry=\"24.0958\"/>\n<text text-anchor=\"middle\" x=\"3100\" y=\"-228.3\" font-family=\"Times,serif\" font-size=\"14.00\">119</text>\n</g>\n<!-- 118&#45;&gt;119 -->\n<g id=\"edge240\" class=\"edge\"><title>118&#45;&gt;119</title>\n<path fill=\"none\" stroke=\"black\" d=\"M2951.82,-727.074C2976.39,-644.424 3060.49,-361.544 3089.26,-264.773\"/>\n<polygon fill=\"black\" stroke=\"black\" points=\"3092.68,-265.537 3092.18,-254.954 3085.97,-263.542 3092.68,-265.537\"/>\n<text text-anchor=\"middle\" x=\"3024\" y=\"-600.8\" font-family=\"Times,serif\" font-size=\"14.00\">&lt;eps&gt;:&lt;eps&gt;</text>\n</g>\n<!-- 119&#45;&gt;119 -->\n<g id=\"edge241\" class=\"edge\"><title>119&#45;&gt;119</title>\n<path fill=\"none\" stroke=\"black\" d=\"M3087.15,-252.312C3084.75,-263.603 3089.03,-274 3100,-274 3107.54,-274 3111.92,-269.086 3113.15,-262.345\"/>\n<polygon fill=\"black\" stroke=\"black\" points=\"3116.64,-262.206 3112.85,-252.312 3109.65,-262.409 3116.64,-262.206\"/>\n<text text-anchor=\"middle\" x=\"3100\" y=\"-277.8\" font-family=\"Times,serif\" font-size=\"14.00\">sil_1:&lt;eps&gt;</text>\n</g>\n<!-- 120 -->\n<g id=\"node124\" class=\"node\"><title>120</title>\n<ellipse fill=\"none\" stroke=\"black\" cx=\"3244\" cy=\"-103\" rx=\"24.0958\" ry=\"24.0958\"/>\n<text text-anchor=\"middle\" x=\"3244\" y=\"-99.3\" font-family=\"Times,serif\" font-size=\"14.00\">120</text>\n</g>\n<!-- 119&#45;&gt;120 -->\n<g id=\"edge242\" class=\"edge\"><title>119&#45;&gt;120</title>\n<path fill=\"none\" stroke=\"black\" d=\"M3118.41,-216.182C3143.32,-193.551 3189.28,-151.804 3217.87,-125.827\"/>\n<polygon fill=\"black\" stroke=\"black\" points=\"3220.4,-128.262 3225.45,-118.947 3215.69,-123.081 3220.4,-128.262\"/>\n<text text-anchor=\"middle\" x=\"3172\" y=\"-201.8\" font-family=\"Times,serif\" font-size=\"14.00\">sil_1:&lt;eps&gt;</text>\n</g>\n<!-- 120&#45;&gt;120 -->\n<g id=\"edge243\" class=\"edge\"><title>120&#45;&gt;120</title>\n<path fill=\"none\" stroke=\"black\" d=\"M3231.15,-123.312C3228.75,-134.603 3233.03,-145 3244,-145 3251.54,-145 3255.92,-140.086 3257.15,-133.345\"/>\n<polygon fill=\"black\" stroke=\"black\" points=\"3260.64,-133.206 3256.85,-123.312 3253.65,-133.409 3260.64,-133.206\"/>\n<text text-anchor=\"middle\" x=\"3244\" y=\"-148.8\" font-family=\"Times,serif\" font-size=\"14.00\">sil_2:&lt;eps&gt;</text>\n</g>\n<!-- 121 -->\n<g id=\"node125\" class=\"node\"><title>121</title>\n<ellipse fill=\"none\" stroke=\"black\" cx=\"3388\" cy=\"-70\" rx=\"24.0958\" ry=\"24.0958\"/>\n<text text-anchor=\"middle\" x=\"3388\" y=\"-66.3\" font-family=\"Times,serif\" font-size=\"14.00\">121</text>\n</g>\n<!-- 120&#45;&gt;121 -->\n<g id=\"edge244\" class=\"edge\"><title>120&#45;&gt;121</title>\n<path fill=\"none\" stroke=\"black\" d=\"M3267.5,-97.7711C3290.84,-92.3481 3327.56,-83.8137 3354.14,-77.6364\"/>\n<polygon fill=\"black\" stroke=\"black\" points=\"3355.19,-80.9866 3364.13,-75.3138 3353.6,-74.1683 3355.19,-80.9866\"/>\n<text text-anchor=\"middle\" x=\"3316\" y=\"-98.8\" font-family=\"Times,serif\" font-size=\"14.00\">sil_2:&lt;eps&gt;</text>\n</g>\n<!-- 121&#45;&gt;121 -->\n<g id=\"edge245\" class=\"edge\"><title>121&#45;&gt;121</title>\n<path fill=\"none\" stroke=\"black\" d=\"M3375.15,-90.3115C3372.75,-101.603 3377.03,-112 3388,-112 3395.54,-112 3399.92,-107.086 3401.15,-100.345\"/>\n<polygon fill=\"black\" stroke=\"black\" points=\"3404.64,-100.206 3400.85,-90.3115 3397.65,-100.409 3404.64,-100.206\"/>\n<text text-anchor=\"middle\" x=\"3388\" y=\"-115.8\" font-family=\"Times,serif\" font-size=\"14.00\">sil_3:&lt;eps&gt;</text>\n</g>\n<!-- 122 -->\n<g id=\"node126\" class=\"node\"><title>122</title>\n<ellipse fill=\"none\" stroke=\"black\" cx=\"3532\" cy=\"-64\" rx=\"24.0958\" ry=\"24.0958\"/>\n<text text-anchor=\"middle\" x=\"3532\" y=\"-60.3\" font-family=\"Times,serif\" font-size=\"14.00\">122</text>\n</g>\n<!-- 121&#45;&gt;122 -->\n<g id=\"edge246\" class=\"edge\"><title>121&#45;&gt;122</title>\n<path fill=\"none\" stroke=\"black\" d=\"M3412.13,-69.0226C3435.34,-68.042 3471.32,-66.5217 3497.62,-65.4105\"/>\n<polygon fill=\"black\" stroke=\"black\" points=\"3498.04,-68.8961 3507.88,-64.9769 3497.74,-61.9023 3498.04,-68.8961\"/>\n<text text-anchor=\"middle\" x=\"3460\" y=\"-72.8\" font-family=\"Times,serif\" font-size=\"14.00\">sil_3:&lt;eps&gt;</text>\n</g>\n<!-- 122&#45;&gt;122 -->\n<g id=\"edge247\" class=\"edge\"><title>122&#45;&gt;122</title>\n<path fill=\"none\" stroke=\"black\" d=\"M3519.15,-84.3115C3516.75,-95.6025 3521.03,-106 3532,-106 3539.54,-106 3543.92,-101.086 3545.15,-94.345\"/>\n<polygon fill=\"black\" stroke=\"black\" points=\"3548.64,-94.2058 3544.85,-84.3115 3541.65,-94.4089 3548.64,-94.2058\"/>\n<text text-anchor=\"middle\" x=\"3532\" y=\"-109.8\" font-family=\"Times,serif\" font-size=\"14.00\">sil_4:&lt;eps&gt;</text>\n</g>\n<!-- 123 -->\n<g id=\"node127\" class=\"node\"><title>123</title>\n<ellipse fill=\"none\" stroke=\"black\" cx=\"3676\" cy=\"-60\" rx=\"24.0958\" ry=\"24.0958\"/>\n<text text-anchor=\"middle\" x=\"3676\" y=\"-56.3\" font-family=\"Times,serif\" font-size=\"14.00\">123</text>\n</g>\n<!-- 122&#45;&gt;123 -->\n<g id=\"edge248\" class=\"edge\"><title>122&#45;&gt;123</title>\n<path fill=\"none\" stroke=\"black\" d=\"M3556.13,-63.3484C3579.34,-62.6947 3615.32,-61.6811 3641.62,-60.9403\"/>\n<polygon fill=\"black\" stroke=\"black\" points=\"3641.98,-64.4316 3651.88,-60.6513 3641.78,-57.4344 3641.98,-64.4316\"/>\n<text text-anchor=\"middle\" x=\"3604\" y=\"-66.8\" font-family=\"Times,serif\" font-size=\"14.00\">sil_4:&lt;eps&gt;</text>\n</g>\n<!-- 123&#45;&gt;123 -->\n<g id=\"edge249\" class=\"edge\"><title>123&#45;&gt;123</title>\n<path fill=\"none\" stroke=\"black\" d=\"M3663.15,-80.3115C3660.75,-91.6025 3665.03,-102 3676,-102 3683.54,-102 3687.92,-97.0856 3689.15,-90.345\"/>\n<polygon fill=\"black\" stroke=\"black\" points=\"3692.64,-90.2058 3688.85,-80.3115 3685.65,-90.4089 3692.64,-90.2058\"/>\n<text text-anchor=\"middle\" x=\"3676\" y=\"-105.8\" font-family=\"Times,serif\" font-size=\"14.00\">sil_5:&lt;eps&gt;</text>\n</g>\n<!-- 124 -->\n<g id=\"node128\" class=\"node\"><title>124</title>\n<ellipse fill=\"none\" stroke=\"black\" cx=\"3824\" cy=\"-28\" rx=\"24.089\" ry=\"24.089\"/>\n<ellipse fill=\"none\" stroke=\"black\" cx=\"3824\" cy=\"-28\" rx=\"28.0958\" ry=\"28.0958\"/>\n<text text-anchor=\"middle\" x=\"3824\" y=\"-24.3\" font-family=\"Times,serif\" font-size=\"14.00\">124</text>\n</g>\n<!-- 123&#45;&gt;124 -->\n<g id=\"edge250\" class=\"edge\"><title>123&#45;&gt;124</title>\n<path fill=\"none\" stroke=\"black\" d=\"M3699.81,-55C3723,-49.9187 3759.27,-41.9685 3786.46,-36.0087\"/>\n<polygon fill=\"black\" stroke=\"black\" points=\"3787.37,-39.392 3796.39,-33.8321 3785.87,-32.5543 3787.37,-39.392\"/>\n<text text-anchor=\"middle\" x=\"3748\" y=\"-55.8\" font-family=\"Times,serif\" font-size=\"14.00\">sil_5:&lt;eps&gt;</text>\n</g>\n<!-- 124&#45;&gt;0 -->\n<g id=\"edge251\" class=\"edge\"><title>124&#45;&gt;0</title>\n<path fill=\"none\" stroke=\"black\" d=\"M3796.52,-21.8695C3767.4,-15.671 3719.13,-7 3677,-7 163,-7 163,-7 163,-7 110.576,-7 82.5424,-2.12733 51,-44 27.0137,-75.8419 20.4181,-686.02 19.22,-825.688\"/>\n<polygon fill=\"black\" stroke=\"black\" points=\"15.7178,-825.951 19.1343,-835.979 22.7175,-826.009 15.7178,-825.951\"/>\n<text text-anchor=\"middle\" x=\"1976\" y=\"-10.8\" font-family=\"Times,serif\" font-size=\"14.00\">&lt;eps&gt;:&lt;eps&gt;</text>\n</g>\n<!-- 126&#45;&gt;126 -->\n<g id=\"edge254\" class=\"edge\"><title>126&#45;&gt;126</title>\n<path fill=\"none\" stroke=\"black\" d=\"M306.234,-466.441C302.953,-478.062 307.875,-489 321,-489 330.023,-489 335.17,-483.83 336.439,-476.823\"/>\n<polygon fill=\"black\" stroke=\"black\" points=\"339.905,-476.194 335.766,-466.441 332.92,-476.647 339.905,-476.194\"/>\n<text text-anchor=\"middle\" x=\"321\" y=\"-492.8\" font-family=\"Times,serif\" font-size=\"14.00\">p_2:&lt;eps&gt;</text>\n</g>\n<!-- 127 -->\n<g id=\"node130\" class=\"node\"><title>127</title>\n<ellipse fill=\"none\" stroke=\"black\" cx=\"478\" cy=\"-447\" rx=\"24.0958\" ry=\"24.0958\"/>\n<text text-anchor=\"middle\" x=\"478\" y=\"-443.3\" font-family=\"Times,serif\" font-size=\"14.00\">127</text>\n</g>\n<!-- 126&#45;&gt;127 -->\n<g id=\"edge255\" class=\"edge\"><title>126&#45;&gt;127</title>\n<path fill=\"none\" stroke=\"black\" d=\"M345.205,-447C371.305,-447 413.915,-447 443.595,-447\"/>\n<polygon fill=\"black\" stroke=\"black\" points=\"443.89,-450.5 453.89,-447 443.89,-443.5 443.89,-450.5\"/>\n<text text-anchor=\"middle\" x=\"406\" y=\"-450.8\" font-family=\"Times,serif\" font-size=\"14.00\">p_2:&lt;eps&gt;</text>\n</g>\n<!-- 127&#45;&gt;127 -->\n<g id=\"edge256\" class=\"edge\"><title>127&#45;&gt;127</title>\n<path fill=\"none\" stroke=\"black\" d=\"M465.146,-467.312C462.747,-478.603 467.031,-489 478,-489 485.541,-489 489.923,-484.086 491.145,-477.345\"/>\n<polygon fill=\"black\" stroke=\"black\" points=\"494.643,-477.206 490.854,-467.312 487.646,-477.409 494.643,-477.206\"/>\n<text text-anchor=\"middle\" x=\"478\" y=\"-492.8\" font-family=\"Times,serif\" font-size=\"14.00\">p_3:&lt;eps&gt;</text>\n</g>\n<!-- 128 -->\n<g id=\"node131\" class=\"node\"><title>128</title>\n<ellipse fill=\"none\" stroke=\"black\" cx=\"630\" cy=\"-447\" rx=\"24.0958\" ry=\"24.0958\"/>\n<text text-anchor=\"middle\" x=\"630\" y=\"-443.3\" font-family=\"Times,serif\" font-size=\"14.00\">128</text>\n</g>\n<!-- 127&#45;&gt;128 -->\n<g id=\"edge257\" class=\"edge\"><title>127&#45;&gt;128</title>\n<path fill=\"none\" stroke=\"black\" d=\"M502.109,-447C527.031,-447 566.946,-447 595.35,-447\"/>\n<polygon fill=\"black\" stroke=\"black\" points=\"595.618,-450.5 605.618,-447 595.618,-443.5 595.618,-450.5\"/>\n<text text-anchor=\"middle\" x=\"554\" y=\"-450.8\" font-family=\"Times,serif\" font-size=\"14.00\">p_3:&lt;eps&gt;</text>\n</g>\n<!-- 128&#45;&gt;128 -->\n<g id=\"edge258\" class=\"edge\"><title>128&#45;&gt;128</title>\n<path fill=\"none\" stroke=\"black\" d=\"M616.432,-467.312C613.899,-478.603 618.422,-489 630,-489 637.96,-489 642.585,-484.086 643.876,-477.345\"/>\n<polygon fill=\"black\" stroke=\"black\" points=\"647.373,-477.2 643.568,-467.312 640.376,-477.414 647.373,-477.2\"/>\n<text text-anchor=\"middle\" x=\"630\" y=\"-492.8\" font-family=\"Times,serif\" font-size=\"14.00\">ay_1:&lt;eps&gt;</text>\n</g>\n<!-- 129 -->\n<g id=\"node132\" class=\"node\"><title>129</title>\n<ellipse fill=\"none\" stroke=\"black\" cx=\"795\" cy=\"-447\" rx=\"24.0958\" ry=\"24.0958\"/>\n<text text-anchor=\"middle\" x=\"795\" y=\"-443.3\" font-family=\"Times,serif\" font-size=\"14.00\">129</text>\n</g>\n<!-- 128&#45;&gt;129 -->\n<g id=\"edge259\" class=\"edge\"><title>128&#45;&gt;129</title>\n<path fill=\"none\" stroke=\"black\" d=\"M654.354,-447C682.193,-447 728.919,-447 760.579,-447\"/>\n<polygon fill=\"black\" stroke=\"black\" points=\"760.689,-450.5 770.689,-447 760.689,-443.5 760.689,-450.5\"/>\n<text text-anchor=\"middle\" x=\"706\" y=\"-450.8\" font-family=\"Times,serif\" font-size=\"14.00\">ay_1:&lt;eps&gt;</text>\n</g>\n<!-- 129&#45;&gt;129 -->\n<g id=\"edge260\" class=\"edge\"><title>129&#45;&gt;129</title>\n<path fill=\"none\" stroke=\"black\" d=\"M780.234,-466.441C776.953,-478.062 781.875,-489 795,-489 804.023,-489 809.17,-483.83 810.439,-476.823\"/>\n<polygon fill=\"black\" stroke=\"black\" points=\"813.905,-476.194 809.766,-466.441 806.92,-476.647 813.905,-476.194\"/>\n<text text-anchor=\"middle\" x=\"795\" y=\"-492.8\" font-family=\"Times,serif\" font-size=\"14.00\">ay_2:&lt;eps&gt;</text>\n</g>\n<!-- 130 -->\n<g id=\"node133\" class=\"node\"><title>130</title>\n<ellipse fill=\"none\" stroke=\"black\" cx=\"952\" cy=\"-447\" rx=\"24.0958\" ry=\"24.0958\"/>\n<text text-anchor=\"middle\" x=\"952\" y=\"-443.3\" font-family=\"Times,serif\" font-size=\"14.00\">130</text>\n</g>\n<!-- 129&#45;&gt;130 -->\n<g id=\"edge261\" class=\"edge\"><title>129&#45;&gt;130</title>\n<path fill=\"none\" stroke=\"black\" d=\"M819.205,-447C845.305,-447 887.915,-447 917.595,-447\"/>\n<polygon fill=\"black\" stroke=\"black\" points=\"917.89,-450.5 927.89,-447 917.89,-443.5 917.89,-450.5\"/>\n<text text-anchor=\"middle\" x=\"880\" y=\"-450.8\" font-family=\"Times,serif\" font-size=\"14.00\">ay_2:&lt;eps&gt;</text>\n</g>\n<!-- 130&#45;&gt;130 -->\n<g id=\"edge262\" class=\"edge\"><title>130&#45;&gt;130</title>\n<path fill=\"none\" stroke=\"black\" d=\"M939.146,-467.312C936.747,-478.603 941.031,-489 952,-489 959.541,-489 963.923,-484.086 965.145,-477.345\"/>\n<polygon fill=\"black\" stroke=\"black\" points=\"968.643,-477.206 964.854,-467.312 961.646,-477.409 968.643,-477.206\"/>\n<text text-anchor=\"middle\" x=\"952\" y=\"-492.8\" font-family=\"Times,serif\" font-size=\"14.00\">ay_3:&lt;eps&gt;</text>\n</g>\n<!-- 131 -->\n<g id=\"node134\" class=\"node\"><title>131</title>\n<ellipse fill=\"none\" stroke=\"black\" cx=\"1104\" cy=\"-447\" rx=\"24.0958\" ry=\"24.0958\"/>\n<text text-anchor=\"middle\" x=\"1104\" y=\"-443.3\" font-family=\"Times,serif\" font-size=\"14.00\">131</text>\n</g>\n<!-- 130&#45;&gt;131 -->\n<g id=\"edge263\" class=\"edge\"><title>130&#45;&gt;131</title>\n<path fill=\"none\" stroke=\"black\" d=\"M976.109,-447C1001.03,-447 1040.95,-447 1069.35,-447\"/>\n<polygon fill=\"black\" stroke=\"black\" points=\"1069.62,-450.5 1079.62,-447 1069.62,-443.5 1069.62,-450.5\"/>\n<text text-anchor=\"middle\" x=\"1028\" y=\"-450.8\" font-family=\"Times,serif\" font-size=\"14.00\">ay_3:&lt;eps&gt;</text>\n</g>\n<!-- 131&#45;&gt;131 -->\n<g id=\"edge264\" class=\"edge\"><title>131&#45;&gt;131</title>\n<path fill=\"none\" stroke=\"black\" d=\"M1090.43,-467.312C1087.9,-478.603 1092.42,-489 1104,-489 1111.96,-489 1116.59,-484.086 1117.88,-477.345\"/>\n<polygon fill=\"black\" stroke=\"black\" points=\"1121.37,-477.2 1117.57,-467.312 1114.38,-477.414 1121.37,-477.2\"/>\n<text text-anchor=\"middle\" x=\"1104\" y=\"-492.8\" font-family=\"Times,serif\" font-size=\"14.00\">p_1:&lt;eps&gt;</text>\n</g>\n<!-- 132 -->\n<g id=\"node135\" class=\"node\"><title>132</title>\n<ellipse fill=\"none\" stroke=\"black\" cx=\"1269\" cy=\"-447\" rx=\"24.0958\" ry=\"24.0958\"/>\n<text text-anchor=\"middle\" x=\"1269\" y=\"-443.3\" font-family=\"Times,serif\" font-size=\"14.00\">132</text>\n</g>\n<!-- 131&#45;&gt;132 -->\n<g id=\"edge265\" class=\"edge\"><title>131&#45;&gt;132</title>\n<path fill=\"none\" stroke=\"black\" d=\"M1128.35,-447C1156.19,-447 1202.92,-447 1234.58,-447\"/>\n<polygon fill=\"black\" stroke=\"black\" points=\"1234.69,-450.5 1244.69,-447 1234.69,-443.5 1234.69,-450.5\"/>\n<text text-anchor=\"middle\" x=\"1180\" y=\"-450.8\" font-family=\"Times,serif\" font-size=\"14.00\">p_1:&lt;eps&gt;</text>\n</g>\n<!-- 132&#45;&gt;132 -->\n<g id=\"edge266\" class=\"edge\"><title>132&#45;&gt;132</title>\n<path fill=\"none\" stroke=\"black\" d=\"M1254.23,-466.441C1250.95,-478.062 1255.88,-489 1269,-489 1278.02,-489 1283.17,-483.83 1284.44,-476.823\"/>\n<polygon fill=\"black\" stroke=\"black\" points=\"1287.91,-476.194 1283.77,-466.441 1280.92,-476.647 1287.91,-476.194\"/>\n<text text-anchor=\"middle\" x=\"1269\" y=\"-492.8\" font-family=\"Times,serif\" font-size=\"14.00\">p_2:&lt;eps&gt;</text>\n</g>\n<!-- 133 -->\n<g id=\"node136\" class=\"node\"><title>133</title>\n<ellipse fill=\"none\" stroke=\"black\" cx=\"1426\" cy=\"-447\" rx=\"24.0958\" ry=\"24.0958\"/>\n<text text-anchor=\"middle\" x=\"1426\" y=\"-443.3\" font-family=\"Times,serif\" font-size=\"14.00\">133</text>\n</g>\n<!-- 132&#45;&gt;133 -->\n<g id=\"edge267\" class=\"edge\"><title>132&#45;&gt;133</title>\n<path fill=\"none\" stroke=\"black\" d=\"M1293.21,-447C1319.3,-447 1361.92,-447 1391.59,-447\"/>\n<polygon fill=\"black\" stroke=\"black\" points=\"1391.89,-450.5 1401.89,-447 1391.89,-443.5 1391.89,-450.5\"/>\n<text text-anchor=\"middle\" x=\"1354\" y=\"-450.8\" font-family=\"Times,serif\" font-size=\"14.00\">p_2:&lt;eps&gt;</text>\n</g>\n<!-- 133&#45;&gt;133 -->\n<g id=\"edge268\" class=\"edge\"><title>133&#45;&gt;133</title>\n<path fill=\"none\" stroke=\"black\" d=\"M1413.15,-467.312C1410.75,-478.603 1415.03,-489 1426,-489 1433.54,-489 1437.92,-484.086 1439.15,-477.345\"/>\n<polygon fill=\"black\" stroke=\"black\" points=\"1442.64,-477.206 1438.85,-467.312 1435.65,-477.409 1442.64,-477.206\"/>\n<text text-anchor=\"middle\" x=\"1426\" y=\"-492.8\" font-family=\"Times,serif\" font-size=\"14.00\">p_3:&lt;eps&gt;</text>\n</g>\n<!-- 134 -->\n<g id=\"node137\" class=\"node\"><title>134</title>\n<ellipse fill=\"none\" stroke=\"black\" cx=\"1578\" cy=\"-447\" rx=\"24.0958\" ry=\"24.0958\"/>\n<text text-anchor=\"middle\" x=\"1578\" y=\"-443.3\" font-family=\"Times,serif\" font-size=\"14.00\">134</text>\n</g>\n<!-- 133&#45;&gt;134 -->\n<g id=\"edge269\" class=\"edge\"><title>133&#45;&gt;134</title>\n<path fill=\"none\" stroke=\"black\" d=\"M1450.11,-447C1475.03,-447 1514.95,-447 1543.35,-447\"/>\n<polygon fill=\"black\" stroke=\"black\" points=\"1543.62,-450.5 1553.62,-447 1543.62,-443.5 1543.62,-450.5\"/>\n<text text-anchor=\"middle\" x=\"1502\" y=\"-450.8\" font-family=\"Times,serif\" font-size=\"14.00\">p_3:&lt;eps&gt;</text>\n</g>\n<!-- 134&#45;&gt;134 -->\n<g id=\"edge270\" class=\"edge\"><title>134&#45;&gt;134</title>\n<path fill=\"none\" stroke=\"black\" d=\"M1564.43,-467.312C1561.9,-478.603 1566.42,-489 1578,-489 1585.96,-489 1590.59,-484.086 1591.88,-477.345\"/>\n<polygon fill=\"black\" stroke=\"black\" points=\"1595.37,-477.2 1591.57,-467.312 1588.38,-477.414 1595.37,-477.2\"/>\n<text text-anchor=\"middle\" x=\"1578\" y=\"-492.8\" font-family=\"Times,serif\" font-size=\"14.00\">er_1:&lt;eps&gt;</text>\n</g>\n<!-- 135 -->\n<g id=\"node138\" class=\"node\"><title>135</title>\n<ellipse fill=\"none\" stroke=\"black\" cx=\"1743\" cy=\"-447\" rx=\"24.0958\" ry=\"24.0958\"/>\n<text text-anchor=\"middle\" x=\"1743\" y=\"-443.3\" font-family=\"Times,serif\" font-size=\"14.00\">135</text>\n</g>\n<!-- 134&#45;&gt;135 -->\n<g id=\"edge271\" class=\"edge\"><title>134&#45;&gt;135</title>\n<path fill=\"none\" stroke=\"black\" d=\"M1602.35,-447C1630.19,-447 1676.92,-447 1708.58,-447\"/>\n<polygon fill=\"black\" stroke=\"black\" points=\"1708.69,-450.5 1718.69,-447 1708.69,-443.5 1708.69,-450.5\"/>\n<text text-anchor=\"middle\" x=\"1654\" y=\"-450.8\" font-family=\"Times,serif\" font-size=\"14.00\">er_1:&lt;eps&gt;</text>\n</g>\n<!-- 135&#45;&gt;135 -->\n<g id=\"edge272\" class=\"edge\"><title>135&#45;&gt;135</title>\n<path fill=\"none\" stroke=\"black\" d=\"M1728.23,-466.441C1724.95,-478.062 1729.88,-489 1743,-489 1752.02,-489 1757.17,-483.83 1758.44,-476.823\"/>\n<polygon fill=\"black\" stroke=\"black\" points=\"1761.91,-476.194 1757.77,-466.441 1754.92,-476.647 1761.91,-476.194\"/>\n<text text-anchor=\"middle\" x=\"1743\" y=\"-492.8\" font-family=\"Times,serif\" font-size=\"14.00\">er_2:&lt;eps&gt;</text>\n</g>\n<!-- 136 -->\n<g id=\"node139\" class=\"node\"><title>136</title>\n<ellipse fill=\"none\" stroke=\"black\" cx=\"1900\" cy=\"-447\" rx=\"24.0958\" ry=\"24.0958\"/>\n<text text-anchor=\"middle\" x=\"1900\" y=\"-443.3\" font-family=\"Times,serif\" font-size=\"14.00\">136</text>\n</g>\n<!-- 135&#45;&gt;136 -->\n<g id=\"edge273\" class=\"edge\"><title>135&#45;&gt;136</title>\n<path fill=\"none\" stroke=\"black\" d=\"M1767.21,-447C1793.3,-447 1835.92,-447 1865.59,-447\"/>\n<polygon fill=\"black\" stroke=\"black\" points=\"1865.89,-450.5 1875.89,-447 1865.89,-443.5 1865.89,-450.5\"/>\n<text text-anchor=\"middle\" x=\"1828\" y=\"-450.8\" font-family=\"Times,serif\" font-size=\"14.00\">er_2:&lt;eps&gt;</text>\n</g>\n<!-- 136&#45;&gt;136 -->\n<g id=\"edge274\" class=\"edge\"><title>136&#45;&gt;136</title>\n<path fill=\"none\" stroke=\"black\" d=\"M1887.15,-467.312C1884.75,-478.603 1889.03,-489 1900,-489 1907.54,-489 1911.92,-484.086 1913.15,-477.345\"/>\n<polygon fill=\"black\" stroke=\"black\" points=\"1916.64,-477.206 1912.85,-467.312 1909.65,-477.409 1916.64,-477.206\"/>\n<text text-anchor=\"middle\" x=\"1900\" y=\"-492.8\" font-family=\"Times,serif\" font-size=\"14.00\">er_3:&lt;eps&gt;</text>\n</g>\n<!-- 137 -->\n<g id=\"node140\" class=\"node\"><title>137</title>\n<ellipse fill=\"none\" stroke=\"black\" cx=\"2056\" cy=\"-447\" rx=\"24.0958\" ry=\"24.0958\"/>\n<text text-anchor=\"middle\" x=\"2056\" y=\"-443.3\" font-family=\"Times,serif\" font-size=\"14.00\">137</text>\n</g>\n<!-- 136&#45;&gt;137 -->\n<g id=\"edge275\" class=\"edge\"><title>136&#45;&gt;137</title>\n<path fill=\"none\" stroke=\"black\" d=\"M1924.06,-447C1949.91,-447 1992.08,-447 2021.55,-447\"/>\n<polygon fill=\"black\" stroke=\"black\" points=\"2021.79,-450.5 2031.79,-447 2021.79,-443.5 2021.79,-450.5\"/>\n<text text-anchor=\"middle\" x=\"1976\" y=\"-450.8\" font-family=\"Times,serif\" font-size=\"14.00\">er_3:z</text>\n</g>\n<!-- 137&#45;&gt;0 -->\n<g id=\"edge276\" class=\"edge\"><title>137&#45;&gt;0</title>\n<path fill=\"none\" stroke=\"black\" d=\"M2038.21,-463.793C2011.57,-488.565 1956.89,-532 1901,-532 163,-532 163,-532 163,-532 112.092,-532 85.0753,-518.178 51,-556 33.1475,-575.815 23.365,-755.041 20.1773,-825.622\"/>\n<polygon fill=\"black\" stroke=\"black\" points=\"16.6648,-825.832 19.7221,-835.976 23.658,-826.14 16.6648,-825.832\"/>\n<text text-anchor=\"middle\" x=\"1028\" y=\"-535.8\" font-family=\"Times,serif\" font-size=\"14.00\">&lt;eps&gt;:&lt;eps&gt;</text>\n</g>\n<!-- 138 -->\n<g id=\"node141\" class=\"node\"><title>138</title>\n<ellipse fill=\"none\" stroke=\"black\" cx=\"2212\" cy=\"-359\" rx=\"24.0958\" ry=\"24.0958\"/>\n<text text-anchor=\"middle\" x=\"2212\" y=\"-355.3\" font-family=\"Times,serif\" font-size=\"14.00\">138</text>\n</g>\n<!-- 137&#45;&gt;138 -->\n<g id=\"edge277\" class=\"edge\"><title>137&#45;&gt;138</title>\n<path fill=\"none\" stroke=\"black\" d=\"M2077.13,-435.496C2103.88,-420.212 2151.31,-393.108 2181.94,-375.607\"/>\n<polygon fill=\"black\" stroke=\"black\" points=\"2183.92,-378.508 2190.86,-370.507 2180.44,-372.43 2183.92,-378.508\"/>\n<text text-anchor=\"middle\" x=\"2136\" y=\"-424.8\" font-family=\"Times,serif\" font-size=\"14.00\">&lt;eps&gt;:&lt;eps&gt;</text>\n</g>\n<!-- 138&#45;&gt;138 -->\n<g id=\"edge278\" class=\"edge\"><title>138&#45;&gt;138</title>\n<path fill=\"none\" stroke=\"black\" d=\"M2199.15,-379.312C2196.75,-390.603 2201.03,-401 2212,-401 2219.54,-401 2223.92,-396.086 2225.15,-389.345\"/>\n<polygon fill=\"black\" stroke=\"black\" points=\"2228.64,-389.206 2224.85,-379.312 2221.65,-389.409 2228.64,-389.206\"/>\n<text text-anchor=\"middle\" x=\"2212\" y=\"-404.8\" font-family=\"Times,serif\" font-size=\"14.00\">sil_1:&lt;eps&gt;</text>\n</g>\n<!-- 139 -->\n<g id=\"node142\" class=\"node\"><title>139</title>\n<ellipse fill=\"none\" stroke=\"black\" cx=\"2356\" cy=\"-326\" rx=\"24.0958\" ry=\"24.0958\"/>\n<text text-anchor=\"middle\" x=\"2356\" y=\"-322.3\" font-family=\"Times,serif\" font-size=\"14.00\">139</text>\n</g>\n<!-- 138&#45;&gt;139 -->\n<g id=\"edge279\" class=\"edge\"><title>138&#45;&gt;139</title>\n<path fill=\"none\" stroke=\"black\" d=\"M2235.5,-353.771C2258.84,-348.348 2295.56,-339.814 2322.14,-333.636\"/>\n<polygon fill=\"black\" stroke=\"black\" points=\"2323.19,-336.987 2332.13,-331.314 2321.6,-330.168 2323.19,-336.987\"/>\n<text text-anchor=\"middle\" x=\"2284\" y=\"-354.8\" font-family=\"Times,serif\" font-size=\"14.00\">sil_1:&lt;eps&gt;</text>\n</g>\n<!-- 139&#45;&gt;139 -->\n<g id=\"edge280\" class=\"edge\"><title>139&#45;&gt;139</title>\n<path fill=\"none\" stroke=\"black\" d=\"M2343.15,-346.312C2340.75,-357.603 2345.03,-368 2356,-368 2363.54,-368 2367.92,-363.086 2369.15,-356.345\"/>\n<polygon fill=\"black\" stroke=\"black\" points=\"2372.64,-356.206 2368.85,-346.312 2365.65,-356.409 2372.64,-356.206\"/>\n<text text-anchor=\"middle\" x=\"2356\" y=\"-371.8\" font-family=\"Times,serif\" font-size=\"14.00\">sil_2:&lt;eps&gt;</text>\n</g>\n<!-- 140 -->\n<g id=\"node143\" class=\"node\"><title>140</title>\n<ellipse fill=\"none\" stroke=\"black\" cx=\"2500\" cy=\"-318\" rx=\"24.0958\" ry=\"24.0958\"/>\n<text text-anchor=\"middle\" x=\"2500\" y=\"-314.3\" font-family=\"Times,serif\" font-size=\"14.00\">140</text>\n</g>\n<!-- 139&#45;&gt;140 -->\n<g id=\"edge281\" class=\"edge\"><title>139&#45;&gt;140</title>\n<path fill=\"none\" stroke=\"black\" d=\"M2380.13,-324.697C2403.34,-323.389 2439.32,-321.362 2465.62,-319.881\"/>\n<polygon fill=\"black\" stroke=\"black\" points=\"2466.09,-323.36 2475.88,-319.303 2465.7,-316.371 2466.09,-323.36\"/>\n<text text-anchor=\"middle\" x=\"2428\" y=\"-327.8\" font-family=\"Times,serif\" font-size=\"14.00\">sil_2:&lt;eps&gt;</text>\n</g>\n<!-- 140&#45;&gt;140 -->\n<g id=\"edge282\" class=\"edge\"><title>140&#45;&gt;140</title>\n<path fill=\"none\" stroke=\"black\" d=\"M2487.15,-338.312C2484.75,-349.603 2489.03,-360 2500,-360 2507.54,-360 2511.92,-355.086 2513.15,-348.345\"/>\n<polygon fill=\"black\" stroke=\"black\" points=\"2516.64,-348.206 2512.85,-338.312 2509.65,-348.409 2516.64,-348.206\"/>\n<text text-anchor=\"middle\" x=\"2500\" y=\"-363.8\" font-family=\"Times,serif\" font-size=\"14.00\">sil_3:&lt;eps&gt;</text>\n</g>\n<!-- 141 -->\n<g id=\"node144\" class=\"node\"><title>141</title>\n<ellipse fill=\"none\" stroke=\"black\" cx=\"2652\" cy=\"-273\" rx=\"24.0958\" ry=\"24.0958\"/>\n<text text-anchor=\"middle\" x=\"2652\" y=\"-269.3\" font-family=\"Times,serif\" font-size=\"14.00\">141</text>\n</g>\n<!-- 140&#45;&gt;141 -->\n<g id=\"edge283\" class=\"edge\"><title>140&#45;&gt;141</title>\n<path fill=\"none\" stroke=\"black\" d=\"M2523.13,-311.36C2548.5,-303.749 2590.29,-291.213 2619.15,-282.554\"/>\n<polygon fill=\"black\" stroke=\"black\" points=\"2620.2,-285.893 2628.78,-279.667 2618.19,-279.188 2620.2,-285.893\"/>\n<text text-anchor=\"middle\" x=\"2576\" y=\"-309.8\" font-family=\"Times,serif\" font-size=\"14.00\">sil_3:&lt;eps&gt;</text>\n</g>\n<!-- 141&#45;&gt;141 -->\n<g id=\"edge284\" class=\"edge\"><title>141&#45;&gt;141</title>\n<path fill=\"none\" stroke=\"black\" d=\"M2639.15,-293.312C2636.75,-304.603 2641.03,-315 2652,-315 2659.54,-315 2663.92,-310.086 2665.15,-303.345\"/>\n<polygon fill=\"black\" stroke=\"black\" points=\"2668.64,-303.206 2664.85,-293.312 2661.65,-303.409 2668.64,-303.206\"/>\n<text text-anchor=\"middle\" x=\"2652\" y=\"-318.8\" font-family=\"Times,serif\" font-size=\"14.00\">sil_4:&lt;eps&gt;</text>\n</g>\n<!-- 142 -->\n<g id=\"node145\" class=\"node\"><title>142</title>\n<ellipse fill=\"none\" stroke=\"black\" cx=\"2796\" cy=\"-272\" rx=\"24.0958\" ry=\"24.0958\"/>\n<text text-anchor=\"middle\" x=\"2796\" y=\"-268.3\" font-family=\"Times,serif\" font-size=\"14.00\">142</text>\n</g>\n<!-- 141&#45;&gt;142 -->\n<g id=\"edge285\" class=\"edge\"><title>141&#45;&gt;142</title>\n<path fill=\"none\" stroke=\"black\" d=\"M2676.13,-272.837C2699.34,-272.674 2735.32,-272.42 2761.62,-272.235\"/>\n<polygon fill=\"black\" stroke=\"black\" points=\"2761.9,-275.733 2771.88,-272.163 2761.85,-268.733 2761.9,-275.733\"/>\n<text text-anchor=\"middle\" x=\"2724\" y=\"-276.8\" font-family=\"Times,serif\" font-size=\"14.00\">sil_4:&lt;eps&gt;</text>\n</g>\n<!-- 142&#45;&gt;142 -->\n<g id=\"edge286\" class=\"edge\"><title>142&#45;&gt;142</title>\n<path fill=\"none\" stroke=\"black\" d=\"M2783.15,-292.312C2780.75,-303.603 2785.03,-314 2796,-314 2803.54,-314 2807.92,-309.086 2809.15,-302.345\"/>\n<polygon fill=\"black\" stroke=\"black\" points=\"2812.64,-302.206 2808.85,-292.312 2805.65,-302.409 2812.64,-302.206\"/>\n<text text-anchor=\"middle\" x=\"2796\" y=\"-317.8\" font-family=\"Times,serif\" font-size=\"14.00\">sil_5:&lt;eps&gt;</text>\n</g>\n<!-- 143 -->\n<g id=\"node146\" class=\"node\"><title>143</title>\n<ellipse fill=\"none\" stroke=\"black\" cx=\"2944\" cy=\"-242\" rx=\"24.089\" ry=\"24.089\"/>\n<ellipse fill=\"none\" stroke=\"black\" cx=\"2944\" cy=\"-242\" rx=\"28.0958\" ry=\"28.0958\"/>\n<text text-anchor=\"middle\" x=\"2944\" y=\"-238.3\" font-family=\"Times,serif\" font-size=\"14.00\">143</text>\n</g>\n<!-- 142&#45;&gt;143 -->\n<g id=\"edge287\" class=\"edge\"><title>142&#45;&gt;143</title>\n<path fill=\"none\" stroke=\"black\" d=\"M2819.81,-267.312C2843,-262.549 2879.27,-255.095 2906.46,-249.508\"/>\n<polygon fill=\"black\" stroke=\"black\" points=\"2907.3,-252.909 2916.39,-247.468 2905.89,-246.052 2907.3,-252.909\"/>\n<text text-anchor=\"middle\" x=\"2868\" y=\"-267.8\" font-family=\"Times,serif\" font-size=\"14.00\">sil_5:&lt;eps&gt;</text>\n</g>\n<!-- 143&#45;&gt;0 -->\n<g id=\"edge288\" class=\"edge\"><title>143&#45;&gt;0</title>\n<path fill=\"none\" stroke=\"black\" d=\"M2916.54,-235.578C2887.43,-229.084 2839.17,-220 2797,-220 163,-220 163,-220 163,-220 110.848,-220 83.0015,-213.821 51,-255 15.7488,-300.361 17.4921,-712.531 18.6456,-825.488\"/>\n<polygon fill=\"black\" stroke=\"black\" points=\"15.1486,-825.791 18.7575,-835.752 22.1482,-825.715 15.1486,-825.791\"/>\n<text text-anchor=\"middle\" x=\"1502\" y=\"-223.8\" font-family=\"Times,serif\" font-size=\"14.00\">&lt;eps&gt;:&lt;eps&gt;</text>\n</g>\n<!-- 145&#45;&gt;145 -->\n<g id=\"edge291\" class=\"edge\"><title>145&#45;&gt;145</title>\n<path fill=\"none\" stroke=\"black\" d=\"M306.234,-367.441C302.953,-379.062 307.875,-390 321,-390 330.023,-390 335.17,-384.83 336.439,-377.823\"/>\n<polygon fill=\"black\" stroke=\"black\" points=\"339.905,-377.194 335.766,-367.441 332.92,-377.647 339.905,-377.194\"/>\n<text text-anchor=\"middle\" x=\"321\" y=\"-393.8\" font-family=\"Times,serif\" font-size=\"14.00\">dh_2:&lt;eps&gt;</text>\n</g>\n<!-- 146 -->\n<g id=\"node148\" class=\"node\"><title>146</title>\n<ellipse fill=\"none\" stroke=\"black\" cx=\"478\" cy=\"-348\" rx=\"24.0958\" ry=\"24.0958\"/>\n<text text-anchor=\"middle\" x=\"478\" y=\"-344.3\" font-family=\"Times,serif\" font-size=\"14.00\">146</text>\n</g>\n<!-- 145&#45;&gt;146 -->\n<g id=\"edge292\" class=\"edge\"><title>145&#45;&gt;146</title>\n<path fill=\"none\" stroke=\"black\" d=\"M345.205,-348C371.305,-348 413.915,-348 443.595,-348\"/>\n<polygon fill=\"black\" stroke=\"black\" points=\"443.89,-351.5 453.89,-348 443.89,-344.5 443.89,-351.5\"/>\n<text text-anchor=\"middle\" x=\"406\" y=\"-351.8\" font-family=\"Times,serif\" font-size=\"14.00\">dh_2:&lt;eps&gt;</text>\n</g>\n<!-- 146&#45;&gt;146 -->\n<g id=\"edge293\" class=\"edge\"><title>146&#45;&gt;146</title>\n<path fill=\"none\" stroke=\"black\" d=\"M465.146,-368.312C462.747,-379.603 467.031,-390 478,-390 485.541,-390 489.923,-385.086 491.145,-378.345\"/>\n<polygon fill=\"black\" stroke=\"black\" points=\"494.643,-378.206 490.854,-368.312 487.646,-378.409 494.643,-378.206\"/>\n<text text-anchor=\"middle\" x=\"478\" y=\"-393.8\" font-family=\"Times,serif\" font-size=\"14.00\">dh_3:&lt;eps&gt;</text>\n</g>\n<!-- 147 -->\n<g id=\"node149\" class=\"node\"><title>147</title>\n<ellipse fill=\"none\" stroke=\"black\" cx=\"630\" cy=\"-348\" rx=\"24.0958\" ry=\"24.0958\"/>\n<text text-anchor=\"middle\" x=\"630\" y=\"-344.3\" font-family=\"Times,serif\" font-size=\"14.00\">147</text>\n</g>\n<!-- 146&#45;&gt;147 -->\n<g id=\"edge294\" class=\"edge\"><title>146&#45;&gt;147</title>\n<path fill=\"none\" stroke=\"black\" d=\"M502.109,-348C527.031,-348 566.946,-348 595.35,-348\"/>\n<polygon fill=\"black\" stroke=\"black\" points=\"595.618,-351.5 605.618,-348 595.618,-344.5 595.618,-351.5\"/>\n<text text-anchor=\"middle\" x=\"554\" y=\"-351.8\" font-family=\"Times,serif\" font-size=\"14.00\">dh_3:&lt;eps&gt;</text>\n</g>\n<!-- 147&#45;&gt;147 -->\n<g id=\"edge295\" class=\"edge\"><title>147&#45;&gt;147</title>\n<path fill=\"none\" stroke=\"black\" d=\"M616.432,-368.312C613.899,-379.603 618.422,-390 630,-390 637.96,-390 642.585,-385.086 643.876,-378.345\"/>\n<polygon fill=\"black\" stroke=\"black\" points=\"647.373,-378.2 643.568,-368.312 640.376,-378.414 647.373,-378.2\"/>\n<text text-anchor=\"middle\" x=\"630\" y=\"-393.8\" font-family=\"Times,serif\" font-size=\"14.00\">iy_1:&lt;eps&gt;</text>\n</g>\n<!-- 148 -->\n<g id=\"node150\" class=\"node\"><title>148</title>\n<ellipse fill=\"none\" stroke=\"black\" cx=\"795\" cy=\"-348\" rx=\"24.0958\" ry=\"24.0958\"/>\n<text text-anchor=\"middle\" x=\"795\" y=\"-344.3\" font-family=\"Times,serif\" font-size=\"14.00\">148</text>\n</g>\n<!-- 147&#45;&gt;148 -->\n<g id=\"edge296\" class=\"edge\"><title>147&#45;&gt;148</title>\n<path fill=\"none\" stroke=\"black\" d=\"M654.354,-348C682.193,-348 728.919,-348 760.579,-348\"/>\n<polygon fill=\"black\" stroke=\"black\" points=\"760.689,-351.5 770.689,-348 760.689,-344.5 760.689,-351.5\"/>\n<text text-anchor=\"middle\" x=\"706\" y=\"-351.8\" font-family=\"Times,serif\" font-size=\"14.00\">iy_1:&lt;eps&gt;</text>\n</g>\n<!-- 148&#45;&gt;148 -->\n<g id=\"edge297\" class=\"edge\"><title>148&#45;&gt;148</title>\n<path fill=\"none\" stroke=\"black\" d=\"M780.234,-367.441C776.953,-379.062 781.875,-390 795,-390 804.023,-390 809.17,-384.83 810.439,-377.823\"/>\n<polygon fill=\"black\" stroke=\"black\" points=\"813.905,-377.194 809.766,-367.441 806.92,-377.647 813.905,-377.194\"/>\n<text text-anchor=\"middle\" x=\"795\" y=\"-393.8\" font-family=\"Times,serif\" font-size=\"14.00\">iy_2:&lt;eps&gt;</text>\n</g>\n<!-- 149 -->\n<g id=\"node151\" class=\"node\"><title>149</title>\n<ellipse fill=\"none\" stroke=\"black\" cx=\"952\" cy=\"-348\" rx=\"24.0958\" ry=\"24.0958\"/>\n<text text-anchor=\"middle\" x=\"952\" y=\"-344.3\" font-family=\"Times,serif\" font-size=\"14.00\">149</text>\n</g>\n<!-- 148&#45;&gt;149 -->\n<g id=\"edge298\" class=\"edge\"><title>148&#45;&gt;149</title>\n<path fill=\"none\" stroke=\"black\" d=\"M819.205,-348C845.305,-348 887.915,-348 917.595,-348\"/>\n<polygon fill=\"black\" stroke=\"black\" points=\"917.89,-351.5 927.89,-348 917.89,-344.5 917.89,-351.5\"/>\n<text text-anchor=\"middle\" x=\"880\" y=\"-351.8\" font-family=\"Times,serif\" font-size=\"14.00\">iy_2:&lt;eps&gt;</text>\n</g>\n<!-- 149&#45;&gt;149 -->\n<g id=\"edge299\" class=\"edge\"><title>149&#45;&gt;149</title>\n<path fill=\"none\" stroke=\"black\" d=\"M939.146,-368.312C936.747,-379.603 941.031,-390 952,-390 959.541,-390 963.923,-385.086 965.145,-378.345\"/>\n<polygon fill=\"black\" stroke=\"black\" points=\"968.643,-378.206 964.854,-368.312 961.646,-378.409 968.643,-378.206\"/>\n<text text-anchor=\"middle\" x=\"952\" y=\"-393.8\" font-family=\"Times,serif\" font-size=\"14.00\">iy_3:&lt;eps&gt;</text>\n</g>\n<!-- 150 -->\n<g id=\"node152\" class=\"node\"><title>150</title>\n<ellipse fill=\"none\" stroke=\"black\" cx=\"1104\" cy=\"-310\" rx=\"24.0958\" ry=\"24.0958\"/>\n<text text-anchor=\"middle\" x=\"1104\" y=\"-306.3\" font-family=\"Times,serif\" font-size=\"14.00\">150</text>\n</g>\n<!-- 149&#45;&gt;150 -->\n<g id=\"edge300\" class=\"edge\"><title>149&#45;&gt;150</title>\n<path fill=\"none\" stroke=\"black\" d=\"M975.457,-342.311C1000.64,-335.931 1041.71,-325.526 1070.42,-318.253\"/>\n<polygon fill=\"black\" stroke=\"black\" points=\"1071.56,-321.577 1080.39,-315.728 1069.84,-314.791 1071.56,-321.577\"/>\n<text text-anchor=\"middle\" x=\"1028\" y=\"-341.8\" font-family=\"Times,serif\" font-size=\"14.00\">iy_3:iy</text>\n</g>\n<!-- 150&#45;&gt;0 -->\n<g id=\"edge301\" class=\"edge\"><title>150&#45;&gt;0</title>\n<path fill=\"none\" stroke=\"black\" d=\"M1080.19,-306.539C1050.84,-302.394 998.248,-296 953,-296 163,-296 163,-296 163,-296 104.766,-296 81.1984,-314.208 51,-364 27.0313,-403.52 20.7076,-727.735 19.3344,-825.925\"/>\n<polygon fill=\"black\" stroke=\"black\" points=\"15.8339,-825.942 19.2001,-835.988 22.8333,-826.036 15.8339,-825.942\"/>\n<text text-anchor=\"middle\" x=\"554\" y=\"-299.8\" font-family=\"Times,serif\" font-size=\"14.00\">&lt;eps&gt;:&lt;eps&gt;</text>\n</g>\n<!-- 151 -->\n<g id=\"node153\" class=\"node\"><title>151</title>\n<ellipse fill=\"none\" stroke=\"black\" cx=\"1269\" cy=\"-310\" rx=\"24.0958\" ry=\"24.0958\"/>\n<text text-anchor=\"middle\" x=\"1269\" y=\"-306.3\" font-family=\"Times,serif\" font-size=\"14.00\">151</text>\n</g>\n<!-- 150&#45;&gt;151 -->\n<g id=\"edge302\" class=\"edge\"><title>150&#45;&gt;151</title>\n<path fill=\"none\" stroke=\"black\" d=\"M1128.35,-310C1156.19,-310 1202.92,-310 1234.58,-310\"/>\n<polygon fill=\"black\" stroke=\"black\" points=\"1234.69,-313.5 1244.69,-310 1234.69,-306.5 1234.69,-313.5\"/>\n<text text-anchor=\"middle\" x=\"1180\" y=\"-313.8\" font-family=\"Times,serif\" font-size=\"14.00\">&lt;eps&gt;:&lt;eps&gt;</text>\n</g>\n<!-- 151&#45;&gt;151 -->\n<g id=\"edge303\" class=\"edge\"><title>151&#45;&gt;151</title>\n<path fill=\"none\" stroke=\"black\" d=\"M1254.23,-329.441C1250.95,-341.062 1255.88,-352 1269,-352 1278.02,-352 1283.17,-346.83 1284.44,-339.823\"/>\n<polygon fill=\"black\" stroke=\"black\" points=\"1287.91,-339.194 1283.77,-329.441 1280.92,-339.647 1287.91,-339.194\"/>\n<text text-anchor=\"middle\" x=\"1269\" y=\"-355.8\" font-family=\"Times,serif\" font-size=\"14.00\">sil_1:&lt;eps&gt;</text>\n</g>\n<!-- 152 -->\n<g id=\"node154\" class=\"node\"><title>152</title>\n<ellipse fill=\"none\" stroke=\"black\" cx=\"1426\" cy=\"-310\" rx=\"24.0958\" ry=\"24.0958\"/>\n<text text-anchor=\"middle\" x=\"1426\" y=\"-306.3\" font-family=\"Times,serif\" font-size=\"14.00\">152</text>\n</g>\n<!-- 151&#45;&gt;152 -->\n<g id=\"edge304\" class=\"edge\"><title>151&#45;&gt;152</title>\n<path fill=\"none\" stroke=\"black\" d=\"M1293.21,-310C1319.3,-310 1361.92,-310 1391.59,-310\"/>\n<polygon fill=\"black\" stroke=\"black\" points=\"1391.89,-313.5 1401.89,-310 1391.89,-306.5 1391.89,-313.5\"/>\n<text text-anchor=\"middle\" x=\"1354\" y=\"-313.8\" font-family=\"Times,serif\" font-size=\"14.00\">sil_1:&lt;eps&gt;</text>\n</g>\n<!-- 152&#45;&gt;152 -->\n<g id=\"edge305\" class=\"edge\"><title>152&#45;&gt;152</title>\n<path fill=\"none\" stroke=\"black\" d=\"M1413.15,-330.312C1410.75,-341.603 1415.03,-352 1426,-352 1433.54,-352 1437.92,-347.086 1439.15,-340.345\"/>\n<polygon fill=\"black\" stroke=\"black\" points=\"1442.64,-340.206 1438.85,-330.312 1435.65,-340.409 1442.64,-340.206\"/>\n<text text-anchor=\"middle\" x=\"1426\" y=\"-355.8\" font-family=\"Times,serif\" font-size=\"14.00\">sil_2:&lt;eps&gt;</text>\n</g>\n<!-- 153 -->\n<g id=\"node155\" class=\"node\"><title>153</title>\n<ellipse fill=\"none\" stroke=\"black\" cx=\"1578\" cy=\"-310\" rx=\"24.0958\" ry=\"24.0958\"/>\n<text text-anchor=\"middle\" x=\"1578\" y=\"-306.3\" font-family=\"Times,serif\" font-size=\"14.00\">153</text>\n</g>\n<!-- 152&#45;&gt;153 -->\n<g id=\"edge306\" class=\"edge\"><title>152&#45;&gt;153</title>\n<path fill=\"none\" stroke=\"black\" d=\"M1450.11,-310C1475.03,-310 1514.95,-310 1543.35,-310\"/>\n<polygon fill=\"black\" stroke=\"black\" points=\"1543.62,-313.5 1553.62,-310 1543.62,-306.5 1543.62,-313.5\"/>\n<text text-anchor=\"middle\" x=\"1502\" y=\"-313.8\" font-family=\"Times,serif\" font-size=\"14.00\">sil_2:&lt;eps&gt;</text>\n</g>\n<!-- 153&#45;&gt;153 -->\n<g id=\"edge307\" class=\"edge\"><title>153&#45;&gt;153</title>\n<path fill=\"none\" stroke=\"black\" d=\"M1564.43,-330.312C1561.9,-341.603 1566.42,-352 1578,-352 1585.96,-352 1590.59,-347.086 1591.88,-340.345\"/>\n<polygon fill=\"black\" stroke=\"black\" points=\"1595.37,-340.2 1591.57,-330.312 1588.38,-340.414 1595.37,-340.2\"/>\n<text text-anchor=\"middle\" x=\"1578\" y=\"-355.8\" font-family=\"Times,serif\" font-size=\"14.00\">sil_3:&lt;eps&gt;</text>\n</g>\n<!-- 154 -->\n<g id=\"node156\" class=\"node\"><title>154</title>\n<ellipse fill=\"none\" stroke=\"black\" cx=\"1743\" cy=\"-310\" rx=\"24.0958\" ry=\"24.0958\"/>\n<text text-anchor=\"middle\" x=\"1743\" y=\"-306.3\" font-family=\"Times,serif\" font-size=\"14.00\">154</text>\n</g>\n<!-- 153&#45;&gt;154 -->\n<g id=\"edge308\" class=\"edge\"><title>153&#45;&gt;154</title>\n<path fill=\"none\" stroke=\"black\" d=\"M1602.35,-310C1630.19,-310 1676.92,-310 1708.58,-310\"/>\n<polygon fill=\"black\" stroke=\"black\" points=\"1708.69,-313.5 1718.69,-310 1708.69,-306.5 1708.69,-313.5\"/>\n<text text-anchor=\"middle\" x=\"1654\" y=\"-313.8\" font-family=\"Times,serif\" font-size=\"14.00\">sil_3:&lt;eps&gt;</text>\n</g>\n<!-- 154&#45;&gt;154 -->\n<g id=\"edge309\" class=\"edge\"><title>154&#45;&gt;154</title>\n<path fill=\"none\" stroke=\"black\" d=\"M1728.23,-329.441C1724.95,-341.062 1729.88,-352 1743,-352 1752.02,-352 1757.17,-346.83 1758.44,-339.823\"/>\n<polygon fill=\"black\" stroke=\"black\" points=\"1761.91,-339.194 1757.77,-329.441 1754.92,-339.647 1761.91,-339.194\"/>\n<text text-anchor=\"middle\" x=\"1743\" y=\"-355.8\" font-family=\"Times,serif\" font-size=\"14.00\">sil_4:&lt;eps&gt;</text>\n</g>\n<!-- 155 -->\n<g id=\"node157\" class=\"node\"><title>155</title>\n<ellipse fill=\"none\" stroke=\"black\" cx=\"1900\" cy=\"-310\" rx=\"24.0958\" ry=\"24.0958\"/>\n<text text-anchor=\"middle\" x=\"1900\" y=\"-306.3\" font-family=\"Times,serif\" font-size=\"14.00\">155</text>\n</g>\n<!-- 154&#45;&gt;155 -->\n<g id=\"edge310\" class=\"edge\"><title>154&#45;&gt;155</title>\n<path fill=\"none\" stroke=\"black\" d=\"M1767.21,-310C1793.3,-310 1835.92,-310 1865.59,-310\"/>\n<polygon fill=\"black\" stroke=\"black\" points=\"1865.89,-313.5 1875.89,-310 1865.89,-306.5 1865.89,-313.5\"/>\n<text text-anchor=\"middle\" x=\"1828\" y=\"-313.8\" font-family=\"Times,serif\" font-size=\"14.00\">sil_4:&lt;eps&gt;</text>\n</g>\n<!-- 155&#45;&gt;155 -->\n<g id=\"edge311\" class=\"edge\"><title>155&#45;&gt;155</title>\n<path fill=\"none\" stroke=\"black\" d=\"M1887.15,-330.312C1884.75,-341.603 1889.03,-352 1900,-352 1907.54,-352 1911.92,-347.086 1913.15,-340.345\"/>\n<polygon fill=\"black\" stroke=\"black\" points=\"1916.64,-340.206 1912.85,-330.312 1909.65,-340.409 1916.64,-340.206\"/>\n<text text-anchor=\"middle\" x=\"1900\" y=\"-355.8\" font-family=\"Times,serif\" font-size=\"14.00\">sil_5:&lt;eps&gt;</text>\n</g>\n<!-- 156 -->\n<g id=\"node158\" class=\"node\"><title>156</title>\n<ellipse fill=\"none\" stroke=\"black\" cx=\"2056\" cy=\"-289\" rx=\"24.089\" ry=\"24.089\"/>\n<ellipse fill=\"none\" stroke=\"black\" cx=\"2056\" cy=\"-289\" rx=\"28.0958\" ry=\"28.0958\"/>\n<text text-anchor=\"middle\" x=\"2056\" y=\"-285.3\" font-family=\"Times,serif\" font-size=\"14.00\">156</text>\n</g>\n<!-- 155&#45;&gt;156 -->\n<g id=\"edge312\" class=\"edge\"><title>155&#45;&gt;156</title>\n<path fill=\"none\" stroke=\"black\" d=\"M1924.06,-306.856C1948.87,-303.473 1988.69,-298.042 2017.92,-294.057\"/>\n<polygon fill=\"black\" stroke=\"black\" points=\"2018.72,-297.48 2028.16,-292.661 2017.77,-290.544 2018.72,-297.48\"/>\n<text text-anchor=\"middle\" x=\"1976\" y=\"-308.8\" font-family=\"Times,serif\" font-size=\"14.00\">sil_5:&lt;eps&gt;</text>\n</g>\n<!-- 156&#45;&gt;0 -->\n<g id=\"edge313\" class=\"edge\"><title>156&#45;&gt;0</title>\n<path fill=\"none\" stroke=\"black\" d=\"M2029.16,-280.529C1998.82,-271.351 1946.82,-258 1901,-258 163,-258 163,-258 163,-258 110.435,-258 82.8321,-254.17 51,-296 18.76,-338.366 18.2796,-718.181 18.7993,-825.734\"/>\n<polygon fill=\"black\" stroke=\"black\" points=\"15.2997,-825.847 18.8551,-835.828 22.2996,-825.808 15.2997,-825.847\"/>\n<text text-anchor=\"middle\" x=\"1028\" y=\"-261.8\" font-family=\"Times,serif\" font-size=\"14.00\">&lt;eps&gt;:&lt;eps&gt;</text>\n</g>\n<!-- 158&#45;&gt;158 -->\n<g id=\"edge316\" class=\"edge\"><title>158&#45;&gt;158</title>\n<path fill=\"none\" stroke=\"black\" d=\"M306.234,-116.441C302.953,-128.062 307.875,-139 321,-139 330.023,-139 335.17,-133.83 336.439,-126.823\"/>\n<polygon fill=\"black\" stroke=\"black\" points=\"339.905,-126.194 335.766,-116.441 332.92,-126.647 339.905,-126.194\"/>\n<text text-anchor=\"middle\" x=\"321\" y=\"-142.8\" font-family=\"Times,serif\" font-size=\"14.00\">w_2:&lt;eps&gt;</text>\n</g>\n<!-- 159 -->\n<g id=\"node160\" class=\"node\"><title>159</title>\n<ellipse fill=\"none\" stroke=\"black\" cx=\"478\" cy=\"-97\" rx=\"24.0958\" ry=\"24.0958\"/>\n<text text-anchor=\"middle\" x=\"478\" y=\"-93.3\" font-family=\"Times,serif\" font-size=\"14.00\">159</text>\n</g>\n<!-- 158&#45;&gt;159 -->\n<g id=\"edge317\" class=\"edge\"><title>158&#45;&gt;159</title>\n<path fill=\"none\" stroke=\"black\" d=\"M345.205,-97C371.305,-97 413.915,-97 443.595,-97\"/>\n<polygon fill=\"black\" stroke=\"black\" points=\"443.89,-100.5 453.89,-97 443.89,-93.5001 443.89,-100.5\"/>\n<text text-anchor=\"middle\" x=\"406\" y=\"-100.8\" font-family=\"Times,serif\" font-size=\"14.00\">w_2:&lt;eps&gt;</text>\n</g>\n<!-- 159&#45;&gt;159 -->\n<g id=\"edge318\" class=\"edge\"><title>159&#45;&gt;159</title>\n<path fill=\"none\" stroke=\"black\" d=\"M465.146,-117.312C462.747,-128.603 467.031,-139 478,-139 485.541,-139 489.923,-134.086 491.145,-127.345\"/>\n<polygon fill=\"black\" stroke=\"black\" points=\"494.643,-127.206 490.854,-117.312 487.646,-127.409 494.643,-127.206\"/>\n<text text-anchor=\"middle\" x=\"478\" y=\"-142.8\" font-family=\"Times,serif\" font-size=\"14.00\">w_3:&lt;eps&gt;</text>\n</g>\n<!-- 160 -->\n<g id=\"node161\" class=\"node\"><title>160</title>\n<ellipse fill=\"none\" stroke=\"black\" cx=\"630\" cy=\"-97\" rx=\"24.0958\" ry=\"24.0958\"/>\n<text text-anchor=\"middle\" x=\"630\" y=\"-93.3\" font-family=\"Times,serif\" font-size=\"14.00\">160</text>\n</g>\n<!-- 159&#45;&gt;160 -->\n<g id=\"edge319\" class=\"edge\"><title>159&#45;&gt;160</title>\n<path fill=\"none\" stroke=\"black\" d=\"M502.109,-97C527.031,-97 566.946,-97 595.35,-97\"/>\n<polygon fill=\"black\" stroke=\"black\" points=\"595.618,-100.5 605.618,-97 595.618,-93.5001 595.618,-100.5\"/>\n<text text-anchor=\"middle\" x=\"554\" y=\"-100.8\" font-family=\"Times,serif\" font-size=\"14.00\">w_3:&lt;eps&gt;</text>\n</g>\n<!-- 160&#45;&gt;160 -->\n<g id=\"edge320\" class=\"edge\"><title>160&#45;&gt;160</title>\n<path fill=\"none\" stroke=\"black\" d=\"M616.432,-117.312C613.899,-128.603 618.422,-139 630,-139 637.96,-139 642.585,-134.086 643.876,-127.345\"/>\n<polygon fill=\"black\" stroke=\"black\" points=\"647.373,-127.2 643.568,-117.312 640.376,-127.414 647.373,-127.2\"/>\n<text text-anchor=\"middle\" x=\"630\" y=\"-142.8\" font-family=\"Times,serif\" font-size=\"14.00\">eh_1:&lt;eps&gt;</text>\n</g>\n<!-- 161 -->\n<g id=\"node162\" class=\"node\"><title>161</title>\n<ellipse fill=\"none\" stroke=\"black\" cx=\"795\" cy=\"-97\" rx=\"24.0958\" ry=\"24.0958\"/>\n<text text-anchor=\"middle\" x=\"795\" y=\"-93.3\" font-family=\"Times,serif\" font-size=\"14.00\">161</text>\n</g>\n<!-- 160&#45;&gt;161 -->\n<g id=\"edge321\" class=\"edge\"><title>160&#45;&gt;161</title>\n<path fill=\"none\" stroke=\"black\" d=\"M654.354,-97C682.193,-97 728.919,-97 760.579,-97\"/>\n<polygon fill=\"black\" stroke=\"black\" points=\"760.689,-100.5 770.689,-97 760.689,-93.5001 760.689,-100.5\"/>\n<text text-anchor=\"middle\" x=\"706\" y=\"-100.8\" font-family=\"Times,serif\" font-size=\"14.00\">eh_1:&lt;eps&gt;</text>\n</g>\n<!-- 161&#45;&gt;161 -->\n<g id=\"edge322\" class=\"edge\"><title>161&#45;&gt;161</title>\n<path fill=\"none\" stroke=\"black\" d=\"M780.234,-116.441C776.953,-128.062 781.875,-139 795,-139 804.023,-139 809.17,-133.83 810.439,-126.823\"/>\n<polygon fill=\"black\" stroke=\"black\" points=\"813.905,-126.194 809.766,-116.441 806.92,-126.647 813.905,-126.194\"/>\n<text text-anchor=\"middle\" x=\"795\" y=\"-142.8\" font-family=\"Times,serif\" font-size=\"14.00\">eh_2:&lt;eps&gt;</text>\n</g>\n<!-- 162 -->\n<g id=\"node163\" class=\"node\"><title>162</title>\n<ellipse fill=\"none\" stroke=\"black\" cx=\"952\" cy=\"-97\" rx=\"24.0958\" ry=\"24.0958\"/>\n<text text-anchor=\"middle\" x=\"952\" y=\"-93.3\" font-family=\"Times,serif\" font-size=\"14.00\">162</text>\n</g>\n<!-- 161&#45;&gt;162 -->\n<g id=\"edge323\" class=\"edge\"><title>161&#45;&gt;162</title>\n<path fill=\"none\" stroke=\"black\" d=\"M819.205,-97C845.305,-97 887.915,-97 917.595,-97\"/>\n<polygon fill=\"black\" stroke=\"black\" points=\"917.89,-100.5 927.89,-97 917.89,-93.5001 917.89,-100.5\"/>\n<text text-anchor=\"middle\" x=\"880\" y=\"-100.8\" font-family=\"Times,serif\" font-size=\"14.00\">eh_2:&lt;eps&gt;</text>\n</g>\n<!-- 162&#45;&gt;162 -->\n<g id=\"edge324\" class=\"edge\"><title>162&#45;&gt;162</title>\n<path fill=\"none\" stroke=\"black\" d=\"M939.146,-117.312C936.747,-128.603 941.031,-139 952,-139 959.541,-139 963.923,-134.086 965.145,-127.345\"/>\n<polygon fill=\"black\" stroke=\"black\" points=\"968.643,-127.206 964.854,-117.312 961.646,-127.409 968.643,-127.206\"/>\n<text text-anchor=\"middle\" x=\"952\" y=\"-142.8\" font-family=\"Times,serif\" font-size=\"14.00\">eh_3:&lt;eps&gt;</text>\n</g>\n<!-- 163 -->\n<g id=\"node164\" class=\"node\"><title>163</title>\n<ellipse fill=\"none\" stroke=\"black\" cx=\"1104\" cy=\"-97\" rx=\"24.0958\" ry=\"24.0958\"/>\n<text text-anchor=\"middle\" x=\"1104\" y=\"-93.3\" font-family=\"Times,serif\" font-size=\"14.00\">163</text>\n</g>\n<!-- 162&#45;&gt;163 -->\n<g id=\"edge325\" class=\"edge\"><title>162&#45;&gt;163</title>\n<path fill=\"none\" stroke=\"black\" d=\"M976.109,-97C1001.03,-97 1040.95,-97 1069.35,-97\"/>\n<polygon fill=\"black\" stroke=\"black\" points=\"1069.62,-100.5 1079.62,-97 1069.62,-93.5001 1069.62,-100.5\"/>\n<text text-anchor=\"middle\" x=\"1028\" y=\"-100.8\" font-family=\"Times,serif\" font-size=\"14.00\">eh_3:&lt;eps&gt;</text>\n</g>\n<!-- 163&#45;&gt;163 -->\n<g id=\"edge326\" class=\"edge\"><title>163&#45;&gt;163</title>\n<path fill=\"none\" stroke=\"black\" d=\"M1090.43,-117.312C1087.9,-128.603 1092.42,-139 1104,-139 1111.96,-139 1116.59,-134.086 1117.88,-127.345\"/>\n<polygon fill=\"black\" stroke=\"black\" points=\"1121.37,-127.2 1117.57,-117.312 1114.38,-127.414 1121.37,-127.2\"/>\n<text text-anchor=\"middle\" x=\"1104\" y=\"-142.8\" font-family=\"Times,serif\" font-size=\"14.00\">r_1:&lt;eps&gt;</text>\n</g>\n<!-- 164 -->\n<g id=\"node165\" class=\"node\"><title>164</title>\n<ellipse fill=\"none\" stroke=\"black\" cx=\"1269\" cy=\"-97\" rx=\"24.0958\" ry=\"24.0958\"/>\n<text text-anchor=\"middle\" x=\"1269\" y=\"-93.3\" font-family=\"Times,serif\" font-size=\"14.00\">164</text>\n</g>\n<!-- 163&#45;&gt;164 -->\n<g id=\"edge327\" class=\"edge\"><title>163&#45;&gt;164</title>\n<path fill=\"none\" stroke=\"black\" d=\"M1128.35,-97C1156.19,-97 1202.92,-97 1234.58,-97\"/>\n<polygon fill=\"black\" stroke=\"black\" points=\"1234.69,-100.5 1244.69,-97 1234.69,-93.5001 1234.69,-100.5\"/>\n<text text-anchor=\"middle\" x=\"1180\" y=\"-100.8\" font-family=\"Times,serif\" font-size=\"14.00\">r_1:&lt;eps&gt;</text>\n</g>\n<!-- 164&#45;&gt;164 -->\n<g id=\"edge328\" class=\"edge\"><title>164&#45;&gt;164</title>\n<path fill=\"none\" stroke=\"black\" d=\"M1254.23,-116.441C1250.95,-128.062 1255.88,-139 1269,-139 1278.02,-139 1283.17,-133.83 1284.44,-126.823\"/>\n<polygon fill=\"black\" stroke=\"black\" points=\"1287.91,-126.194 1283.77,-116.441 1280.92,-126.647 1287.91,-126.194\"/>\n<text text-anchor=\"middle\" x=\"1269\" y=\"-142.8\" font-family=\"Times,serif\" font-size=\"14.00\">r_2:&lt;eps&gt;</text>\n</g>\n<!-- 165 -->\n<g id=\"node166\" class=\"node\"><title>165</title>\n<ellipse fill=\"none\" stroke=\"black\" cx=\"1426\" cy=\"-97\" rx=\"24.0958\" ry=\"24.0958\"/>\n<text text-anchor=\"middle\" x=\"1426\" y=\"-93.3\" font-family=\"Times,serif\" font-size=\"14.00\">165</text>\n</g>\n<!-- 164&#45;&gt;165 -->\n<g id=\"edge329\" class=\"edge\"><title>164&#45;&gt;165</title>\n<path fill=\"none\" stroke=\"black\" d=\"M1293.21,-97C1319.3,-97 1361.92,-97 1391.59,-97\"/>\n<polygon fill=\"black\" stroke=\"black\" points=\"1391.89,-100.5 1401.89,-97 1391.89,-93.5001 1391.89,-100.5\"/>\n<text text-anchor=\"middle\" x=\"1354\" y=\"-100.8\" font-family=\"Times,serif\" font-size=\"14.00\">r_2:&lt;eps&gt;</text>\n</g>\n<!-- 165&#45;&gt;165 -->\n<g id=\"edge330\" class=\"edge\"><title>165&#45;&gt;165</title>\n<path fill=\"none\" stroke=\"black\" d=\"M1413.15,-117.312C1410.75,-128.603 1415.03,-139 1426,-139 1433.54,-139 1437.92,-134.086 1439.15,-127.345\"/>\n<polygon fill=\"black\" stroke=\"black\" points=\"1442.64,-127.206 1438.85,-117.312 1435.65,-127.409 1442.64,-127.206\"/>\n<text text-anchor=\"middle\" x=\"1426\" y=\"-142.8\" font-family=\"Times,serif\" font-size=\"14.00\">r_3:&lt;eps&gt;</text>\n</g>\n<!-- 166 -->\n<g id=\"node167\" class=\"node\"><title>166</title>\n<ellipse fill=\"none\" stroke=\"black\" cx=\"1578\" cy=\"-97\" rx=\"24.0958\" ry=\"24.0958\"/>\n<text text-anchor=\"middle\" x=\"1578\" y=\"-93.3\" font-family=\"Times,serif\" font-size=\"14.00\">166</text>\n</g>\n<!-- 165&#45;&gt;166 -->\n<g id=\"edge331\" class=\"edge\"><title>165&#45;&gt;166</title>\n<path fill=\"none\" stroke=\"black\" d=\"M1450.11,-97C1475.03,-97 1514.95,-97 1543.35,-97\"/>\n<polygon fill=\"black\" stroke=\"black\" points=\"1543.62,-100.5 1553.62,-97 1543.62,-93.5001 1543.62,-100.5\"/>\n<text text-anchor=\"middle\" x=\"1502\" y=\"-100.8\" font-family=\"Times,serif\" font-size=\"14.00\">r_3:&lt;eps&gt;</text>\n</g>\n<!-- 166&#45;&gt;166 -->\n<g id=\"edge332\" class=\"edge\"><title>166&#45;&gt;166</title>\n<path fill=\"none\" stroke=\"black\" d=\"M1564.43,-117.312C1561.9,-128.603 1566.42,-139 1578,-139 1585.96,-139 1590.59,-134.086 1591.88,-127.345\"/>\n<polygon fill=\"black\" stroke=\"black\" points=\"1595.37,-127.2 1591.57,-117.312 1588.38,-127.414 1595.37,-127.2\"/>\n<text text-anchor=\"middle\" x=\"1578\" y=\"-142.8\" font-family=\"Times,serif\" font-size=\"14.00\">z_1:&lt;eps&gt;</text>\n</g>\n<!-- 167 -->\n<g id=\"node168\" class=\"node\"><title>167</title>\n<ellipse fill=\"none\" stroke=\"black\" cx=\"1743\" cy=\"-97\" rx=\"24.0958\" ry=\"24.0958\"/>\n<text text-anchor=\"middle\" x=\"1743\" y=\"-93.3\" font-family=\"Times,serif\" font-size=\"14.00\">167</text>\n</g>\n<!-- 166&#45;&gt;167 -->\n<g id=\"edge333\" class=\"edge\"><title>166&#45;&gt;167</title>\n<path fill=\"none\" stroke=\"black\" d=\"M1602.35,-97C1630.19,-97 1676.92,-97 1708.58,-97\"/>\n<polygon fill=\"black\" stroke=\"black\" points=\"1708.69,-100.5 1718.69,-97 1708.69,-93.5001 1708.69,-100.5\"/>\n<text text-anchor=\"middle\" x=\"1654\" y=\"-100.8\" font-family=\"Times,serif\" font-size=\"14.00\">z_1:&lt;eps&gt;</text>\n</g>\n<!-- 167&#45;&gt;167 -->\n<g id=\"edge334\" class=\"edge\"><title>167&#45;&gt;167</title>\n<path fill=\"none\" stroke=\"black\" d=\"M1728.23,-116.441C1724.95,-128.062 1729.88,-139 1743,-139 1752.02,-139 1757.17,-133.83 1758.44,-126.823\"/>\n<polygon fill=\"black\" stroke=\"black\" points=\"1761.91,-126.194 1757.77,-116.441 1754.92,-126.647 1761.91,-126.194\"/>\n<text text-anchor=\"middle\" x=\"1743\" y=\"-142.8\" font-family=\"Times,serif\" font-size=\"14.00\">z_2:&lt;eps&gt;</text>\n</g>\n<!-- 168 -->\n<g id=\"node169\" class=\"node\"><title>168</title>\n<ellipse fill=\"none\" stroke=\"black\" cx=\"1900\" cy=\"-97\" rx=\"24.0958\" ry=\"24.0958\"/>\n<text text-anchor=\"middle\" x=\"1900\" y=\"-93.3\" font-family=\"Times,serif\" font-size=\"14.00\">168</text>\n</g>\n<!-- 167&#45;&gt;168 -->\n<g id=\"edge335\" class=\"edge\"><title>167&#45;&gt;168</title>\n<path fill=\"none\" stroke=\"black\" d=\"M1767.21,-97C1793.3,-97 1835.92,-97 1865.59,-97\"/>\n<polygon fill=\"black\" stroke=\"black\" points=\"1865.89,-100.5 1875.89,-97 1865.89,-93.5001 1865.89,-100.5\"/>\n<text text-anchor=\"middle\" x=\"1828\" y=\"-100.8\" font-family=\"Times,serif\" font-size=\"14.00\">z_2:&lt;eps&gt;</text>\n</g>\n<!-- 168&#45;&gt;168 -->\n<g id=\"edge336\" class=\"edge\"><title>168&#45;&gt;168</title>\n<path fill=\"none\" stroke=\"black\" d=\"M1887.15,-117.312C1884.75,-128.603 1889.03,-139 1900,-139 1907.54,-139 1911.92,-134.086 1913.15,-127.345\"/>\n<polygon fill=\"black\" stroke=\"black\" points=\"1916.64,-127.206 1912.85,-117.312 1909.65,-127.409 1916.64,-127.206\"/>\n<text text-anchor=\"middle\" x=\"1900\" y=\"-142.8\" font-family=\"Times,serif\" font-size=\"14.00\">z_3:&lt;eps&gt;</text>\n</g>\n<!-- 169 -->\n<g id=\"node170\" class=\"node\"><title>169</title>\n<ellipse fill=\"none\" stroke=\"black\" cx=\"2056\" cy=\"-97\" rx=\"24.0958\" ry=\"24.0958\"/>\n<text text-anchor=\"middle\" x=\"2056\" y=\"-93.3\" font-family=\"Times,serif\" font-size=\"14.00\">169</text>\n</g>\n<!-- 168&#45;&gt;169 -->\n<g id=\"edge337\" class=\"edge\"><title>168&#45;&gt;169</title>\n<path fill=\"none\" stroke=\"black\" d=\"M1924.06,-97C1949.91,-97 1992.08,-97 2021.55,-97\"/>\n<polygon fill=\"black\" stroke=\"black\" points=\"2021.79,-100.5 2031.79,-97 2021.79,-93.5001 2021.79,-100.5\"/>\n<text text-anchor=\"middle\" x=\"1976\" y=\"-100.8\" font-family=\"Times,serif\" font-size=\"14.00\">z_3:t</text>\n</g>\n<!-- 169&#45;&gt;0 -->\n<g id=\"edge338\" class=\"edge\"><title>169&#45;&gt;0</title>\n<path fill=\"none\" stroke=\"black\" d=\"M2038.21,-113.793C2011.57,-138.565 1956.89,-182 1901,-182 163,-182 163,-182 163,-182 112.092,-182 83.9715,-167.212 51,-206 30.663,-229.925 21.474,-703.954 19.4439,-825.697\"/>\n<polygon fill=\"black\" stroke=\"black\" points=\"15.9438,-825.679 19.2795,-835.735 22.9429,-825.794 15.9438,-825.679\"/>\n<text text-anchor=\"middle\" x=\"1028\" y=\"-185.8\" font-family=\"Times,serif\" font-size=\"14.00\">&lt;eps&gt;:&lt;eps&gt;</text>\n</g>\n<!-- 170 -->\n<g id=\"node171\" class=\"node\"><title>170</title>\n<ellipse fill=\"none\" stroke=\"black\" cx=\"2212\" cy=\"-97\" rx=\"24.0958\" ry=\"24.0958\"/>\n<text text-anchor=\"middle\" x=\"2212\" y=\"-93.3\" font-family=\"Times,serif\" font-size=\"14.00\">170</text>\n</g>\n<!-- 169&#45;&gt;170 -->\n<g id=\"edge339\" class=\"edge\"><title>169&#45;&gt;170</title>\n<path fill=\"none\" stroke=\"black\" d=\"M2080.06,-97C2105.91,-97 2148.08,-97 2177.55,-97\"/>\n<polygon fill=\"black\" stroke=\"black\" points=\"2177.79,-100.5 2187.79,-97 2177.79,-93.5001 2177.79,-100.5\"/>\n<text text-anchor=\"middle\" x=\"2136\" y=\"-100.8\" font-family=\"Times,serif\" font-size=\"14.00\">&lt;eps&gt;:&lt;eps&gt;</text>\n</g>\n<!-- 170&#45;&gt;170 -->\n<g id=\"edge340\" class=\"edge\"><title>170&#45;&gt;170</title>\n<path fill=\"none\" stroke=\"black\" d=\"M2199.15,-117.312C2196.75,-128.603 2201.03,-139 2212,-139 2219.54,-139 2223.92,-134.086 2225.15,-127.345\"/>\n<polygon fill=\"black\" stroke=\"black\" points=\"2228.64,-127.206 2224.85,-117.312 2221.65,-127.409 2228.64,-127.206\"/>\n<text text-anchor=\"middle\" x=\"2212\" y=\"-142.8\" font-family=\"Times,serif\" font-size=\"14.00\">sil_1:&lt;eps&gt;</text>\n</g>\n<!-- 171 -->\n<g id=\"node172\" class=\"node\"><title>171</title>\n<ellipse fill=\"none\" stroke=\"black\" cx=\"2356\" cy=\"-97\" rx=\"24.0958\" ry=\"24.0958\"/>\n<text text-anchor=\"middle\" x=\"2356\" y=\"-93.3\" font-family=\"Times,serif\" font-size=\"14.00\">171</text>\n</g>\n<!-- 170&#45;&gt;171 -->\n<g id=\"edge341\" class=\"edge\"><title>170&#45;&gt;171</title>\n<path fill=\"none\" stroke=\"black\" d=\"M2236.13,-97C2259.34,-97 2295.32,-97 2321.62,-97\"/>\n<polygon fill=\"black\" stroke=\"black\" points=\"2321.88,-100.5 2331.88,-97 2321.88,-93.5001 2321.88,-100.5\"/>\n<text text-anchor=\"middle\" x=\"2284\" y=\"-100.8\" font-family=\"Times,serif\" font-size=\"14.00\">sil_1:&lt;eps&gt;</text>\n</g>\n<!-- 171&#45;&gt;171 -->\n<g id=\"edge342\" class=\"edge\"><title>171&#45;&gt;171</title>\n<path fill=\"none\" stroke=\"black\" d=\"M2343.15,-117.312C2340.75,-128.603 2345.03,-139 2356,-139 2363.54,-139 2367.92,-134.086 2369.15,-127.345\"/>\n<polygon fill=\"black\" stroke=\"black\" points=\"2372.64,-127.206 2368.85,-117.312 2365.65,-127.409 2372.64,-127.206\"/>\n<text text-anchor=\"middle\" x=\"2356\" y=\"-142.8\" font-family=\"Times,serif\" font-size=\"14.00\">sil_2:&lt;eps&gt;</text>\n</g>\n<!-- 172 -->\n<g id=\"node173\" class=\"node\"><title>172</title>\n<ellipse fill=\"none\" stroke=\"black\" cx=\"2500\" cy=\"-97\" rx=\"24.0958\" ry=\"24.0958\"/>\n<text text-anchor=\"middle\" x=\"2500\" y=\"-93.3\" font-family=\"Times,serif\" font-size=\"14.00\">172</text>\n</g>\n<!-- 171&#45;&gt;172 -->\n<g id=\"edge343\" class=\"edge\"><title>171&#45;&gt;172</title>\n<path fill=\"none\" stroke=\"black\" d=\"M2380.13,-97C2403.34,-97 2439.32,-97 2465.62,-97\"/>\n<polygon fill=\"black\" stroke=\"black\" points=\"2465.88,-100.5 2475.88,-97 2465.88,-93.5001 2465.88,-100.5\"/>\n<text text-anchor=\"middle\" x=\"2428\" y=\"-100.8\" font-family=\"Times,serif\" font-size=\"14.00\">sil_2:&lt;eps&gt;</text>\n</g>\n<!-- 172&#45;&gt;172 -->\n<g id=\"edge344\" class=\"edge\"><title>172&#45;&gt;172</title>\n<path fill=\"none\" stroke=\"black\" d=\"M2487.15,-117.312C2484.75,-128.603 2489.03,-139 2500,-139 2507.54,-139 2511.92,-134.086 2513.15,-127.345\"/>\n<polygon fill=\"black\" stroke=\"black\" points=\"2516.64,-127.206 2512.85,-117.312 2509.65,-127.409 2516.64,-127.206\"/>\n<text text-anchor=\"middle\" x=\"2500\" y=\"-142.8\" font-family=\"Times,serif\" font-size=\"14.00\">sil_3:&lt;eps&gt;</text>\n</g>\n<!-- 173 -->\n<g id=\"node174\" class=\"node\"><title>173</title>\n<ellipse fill=\"none\" stroke=\"black\" cx=\"2652\" cy=\"-97\" rx=\"24.0958\" ry=\"24.0958\"/>\n<text text-anchor=\"middle\" x=\"2652\" y=\"-93.3\" font-family=\"Times,serif\" font-size=\"14.00\">173</text>\n</g>\n<!-- 172&#45;&gt;173 -->\n<g id=\"edge345\" class=\"edge\"><title>172&#45;&gt;173</title>\n<path fill=\"none\" stroke=\"black\" d=\"M2524.11,-97C2549.03,-97 2588.95,-97 2617.35,-97\"/>\n<polygon fill=\"black\" stroke=\"black\" points=\"2617.62,-100.5 2627.62,-97 2617.62,-93.5001 2617.62,-100.5\"/>\n<text text-anchor=\"middle\" x=\"2576\" y=\"-100.8\" font-family=\"Times,serif\" font-size=\"14.00\">sil_3:&lt;eps&gt;</text>\n</g>\n<!-- 173&#45;&gt;173 -->\n<g id=\"edge346\" class=\"edge\"><title>173&#45;&gt;173</title>\n<path fill=\"none\" stroke=\"black\" d=\"M2639.15,-117.312C2636.75,-128.603 2641.03,-139 2652,-139 2659.54,-139 2663.92,-134.086 2665.15,-127.345\"/>\n<polygon fill=\"black\" stroke=\"black\" points=\"2668.64,-127.206 2664.85,-117.312 2661.65,-127.409 2668.64,-127.206\"/>\n<text text-anchor=\"middle\" x=\"2652\" y=\"-142.8\" font-family=\"Times,serif\" font-size=\"14.00\">sil_4:&lt;eps&gt;</text>\n</g>\n<!-- 174 -->\n<g id=\"node175\" class=\"node\"><title>174</title>\n<ellipse fill=\"none\" stroke=\"black\" cx=\"2796\" cy=\"-97\" rx=\"24.0958\" ry=\"24.0958\"/>\n<text text-anchor=\"middle\" x=\"2796\" y=\"-93.3\" font-family=\"Times,serif\" font-size=\"14.00\">174</text>\n</g>\n<!-- 173&#45;&gt;174 -->\n<g id=\"edge347\" class=\"edge\"><title>173&#45;&gt;174</title>\n<path fill=\"none\" stroke=\"black\" d=\"M2676.13,-97C2699.34,-97 2735.32,-97 2761.62,-97\"/>\n<polygon fill=\"black\" stroke=\"black\" points=\"2761.88,-100.5 2771.88,-97 2761.88,-93.5001 2761.88,-100.5\"/>\n<text text-anchor=\"middle\" x=\"2724\" y=\"-100.8\" font-family=\"Times,serif\" font-size=\"14.00\">sil_4:&lt;eps&gt;</text>\n</g>\n<!-- 174&#45;&gt;174 -->\n<g id=\"edge348\" class=\"edge\"><title>174&#45;&gt;174</title>\n<path fill=\"none\" stroke=\"black\" d=\"M2783.15,-117.312C2780.75,-128.603 2785.03,-139 2796,-139 2803.54,-139 2807.92,-134.086 2809.15,-127.345\"/>\n<polygon fill=\"black\" stroke=\"black\" points=\"2812.64,-127.206 2808.85,-117.312 2805.65,-127.409 2812.64,-127.206\"/>\n<text text-anchor=\"middle\" x=\"2796\" y=\"-142.8\" font-family=\"Times,serif\" font-size=\"14.00\">sil_5:&lt;eps&gt;</text>\n</g>\n<!-- 175 -->\n<g id=\"node176\" class=\"node\"><title>175</title>\n<ellipse fill=\"none\" stroke=\"black\" cx=\"2944\" cy=\"-75\" rx=\"24.089\" ry=\"24.089\"/>\n<ellipse fill=\"none\" stroke=\"black\" cx=\"2944\" cy=\"-75\" rx=\"28.0958\" ry=\"28.0958\"/>\n<text text-anchor=\"middle\" x=\"2944\" y=\"-71.3\" font-family=\"Times,serif\" font-size=\"14.00\">175</text>\n</g>\n<!-- 174&#45;&gt;175 -->\n<g id=\"edge349\" class=\"edge\"><title>174&#45;&gt;175</title>\n<path fill=\"none\" stroke=\"black\" d=\"M2819.81,-93.5625C2842.92,-90.0798 2879.05,-84.6369 2906.21,-80.5437\"/>\n<polygon fill=\"black\" stroke=\"black\" points=\"2906.77,-83.999 2916.14,-79.048 2905.73,-77.0771 2906.77,-83.999\"/>\n<text text-anchor=\"middle\" x=\"2868\" y=\"-95.8\" font-family=\"Times,serif\" font-size=\"14.00\">sil_5:&lt;eps&gt;</text>\n</g>\n<!-- 175&#45;&gt;0 -->\n<g id=\"edge350\" class=\"edge\"><title>175&#45;&gt;0</title>\n<path fill=\"none\" stroke=\"black\" d=\"M2917.22,-66.4032C2888.3,-57.5383 2839.83,-45 2797,-45 163,-45 163,-45 163,-45 107.147,-45 81.2004,-55.0156 51,-102 31.0914,-132.973 21.4325,-692.438 19.4087,-825.686\"/>\n<polygon fill=\"black\" stroke=\"black\" points=\"15.9061,-825.841 19.256,-835.892 22.9053,-825.946 15.9061,-825.841\"/>\n<text text-anchor=\"middle\" x=\"1502\" y=\"-48.8\" font-family=\"Times,serif\" font-size=\"14.00\">&lt;eps&gt;:&lt;eps&gt;</text>\n</g>\n</g>\n</svg>\n",
            "text/plain": [
              "<vector Fst at 0x7f9fef2460a0>"
            ]
          },
          "metadata": {
            "tags": []
          },
          "execution_count": 20
        }
      ]
    },
    {
      "cell_type": "markdown",
      "metadata": {
        "id": "KPXMzkZ5fYKJ",
        "colab_type": "text"
      },
      "source": [
        "## add silence - set next & slef & not set final > fine tune back & sil vs unigram"
      ]
    },
    {
      "cell_type": "markdown",
      "metadata": {
        "id": "CcXHqYINfYKL",
        "colab_type": "text"
      },
      "source": [
        "### sl 0.8 next 0.2 back 0.5 sil 0.5 unigram silence"
      ]
    },
    {
      "cell_type": "code",
      "metadata": {
        "id": "KWLCYeukfYKL",
        "colab_type": "code",
        "colab": {}
      },
      "source": [
        "wfst = MyWFST(mode='baseline7-v-1-1', use_unigram=True, add_silence=True, add_silence_v=3)\n",
        "f_baseline = wfst.generate()\n",
        "lex = wfst.get_lexicon()\n",
        "word_table, phone_table, state_table = wfst.get_tables()"
      ],
      "execution_count": null,
      "outputs": []
    },
    {
      "cell_type": "code",
      "metadata": {
        "id": "N0MlH_HhfYKO",
        "colab_type": "code",
        "colab": {}
      },
      "source": [
        "import cProfile\n",
        "import re\n",
        "cProfile.run('error_list, words_count_list, forward_computations_list = test_baseline(f_baseline, wfst.mode, lex, word_table, phone_table, state_table)')"
      ],
      "execution_count": null,
      "outputs": []
    },
    {
      "cell_type": "code",
      "metadata": {
        "id": "oWbNXKDVfYKQ",
        "colab_type": "code",
        "colab": {}
      },
      "source": [
        "save_list(error_list, \"error_list.7-v-1-1.uni.addsilv3.baseline\")\n",
        "save_list(words_count_list, \"words_count_list.7-v-1-1.uni.addsilv3.baseline\")\n",
        "save_list(forward_computations_list, \"forward_computations_list.7-v-1-1.uni.addsilv3.baseline\")"
      ],
      "execution_count": null,
      "outputs": []
    },
    {
      "cell_type": "markdown",
      "metadata": {
        "id": "IdQw2RqufYKU",
        "colab_type": "text"
      },
      "source": [
        "- Testing - baseline7-v-1-1\n",
        "- States number: 176\n",
        "- Arcs number: 350\n",
        "- Total errors: 1323\n",
        "- Words number: 2177\n",
        "- Total WER: 0.6077170418006431\n",
        "- The number of forward computations per wav: 160839.83333333334"
      ]
    },
    {
      "cell_type": "markdown",
      "metadata": {
        "id": "_ETXK0pOfYKV",
        "colab_type": "text"
      },
      "source": [
        "### sl 0.8 next 0.2 back 0.5 sil 0.5 silence"
      ]
    },
    {
      "cell_type": "code",
      "metadata": {
        "id": "ksmjX8ZZfYKV",
        "colab_type": "code",
        "colab": {}
      },
      "source": [
        "wfst = MyWFST(mode='baseline7-v-1-1', use_unigram=False, add_silence=True, add_silence_v=3)\n",
        "f_baseline = wfst.generate()\n",
        "lex = wfst.get_lexicon()\n",
        "word_table, phone_table, state_table = wfst.get_tables()"
      ],
      "execution_count": null,
      "outputs": []
    },
    {
      "cell_type": "code",
      "metadata": {
        "id": "utiP8IUNfYKX",
        "colab_type": "code",
        "colab": {}
      },
      "source": [
        "import cProfile\n",
        "import re\n",
        "cProfile.run('error_list, words_count_list, forward_computations_list = test_baseline(f_baseline, wfst.mode, lex, word_table, phone_table, state_table)')"
      ],
      "execution_count": null,
      "outputs": []
    },
    {
      "cell_type": "code",
      "metadata": {
        "id": "Dje6JUh5fYKg",
        "colab_type": "code",
        "colab": {}
      },
      "source": [
        "save_list(error_list, \"error_list.7-v-1-1.addsilv3.baseline\")\n",
        "save_list(words_count_list, \"words_count_list.7-v-1-1.addsilv3.baseline\")\n",
        "save_list(forward_computations_list, \"forward_computations_list.7-v-1-1.addsilv3.baseline\")"
      ],
      "execution_count": null,
      "outputs": []
    },
    {
      "cell_type": "markdown",
      "metadata": {
        "id": "nPsrcxVOfYKl",
        "colab_type": "text"
      },
      "source": [
        "- Testing - baseline7-v-1-1\n",
        "- States number: 176\n",
        "- Arcs number: 350\n",
        "- Total errors: 1327\n",
        "- Words number: 2177\n",
        "- Total WER: 0.6095544327055581\n",
        "- The number of forward computations per wav: 160839.83333333334"
      ]
    },
    {
      "cell_type": "markdown",
      "metadata": {
        "id": "DP8uXTTQfYKl",
        "colab_type": "text"
      },
      "source": [
        "### sl 0.8 next 0.2 back 0.8 sil 0.2 unigram silence"
      ]
    },
    {
      "cell_type": "code",
      "metadata": {
        "scrolled": true,
        "id": "r5MFHFt-fYKn",
        "colab_type": "code",
        "colab": {}
      },
      "source": [
        "wfst = MyWFST(mode='baseline7-v-1-2', use_unigram=True, add_silence=True, add_silence_v=3)\n",
        "f_baseline = wfst.generate()\n",
        "lex = wfst.get_lexicon()\n",
        "word_table, phone_table, state_table = wfst.get_tables()"
      ],
      "execution_count": null,
      "outputs": []
    },
    {
      "cell_type": "code",
      "metadata": {
        "id": "_hgrs2YafYKo",
        "colab_type": "code",
        "colab": {}
      },
      "source": [
        "import cProfile\n",
        "import re\n",
        "cProfile.run('error_list, words_count_list, forward_computations_list = test_baseline(f_baseline, wfst.mode, lex, word_table, phone_table, state_table)')"
      ],
      "execution_count": null,
      "outputs": []
    },
    {
      "cell_type": "code",
      "metadata": {
        "id": "nE9UeRtcfYKu",
        "colab_type": "code",
        "colab": {}
      },
      "source": [
        "save_list(error_list, \"error_list.7-v-1-2.uni.addsilv3.baseline\")\n",
        "save_list(words_count_list, \"words_count_list.7-v-1-2.uni.addsilv3.baseline\")\n",
        "save_list(forward_computations_list, \"forward_computations_list.7-v-1-2.uni.addsilv3.baseline\")"
      ],
      "execution_count": null,
      "outputs": []
    },
    {
      "cell_type": "markdown",
      "metadata": {
        "id": "TqfmtJt9fYKx",
        "colab_type": "text"
      },
      "source": [
        "- Testing - baseline7-v-1-2\n",
        "- States number: 176\n",
        "- Arcs number: 350\n",
        "- Total errors: 1328\n",
        "- Words number: 2177\n",
        "- Total WER: 0.6100137804317869\n",
        "- The number of forward computations per wav: 160839.83333333334"
      ]
    },
    {
      "cell_type": "markdown",
      "metadata": {
        "id": "nzzeo1ijfYKy",
        "colab_type": "text"
      },
      "source": [
        "### sl 0.8 next 0.2 back 0.8 sil 0.2 silence"
      ]
    },
    {
      "cell_type": "code",
      "metadata": {
        "id": "kKG6JWHSfYKy",
        "colab_type": "code",
        "colab": {}
      },
      "source": [
        "wfst = MyWFST(mode='baseline7-v-1-2', use_unigram=False, add_silence=True, add_silence_v=3)\n",
        "f_baseline = wfst.generate()\n",
        "lex = wfst.get_lexicon()\n",
        "word_table, phone_table, state_table = wfst.get_tables()"
      ],
      "execution_count": null,
      "outputs": []
    },
    {
      "cell_type": "code",
      "metadata": {
        "id": "q_Naat7PfYK7",
        "colab_type": "code",
        "colab": {}
      },
      "source": [
        "import cProfile\n",
        "import re\n",
        "cProfile.run('error_list, words_count_list, forward_computations_list = test_baseline(f_baseline, wfst.mode, lex, word_table, phone_table, state_table)')"
      ],
      "execution_count": null,
      "outputs": []
    },
    {
      "cell_type": "code",
      "metadata": {
        "id": "LVF9XnySfYK9",
        "colab_type": "code",
        "colab": {}
      },
      "source": [
        "save_list(error_list, \"error_list.7-v-1-2.addsilv3.baseline\")\n",
        "save_list(words_count_list, \"words_count_list.7-v-1-2.addsilv3.baseline\")\n",
        "save_list(forward_computations_list, \"forward_computations_list.7-v-1-2.addsilv3.baseline\")"
      ],
      "execution_count": null,
      "outputs": []
    },
    {
      "cell_type": "markdown",
      "metadata": {
        "id": "Ag-2cemDfYK_",
        "colab_type": "text"
      },
      "source": [
        "- Testing - baseline7-v-1-2\n",
        "- States number: 176\n",
        "- Arcs number: 350\n",
        "- Total errors: 1333\n",
        "- Words number: 2177\n",
        "- Total WER: 0.6123105190629307\n",
        "- The number of forward computations per wav: 160839.83333333334"
      ]
    },
    {
      "cell_type": "markdown",
      "metadata": {
        "id": "KNb--ubvfYK_",
        "colab_type": "text"
      },
      "source": [
        "### sl 0.8 next 0.2 back 0.2 sil 0.8 unigram silence"
      ]
    },
    {
      "cell_type": "code",
      "metadata": {
        "scrolled": true,
        "id": "egmGgrBpfYLA",
        "colab_type": "code",
        "colab": {}
      },
      "source": [
        "wfst = MyWFST(mode='baseline7-v-1-3', use_unigram=True, add_silence=True, add_silence_v=3)\n",
        "f_baseline = wfst.generate()\n",
        "lex = wfst.get_lexicon()\n",
        "word_table, phone_table, state_table = wfst.get_tables()"
      ],
      "execution_count": null,
      "outputs": []
    },
    {
      "cell_type": "code",
      "metadata": {
        "id": "Lp3_mPebfYLC",
        "colab_type": "code",
        "colab": {}
      },
      "source": [
        "import cProfile\n",
        "import re\n",
        "cProfile.run('error_list, words_count_list, forward_computations_list = test_baseline(f_baseline, wfst.mode, lex, word_table, phone_table, state_table)')"
      ],
      "execution_count": null,
      "outputs": []
    },
    {
      "cell_type": "code",
      "metadata": {
        "id": "ltwtN0zsfYLE",
        "colab_type": "code",
        "colab": {}
      },
      "source": [
        "save_list(error_list, \"error_list.7-v-1-3.uni.addsilv3.baseline\")\n",
        "save_list(words_count_list, \"words_count_list.7-v-1-3.uni.addsilv3.baseline\")\n",
        "save_list(forward_computations_list, \"forward_computations_list.7-v-1-3.uni.addsilv3.baseline\")"
      ],
      "execution_count": null,
      "outputs": []
    },
    {
      "cell_type": "markdown",
      "metadata": {
        "id": "oIyz6_BafYLH",
        "colab_type": "text"
      },
      "source": [
        "- Testing - baseline7-v-1-3\n",
        "- States number: 176\n",
        "- Arcs number: 350\n",
        "- Total errors: 1318\n",
        "- Words number: 2177\n",
        "- Total WER: 0.6054203031694994\n",
        "- The number of forward computations per wav: 160839.83333333334"
      ]
    },
    {
      "cell_type": "markdown",
      "metadata": {
        "id": "3T2Kesk3fYLH",
        "colab_type": "text"
      },
      "source": [
        "### sl 0.8 next 0.2 back 0.2 sil 0.8 silence"
      ]
    },
    {
      "cell_type": "code",
      "metadata": {
        "id": "4a0XpXUJfYLI",
        "colab_type": "code",
        "colab": {}
      },
      "source": [
        "wfst = MyWFST(mode='baseline7-v-1-3', use_unigram=False, add_silence=True, add_silence_v=3)\n",
        "f_baseline = wfst.generate()\n",
        "lex = wfst.get_lexicon()\n",
        "word_table, phone_table, state_table = wfst.get_tables()"
      ],
      "execution_count": null,
      "outputs": []
    },
    {
      "cell_type": "code",
      "metadata": {
        "id": "dhPVGwD7fYLK",
        "colab_type": "code",
        "colab": {}
      },
      "source": [
        "import cProfile\n",
        "import re\n",
        "cProfile.run('error_list, words_count_list, forward_computations_list = test_baseline(f_baseline, wfst.mode, lex, word_table, phone_table, state_table)')"
      ],
      "execution_count": null,
      "outputs": []
    },
    {
      "cell_type": "code",
      "metadata": {
        "id": "X-_AYHp9fYLM",
        "colab_type": "code",
        "colab": {}
      },
      "source": [
        "save_list(error_list, \"error_list.7-v-1-3.addsilv3.baseline\")\n",
        "save_list(words_count_list, \"words_count_list.7-v-1-3.addsilv3.baseline\")\n",
        "save_list(forward_computations_list, \"forward_computations_list.7-v-1-3.addsilv3.baseline\")"
      ],
      "execution_count": null,
      "outputs": []
    },
    {
      "cell_type": "markdown",
      "metadata": {
        "id": "HEpS5UMzfYLO",
        "colab_type": "text"
      },
      "source": [
        "- Testing - baseline7-v-1-3\n",
        "- States number: 176\n",
        "- Arcs number: 350\n",
        "- Total errors: 1322\n",
        "- Words number: 2177\n",
        "- Total WER: 0.6072576940744143\n",
        "- The number of forward computations per wav: 160839.83333333334"
      ]
    },
    {
      "cell_type": "markdown",
      "metadata": {
        "id": "LliSkznjfYLP",
        "colab_type": "text"
      },
      "source": [
        "## fine tune back sil pair"
      ]
    },
    {
      "cell_type": "markdown",
      "metadata": {
        "id": "lyQR3ey4fYLP",
        "colab_type": "text"
      },
      "source": [
        "### sl 0.8 next 0.2 back 0.1 sil 0.9 unigram silence"
      ]
    },
    {
      "cell_type": "code",
      "metadata": {
        "id": "IaYZfNRMfYLQ",
        "colab_type": "code",
        "colab": {}
      },
      "source": [
        "wfst = MyWFST(mode='baseline7-v-1-4', use_unigram=True, add_silence=True, add_silence_v=3)\n",
        "f_baseline = wfst.generate()\n",
        "lex = wfst.get_lexicon()\n",
        "word_table, phone_table, state_table = wfst.get_tables()"
      ],
      "execution_count": null,
      "outputs": []
    },
    {
      "cell_type": "code",
      "metadata": {
        "id": "S5Ji47kmfYLT",
        "colab_type": "code",
        "colab": {}
      },
      "source": [
        "import cProfile\n",
        "import re\n",
        "cProfile.run('error_list, words_count_list, forward_computations_list = test_baseline(f_baseline, wfst.mode, lex, word_table, phone_table, state_table)')"
      ],
      "execution_count": null,
      "outputs": []
    },
    {
      "cell_type": "code",
      "metadata": {
        "id": "L_cYdSFwfYLX",
        "colab_type": "code",
        "colab": {}
      },
      "source": [
        "save_list(error_list, \"error_list.7-v-1-4.uni.addsilv3.baseline\")\n",
        "save_list(words_count_list, \"words_count_list.7-v-1-4.uni.addsilv3.baseline\")\n",
        "save_list(forward_computations_list, \"forward_computations_list.7-v-1-4.uni.addsilv3.baseline\")"
      ],
      "execution_count": null,
      "outputs": []
    },
    {
      "cell_type": "markdown",
      "metadata": {
        "id": "fwe71ORZfYLa",
        "colab_type": "text"
      },
      "source": [
        "- Testing - baseline7-v-1-4\n",
        "- States number: 176\n",
        "- Arcs number: 350\n",
        "- Total errors: 1307\n",
        "- Words number: 2177\n",
        "- Total WER: 0.600367478180983\n",
        "- The number of forward computations per wav: 160839.83333333334"
      ]
    },
    {
      "cell_type": "markdown",
      "metadata": {
        "id": "e4zAFatMfYLa",
        "colab_type": "text"
      },
      "source": [
        "### sl 0.8 next 0.2 back 0.01 sil 0.99 unigram silence"
      ]
    },
    {
      "cell_type": "code",
      "metadata": {
        "id": "x6jgIEEJfYLc",
        "colab_type": "code",
        "colab": {}
      },
      "source": [
        "wfst = MyWFST(mode='baseline7-v-1-5', use_unigram=True, add_silence=True, add_silence_v=3)\n",
        "f_baseline = wfst.generate()\n",
        "lex = wfst.get_lexicon()\n",
        "word_table, phone_table, state_table = wfst.get_tables()"
      ],
      "execution_count": null,
      "outputs": []
    },
    {
      "cell_type": "code",
      "metadata": {
        "id": "ekvZBtC8fYLf",
        "colab_type": "code",
        "colab": {}
      },
      "source": [
        "import cProfile\n",
        "import re\n",
        "cProfile.run('error_list, words_count_list, forward_computations_list = test_baseline(f_baseline, wfst.mode, lex, word_table, phone_table, state_table)')"
      ],
      "execution_count": null,
      "outputs": []
    },
    {
      "cell_type": "code",
      "metadata": {
        "id": "sDFFmbehfYLl",
        "colab_type": "code",
        "colab": {}
      },
      "source": [
        "save_list(error_list, \"error_list.7-v-1-5.uni.addsilv3.baseline\")\n",
        "save_list(words_count_list, \"words_count_list.7-v-1-5.uni.addsilv3.baseline\")\n",
        "save_list(forward_computations_list, \"forward_computations_list.7-v-1-5.uni.addsilv3.baseline\")"
      ],
      "execution_count": null,
      "outputs": []
    },
    {
      "cell_type": "markdown",
      "metadata": {
        "id": "WdiU5vPdfYLv",
        "colab_type": "text"
      },
      "source": [
        "- Testing - baseline7-v-1-5\n",
        "- States number: 176\n",
        "- Arcs number: 350\n",
        "- Total errors: 1297\n",
        "- Words number: 2177\n",
        "- Total WER: 0.5957740009186955\n",
        "- The number of forward computations per wav: 160839.83333333334"
      ]
    },
    {
      "cell_type": "markdown",
      "metadata": {
        "id": "JXLT5v80fYLy",
        "colab_type": "text"
      },
      "source": [
        "## fine tune self next pair"
      ]
    },
    {
      "cell_type": "markdown",
      "metadata": {
        "id": "j4FHT7ZFfYLy",
        "colab_type": "text"
      },
      "source": [
        "### sl 0.9 next 0.1 back 0.01 sil 0.99 unigram silence"
      ]
    },
    {
      "cell_type": "code",
      "metadata": {
        "id": "4kytlcS1fYLz",
        "colab_type": "code",
        "colab": {}
      },
      "source": [
        "wfst = MyWFST(mode='baseline7-v-2-3', use_unigram=True, add_silence=True, add_silence_v=3)\n",
        "f_baseline = wfst.generate()\n",
        "lex = wfst.get_lexicon()\n",
        "word_table, phone_table, state_table = wfst.get_tables()"
      ],
      "execution_count": null,
      "outputs": []
    },
    {
      "cell_type": "code",
      "metadata": {
        "id": "XR6RZZyUfYL3",
        "colab_type": "code",
        "colab": {}
      },
      "source": [
        "import cProfile\n",
        "import re\n",
        "cProfile.run('error_list, words_count_list, forward_computations_list = test_baseline(f_baseline, wfst.mode, lex, word_table, phone_table, state_table)')"
      ],
      "execution_count": null,
      "outputs": []
    },
    {
      "cell_type": "code",
      "metadata": {
        "id": "PuYY8ly7fYL7",
        "colab_type": "code",
        "colab": {}
      },
      "source": [
        "save_list(error_list, \"error_list.7-v-2-3.uni.addsilv3.baseline\")\n",
        "save_list(words_count_list, \"words_count_list.7-v-2-3.uni.addsilv3.baseline\")\n",
        "save_list(forward_computations_list, \"forward_computations_list.7-v-2-3.uni.addsilv3.baseline\")"
      ],
      "execution_count": null,
      "outputs": []
    },
    {
      "cell_type": "markdown",
      "metadata": {
        "id": "q8mxT2UufYL8",
        "colab_type": "text"
      },
      "source": [
        "- Testing - baseline7-v-2-3\n",
        "- States number: 176\n",
        "- Arcs number: 350\n",
        "- Total errors: 1304\n",
        "- Words number: 2177\n",
        "- Total WER: 0.5989894350022967\n",
        "- The number of forward computations per wav: 160839.83333333334"
      ]
    },
    {
      "cell_type": "markdown",
      "metadata": {
        "id": "__XkP0dJfYL9",
        "colab_type": "text"
      },
      "source": [
        "### sl 0.99 next 0.01 back 0.01 sil 0.99 unigram silence"
      ]
    },
    {
      "cell_type": "code",
      "metadata": {
        "id": "jfTtKD5GfYL9",
        "colab_type": "code",
        "colab": {}
      },
      "source": [
        "wfst = MyWFST(mode='baseline7-v-2-4', use_unigram=True, add_silence=True, add_silence_v=3)\n",
        "f_baseline = wfst.generate()\n",
        "lex = wfst.get_lexicon()\n",
        "word_table, phone_table, state_table = wfst.get_tables()"
      ],
      "execution_count": null,
      "outputs": []
    },
    {
      "cell_type": "code",
      "metadata": {
        "id": "eV3d66DKfYL-",
        "colab_type": "code",
        "colab": {}
      },
      "source": [
        "import cProfile\n",
        "import re\n",
        "cProfile.run('error_list, words_count_list, forward_computations_list = test_baseline(f_baseline, wfst.mode, lex, word_table, phone_table, state_table)')"
      ],
      "execution_count": null,
      "outputs": []
    },
    {
      "cell_type": "code",
      "metadata": {
        "id": "kFJFf_9CfYL_",
        "colab_type": "code",
        "colab": {}
      },
      "source": [
        "save_list(error_list, \"error_list.7-v-2-4.uni.addsilv3.baseline\")\n",
        "save_list(words_count_list, \"words_count_list.7-v-2-4.uni.addsilv3.baseline\")\n",
        "save_list(forward_computations_list, \"forward_computations_list.7-v-2-4.uni.addsilv3.baseline\")"
      ],
      "execution_count": null,
      "outputs": []
    },
    {
      "cell_type": "markdown",
      "metadata": {
        "id": "nvpDtd0AfYMC",
        "colab_type": "text"
      },
      "source": [
        "- Testing - baseline7-v-2-4\n",
        "- States number: 176\n",
        "- Arcs number: 350\n",
        "- Total errors: 1336\n",
        "- Words number: 2177\n",
        "- Total WER: 0.6136885622416169\n",
        "- The number of forward computations per wav: 160839.83333333334"
      ]
    },
    {
      "cell_type": "markdown",
      "metadata": {
        "id": "6Pt0XXkEfYMC",
        "colab_type": "text"
      },
      "source": [
        "## fine tune sil final weight"
      ]
    },
    {
      "cell_type": "markdown",
      "metadata": {
        "id": "hA-fRQVHfYMC",
        "colab_type": "text"
      },
      "source": [
        "### sl 0.8 next 0.2 back 0.01 sil 0.99 unigram silence - sil final weight = 0.5 sil back weight = 0.5"
      ]
    },
    {
      "cell_type": "code",
      "metadata": {
        "id": "M-UiP7pqfYMD",
        "colab_type": "code",
        "colab": {}
      },
      "source": [
        "wfst = MyWFST(mode='baseline7-v-1-5-f-1', use_unigram=True, add_silence=True, add_silence_v=3)\n",
        "f_baseline = wfst.generate()\n",
        "lex = wfst.get_lexicon()\n",
        "word_table, phone_table, state_table = wfst.get_tables()"
      ],
      "execution_count": null,
      "outputs": []
    },
    {
      "cell_type": "code",
      "metadata": {
        "id": "yegoFSuwfYMF",
        "colab_type": "code",
        "colab": {}
      },
      "source": [
        "import cProfile\n",
        "import re\n",
        "cProfile.run('error_list, words_count_list, forward_computations_list = test_baseline(f_baseline, wfst.mode, lex, word_table, phone_table, state_table)')"
      ],
      "execution_count": null,
      "outputs": []
    },
    {
      "cell_type": "code",
      "metadata": {
        "id": "ot88s3eOfYMG",
        "colab_type": "code",
        "colab": {}
      },
      "source": [
        "save_list(error_list, \"error_list.7-v-1-5-f-1.addsilv3.baseline\")\n",
        "save_list(words_count_list, \"words_count_list.7-v-1-5-f-1.addsilv3.baseline\")\n",
        "save_list(forward_computations_list, \"forward_computations_list.7-v-1-5-f-1.addsilv3.baseline\")"
      ],
      "execution_count": null,
      "outputs": []
    },
    {
      "cell_type": "markdown",
      "metadata": {
        "id": "8ljIQxWNfYMI",
        "colab_type": "text"
      },
      "source": [
        "- Testing - baseline7-v-1-5-f-1\n",
        "- States number: 176\n",
        "- Arcs number: 350\n",
        "- Total errors: 1297\n",
        "- Words number: 2177\n",
        "- Total WER: 0.5957740009186955\n",
        "- The number of forward computations per wav: 160839.83333333334"
      ]
    },
    {
      "cell_type": "markdown",
      "metadata": {
        "id": "TfMRiq6ufYMI",
        "colab_type": "text"
      },
      "source": [
        "### sl 0.8 next 0.2 back 0.01 sil 0.99 unigram silence - sil final weight = 0.8 sil back weight = 0.2"
      ]
    },
    {
      "cell_type": "code",
      "metadata": {
        "id": "H1ND8_CPfYMJ",
        "colab_type": "code",
        "colab": {}
      },
      "source": [
        "wfst = MyWFST(mode='baseline7-v-1-5-f-2', use_unigram=True, add_silence=True, add_silence_v=3)\n",
        "f_baseline = wfst.generate()\n",
        "lex = wfst.get_lexicon()\n",
        "word_table, phone_table, state_table = wfst.get_tables()"
      ],
      "execution_count": null,
      "outputs": []
    },
    {
      "cell_type": "code",
      "metadata": {
        "id": "GHKZeL1IfYML",
        "colab_type": "code",
        "colab": {}
      },
      "source": [
        "import cProfile\n",
        "import re\n",
        "cProfile.run('error_list, words_count_list, forward_computations_list = test_baseline(f_baseline, wfst.mode, lex, word_table, phone_table, state_table)')"
      ],
      "execution_count": null,
      "outputs": []
    },
    {
      "cell_type": "code",
      "metadata": {
        "id": "HVhJszqQfYMY",
        "colab_type": "code",
        "colab": {}
      },
      "source": [
        "save_list(error_list, \"error_list.7-v-1-5-f-2.addsilv3.baseline\")\n",
        "save_list(words_count_list, \"words_count_list.7-v-1-5-f-2.addsilv3.baseline\")\n",
        "save_list(forward_computations_list, \"forward_computations_list.7-v-1-5-f-2.addsilv3.baseline\")"
      ],
      "execution_count": null,
      "outputs": []
    },
    {
      "cell_type": "markdown",
      "metadata": {
        "id": "j_fWkz-4fYMd",
        "colab_type": "text"
      },
      "source": [
        "- Testing - baseline7-v-1-5-f-2\n",
        "- States number: 176\n",
        "- Arcs number: 350\n",
        "- Total errors: 1292\n",
        "- Words number: 2177\n",
        "- Total WER: 0.5934772622875517\n",
        "- The number of forward computations per wav: 160839.83333333334"
      ]
    },
    {
      "cell_type": "markdown",
      "metadata": {
        "id": "JvBzkQlqfYMd",
        "colab_type": "text"
      },
      "source": [
        "### sl 0.8 next 0.2 back 0.01 sil 0.99 unigram silence - sil final weight = 0.2 sil back weight = 0.8"
      ]
    },
    {
      "cell_type": "code",
      "metadata": {
        "id": "KXUWN-GzfYMe",
        "colab_type": "code",
        "colab": {}
      },
      "source": [
        "wfst = MyWFST(mode='baseline7-v-1-5-f-3', use_unigram=True, add_silence=True, add_silence_v=3)\n",
        "f_baseline = wfst.generate()\n",
        "lex = wfst.get_lexicon()\n",
        "word_table, phone_table, state_table = wfst.get_tables()"
      ],
      "execution_count": null,
      "outputs": []
    },
    {
      "cell_type": "code",
      "metadata": {
        "id": "7K-6CYqLfYMh",
        "colab_type": "code",
        "colab": {}
      },
      "source": [
        "import cProfile\n",
        "import re\n",
        "cProfile.run('error_list, words_count_list, forward_computations_list = test_baseline(f_baseline, wfst.mode, lex, word_table, phone_table, state_table)')"
      ],
      "execution_count": null,
      "outputs": []
    },
    {
      "cell_type": "code",
      "metadata": {
        "id": "yQGQR_2mfYMj",
        "colab_type": "code",
        "colab": {}
      },
      "source": [
        "save_list(error_list, \"error_list.7-v-1-5-f-3.addsilv3.baseline\")\n",
        "save_list(words_count_list, \"words_count_list.7-v-1-5-f-3.addsilv3.baseline\")\n",
        "save_list(forward_computations_list, \"forward_computations_list.7-v-1-5-f-3.addsilv3.baseline\")"
      ],
      "execution_count": null,
      "outputs": []
    },
    {
      "cell_type": "markdown",
      "metadata": {
        "id": "M8pEma2ofYMl",
        "colab_type": "text"
      },
      "source": [
        "- Testing - baseline7-v-1-5-f-3\n",
        "- States number: 176\n",
        "- Arcs number: 350\n",
        "- Total errors: 1298\n",
        "- Words number: 2177\n",
        "- Total WER: 0.5962333486449242\n",
        "- The number of forward computations per wav: 160839.83333333334"
      ]
    },
    {
      "cell_type": "markdown",
      "metadata": {
        "id": "K0bjZpUVfYMl",
        "colab_type": "text"
      },
      "source": [
        "## Pruning"
      ]
    },
    {
      "cell_type": "code",
      "metadata": {
        "id": "m3QkRIZofYMm",
        "colab_type": "code",
        "colab": {}
      },
      "source": [
        "wfst = MyWFST(mode='baseline7-v-1-5', use_unigram=True, add_silence=True, add_silence_v=3)\n",
        "f_baseline = wfst.generate()\n",
        "lex = wfst.get_lexicon()\n",
        "word_table, phone_table, state_table = wfst.get_tables()"
      ],
      "execution_count": null,
      "outputs": []
    },
    {
      "cell_type": "code",
      "metadata": {
        "id": "w41heexhfYMo",
        "colab_type": "code",
        "colab": {}
      },
      "source": [
        "import cProfile\n",
        "import re\n",
        "cProfile.run('error_list, words_count_list, forward_computations_list = test_baseline(f_baseline, wfst.mode, lex, word_table, phone_table, state_table, True, 1e8)')"
      ],
      "execution_count": null,
      "outputs": []
    },
    {
      "cell_type": "code",
      "metadata": {
        "id": "iYQNB2TXfYMs",
        "colab_type": "code",
        "colab": {}
      },
      "source": [
        "save_list(error_list, \"error_list.7-v-1-5.uni.addsilv3.baseline.1e8.pruning\")\n",
        "save_list(words_count_list, \"words_count_list.7-v-1-5.uni.addsilv3.baseline.1e8.pruning\")\n",
        "save_list(forward_computations_list, \"forward_computations_list.7-v-1-5.uni.addsilv3.1e8.baseline.pruning\")"
      ],
      "execution_count": null,
      "outputs": []
    },
    {
      "cell_type": "markdown",
      "metadata": {
        "id": "S5omGRwzfYMv",
        "colab_type": "text"
      },
      "source": [
        "- Testing - baseline7-v-1-5\n",
        "- States number: 176\n",
        "- Arcs number: 35\n",
        "- Total errors: 1297\n",
        "- Words number: 2177\n",
        "- Total WER: 0.5957740009186955\n",
        "- The number of forward computations per wav: 160839.83333333334"
      ]
    },
    {
      "cell_type": "code",
      "metadata": {
        "id": "A4GfB84YfYMv",
        "colab_type": "code",
        "colab": {}
      },
      "source": [
        "wfst = MyWFST(mode='baseline7-v-1-5', use_unigram=True, add_silence=True, add_silence_v=3)\n",
        "f_baseline = wfst.generate()\n",
        "lex = wfst.get_lexicon()\n",
        "word_table, phone_table, state_table = wfst.get_tables()"
      ],
      "execution_count": null,
      "outputs": []
    },
    {
      "cell_type": "code",
      "metadata": {
        "id": "7MHegongfYMy",
        "colab_type": "code",
        "colab": {}
      },
      "source": [
        "import cProfile\n",
        "import re\n",
        "cProfile.run('error_list, words_count_list, forward_computations_list = test_baseline(f_baseline, wfst.mode, lex, word_table, phone_table, state_table, True, 1e6)')"
      ],
      "execution_count": null,
      "outputs": []
    },
    {
      "cell_type": "code",
      "metadata": {
        "id": "puH0ipnCfYM0",
        "colab_type": "code",
        "colab": {}
      },
      "source": [
        "save_list(error_list, \"error_list.7-v-1-5.uni.addsilv3.baseline.1e6.pruning\")\n",
        "save_list(words_count_list, \"words_count_list.7-v-1-5.uni.addsilv3.baseline.1e6.pruning\")\n",
        "save_list(forward_computations_list, \"forward_computations_list.7-v-1-5.uni.addsilv3.1e6.baseline.pruning\")"
      ],
      "execution_count": null,
      "outputs": []
    },
    {
      "cell_type": "markdown",
      "metadata": {
        "id": "SIxLu3VYfYM3",
        "colab_type": "text"
      },
      "source": [
        "- Testing - baseline7-v-1-5\n",
        "- States number: 176\n",
        "- Arcs number: 350\n",
        "- Total errors: 1297\n",
        "- Words number: 2177\n",
        "- Total WER: 0.5957740009186955\n",
        "- The number of forward computations per wav: 160839.83333333334"
      ]
    },
    {
      "cell_type": "code",
      "metadata": {
        "id": "Nbw5pZS5fYM3",
        "colab_type": "code",
        "colab": {}
      },
      "source": [
        "wfst = MyWFST(mode='baseline7-v-1-5', use_unigram=True, add_silence=True, add_silence_v=3)\n",
        "f_baseline = wfst.generate()\n",
        "lex = wfst.get_lexicon()\n",
        "word_table, phone_table, state_table = wfst.get_tables()"
      ],
      "execution_count": null,
      "outputs": []
    },
    {
      "cell_type": "code",
      "metadata": {
        "id": "_zm9hC2ZfYM5",
        "colab_type": "code",
        "colab": {}
      },
      "source": [
        "import cProfile\n",
        "import re\n",
        "cProfile.run('error_list, words_count_list, forward_computations_list = test_baseline(f_baseline, wfst.mode, lex, word_table, phone_table, state_table, True, 1e4)')"
      ],
      "execution_count": null,
      "outputs": []
    },
    {
      "cell_type": "code",
      "metadata": {
        "id": "HZR_WxoJfYM8",
        "colab_type": "code",
        "colab": {}
      },
      "source": [
        "save_list(error_list, \"error_list.7-v-1-5.uni.addsilv3.baseline.1e4.pruning\")\n",
        "save_list(words_count_list, \"words_count_list.7-v-1-5.uni.addsilv3.baseline.1e4.pruning\")\n",
        "save_list(forward_computations_list, \"forward_computations_list.7-v-1-5.uni.addsilv3.1e4.baseline.pruning\")"
      ],
      "execution_count": null,
      "outputs": []
    },
    {
      "cell_type": "markdown",
      "metadata": {
        "id": "LKgy6ZkffYM-",
        "colab_type": "text"
      },
      "source": [
        "- Testing - baseline7-v-1-5\n",
        "- States number: 176\n",
        "- Arcs number: 350\n",
        "- Total errors: 1291\n",
        "- Words number: 2177\n",
        "- Total WER: 0.5930179145613229\n",
        "- The number of forward computations per wav: 152647.7888888889"
      ]
    },
    {
      "cell_type": "code",
      "metadata": {
        "id": "4Tt2NPlzfYM-",
        "colab_type": "code",
        "colab": {}
      },
      "source": [
        "wfst = MyWFST(mode='baseline7-v-1-5', use_unigram=True, add_silence=True, add_silence_v=3)\n",
        "f_baseline = wfst.generate()\n",
        "lex = wfst.get_lexicon()\n",
        "word_table, phone_table, state_table = wfst.get_tables()"
      ],
      "execution_count": null,
      "outputs": []
    },
    {
      "cell_type": "code",
      "metadata": {
        "id": "2sRG2rqufYNE",
        "colab_type": "code",
        "colab": {}
      },
      "source": [
        "import cProfile\n",
        "import re\n",
        "cProfile.run('error_list, words_count_list, forward_computations_list = test_baseline(f_baseline, wfst.mode, lex, word_table, phone_table, state_table, True, 1e3)')"
      ],
      "execution_count": null,
      "outputs": []
    },
    {
      "cell_type": "code",
      "metadata": {
        "id": "K6egTPcKfYNH",
        "colab_type": "code",
        "colab": {}
      },
      "source": [
        "save_list(error_list, \"error_list.7-v-1-5.uni.addsilv3.baseline.1e3.pruning\")\n",
        "save_list(words_count_list, \"words_count_list.7-v-1-5.uni.addsilv3.baseline.1e3.pruning\")\n",
        "save_list(forward_computations_list, \"forward_computations_list.7-v-1-5.uni.addsilv3.1e3.baseline.pruning\")"
      ],
      "execution_count": null,
      "outputs": []
    },
    {
      "cell_type": "markdown",
      "metadata": {
        "id": "xYLwYKzAfYNI",
        "colab_type": "text"
      },
      "source": [
        "- Testing - baseline7-v-1-5\n",
        "- States number: 176\n",
        "- Arcs number: 350\n",
        "- Total errors: 1663\n",
        "- Words number: 2177\n",
        "- Total WER: 0.7638952687184198\n",
        "- The number of forward computations per wav: 73761.38888888889"
      ]
    },
    {
      "cell_type": "code",
      "metadata": {
        "id": "BviIG-3YfYNJ",
        "colab_type": "code",
        "colab": {}
      },
      "source": [
        "wfst = MyWFST(mode='baseline7-v-1-5', use_unigram=True, add_silence=True, add_silence_v=3)\n",
        "f_baseline = wfst.generate()\n",
        "lex = wfst.get_lexicon()\n",
        "word_table, phone_table, state_table = wfst.get_tables()"
      ],
      "execution_count": null,
      "outputs": []
    },
    {
      "cell_type": "code",
      "metadata": {
        "id": "M3gNpYZSfYNK",
        "colab_type": "code",
        "colab": {}
      },
      "source": [
        "import cProfile\n",
        "import re\n",
        "cProfile.run('error_list, words_count_list, forward_computations_list = test_baseline(f_baseline, wfst.mode, lex, word_table, phone_table, state_table, True, 5e3)')"
      ],
      "execution_count": null,
      "outputs": []
    },
    {
      "cell_type": "code",
      "metadata": {
        "id": "qxBX1nm_fYNL",
        "colab_type": "code",
        "colab": {}
      },
      "source": [
        "save_list(error_list, \"error_list.7-v-1-5.uni.addsilv3.baseline.5e3.pruning\")\n",
        "save_list(words_count_list, \"words_count_list.7-v-1-5.uni.addsilv3.baseline.5e3.pruning\")\n",
        "save_list(forward_computations_list, \"forward_computations_list.7-v-1-5.uni.addsilv3.5e3.baseline.pruning\")"
      ],
      "execution_count": null,
      "outputs": []
    },
    {
      "cell_type": "markdown",
      "metadata": {
        "id": "N0WaeU54fYNN",
        "colab_type": "text"
      },
      "source": [
        "- Testing - baseline7-v-1-5\n",
        "- States number: 176\n",
        "- Arcs number: 350\n",
        "- Total errors: 1362\n",
        "- Words number: 2177\n",
        "- Total WER: 0.6256316031235646\n",
        "- The number of forward computations per wav: 132481.23333333334"
      ]
    },
    {
      "cell_type": "code",
      "metadata": {
        "id": "C0KFGdoqfYNN",
        "colab_type": "code",
        "colab": {}
      },
      "source": [
        "wfst = MyWFST(mode='baseline7-v-1-5', use_unigram=True, add_silence=True, add_silence_v=3)\n",
        "f_baseline = wfst.generate()\n",
        "lex = wfst.get_lexicon()\n",
        "word_table, phone_table, state_table = wfst.get_tables()"
      ],
      "execution_count": null,
      "outputs": []
    },
    {
      "cell_type": "code",
      "metadata": {
        "id": "4gxB1XOmfYNP",
        "colab_type": "code",
        "colab": {}
      },
      "source": [
        "import cProfile\n",
        "import re\n",
        "cProfile.run('error_list, words_count_list, forward_computations_list = test_baseline(f_baseline, wfst.mode, lex, word_table, phone_table, state_table, True, 8e3)')"
      ],
      "execution_count": null,
      "outputs": []
    },
    {
      "cell_type": "code",
      "metadata": {
        "id": "XnXTWdPYfYNd",
        "colab_type": "code",
        "colab": {}
      },
      "source": [
        "save_list(error_list, \"error_list.7-v-1-5.uni.addsilv3.baseline.8e3.pruning\")\n",
        "save_list(words_count_list, \"words_count_list.7-v-1-5.uni.addsilv3.baseline.8e3.pruning\")\n",
        "save_list(forward_computations_list, \"forward_computations_list.7-v-1-5.uni.addsilv3.8e3.baseline.pruning\")"
      ],
      "execution_count": null,
      "outputs": []
    },
    {
      "cell_type": "markdown",
      "metadata": {
        "id": "OUbISLdhfYNf",
        "colab_type": "text"
      },
      "source": [
        "- Testing - baseline7-v-1-5\n",
        "- States number: 176\n",
        "- Arcs number: 350\n",
        "- Total errors: 1308\n",
        "- Words number: 2177\n",
        "- Total WER: 0.6008268259072118\n",
        "- The number of forward computations per wav: 144947.22222222222"
      ]
    },
    {
      "cell_type": "code",
      "metadata": {
        "id": "nPZYMR3wfYNf",
        "colab_type": "code",
        "colab": {}
      },
      "source": [
        "wfst = MyWFST(mode='baseline7-v-1-5', use_unigram=True, add_silence=True, add_silence_v=3)\n",
        "f_baseline = wfst.generate()\n",
        "lex = wfst.get_lexicon()\n",
        "word_table, phone_table, state_table = wfst.get_tables()"
      ],
      "execution_count": null,
      "outputs": []
    },
    {
      "cell_type": "code",
      "metadata": {
        "id": "59cW-Il2fYNj",
        "colab_type": "code",
        "colab": {}
      },
      "source": [
        "import cProfile\n",
        "import re\n",
        "cProfile.run('error_list, words_count_list, forward_computations_list = test_baseline(f_baseline, wfst.mode, lex, word_table, phone_table, state_table, True, 3e3)')"
      ],
      "execution_count": null,
      "outputs": []
    },
    {
      "cell_type": "code",
      "metadata": {
        "id": "YTxZi-uufYNp",
        "colab_type": "code",
        "colab": {}
      },
      "source": [
        "save_list(error_list, \"error_list.7-v-1-5.uni.addsilv3.baseline.3e3.pruning\")\n",
        "save_list(words_count_list, \"words_count_list.7-v-1-5.uni.addsilv3.baseline.3e3.pruning\")\n",
        "save_list(forward_computations_list, \"forward_computations_list.7-v-1-5.uni.addsilv3.3e3.baseline.pruning\")"
      ],
      "execution_count": null,
      "outputs": []
    },
    {
      "cell_type": "markdown",
      "metadata": {
        "id": "q27etFnvfYNv",
        "colab_type": "text"
      },
      "source": [
        "- Testing - baseline7-v-1-5\n",
        "- States number: 176\n",
        "- Arcs number: 350\n",
        "- Total errors: 1419\n",
        "- Words number: 2177\n",
        "- Total WER: 0.6518144235186036\n",
        "- The number of forward computations per wav: 116178.15555555555"
      ]
    },
    {
      "cell_type": "markdown",
      "metadata": {
        "id": "VZHt6SDhfYNv",
        "colab_type": "text"
      },
      "source": [
        "## Beam Search"
      ]
    },
    {
      "cell_type": "code",
      "metadata": {
        "id": "Tf6Dta0afYNv",
        "colab_type": "code",
        "colab": {}
      },
      "source": [
        "wfst = MyWFST(mode='baseline7-v-1-5', use_unigram=True, add_silence=True, add_silence_v=3)\n",
        "f_baseline = wfst.generate()\n",
        "lex = wfst.get_lexicon()\n",
        "word_table, phone_table, state_table = wfst.get_tables()"
      ],
      "execution_count": null,
      "outputs": []
    },
    {
      "cell_type": "code",
      "metadata": {
        "id": "dWegz_ycfYNx",
        "colab_type": "code",
        "colab": {}
      },
      "source": [
        "import cProfile\n",
        "import re\n",
        "cProfile.run('error_list, words_count_list, forward_computations_list = test_baseline(f_baseline, wfst.mode, lex, word_table, phone_table, state_table, beam_search=True, beam_width=50)')"
      ],
      "execution_count": null,
      "outputs": []
    },
    {
      "cell_type": "code",
      "metadata": {
        "id": "BSQNoaEyfYNy",
        "colab_type": "code",
        "colab": {}
      },
      "source": [
        "save_list(error_list, \"error_list.7-v-1-5.uni.addsilv3.baseline.50.beam\")\n",
        "save_list(words_count_list, \"words_count_list.7-v-1-5.uni.addsilv3.baseline.50.beam\")\n",
        "save_list(forward_computations_list, \"forward_computations_list.7-v-1-5.uni.addsilv3.baseline.50.beam\")"
      ],
      "execution_count": null,
      "outputs": []
    },
    {
      "cell_type": "markdown",
      "metadata": {
        "id": "sQVIvVF2fYN0",
        "colab_type": "text"
      },
      "source": [
        "- 50 beam\n",
        "- Total WER: 0.6196600826825908\n",
        "- The number of forward computations per wav: 49507.677777777775"
      ]
    },
    {
      "cell_type": "code",
      "metadata": {
        "id": "OMMv4u8sfYN0",
        "colab_type": "code",
        "colab": {}
      },
      "source": [
        "wfst = MyWFST(mode='baseline7-v-1-5', use_unigram=True, add_silence=True, add_silence_v=3)\n",
        "f_baseline = wfst.generate()\n",
        "lex = wfst.get_lexicon()\n",
        "word_table, phone_table, state_table = wfst.get_tables()"
      ],
      "execution_count": null,
      "outputs": []
    },
    {
      "cell_type": "code",
      "metadata": {
        "id": "U3qE9fVrfYN4",
        "colab_type": "code",
        "colab": {}
      },
      "source": [
        "import cProfile\n",
        "import re\n",
        "cProfile.run('error_list, words_count_list, forward_computations_list = test_baseline(f_baseline, wfst.mode, lex, word_table, phone_table, state_table, beam_search=True, beam_width=100)')"
      ],
      "execution_count": null,
      "outputs": []
    },
    {
      "cell_type": "code",
      "metadata": {
        "id": "H6yAxYoUfYN5",
        "colab_type": "code",
        "colab": {}
      },
      "source": [
        "save_list(error_list, \"error_list.7-v-1-5.uni.addsilv3.baseline.100.beam\")\n",
        "save_list(words_count_list, \"words_count_list.7-v-1-5.uni.addsilv3.baseline.100.beam\")\n",
        "save_list(forward_computations_list, \"forward_computations_list.7-v-1-5.uni.addsilv3.baseline.100.beam\")"
      ],
      "execution_count": null,
      "outputs": []
    },
    {
      "cell_type": "markdown",
      "metadata": {
        "id": "Adc2omMLfYN9",
        "colab_type": "text"
      },
      "source": [
        "- 100 beam\n",
        "- Total WER: 0.5985300872760679\n",
        "- The number of forward computations per wav: 97774.78888888888"
      ]
    },
    {
      "cell_type": "code",
      "metadata": {
        "id": "GUNUooOrfYOA",
        "colab_type": "code",
        "colab": {}
      },
      "source": [
        "wfst = MyWFST(mode='baseline7-v-1-5', use_unigram=True, add_silence=True, add_silence_v=3)\n",
        "f_baseline = wfst.generate()\n",
        "lex = wfst.get_lexicon()\n",
        "word_table, phone_table, state_table = wfst.get_tables()"
      ],
      "execution_count": null,
      "outputs": []
    },
    {
      "cell_type": "code",
      "metadata": {
        "id": "gA6kQHmkfYOD",
        "colab_type": "code",
        "colab": {}
      },
      "source": [
        "import cProfile\n",
        "import re\n",
        "cProfile.run('error_list, words_count_list, forward_computations_list = test_baseline(f_baseline, wfst.mode, lex, word_table, phone_table, state_table, beam_search=True, beam_width=20)')"
      ],
      "execution_count": null,
      "outputs": []
    },
    {
      "cell_type": "code",
      "metadata": {
        "id": "Yzmju3E5fYOG",
        "colab_type": "code",
        "colab": {}
      },
      "source": [
        "save_list(error_list, \"error_list.7-v-1-5.uni.addsilv3.baseline.20.beam\")\n",
        "save_list(words_count_list, \"words_count_list.7-v-1-5.uni.addsilv3.baseline.20.beam\")\n",
        "save_list(forward_computations_list, \"forward_computations_list.7-v-1-5.uni.addsilv3.baseline.20.beam\")"
      ],
      "execution_count": null,
      "outputs": []
    },
    {
      "cell_type": "markdown",
      "metadata": {
        "id": "WcOEaVaGfYOI",
        "colab_type": "text"
      },
      "source": [
        "- 20 beam\n",
        "- Total WER: 0.6821313734497014\n",
        "- The number of forward computations per wav: 19227.533333333333"
      ]
    },
    {
      "cell_type": "code",
      "metadata": {
        "id": "p5qAuhXYfYOJ",
        "colab_type": "code",
        "colab": {}
      },
      "source": [
        "wfst = MyWFST(mode='baseline7-v-1-5', use_unigram=True, add_silence=True, add_silence_v=3)\n",
        "f_baseline = wfst.generate()\n",
        "lex = wfst.get_lexicon()\n",
        "word_table, phone_table, state_table = wfst.get_tables()"
      ],
      "execution_count": null,
      "outputs": []
    },
    {
      "cell_type": "code",
      "metadata": {
        "id": "XXn2SrD6fYOM",
        "colab_type": "code",
        "colab": {}
      },
      "source": [
        "import cProfile\n",
        "import re\n",
        "cProfile.run('error_list, words_count_list, forward_computations_list = test_baseline(f_baseline, wfst.mode, lex, word_table, phone_table, state_table, beam_search=True, beam_width=80)')"
      ],
      "execution_count": null,
      "outputs": []
    },
    {
      "cell_type": "code",
      "metadata": {
        "id": "775RIHdGfYOQ",
        "colab_type": "code",
        "colab": {}
      },
      "source": [
        "save_list(error_list, \"error_list.7-v-1-5.uni.addsilv3.baseline.80.beam\")\n",
        "save_list(words_count_list, \"words_count_list.7-v-1-5.uni.addsilv3.baseline.80.beam\")\n",
        "save_list(forward_computations_list, \"forward_computations_list.7-v-1-5.uni.addsilv3.baseline.80.beam\")"
      ],
      "execution_count": null,
      "outputs": []
    },
    {
      "cell_type": "markdown",
      "metadata": {
        "id": "gdts7Qe5fYOR",
        "colab_type": "text"
      },
      "source": [
        "- 80 beam\n",
        "- Total WER: 0.6045016077170418\n",
        "- The number of forward computations per wav: 78628.67777777778"
      ]
    },
    {
      "cell_type": "code",
      "metadata": {
        "id": "dOANKAcIfYOS",
        "colab_type": "code",
        "colab": {}
      },
      "source": [
        "wfst = MyWFST(mode='baseline7-v-1-5', use_unigram=True, add_silence=True, add_silence_v=3)\n",
        "f_baseline = wfst.generate()\n",
        "lex = wfst.get_lexicon()\n",
        "word_table, phone_table, state_table = wfst.get_tables()"
      ],
      "execution_count": null,
      "outputs": []
    },
    {
      "cell_type": "code",
      "metadata": {
        "id": "WHij5XFrfYOT",
        "colab_type": "code",
        "colab": {}
      },
      "source": [
        "import cProfile\n",
        "import re\n",
        "cProfile.run('error_list, words_count_list, forward_computations_list = test_baseline(f_baseline, wfst.mode, lex, word_table, phone_table, state_table, beam_search=True, beam_width=10)')"
      ],
      "execution_count": null,
      "outputs": []
    },
    {
      "cell_type": "code",
      "metadata": {
        "id": "kUG44LHefYOU",
        "colab_type": "code",
        "colab": {}
      },
      "source": [
        "save_list(error_list, \"error_list.7-v-1-5.uni.addsilv3.baseline.10.beam\")\n",
        "save_list(words_count_list, \"words_count_list.7-v-1-5.uni.addsilv3.baseline.10.beam\")\n",
        "save_list(forward_computations_list, \"forward_computations_list.7-v-1-5.uni.addsilv3.baseline.10.beam\")"
      ],
      "execution_count": null,
      "outputs": []
    },
    {
      "cell_type": "markdown",
      "metadata": {
        "id": "uyasIObPfYOV",
        "colab_type": "text"
      },
      "source": [
        "- 10 beam\n",
        "- Total WER: 0.8093706936150666\n",
        "- The number of forward computations per wav: 9078.31111111111"
      ]
    },
    {
      "cell_type": "code",
      "metadata": {
        "id": "TAzSz5jsfYOV",
        "colab_type": "code",
        "colab": {}
      },
      "source": [
        "wfst = MyWFST(mode='baseline7-v-1-5', use_unigram=True, add_silence=True, add_silence_v=3)\n",
        "f_baseline = wfst.generate()\n",
        "lex = wfst.get_lexicon()\n",
        "word_table, phone_table, state_table = wfst.get_tables()"
      ],
      "execution_count": null,
      "outputs": []
    },
    {
      "cell_type": "code",
      "metadata": {
        "id": "HGUXVKsUfYOW",
        "colab_type": "code",
        "colab": {}
      },
      "source": [
        "import cProfile\n",
        "import re\n",
        "cProfile.run('error_list, words_count_list, forward_computations_list = test_baseline(f_baseline, wfst.mode, lex, word_table, phone_table, state_table, beam_search=True, beam_width=40)')"
      ],
      "execution_count": null,
      "outputs": []
    },
    {
      "cell_type": "code",
      "metadata": {
        "id": "MDulfqOCfYOX",
        "colab_type": "code",
        "colab": {}
      },
      "source": [
        "save_list(error_list, \"error_list.7-v-1-5.uni.addsilv3.baseline.40.beam\")\n",
        "save_list(words_count_list, \"words_count_list.7-v-1-5.uni.addsilv3.baseline.40.beam\")\n",
        "save_list(forward_computations_list, \"forward_computations_list.7-v-1-5.uni.addsilv3.baseline.40.beam\")"
      ],
      "execution_count": null,
      "outputs": []
    },
    {
      "cell_type": "markdown",
      "metadata": {
        "id": "bm1pkvTMfYOa",
        "colab_type": "text"
      },
      "source": [
        "- 40 beam\n",
        "- Total WER: 0.639871382636656\n",
        "- The number of forward computations per wav: 39661.055555555555"
      ]
    },
    {
      "cell_type": "code",
      "metadata": {
        "id": "PV0KtvRdfYOa",
        "colab_type": "code",
        "colab": {}
      },
      "source": [
        "wfst = MyWFST(mode='baseline7-v-1-5', use_unigram=True, add_silence=True, add_silence_v=3)\n",
        "f_baseline = wfst.generate()\n",
        "lex = wfst.get_lexicon()\n",
        "word_table, phone_table, state_table = wfst.get_tables()"
      ],
      "execution_count": null,
      "outputs": []
    },
    {
      "cell_type": "code",
      "metadata": {
        "id": "UBo_OR0AfYOh",
        "colab_type": "code",
        "colab": {}
      },
      "source": [
        "import cProfile\n",
        "import re\n",
        "cProfile.run('error_list, words_count_list, forward_computations_list = test_baseline(f_baseline, wfst.mode, lex, word_table, phone_table, state_table, beam_search=True, beam_width=30)')"
      ],
      "execution_count": null,
      "outputs": []
    },
    {
      "cell_type": "code",
      "metadata": {
        "id": "ocBVIcc3fYOj",
        "colab_type": "code",
        "colab": {}
      },
      "source": [
        "save_list(error_list, \"error_list.7-v-1-5.uni.addsilv3.baseline.30.beam\")\n",
        "save_list(words_count_list, \"words_count_list.7-v-1-5.uni.addsilv3.baseline.30.beam\")\n",
        "save_list(forward_computations_list, \"forward_computations_list.7-v-1-5.uni.addsilv3.baseline.30.beam\")"
      ],
      "execution_count": null,
      "outputs": []
    },
    {
      "cell_type": "markdown",
      "metadata": {
        "id": "anGisRvsfYOl",
        "colab_type": "text"
      },
      "source": [
        "- 30 beam\n",
        "- Total WER: 0.6504363803399174\n",
        "- The number of forward computations per wav: 29507.255555555555"
      ]
    },
    {
      "cell_type": "code",
      "metadata": {
        "id": "4FaTgI-zfYOl",
        "colab_type": "code",
        "colab": {}
      },
      "source": [
        "wfst = MyWFST(mode='baseline7-v-1-5', use_unigram=True, add_silence=True, add_silence_v=3)\n",
        "f_baseline = wfst.generate()\n",
        "lex = wfst.get_lexicon()\n",
        "word_table, phone_table, state_table = wfst.get_tables()"
      ],
      "execution_count": null,
      "outputs": []
    },
    {
      "cell_type": "code",
      "metadata": {
        "id": "5dlouspMfYOo",
        "colab_type": "code",
        "colab": {}
      },
      "source": [
        "import cProfile\n",
        "import re\n",
        "cProfile.run('error_list, words_count_list, forward_computations_list = test_baseline(f_baseline, wfst.mode, lex, word_table, phone_table, state_table, beam_search=True, beam_width=60)')"
      ],
      "execution_count": null,
      "outputs": []
    },
    {
      "cell_type": "code",
      "metadata": {
        "id": "a9hY5A8ffYOq",
        "colab_type": "code",
        "colab": {}
      },
      "source": [
        "save_list(error_list, \"error_list.7-v-1-5.uni.addsilv3.baseline.60.beam\")\n",
        "save_list(words_count_list, \"words_count_list.7-v-1-5.uni.addsilv3.baseline.60.beam\")\n",
        "save_list(forward_computations_list, \"forward_computations_list.7-v-1-5.uni.addsilv3.baseline.60.beam\")"
      ],
      "execution_count": null,
      "outputs": []
    },
    {
      "cell_type": "markdown",
      "metadata": {
        "id": "L_pdvIrhfYOw",
        "colab_type": "text"
      },
      "source": [
        "- 60 beam\n",
        "- Total WER: 0.6109324758842444\n",
        "- The number of forward computations per wav: 59401.46666666667"
      ]
    },
    {
      "cell_type": "code",
      "metadata": {
        "id": "aSydMJdXfYOw",
        "colab_type": "code",
        "colab": {}
      },
      "source": [
        "wfst = MyWFST(mode='baseline7-v-1-5', use_unigram=True, add_silence=True, add_silence_v=3)\n",
        "f_baseline = wfst.generate()\n",
        "lex = wfst.get_lexicon()\n",
        "word_table, phone_table, state_table = wfst.get_tables()"
      ],
      "execution_count": null,
      "outputs": []
    },
    {
      "cell_type": "code",
      "metadata": {
        "id": "BD_PgXpyfYOy",
        "colab_type": "code",
        "colab": {}
      },
      "source": [
        "import cProfile\n",
        "import re\n",
        "cProfile.run('error_list, words_count_list, forward_computations_list = test_baseline(f_baseline, wfst.mode, lex, word_table, phone_table, state_table, beam_search=True, beam_width=70)')"
      ],
      "execution_count": null,
      "outputs": []
    },
    {
      "cell_type": "code",
      "metadata": {
        "id": "9rDg8S8tfYO0",
        "colab_type": "code",
        "colab": {}
      },
      "source": [
        "save_list(error_list, \"error_list.7-v-1-5.uni.addsilv3.baseline.70.beam\")\n",
        "save_list(words_count_list, \"words_count_list.7-v-1-5.uni.addsilv3.baseline.70.beam\")\n",
        "save_list(forward_computations_list, \"forward_computations_list.7-v-1-5.uni.addsilv3.baseline.70.beam\")"
      ],
      "execution_count": null,
      "outputs": []
    },
    {
      "cell_type": "markdown",
      "metadata": {
        "id": "ghExNCm8fYO1",
        "colab_type": "text"
      },
      "source": [
        "- 70 beam\n",
        "- Total WER: 0.6054203031694994\n",
        "- The number of forward computations per wav: 69159.41111111111"
      ]
    },
    {
      "cell_type": "code",
      "metadata": {
        "id": "0k1PvvwPfYO2",
        "colab_type": "code",
        "colab": {}
      },
      "source": [
        "wfst = MyWFST(mode='baseline7-v-1-5', use_unigram=True, add_silence=True, add_silence_v=3)\n",
        "f_baseline = wfst.generate()\n",
        "lex = wfst.get_lexicon()\n",
        "word_table, phone_table, state_table = wfst.get_tables()"
      ],
      "execution_count": null,
      "outputs": []
    },
    {
      "cell_type": "code",
      "metadata": {
        "id": "sVpy6VISfYO4",
        "colab_type": "code",
        "colab": {}
      },
      "source": [
        "import cProfile\n",
        "import re\n",
        "cProfile.run('error_list, words_count_list, forward_computations_list = test_baseline(f_baseline, wfst.mode, lex, word_table, phone_table, state_table, beam_search=True, beam_width=90)')"
      ],
      "execution_count": null,
      "outputs": []
    },
    {
      "cell_type": "code",
      "metadata": {
        "id": "tE_JZiScfYO7",
        "colab_type": "code",
        "colab": {}
      },
      "source": [
        "save_list(error_list, \"error_list.7-v-1-5.uni.addsilv3.baseline.90.beam\")\n",
        "save_list(words_count_list, \"words_count_list.7-v-1-5.uni.addsilv3.baseline.90.beam\")\n",
        "save_list(forward_computations_list, \"forward_computations_list.7-v-1-5.uni.addsilv3.baseline.90.beam\")"
      ],
      "execution_count": null,
      "outputs": []
    },
    {
      "cell_type": "markdown",
      "metadata": {
        "id": "kQ-joHCOfYPA",
        "colab_type": "text"
      },
      "source": [
        "- 90 beam\n",
        "- Total WER: 0.6017455213596693\n",
        "- The number of forward computations per wav: 88210.4"
      ]
    },
    {
      "cell_type": "markdown",
      "metadata": {
        "id": "FOPVR6ilfYPE",
        "colab_type": "text"
      },
      "source": [
        "## Bigram"
      ]
    },
    {
      "cell_type": "code",
      "metadata": {
        "id": "7VwkCUFtfYPE",
        "colab_type": "code",
        "colab": {}
      },
      "source": [
        "wfst = MyWFST(mode='baseline7-v-1-5', use_bigram=True, add_silence=True, add_silence_v=3)\n",
        "f_baseline = wfst.generate()\n",
        "lex = wfst.get_lexicon()\n",
        "word_table, phone_table, state_table = wfst.get_tables()"
      ],
      "execution_count": null,
      "outputs": []
    },
    {
      "cell_type": "code",
      "metadata": {
        "id": "cT8KrwQbfYPU",
        "colab_type": "code",
        "colab": {}
      },
      "source": [
        "output_wfst('baseline7-v-1-5.bi.addsilv3', f_baseline)"
      ],
      "execution_count": null,
      "outputs": []
    },
    {
      "cell_type": "code",
      "metadata": {
        "id": "WQ7_39XOfYPV",
        "colab_type": "code",
        "colab": {}
      },
      "source": [
        "import cProfile\n",
        "import re\n",
        "cProfile.run('error_list, words_count_list, forward_computations_list = test_baseline(f_baseline, wfst.mode, lex, word_table, phone_table, state_table, beam_search=True, beam_width=70)')"
      ],
      "execution_count": null,
      "outputs": []
    },
    {
      "cell_type": "code",
      "metadata": {
        "id": "3E_1qev-fYPW",
        "colab_type": "code",
        "colab": {}
      },
      "source": [
        "save_list(error_list, \"error_list.7-v-1-5.bi.addsilv3.baseline.70.beam\")\n",
        "save_list(words_count_list, \"words_count_list.7-v-1-5.bi.addsilv3.baseline.70.beam\")\n",
        "save_list(forward_computations_list, \"forward_computations_list.7-v-1-5.bi.addsilv3.baseline.70.beam\")"
      ],
      "execution_count": null,
      "outputs": []
    },
    {
      "cell_type": "markdown",
      "metadata": {
        "id": "TGWYWK82fYPY",
        "colab_type": "text"
      },
      "source": [
        "- 70 beam bigram\n",
        "- Testing - baseline7-v-1-5\n",
        "- States number: 196\n",
        "- Arcs number: 460\n",
        "- Total errors: 1329\n",
        "- Words number: 2177\n",
        "- Total WER: 0.6104731281580156\n",
        "- The number of forward computations per wav: 58598.066666666666"
      ]
    },
    {
      "cell_type": "code",
      "metadata": {
        "id": "i3g7ETiEfYPY",
        "colab_type": "code",
        "colab": {}
      },
      "source": [
        "wfst = MyWFST(mode='baseline7-v-1-5', use_bigram=True, add_silence=True, add_silence_v=3)\n",
        "f_baseline = wfst.generate()\n",
        "lex = wfst.get_lexicon()\n",
        "word_table, phone_table, state_table = wfst.get_tables()"
      ],
      "execution_count": null,
      "outputs": []
    },
    {
      "cell_type": "code",
      "metadata": {
        "id": "nC-HggDFfYPZ",
        "colab_type": "code",
        "colab": {}
      },
      "source": [
        "import cProfile\n",
        "import re\n",
        "cProfile.run('error_list, words_count_list, forward_computations_list = test_baseline(f_baseline, wfst.mode, lex, word_table, phone_table, state_table)')"
      ],
      "execution_count": null,
      "outputs": []
    },
    {
      "cell_type": "code",
      "metadata": {
        "id": "fuPgfRdPfYPa",
        "colab_type": "code",
        "colab": {}
      },
      "source": [
        "save_list(error_list, \"error_list.7-v-1-5.bi.addsilv3.baseline\")\n",
        "save_list(words_count_list, \"words_count_list.7-v-1-5.bi.addsilv3.baseline\")\n",
        "save_list(forward_computations_list, \"forward_computations_list.7-v-1-5.bi.addsilv3.baseline\")"
      ],
      "execution_count": null,
      "outputs": []
    },
    {
      "cell_type": "markdown",
      "metadata": {
        "id": "YARipMGifYPe",
        "colab_type": "text"
      },
      "source": [
        "- No beam search bigram\n",
        "- Testing - baseline7-v-1-5\n",
        "- States number: 196\n",
        "- Arcs number: 460\n",
        "- Total errors: 1293\n",
        "- Words number: 2177\n",
        "- Total WER: 0.5939366100137804\n",
        "- The number of forward computations per wav: 160839.83333333334"
      ]
    },
    {
      "cell_type": "code",
      "metadata": {
        "id": "11kPg8tGfYPf",
        "colab_type": "code",
        "colab": {}
      },
      "source": [
        "wfst = MyWFST(mode='baseline7-v-1-5', use_bigram=True, add_silence=True, add_silence_v=3)\n",
        "f_baseline = wfst.generate()\n",
        "lex = wfst.get_lexicon()\n",
        "word_table, phone_table, state_table = wfst.get_tables()"
      ],
      "execution_count": null,
      "outputs": []
    },
    {
      "cell_type": "code",
      "metadata": {
        "id": "bHw1iOHxfYPj",
        "colab_type": "code",
        "colab": {}
      },
      "source": [
        "import cProfile\n",
        "import re\n",
        "cProfile.run('error_list, words_count_list, forward_computations_list = test_baseline(f_baseline, wfst.mode, lex, word_table, phone_table, state_table, beam_search=True, beam_width=50)')"
      ],
      "execution_count": null,
      "outputs": []
    },
    {
      "cell_type": "code",
      "metadata": {
        "id": "cVQvVXxRfYPo",
        "colab_type": "code",
        "colab": {}
      },
      "source": [
        "save_list(error_list, \"error_list.7-v-1-5.bi.addsilv3.baseline.50.beam\")\n",
        "save_list(words_count_list, \"words_count_list.7-v-1-5.bi.addsilv3.baseline.50.beam\")\n",
        "save_list(forward_computations_list, \"forward_computations_list.7-v-1-5.bi.addsilv3.baseline.50.beam\")"
      ],
      "execution_count": null,
      "outputs": []
    },
    {
      "cell_type": "markdown",
      "metadata": {
        "id": "V9xphArGfYPr",
        "colab_type": "text"
      },
      "source": [
        "- 50 beam bigram\n",
        "- Testing - baseline7-v-1-5\n",
        "- States number: 196\n",
        "- Arcs number: 460\n",
        "- Total errors: 1380\n",
        "- Words number: 2177\n",
        "- Total WER: 0.6338998621956822\n",
        "- The number of forward computations per wav: 40130.98888888889"
      ]
    },
    {
      "cell_type": "code",
      "metadata": {
        "id": "9o-hB2vifYPr",
        "colab_type": "code",
        "colab": {}
      },
      "source": [
        "wfst = MyWFST(mode='baseline7-v-1-5', use_bigram=True, add_silence=True, add_silence_v=3)\n",
        "f_baseline = wfst.generate()\n",
        "lex = wfst.get_lexicon()\n",
        "word_table, phone_table, state_table = wfst.get_tables()"
      ],
      "execution_count": null,
      "outputs": []
    },
    {
      "cell_type": "code",
      "metadata": {
        "id": "AEk2rH_pfYPu",
        "colab_type": "code",
        "colab": {}
      },
      "source": [
        "import cProfile\n",
        "import re\n",
        "cProfile.run('error_list, words_count_list, forward_computations_list = test_baseline(f_baseline, wfst.mode, lex, word_table, phone_table, state_table, beam_search=True, beam_width=100)')"
      ],
      "execution_count": null,
      "outputs": []
    },
    {
      "cell_type": "code",
      "metadata": {
        "id": "GQDpzGoafYPv",
        "colab_type": "code",
        "colab": {}
      },
      "source": [
        "save_list(error_list, \"error_list.7-v-1-5.bi.addsilv3.baseline.100.beam\")\n",
        "save_list(words_count_list, \"words_count_list.7-v-1-5.bi.addsilv3.baseline.100.beam\")\n",
        "save_list(forward_computations_list, \"forward_computations_list.7-v-1-5.bi.addsilv3.baseline.100.beam\")"
      ],
      "execution_count": null,
      "outputs": []
    },
    {
      "cell_type": "markdown",
      "metadata": {
        "id": "32Q2TcpRfYPx",
        "colab_type": "text"
      },
      "source": [
        "- 100 beam bigram\n",
        "- Testing - baseline7-v-1-5\n",
        "- States number: 196\n",
        "- Arcs number: 460\n",
        "- Total errors: 1305\n",
        "- Words number: 2177\n",
        "- Total WER: 0.5994487827285255\n",
        "- The number of forward computations per wav: 85863.22222222222"
      ]
    },
    {
      "cell_type": "markdown",
      "metadata": {
        "id": "aTS5WkrVfYP1",
        "colab_type": "text"
      },
      "source": [
        "## Re Calculate by removing wrong examples"
      ]
    },
    {
      "cell_type": "code",
      "metadata": {
        "id": "zxZW7dE6fYP1",
        "colab_type": "code",
        "colab": {}
      },
      "source": [
        "def read_file_to_list(file):\n",
        "    l = []\n",
        "    with open(file, 'r') as f:\n",
        "        for n in f:\n",
        "            l.append(int(n))\n",
        "    return l"
      ],
      "execution_count": null,
      "outputs": []
    },
    {
      "cell_type": "code",
      "metadata": {
        "id": "vc8GnGw8fYP4",
        "colab_type": "code",
        "colab": {}
      },
      "source": [
        "def remove_wrong_examples_re_calculate(exp_name, remove=True):\n",
        "#     exp_name = \"7-v-1-5.bi.addsilv3.baseline.100.beam\"\n",
        "    remove_index_list = [16, 29, 30, 37, 55, 89, 94, 149, 164]\n",
        "\n",
        "    error_list_name = \"error_list.\" + exp_name\n",
        "    words_count_list_name = \"words_count_list.\" + exp_name\n",
        "    forward_computations_list_name = \"forward_computations_list.\" + exp_name\n",
        "    error_list = read_file_to_list(error_list_name)\n",
        "    words_count_list = read_file_to_list(words_count_list_name)\n",
        "    forward_computations_list = read_file_to_list(forward_computations_list_name)\n",
        "    if remove:\n",
        "        new_total_error = sum([error_list[i] for i in range(len(error_list)) if i not in remove_index_list])\n",
        "        new_words_count = sum([words_count_list[i] for i in range(len(words_count_list)) if i not in remove_index_list])\n",
        "        new_forward_computations = sum([forward_computations_list[i] for i in range(len(forward_computations_list)) if i not in remove_index_list])\n",
        "    else:\n",
        "        new_total_error = sum(error_list)\n",
        "        new_words_count = sum(words_count_list)\n",
        "        new_forward_computations = sum(forward_computations_list)\n",
        "\n",
        "    print(\"Total errors: \"+ str(new_total_error))\n",
        "    print(\"Words number: \"+ str(new_words_count))\n",
        "    print(\"Total WER: \"+ str(new_total_error / new_words_count))\n",
        "    print(\"The number of forward computations per wav: \"+ str(new_forward_computations / (len(forward_computations_list) - len(remove_index_list))))"
      ],
      "execution_count": null,
      "outputs": []
    },
    {
      "cell_type": "code",
      "metadata": {
        "id": "MdRaa0ztfYP7",
        "colab_type": "code",
        "colab": {},
        "outputId": "344e922c-0d67-441d-e34e-3bb9ca383e45"
      },
      "source": [
        "remove_wrong_examples_re_calculate(\"1.baseline\", remove=False)"
      ],
      "execution_count": null,
      "outputs": [
        {
          "output_type": "stream",
          "text": [
            "Total errors: 2374\n",
            "Words number: 2177\n",
            "Total WER: 1.0904915020670647\n",
            "The number of forward computations per wav: 115180.52631578948\n"
          ],
          "name": "stdout"
        }
      ]
    },
    {
      "cell_type": "code",
      "metadata": {
        "id": "1LtajBK5fYP9",
        "colab_type": "code",
        "colab": {},
        "outputId": "94355a5c-b5e6-473b-9da0-d722419cfeab"
      },
      "source": [
        "remove_wrong_examples_re_calculate(\"1.baseline\")"
      ],
      "execution_count": null,
      "outputs": [
        {
          "output_type": "stream",
          "text": [
            "Total errors: 1609\n",
            "Words number: 1314\n",
            "Total WER: 1.2245053272450532\n",
            "The number of forward computations per wav: 83031.68421052632\n"
          ],
          "name": "stdout"
        }
      ]
    },
    {
      "cell_type": "code",
      "metadata": {
        "id": "GZW2UxeLfYQB",
        "colab_type": "code",
        "colab": {},
        "outputId": "81fdccd6-1516-49ae-af40-1d1a0bd273e6"
      },
      "source": [
        "remove_wrong_examples_re_calculate(\"2.baseline\", remove=False)"
      ],
      "execution_count": null,
      "outputs": [
        {
          "output_type": "stream",
          "text": [
            "Total errors: 1643\n",
            "Words number: 2177\n",
            "Total WER: 0.7547083141938448\n",
            "The number of forward computations per wav: 115180.52631578948\n"
          ],
          "name": "stdout"
        }
      ]
    },
    {
      "cell_type": "code",
      "metadata": {
        "id": "0WkHCZvyfYQD",
        "colab_type": "code",
        "colab": {},
        "outputId": "a4daf752-535a-46b4-9932-ae8168f0cd1d"
      },
      "source": [
        "remove_wrong_examples_re_calculate(\"2.baseline\")"
      ],
      "execution_count": null,
      "outputs": [
        {
          "output_type": "stream",
          "text": [
            "Total errors: 967\n",
            "Words number: 1314\n",
            "Total WER: 0.7359208523592086\n",
            "The number of forward computations per wav: 83031.68421052632\n"
          ],
          "name": "stdout"
        }
      ]
    },
    {
      "cell_type": "markdown",
      "metadata": {
        "id": "gvXjGpKbfYQH",
        "colab_type": "text"
      },
      "source": [
        "## unigram & (self weight - next weight)"
      ]
    },
    {
      "cell_type": "code",
      "metadata": {
        "id": "Lv_xdmlmfYQH",
        "colab_type": "code",
        "colab": {},
        "outputId": "1d9de6b4-e270-4d8f-8c7b-720f22cf4e58"
      },
      "source": [
        "remove_wrong_examples_re_calculate(\"2.uni.baseline\", remove=False)"
      ],
      "execution_count": null,
      "outputs": [
        {
          "output_type": "stream",
          "text": [
            "Total errors: 1642\n",
            "Words number: 2177\n",
            "Total WER: 0.754248966467616\n",
            "The number of forward computations per wav: 115180.52631578948\n"
          ],
          "name": "stdout"
        }
      ]
    },
    {
      "cell_type": "code",
      "metadata": {
        "id": "LltYkkKQfYQK",
        "colab_type": "code",
        "colab": {},
        "outputId": "8317ce20-cff8-4279-f966-a642122b2281"
      },
      "source": [
        "remove_wrong_examples_re_calculate(\"2.uni.baseline\")"
      ],
      "execution_count": null,
      "outputs": [
        {
          "output_type": "stream",
          "text": [
            "Total errors: 965\n",
            "Words number: 1314\n",
            "Total WER: 0.7343987823439878\n",
            "The number of forward computations per wav: 83031.68421052632\n"
          ],
          "name": "stdout"
        }
      ]
    },
    {
      "cell_type": "code",
      "metadata": {
        "id": "u_LxNmzNfYQM",
        "colab_type": "code",
        "colab": {},
        "outputId": "557f6ad3-9445-4ebf-bc64-1e613678b11b"
      },
      "source": [
        "remove_wrong_examples_re_calculate(\"3.uni.baseline\", remove=False)"
      ],
      "execution_count": null,
      "outputs": [
        {
          "output_type": "stream",
          "text": [
            "Total errors: 1762\n",
            "Words number: 2177\n",
            "Total WER: 0.8093706936150666\n",
            "The number of forward computations per wav: 115180.52631578948\n"
          ],
          "name": "stdout"
        }
      ]
    },
    {
      "cell_type": "code",
      "metadata": {
        "id": "BWZKSDzRfYQN",
        "colab_type": "code",
        "colab": {},
        "outputId": "8b4b25ca-bbdc-4e40-94f5-0e04906fb91d"
      },
      "source": [
        "remove_wrong_examples_re_calculate(\"3.uni.baseline\")"
      ],
      "execution_count": null,
      "outputs": [
        {
          "output_type": "stream",
          "text": [
            "Total errors: 1076\n",
            "Words number: 1314\n",
            "Total WER: 0.8188736681887366\n",
            "The number of forward computations per wav: 83031.68421052632\n"
          ],
          "name": "stdout"
        }
      ]
    },
    {
      "cell_type": "code",
      "metadata": {
        "id": "8SH2WFysfYQP",
        "colab_type": "code",
        "colab": {},
        "outputId": "89c97517-a60c-41d7-f20c-fff5adc2d9b9"
      },
      "source": [
        "remove_wrong_examples_re_calculate(\"4.uni.baseline\", remove=False)"
      ],
      "execution_count": null,
      "outputs": [
        {
          "output_type": "stream",
          "text": [
            "Total errors: 1561\n",
            "Words number: 2177\n",
            "Total WER: 0.7170418006430869\n",
            "The number of forward computations per wav: 115180.52631578948\n"
          ],
          "name": "stdout"
        }
      ]
    },
    {
      "cell_type": "code",
      "metadata": {
        "id": "KfrvDrmyfYQQ",
        "colab_type": "code",
        "colab": {},
        "outputId": "bbac5465-6212-4221-bb52-9358b6c57515"
      },
      "source": [
        "remove_wrong_examples_re_calculate(\"4.uni.baseline\")"
      ],
      "execution_count": null,
      "outputs": [
        {
          "output_type": "stream",
          "text": [
            "Total errors: 885\n",
            "Words number: 1314\n",
            "Total WER: 0.6735159817351598\n",
            "The number of forward computations per wav: 83031.68421052632\n"
          ],
          "name": "stdout"
        }
      ]
    },
    {
      "cell_type": "code",
      "metadata": {
        "id": "8jbCgeYkfYQR",
        "colab_type": "code",
        "colab": {},
        "outputId": "16bec9cd-6dc9-4a51-ace0-c5075f760431"
      },
      "source": [
        "remove_wrong_examples_re_calculate(\"5.uni.baseline\", remove=False)"
      ],
      "execution_count": null,
      "outputs": [
        {
          "output_type": "stream",
          "text": [
            "Total errors: 1521\n",
            "Words number: 2177\n",
            "Total WER: 0.6986678915939366\n",
            "The number of forward computations per wav: 115180.52631578948\n"
          ],
          "name": "stdout"
        }
      ]
    },
    {
      "cell_type": "code",
      "metadata": {
        "id": "4YDQ-ujwfYQT",
        "colab_type": "code",
        "colab": {},
        "outputId": "da326015-8934-48c3-ba39-5ab4ca8d1112"
      },
      "source": [
        "remove_wrong_examples_re_calculate(\"5.uni.baseline\")"
      ],
      "execution_count": null,
      "outputs": [
        {
          "output_type": "stream",
          "text": [
            "Total errors: 850\n",
            "Words number: 1314\n",
            "Total WER: 0.6468797564687976\n",
            "The number of forward computations per wav: 83031.68421052632\n"
          ],
          "name": "stdout"
        }
      ]
    },
    {
      "cell_type": "code",
      "metadata": {
        "id": "RA0o0c2xfYQU",
        "colab_type": "code",
        "colab": {},
        "outputId": "9b423c18-f7a8-489c-e8fe-e0b33f39e00d"
      },
      "source": [
        "remove_wrong_examples_re_calculate(\"6.uni.baseline\", remove=False)"
      ],
      "execution_count": null,
      "outputs": [
        {
          "output_type": "stream",
          "text": [
            "Total errors: 1602\n",
            "Words number: 2177\n",
            "Total WER: 0.7358750574184658\n",
            "The number of forward computations per wav: 115180.52631578948\n"
          ],
          "name": "stdout"
        }
      ]
    },
    {
      "cell_type": "code",
      "metadata": {
        "id": "CyahEeQBfYQV",
        "colab_type": "code",
        "colab": {},
        "outputId": "3e2eb7ac-4e3b-49ec-e283-a265829dbc82"
      },
      "source": [
        "remove_wrong_examples_re_calculate(\"6.uni.baseline\")"
      ],
      "execution_count": null,
      "outputs": [
        {
          "output_type": "stream",
          "text": [
            "Total errors: 924\n",
            "Words number: 1314\n",
            "Total WER: 0.7031963470319634\n",
            "The number of forward computations per wav: 83031.68421052632\n"
          ],
          "name": "stdout"
        }
      ]
    },
    {
      "cell_type": "code",
      "metadata": {
        "id": "-VFEhZv0fYQW",
        "colab_type": "code",
        "colab": {},
        "outputId": "1e5d19c1-a195-4c1b-a717-4101c9ed2d5d"
      },
      "source": [
        "remove_wrong_examples_re_calculate(\"7.uni.baseline\", remove=False)"
      ],
      "execution_count": null,
      "outputs": [
        {
          "output_type": "stream",
          "text": [
            "Total errors: 1508\n",
            "Words number: 2177\n",
            "Total WER: 0.6926963711529628\n",
            "The number of forward computations per wav: 115180.52631578948\n"
          ],
          "name": "stdout"
        }
      ]
    },
    {
      "cell_type": "code",
      "metadata": {
        "id": "ZeOw0YXQfYQX",
        "colab_type": "code",
        "colab": {},
        "outputId": "64813553-0e3c-440b-be2f-b08b4147a9e9"
      },
      "source": [
        "remove_wrong_examples_re_calculate(\"7.uni.baseline\")"
      ],
      "execution_count": null,
      "outputs": [
        {
          "output_type": "stream",
          "text": [
            "Total errors: 839\n",
            "Words number: 1314\n",
            "Total WER: 0.6385083713850838\n",
            "The number of forward computations per wav: 83031.68421052632\n"
          ],
          "name": "stdout"
        }
      ]
    },
    {
      "cell_type": "code",
      "metadata": {
        "id": "JqfxkN2BfYQY",
        "colab_type": "code",
        "colab": {},
        "outputId": "365f8f05-09d5-4a85-ff54-2be680c1750f"
      },
      "source": [
        "remove_wrong_examples_re_calculate(\"8.uni.baseline\", remove=False)"
      ],
      "execution_count": null,
      "outputs": [
        {
          "output_type": "stream",
          "text": [
            "Total errors: 1520\n",
            "Words number: 2177\n",
            "Total WER: 0.6982085438677078\n",
            "The number of forward computations per wav: 115180.52631578948\n"
          ],
          "name": "stdout"
        }
      ]
    },
    {
      "cell_type": "code",
      "metadata": {
        "id": "t1ipV4QofYQZ",
        "colab_type": "code",
        "colab": {},
        "outputId": "994e7f8e-879d-4dc1-a749-71e5f7e7aa33"
      },
      "source": [
        "remove_wrong_examples_re_calculate(\"8.uni.baseline\")"
      ],
      "execution_count": null,
      "outputs": [
        {
          "output_type": "stream",
          "text": [
            "Total errors: 849\n",
            "Words number: 1314\n",
            "Total WER: 0.6461187214611872\n",
            "The number of forward computations per wav: 83031.68421052632\n"
          ],
          "name": "stdout"
        }
      ]
    },
    {
      "cell_type": "code",
      "metadata": {
        "id": "1e-LoxbvfYQb",
        "colab_type": "code",
        "colab": {},
        "outputId": "1c5d71d8-0d2c-40d5-8c57-fa6712321abf"
      },
      "source": [
        "remove_wrong_examples_re_calculate(\"9.uni.baseline\", remove=False)"
      ],
      "execution_count": null,
      "outputs": [
        {
          "output_type": "stream",
          "text": [
            "Total errors: 1505\n",
            "Words number: 2177\n",
            "Total WER: 0.6913183279742765\n",
            "The number of forward computations per wav: 115180.52631578948\n"
          ],
          "name": "stdout"
        }
      ]
    },
    {
      "cell_type": "code",
      "metadata": {
        "id": "xVzWjKc5fYQc",
        "colab_type": "code",
        "colab": {},
        "outputId": "c0ae4da8-aa66-47e5-eac0-482b44eec91e"
      },
      "source": [
        "remove_wrong_examples_re_calculate(\"9.uni.baseline\")"
      ],
      "execution_count": null,
      "outputs": [
        {
          "output_type": "stream",
          "text": [
            "Total errors: 836\n",
            "Words number: 1314\n",
            "Total WER: 0.6362252663622526\n",
            "The number of forward computations per wav: 83031.68421052632\n"
          ],
          "name": "stdout"
        }
      ]
    },
    {
      "cell_type": "markdown",
      "metadata": {
        "id": "V_F2nJnlfYQg",
        "colab_type": "text"
      },
      "source": [
        "## Add silence & (back weight - sil weight)"
      ]
    },
    {
      "cell_type": "code",
      "metadata": {
        "id": "R-u5LEDCfYQg",
        "colab_type": "code",
        "colab": {},
        "outputId": "a0a67f9c-e82d-48a7-bf48-1e09ec58750c"
      },
      "source": [
        "remove_wrong_examples_re_calculate(\"7-v-1-1.addsilv3.baseline\", remove=False)"
      ],
      "execution_count": null,
      "outputs": [
        {
          "output_type": "stream",
          "text": [
            "Total errors: 1327\n",
            "Words number: 2177\n",
            "Total WER: 0.6095544327055581\n",
            "The number of forward computations per wav: 169305.08771929826\n"
          ],
          "name": "stdout"
        }
      ]
    },
    {
      "cell_type": "code",
      "metadata": {
        "id": "kP96lNJqfYQi",
        "colab_type": "code",
        "colab": {},
        "outputId": "295a51a3-b49a-42a3-dcaf-0a3de7a9d441"
      },
      "source": [
        "remove_wrong_examples_re_calculate(\"7-v-1-1.addsilv3.baseline\")"
      ],
      "execution_count": null,
      "outputs": [
        {
          "output_type": "stream",
          "text": [
            "Total errors: 673\n",
            "Words number: 1314\n",
            "Total WER: 0.5121765601217656\n",
            "The number of forward computations per wav: 121883.43859649122\n"
          ],
          "name": "stdout"
        }
      ]
    },
    {
      "cell_type": "code",
      "metadata": {
        "id": "qKWq8tzCfYQk",
        "colab_type": "code",
        "colab": {},
        "outputId": "5b32bf40-7822-412b-8d77-60a8c3f66dd7"
      },
      "source": [
        "remove_wrong_examples_re_calculate(\"7-v-1-2.addsilv3.baseline\", remove=False)"
      ],
      "execution_count": null,
      "outputs": [
        {
          "output_type": "stream",
          "text": [
            "Total errors: 1333\n",
            "Words number: 2177\n",
            "Total WER: 0.6123105190629307\n",
            "The number of forward computations per wav: 169305.08771929826\n"
          ],
          "name": "stdout"
        }
      ]
    },
    {
      "cell_type": "code",
      "metadata": {
        "id": "giiGhUhEfYQl",
        "colab_type": "code",
        "colab": {},
        "outputId": "d74e02bc-762a-40fa-aff0-e78f52d53462"
      },
      "source": [
        "remove_wrong_examples_re_calculate(\"7-v-1-2.addsilv3.baseline\")"
      ],
      "execution_count": null,
      "outputs": [
        {
          "output_type": "stream",
          "text": [
            "Total errors: 679\n",
            "Words number: 1314\n",
            "Total WER: 0.5167427701674278\n",
            "The number of forward computations per wav: 121883.43859649122\n"
          ],
          "name": "stdout"
        }
      ]
    },
    {
      "cell_type": "code",
      "metadata": {
        "id": "rnDIu2R1fYQn",
        "colab_type": "code",
        "colab": {},
        "outputId": "66adb67d-8101-4335-b0d4-11f158bc978c"
      },
      "source": [
        "remove_wrong_examples_re_calculate(\"7-v-1-3.addsilv3.baseline\", remove=False)"
      ],
      "execution_count": null,
      "outputs": [
        {
          "output_type": "stream",
          "text": [
            "Total errors: 1322\n",
            "Words number: 2177\n",
            "Total WER: 0.6072576940744143\n",
            "The number of forward computations per wav: 169305.08771929826\n"
          ],
          "name": "stdout"
        }
      ]
    },
    {
      "cell_type": "code",
      "metadata": {
        "id": "xT-rNQxSfYQo",
        "colab_type": "code",
        "colab": {},
        "outputId": "5554631b-0a23-4c16-cf43-66781372e330"
      },
      "source": [
        "remove_wrong_examples_re_calculate(\"7-v-1-3.addsilv3.baseline\")"
      ],
      "execution_count": null,
      "outputs": [
        {
          "output_type": "stream",
          "text": [
            "Total errors: 672\n",
            "Words number: 1314\n",
            "Total WER: 0.5114155251141552\n",
            "The number of forward computations per wav: 121883.43859649122\n"
          ],
          "name": "stdout"
        }
      ]
    },
    {
      "cell_type": "code",
      "metadata": {
        "id": "s33WJW8hfYQp",
        "colab_type": "code",
        "colab": {},
        "outputId": "096f4ba6-4c89-4fbf-ffda-f1c09914548a"
      },
      "source": [
        "remove_wrong_examples_re_calculate(\"7-v-1-5.addsilv3.baseline\", remove=False)"
      ],
      "execution_count": null,
      "outputs": [
        {
          "output_type": "stream",
          "text": [
            "Total errors: 1300\n",
            "Words number: 2177\n",
            "Total WER: 0.5971520440973818\n",
            "The number of forward computations per wav: 169305.08771929826\n"
          ],
          "name": "stdout"
        }
      ]
    },
    {
      "cell_type": "code",
      "metadata": {
        "id": "jEu8YYV1fYQq",
        "colab_type": "code",
        "colab": {},
        "outputId": "1bed76cf-bca2-444d-ab0b-3213be2f2b13"
      },
      "source": [
        "remove_wrong_examples_re_calculate(\"7-v-1-5.addsilv3.baseline\")"
      ],
      "execution_count": null,
      "outputs": [
        {
          "output_type": "stream",
          "text": [
            "Total errors: 653\n",
            "Words number: 1314\n",
            "Total WER: 0.4969558599695586\n",
            "The number of forward computations per wav: 121883.43859649122\n"
          ],
          "name": "stdout"
        }
      ]
    },
    {
      "cell_type": "markdown",
      "metadata": {
        "id": "9AzNajGUfYQq",
        "colab_type": "text"
      },
      "source": [
        "## Add silence & (back weight - sil weight) & Unigram"
      ]
    },
    {
      "cell_type": "code",
      "metadata": {
        "id": "Be8cu28HfYQr",
        "colab_type": "code",
        "colab": {},
        "outputId": "5711a720-8d50-42e0-c5ad-ec4a2eb639a0"
      },
      "source": [
        "remove_wrong_examples_re_calculate(\"7-v-1-1.uni.addsilv3.baseline\", remove=False)"
      ],
      "execution_count": null,
      "outputs": [
        {
          "output_type": "stream",
          "text": [
            "Total errors: 1323\n",
            "Words number: 2177\n",
            "Total WER: 0.6077170418006431\n",
            "The number of forward computations per wav: 169305.08771929826\n"
          ],
          "name": "stdout"
        }
      ]
    },
    {
      "cell_type": "code",
      "metadata": {
        "id": "Nr3KElsyfYQs",
        "colab_type": "code",
        "colab": {},
        "outputId": "959d4208-ab5c-4772-c95b-4b1120b8a6de"
      },
      "source": [
        "remove_wrong_examples_re_calculate(\"7-v-1-1.uni.addsilv3.baseline\")"
      ],
      "execution_count": null,
      "outputs": [
        {
          "output_type": "stream",
          "text": [
            "Total errors: 671\n",
            "Words number: 1314\n",
            "Total WER: 0.510654490106545\n",
            "The number of forward computations per wav: 121883.43859649122\n"
          ],
          "name": "stdout"
        }
      ]
    },
    {
      "cell_type": "code",
      "metadata": {
        "id": "Xevq7086fYQt",
        "colab_type": "code",
        "colab": {},
        "outputId": "4cf597d7-81a6-4102-b1ea-8d530e18adb7"
      },
      "source": [
        "remove_wrong_examples_re_calculate(\"7-v-1-2.uni.addsilv3.baseline\", remove=False)"
      ],
      "execution_count": null,
      "outputs": [
        {
          "output_type": "stream",
          "text": [
            "Total errors: 1328\n",
            "Words number: 2177\n",
            "Total WER: 0.6100137804317869\n",
            "The number of forward computations per wav: 169305.08771929826\n"
          ],
          "name": "stdout"
        }
      ]
    },
    {
      "cell_type": "code",
      "metadata": {
        "id": "JhSzM_rkfYQv",
        "colab_type": "code",
        "colab": {},
        "outputId": "3dcbc8bb-1387-4384-b40f-61d790166204"
      },
      "source": [
        "remove_wrong_examples_re_calculate(\"7-v-1-2.uni.addsilv3.baseline\")"
      ],
      "execution_count": null,
      "outputs": [
        {
          "output_type": "stream",
          "text": [
            "Total errors: 674\n",
            "Words number: 1314\n",
            "Total WER: 0.512937595129376\n",
            "The number of forward computations per wav: 121883.43859649122\n"
          ],
          "name": "stdout"
        }
      ]
    },
    {
      "cell_type": "code",
      "metadata": {
        "id": "lbLhm60AfYQw",
        "colab_type": "code",
        "colab": {},
        "outputId": "d16de535-7cfd-48d0-d8b8-beb7d3ab8631"
      },
      "source": [
        "remove_wrong_examples_re_calculate(\"7-v-1-3.uni.addsilv3.baseline\", remove=False)"
      ],
      "execution_count": null,
      "outputs": [
        {
          "output_type": "stream",
          "text": [
            "Total errors: 1318\n",
            "Words number: 2177\n",
            "Total WER: 0.6054203031694994\n",
            "The number of forward computations per wav: 169305.08771929826\n"
          ],
          "name": "stdout"
        }
      ]
    },
    {
      "cell_type": "code",
      "metadata": {
        "id": "4kQb_qCQfYQ0",
        "colab_type": "code",
        "colab": {},
        "outputId": "d59f5d93-a959-4746-a399-72f6ae1fda97"
      },
      "source": [
        "remove_wrong_examples_re_calculate(\"7-v-1-3.uni.addsilv3.baseline\")"
      ],
      "execution_count": null,
      "outputs": [
        {
          "output_type": "stream",
          "text": [
            "Total errors: 668\n",
            "Words number: 1314\n",
            "Total WER: 0.5083713850837138\n",
            "The number of forward computations per wav: 121883.43859649122\n"
          ],
          "name": "stdout"
        }
      ]
    },
    {
      "cell_type": "code",
      "metadata": {
        "id": "9uE0G_OufYQ1",
        "colab_type": "code",
        "colab": {},
        "outputId": "c7207bfa-4534-4c8b-80a1-09793147accb"
      },
      "source": [
        "remove_wrong_examples_re_calculate(\"7-v-1-4.uni.addsilv3.baseline\", remove=False)"
      ],
      "execution_count": null,
      "outputs": [
        {
          "output_type": "stream",
          "text": [
            "Total errors: 1307\n",
            "Words number: 2177\n",
            "Total WER: 0.600367478180983\n",
            "The number of forward computations per wav: 169305.08771929826\n"
          ],
          "name": "stdout"
        }
      ]
    },
    {
      "cell_type": "code",
      "metadata": {
        "id": "SDYCoDeHfYQ2",
        "colab_type": "code",
        "colab": {},
        "outputId": "34b1d058-6608-4eec-d238-97a6d66df229"
      },
      "source": [
        "remove_wrong_examples_re_calculate(\"7-v-1-4.uni.addsilv3.baseline\")"
      ],
      "execution_count": null,
      "outputs": [
        {
          "output_type": "stream",
          "text": [
            "Total errors: 659\n",
            "Words number: 1314\n",
            "Total WER: 0.5015220700152208\n",
            "The number of forward computations per wav: 121883.43859649122\n"
          ],
          "name": "stdout"
        }
      ]
    },
    {
      "cell_type": "code",
      "metadata": {
        "id": "uMOhLWfnfYQ3",
        "colab_type": "code",
        "colab": {},
        "outputId": "64196312-aa8d-441a-edb8-3a56106c8d0b"
      },
      "source": [
        "remove_wrong_examples_re_calculate(\"7-v-1-5.uni.addsilv3.baseline\", remove=False)"
      ],
      "execution_count": null,
      "outputs": [
        {
          "output_type": "stream",
          "text": [
            "Total errors: 1297\n",
            "Words number: 2177\n",
            "Total WER: 0.5957740009186955\n",
            "The number of forward computations per wav: 169305.08771929826\n"
          ],
          "name": "stdout"
        }
      ]
    },
    {
      "cell_type": "code",
      "metadata": {
        "id": "riPb9vwrfYQ4",
        "colab_type": "code",
        "colab": {},
        "outputId": "47b549fd-d26b-4e37-e134-f5662cc820f1"
      },
      "source": [
        "remove_wrong_examples_re_calculate(\"7-v-1-5.uni.addsilv3.baseline\")"
      ],
      "execution_count": null,
      "outputs": [
        {
          "output_type": "stream",
          "text": [
            "Total errors: 651\n",
            "Words number: 1314\n",
            "Total WER: 0.4954337899543379\n",
            "The number of forward computations per wav: 121883.43859649122\n"
          ],
          "name": "stdout"
        }
      ]
    },
    {
      "cell_type": "code",
      "metadata": {
        "id": "e-aJevylfYQ-",
        "colab_type": "code",
        "colab": {},
        "outputId": "059c7985-8090-4641-ccfb-fe6642a91d3f"
      },
      "source": [
        "remove_wrong_examples_re_calculate(\"7-v-2-3.uni.addsilv3.baseline\", remove=False)"
      ],
      "execution_count": null,
      "outputs": [
        {
          "output_type": "stream",
          "text": [
            "Total errors: 1304\n",
            "Words number: 2177\n",
            "Total WER: 0.5989894350022967\n",
            "The number of forward computations per wav: 169305.08771929826\n"
          ],
          "name": "stdout"
        }
      ]
    },
    {
      "cell_type": "code",
      "metadata": {
        "id": "qGXOK1JUfYRA",
        "colab_type": "code",
        "colab": {},
        "outputId": "2705f3cd-cb36-4e92-8274-afb9402b4389"
      },
      "source": [
        "remove_wrong_examples_re_calculate(\"7-v-2-3.uni.addsilv3.baseline\")"
      ],
      "execution_count": null,
      "outputs": [
        {
          "output_type": "stream",
          "text": [
            "Total errors: 657\n",
            "Words number: 1314\n",
            "Total WER: 0.5\n",
            "The number of forward computations per wav: 121883.43859649122\n"
          ],
          "name": "stdout"
        }
      ]
    },
    {
      "cell_type": "code",
      "metadata": {
        "id": "EgOBnW4ZfYRE",
        "colab_type": "code",
        "colab": {},
        "outputId": "0e94fe19-c0d6-4fe3-f5ba-59543230c007"
      },
      "source": [
        "remove_wrong_examples_re_calculate(\"7-v-2-4.uni.addsilv3.baseline\", remove=False)"
      ],
      "execution_count": null,
      "outputs": [
        {
          "output_type": "stream",
          "text": [
            "Total errors: 1336\n",
            "Words number: 2177\n",
            "Total WER: 0.6136885622416169\n",
            "The number of forward computations per wav: 169305.08771929826\n"
          ],
          "name": "stdout"
        }
      ]
    },
    {
      "cell_type": "code",
      "metadata": {
        "id": "DvHeu04ffYRG",
        "colab_type": "code",
        "colab": {},
        "outputId": "5352828d-0559-4fcb-dcdb-9e4808257eef"
      },
      "source": [
        "remove_wrong_examples_re_calculate(\"7-v-2-4.uni.addsilv3.baseline\")"
      ],
      "execution_count": null,
      "outputs": [
        {
          "output_type": "stream",
          "text": [
            "Total errors: 688\n",
            "Words number: 1314\n",
            "Total WER: 0.5235920852359208\n",
            "The number of forward computations per wav: 121883.43859649122\n"
          ],
          "name": "stdout"
        }
      ]
    },
    {
      "cell_type": "markdown",
      "metadata": {
        "id": "NGB1z_UjfYRI",
        "colab_type": "text"
      },
      "source": [
        "## pruning - drop "
      ]
    },
    {
      "cell_type": "code",
      "metadata": {
        "id": "POoJQy7MfYRI",
        "colab_type": "code",
        "colab": {},
        "outputId": "30ba36ab-41b8-4723-e45e-2e73439b09f4"
      },
      "source": [
        "remove_wrong_examples_re_calculate(\"7-v-1-5.uni.addsilv3.baseline.1e3.pruning\", remove=False)"
      ],
      "execution_count": null,
      "outputs": [
        {
          "output_type": "stream",
          "text": [
            "Total errors: 1663\n",
            "Words number: 2177\n",
            "Total WER: 0.7638952687184198\n",
            "The number of forward computations per wav: 77643.567251462\n"
          ],
          "name": "stdout"
        }
      ]
    },
    {
      "cell_type": "code",
      "metadata": {
        "id": "2Z1DgmrXfYRK",
        "colab_type": "code",
        "colab": {},
        "outputId": "2e1e4d3c-2569-4002-8125-47f2037235bf"
      },
      "source": [
        "remove_wrong_examples_re_calculate(\"7-v-1-5.uni.addsilv3.baseline.1e3.pruning\")"
      ],
      "execution_count": null,
      "outputs": [
        {
          "output_type": "stream",
          "text": [
            "Total errors: 843\n",
            "Words number: 1314\n",
            "Total WER: 0.6415525114155252\n",
            "The number of forward computations per wav: 73071.91812865497\n"
          ],
          "name": "stdout"
        }
      ]
    },
    {
      "cell_type": "code",
      "metadata": {
        "id": "d0VbtX2efYRL",
        "colab_type": "code",
        "colab": {},
        "outputId": "ce8373c0-2e92-48d9-cc7c-dcc209b9000f"
      },
      "source": [
        "remove_wrong_examples_re_calculate(\"7-v-1-5.uni.addsilv3.baseline.3e3.pruning\", remove=False)"
      ],
      "execution_count": null,
      "outputs": [
        {
          "output_type": "stream",
          "text": [
            "Total errors: 1419\n",
            "Words number: 2177\n",
            "Total WER: 0.6518144235186036\n",
            "The number of forward computations per wav: 122292.79532163743\n"
          ],
          "name": "stdout"
        }
      ]
    },
    {
      "cell_type": "code",
      "metadata": {
        "id": "uJcxP4McfYRM",
        "colab_type": "code",
        "colab": {},
        "outputId": "30acfa90-e9d5-4f43-851e-c39db70262b6"
      },
      "source": [
        "remove_wrong_examples_re_calculate(\"7-v-1-5.uni.addsilv3.baseline.3e3.pruning\")"
      ],
      "execution_count": null,
      "outputs": [
        {
          "output_type": "stream",
          "text": [
            "Total errors: 664\n",
            "Words number: 1314\n",
            "Total WER: 0.5053272450532724\n",
            "The number of forward computations per wav: 109587.64912280702\n"
          ],
          "name": "stdout"
        }
      ]
    },
    {
      "cell_type": "code",
      "metadata": {
        "id": "DLcM9aIxfYRN",
        "colab_type": "code",
        "colab": {},
        "outputId": "d56d7d4e-3d35-4bc8-e5e3-c30aaf2d263b"
      },
      "source": [
        "remove_wrong_examples_re_calculate(\"7-v-1-5.uni.addsilv3.baseline.5e3.pruning\", remove=False)"
      ],
      "execution_count": null,
      "outputs": [
        {
          "output_type": "stream",
          "text": [
            "Total errors: 1362\n",
            "Words number: 2177\n",
            "Total WER: 0.6256316031235646\n",
            "The number of forward computations per wav: 139453.9298245614\n"
          ],
          "name": "stdout"
        }
      ]
    },
    {
      "cell_type": "code",
      "metadata": {
        "id": "vt9QImYYfYRP",
        "colab_type": "code",
        "colab": {},
        "outputId": "e22aa960-c7a6-43c3-dbbb-8ad6e693a1e9"
      },
      "source": [
        "remove_wrong_examples_re_calculate(\"7-v-1-5.uni.addsilv3.baseline.5e3.pruning\")"
      ],
      "execution_count": null,
      "outputs": [
        {
          "output_type": "stream",
          "text": [
            "Total errors: 650\n",
            "Words number: 1314\n",
            "Total WER: 0.4946727549467275\n",
            "The number of forward computations per wav: 118718.47953216374\n"
          ],
          "name": "stdout"
        }
      ]
    },
    {
      "cell_type": "code",
      "metadata": {
        "id": "9JiPrArufYRQ",
        "colab_type": "code",
        "colab": {},
        "outputId": "aba3f563-6bab-47c2-de65-73149cbff5e8"
      },
      "source": [
        "remove_wrong_examples_re_calculate(\"7-v-1-5.uni.addsilv3.baseline.8e3.pruning\", remove=False)"
      ],
      "execution_count": null,
      "outputs": [
        {
          "output_type": "stream",
          "text": [
            "Total errors: 1308\n",
            "Words number: 2177\n",
            "Total WER: 0.6008268259072118\n",
            "The number of forward computations per wav: 152576.02339181287\n"
          ],
          "name": "stdout"
        }
      ]
    },
    {
      "cell_type": "code",
      "metadata": {
        "id": "LuELMoQWfYRR",
        "colab_type": "code",
        "colab": {},
        "outputId": "6ba4da73-d5c5-44fe-a6c8-e3f013e7f5cb"
      },
      "source": [
        "remove_wrong_examples_re_calculate(\"7-v-1-5.uni.addsilv3.baseline.8e3.pruning\")"
      ],
      "execution_count": null,
      "outputs": [
        {
          "output_type": "stream",
          "text": [
            "Total errors: 652\n",
            "Words number: 1314\n",
            "Total WER: 0.4961948249619482\n",
            "The number of forward computations per wav: 120078.23391812865\n"
          ],
          "name": "stdout"
        }
      ]
    },
    {
      "cell_type": "code",
      "metadata": {
        "id": "IMN_nYKBfYRS",
        "colab_type": "code",
        "colab": {},
        "outputId": "6b6746ac-3b4c-447f-8d5e-4abf327a08cc"
      },
      "source": [
        "remove_wrong_examples_re_calculate(\"7-v-1-5.uni.addsilv3.baseline.1e4.pruning\", remove=False)"
      ],
      "execution_count": null,
      "outputs": [
        {
          "output_type": "stream",
          "text": [
            "Total errors: 1291\n",
            "Words number: 2177\n",
            "Total WER: 0.5930179145613229\n",
            "The number of forward computations per wav: 160681.88304093567\n"
          ],
          "name": "stdout"
        }
      ]
    },
    {
      "cell_type": "code",
      "metadata": {
        "id": "5c7JuKL9fYRT",
        "colab_type": "code",
        "colab": {},
        "outputId": "9253c6af-bcd0-4097-a87a-b12e38f48802"
      },
      "source": [
        "remove_wrong_examples_re_calculate(\"7-v-1-5.uni.addsilv3.baseline.1e4.pruning\")"
      ],
      "execution_count": null,
      "outputs": [
        {
          "output_type": "stream",
          "text": [
            "Total errors: 651\n",
            "Words number: 1314\n",
            "Total WER: 0.4954337899543379\n",
            "The number of forward computations per wav: 121102.29239766081\n"
          ],
          "name": "stdout"
        }
      ]
    },
    {
      "cell_type": "code",
      "metadata": {
        "id": "TMLop7acfYRU",
        "colab_type": "code",
        "colab": {},
        "outputId": "44235771-fe0b-4402-a1f2-b50970486645"
      },
      "source": [
        "remove_wrong_examples_re_calculate(\"7-v-1-5.uni.addsilv3.baseline.1e6.pruning\", remove=False)"
      ],
      "execution_count": null,
      "outputs": [
        {
          "output_type": "stream",
          "text": [
            "Total errors: 1297\n",
            "Words number: 2177\n",
            "Total WER: 0.5957740009186955\n",
            "The number of forward computations per wav: 169305.08771929826\n"
          ],
          "name": "stdout"
        }
      ]
    },
    {
      "cell_type": "code",
      "metadata": {
        "id": "k9BINw6gfYRV",
        "colab_type": "code",
        "colab": {},
        "outputId": "f5848fd2-efc3-4654-c732-8d1bcdfeb4e8"
      },
      "source": [
        "remove_wrong_examples_re_calculate(\"7-v-1-5.uni.addsilv3.baseline.1e6.pruning\")"
      ],
      "execution_count": null,
      "outputs": [
        {
          "output_type": "stream",
          "text": [
            "Total errors: 651\n",
            "Words number: 1314\n",
            "Total WER: 0.4954337899543379\n",
            "The number of forward computations per wav: 121883.43859649122\n"
          ],
          "name": "stdout"
        }
      ]
    },
    {
      "cell_type": "code",
      "metadata": {
        "id": "_W53EGXBfYRX",
        "colab_type": "code",
        "colab": {},
        "outputId": "1f011017-8777-4bf4-b597-00e8f6e59b14"
      },
      "source": [
        "remove_wrong_examples_re_calculate(\"7-v-1-5.uni.addsilv3.baseline.1e8.pruning\", remove=False)"
      ],
      "execution_count": null,
      "outputs": [
        {
          "output_type": "stream",
          "text": [
            "Total errors: 1297\n",
            "Words number: 2177\n",
            "Total WER: 0.5957740009186955\n",
            "The number of forward computations per wav: 169305.08771929826\n"
          ],
          "name": "stdout"
        }
      ]
    },
    {
      "cell_type": "code",
      "metadata": {
        "id": "JsSFJp9wfYRc",
        "colab_type": "code",
        "colab": {},
        "outputId": "3ef39c62-be0e-45b0-d424-0b3012a54482"
      },
      "source": [
        "remove_wrong_examples_re_calculate(\"7-v-1-5.uni.addsilv3.baseline.1e8.pruning\")"
      ],
      "execution_count": null,
      "outputs": [
        {
          "output_type": "stream",
          "text": [
            "Total errors: 651\n",
            "Words number: 1314\n",
            "Total WER: 0.4954337899543379\n",
            "The number of forward computations per wav: 121883.43859649122\n"
          ],
          "name": "stdout"
        }
      ]
    },
    {
      "cell_type": "markdown",
      "metadata": {
        "id": "v6sHj2RjfYRd",
        "colab_type": "text"
      },
      "source": [
        "## pruning - beam search"
      ]
    },
    {
      "cell_type": "code",
      "metadata": {
        "id": "FNa9f7lGfYRf",
        "colab_type": "code",
        "colab": {},
        "outputId": "eba768fe-140d-4865-eadb-aef452442082"
      },
      "source": [
        "remove_wrong_examples_re_calculate(\"7-v-1-5.uni.addsilv3.baseline.10.beam\", remove=False)"
      ],
      "execution_count": null,
      "outputs": [
        {
          "output_type": "stream",
          "text": [
            "Total errors: 1762\n",
            "Words number: 2177\n",
            "Total WER: 0.8093706936150666\n",
            "The number of forward computations per wav: 9556.116959064328\n"
          ],
          "name": "stdout"
        }
      ]
    },
    {
      "cell_type": "code",
      "metadata": {
        "id": "aW59ZDGWfYRg",
        "colab_type": "code",
        "colab": {},
        "outputId": "aa66dad7-fc78-4b46-b392-70cc31ecb7cf"
      },
      "source": [
        "remove_wrong_examples_re_calculate(\"7-v-1-5.uni.addsilv3.baseline.10.beam\")"
      ],
      "execution_count": null,
      "outputs": [
        {
          "output_type": "stream",
          "text": [
            "Total errors: 1027\n",
            "Words number: 1314\n",
            "Total WER: 0.7815829528158296\n",
            "The number of forward computations per wav: 6975.251461988304\n"
          ],
          "name": "stdout"
        }
      ]
    },
    {
      "cell_type": "code",
      "metadata": {
        "id": "JVNy2FVxfYRh",
        "colab_type": "code",
        "colab": {},
        "outputId": "002b3cd2-bb4d-4e29-f398-8274e9e43187"
      },
      "source": [
        "remove_wrong_examples_re_calculate(\"7-v-1-5.uni.addsilv3.baseline.20.beam\", remove=False)"
      ],
      "execution_count": null,
      "outputs": [
        {
          "output_type": "stream",
          "text": [
            "Total errors: 1485\n",
            "Words number: 2177\n",
            "Total WER: 0.6821313734497014\n",
            "The number of forward computations per wav: 20239.508771929824\n"
          ],
          "name": "stdout"
        }
      ]
    },
    {
      "cell_type": "code",
      "metadata": {
        "id": "oj4vxoGyfYRj",
        "colab_type": "code",
        "colab": {},
        "outputId": "f8ae0cf2-4e1c-4b39-e6d7-59f78ed5dda4"
      },
      "source": [
        "remove_wrong_examples_re_calculate(\"7-v-1-5.uni.addsilv3.baseline.20.beam\")"
      ],
      "execution_count": null,
      "outputs": [
        {
          "output_type": "stream",
          "text": [
            "Total errors: 825\n",
            "Words number: 1314\n",
            "Total WER: 0.6278538812785388\n",
            "The number of forward computations per wav: 14693.380116959064\n"
          ],
          "name": "stdout"
        }
      ]
    },
    {
      "cell_type": "code",
      "metadata": {
        "id": "djS8WJz1fYRk",
        "colab_type": "code",
        "colab": {},
        "outputId": "2eb015bd-ede0-4096-934d-c030aed3fe13"
      },
      "source": [
        "remove_wrong_examples_re_calculate(\"7-v-1-5.uni.addsilv3.baseline.30.beam\", remove=False)"
      ],
      "execution_count": null,
      "outputs": [
        {
          "output_type": "stream",
          "text": [
            "Total errors: 1416\n",
            "Words number: 2177\n",
            "Total WER: 0.6504363803399174\n",
            "The number of forward computations per wav: 31060.269005847953\n"
          ],
          "name": "stdout"
        }
      ]
    },
    {
      "cell_type": "code",
      "metadata": {
        "id": "QFnpefsrfYRm",
        "colab_type": "code",
        "colab": {},
        "outputId": "4ac4559b-16f1-474b-bd97-cf7448011671"
      },
      "source": [
        "remove_wrong_examples_re_calculate(\"7-v-1-5.uni.addsilv3.baseline.30.beam\")"
      ],
      "execution_count": null,
      "outputs": [
        {
          "output_type": "stream",
          "text": [
            "Total errors: 755\n",
            "Words number: 1314\n",
            "Total WER: 0.5745814307458144\n",
            "The number of forward computations per wav: 22519.356725146197\n"
          ],
          "name": "stdout"
        }
      ]
    },
    {
      "cell_type": "code",
      "metadata": {
        "id": "75OtDeHYfYRo",
        "colab_type": "code",
        "colab": {},
        "outputId": "10df16cb-d55b-43d2-bdbd-e82e479610b4"
      },
      "source": [
        "remove_wrong_examples_re_calculate(\"7-v-1-5.uni.addsilv3.baseline.40.beam\", remove=False)"
      ],
      "execution_count": null,
      "outputs": [
        {
          "output_type": "stream",
          "text": [
            "Total errors: 1393\n",
            "Words number: 2177\n",
            "Total WER: 0.639871382636656\n",
            "The number of forward computations per wav: 41748.47953216374\n"
          ],
          "name": "stdout"
        }
      ]
    },
    {
      "cell_type": "code",
      "metadata": {
        "id": "epww_whUfYRq",
        "colab_type": "code",
        "colab": {},
        "outputId": "437d09b0-74dd-4b53-b029-bb977558ee9f"
      },
      "source": [
        "remove_wrong_examples_re_calculate(\"7-v-1-5.uni.addsilv3.baseline.40.beam\")"
      ],
      "execution_count": null,
      "outputs": [
        {
          "output_type": "stream",
          "text": [
            "Total errors: 744\n",
            "Words number: 1314\n",
            "Total WER: 0.5662100456621004\n",
            "The number of forward computations per wav: 30232.04678362573\n"
          ],
          "name": "stdout"
        }
      ]
    },
    {
      "cell_type": "code",
      "metadata": {
        "id": "tqiveOtNfYRr",
        "colab_type": "code",
        "colab": {},
        "outputId": "1d72cebb-1d90-41b4-e315-db9624bc1503"
      },
      "source": [
        "remove_wrong_examples_re_calculate(\"7-v-1-5.uni.addsilv3.baseline.50.beam\", remove=False)"
      ],
      "execution_count": null,
      "outputs": [
        {
          "output_type": "stream",
          "text": [
            "Total errors: 1349\n",
            "Words number: 2177\n",
            "Total WER: 0.6196600826825908\n",
            "The number of forward computations per wav: 52113.34502923977\n"
          ],
          "name": "stdout"
        }
      ]
    },
    {
      "cell_type": "code",
      "metadata": {
        "id": "6O9WiwbnfYRs",
        "colab_type": "code",
        "colab": {},
        "outputId": "d4886802-4efe-4258-bee9-161256d3e9c1"
      },
      "source": [
        "remove_wrong_examples_re_calculate(\"7-v-1-5.uni.addsilv3.baseline.50.beam\")"
      ],
      "execution_count": null,
      "outputs": [
        {
          "output_type": "stream",
          "text": [
            "Total errors: 701\n",
            "Words number: 1314\n",
            "Total WER: 0.5334855403348554\n",
            "The number of forward computations per wav: 37699.57894736842\n"
          ],
          "name": "stdout"
        }
      ]
    },
    {
      "cell_type": "code",
      "metadata": {
        "id": "ir7OKjWifYRs",
        "colab_type": "code",
        "colab": {},
        "outputId": "ef8241c2-752c-40cf-9402-528b990f6a66"
      },
      "source": [
        "remove_wrong_examples_re_calculate(\"7-v-1-5.uni.addsilv3.baseline.60.beam\", remove=False)"
      ],
      "execution_count": null,
      "outputs": [
        {
          "output_type": "stream",
          "text": [
            "Total errors: 1330\n",
            "Words number: 2177\n",
            "Total WER: 0.6109324758842444\n",
            "The number of forward computations per wav: 62527.85964912281\n"
          ],
          "name": "stdout"
        }
      ]
    },
    {
      "cell_type": "code",
      "metadata": {
        "id": "jqdXtbI8fYRt",
        "colab_type": "code",
        "colab": {},
        "outputId": "822eef0b-fb59-47f4-aab5-58a1f9c4f532"
      },
      "source": [
        "remove_wrong_examples_re_calculate(\"7-v-1-5.uni.addsilv3.baseline.60.beam\")"
      ],
      "execution_count": null,
      "outputs": [
        {
          "output_type": "stream",
          "text": [
            "Total errors: 686\n",
            "Words number: 1314\n",
            "Total WER: 0.5220700152207002\n",
            "The number of forward computations per wav: 45242.865497076025\n"
          ],
          "name": "stdout"
        }
      ]
    },
    {
      "cell_type": "code",
      "metadata": {
        "id": "lGcoc3TAfYRv",
        "colab_type": "code",
        "colab": {},
        "outputId": "555e1644-ca2a-48a7-e7ef-afae8e94f49f"
      },
      "source": [
        "remove_wrong_examples_re_calculate(\"7-v-1-5.uni.addsilv3.baseline.70.beam\", remove=False)"
      ],
      "execution_count": null,
      "outputs": [
        {
          "output_type": "stream",
          "text": [
            "Total errors: 1318\n",
            "Words number: 2177\n",
            "Total WER: 0.6054203031694994\n",
            "The number of forward computations per wav: 72799.38011695906\n"
          ],
          "name": "stdout"
        }
      ]
    },
    {
      "cell_type": "code",
      "metadata": {
        "id": "BT3QzNaefYRv",
        "colab_type": "code",
        "colab": {},
        "outputId": "43a06556-5d31-4809-acf1-9bb15e32cd98"
      },
      "source": [
        "remove_wrong_examples_re_calculate(\"7-v-1-5.uni.addsilv3.baseline.70.beam\")"
      ],
      "execution_count": null,
      "outputs": [
        {
          "output_type": "stream",
          "text": [
            "Total errors: 674\n",
            "Words number: 1314\n",
            "Total WER: 0.512937595129376\n",
            "The number of forward computations per wav: 52668.83040935673\n"
          ],
          "name": "stdout"
        }
      ]
    },
    {
      "cell_type": "code",
      "metadata": {
        "id": "cWdbZqIqfYRw",
        "colab_type": "code",
        "colab": {},
        "outputId": "38129923-77dd-41ed-ea96-11030e195803"
      },
      "source": [
        "remove_wrong_examples_re_calculate(\"7-v-1-5.uni.addsilv3.baseline.80.beam\", remove=False)"
      ],
      "execution_count": null,
      "outputs": [
        {
          "output_type": "stream",
          "text": [
            "Total errors: 1316\n",
            "Words number: 2177\n",
            "Total WER: 0.6045016077170418\n",
            "The number of forward computations per wav: 82767.02923976608\n"
          ],
          "name": "stdout"
        }
      ]
    },
    {
      "cell_type": "code",
      "metadata": {
        "id": "jUzmaNLBfYRx",
        "colab_type": "code",
        "colab": {},
        "outputId": "84e234eb-f13f-49a5-ea33-5d76723c366e"
      },
      "source": [
        "remove_wrong_examples_re_calculate(\"7-v-1-5.uni.addsilv3.baseline.80.beam\")"
      ],
      "execution_count": null,
      "outputs": [
        {
          "output_type": "stream",
          "text": [
            "Total errors: 670\n",
            "Words number: 1314\n",
            "Total WER: 0.5098934550989346\n",
            "The number of forward computations per wav: 59846.45614035088\n"
          ],
          "name": "stdout"
        }
      ]
    },
    {
      "cell_type": "code",
      "metadata": {
        "id": "Jtjchme_fYRy",
        "colab_type": "code",
        "colab": {},
        "outputId": "0b323489-3f7f-4daf-ece2-37b10693e1c2"
      },
      "source": [
        "remove_wrong_examples_re_calculate(\"7-v-1-5.uni.addsilv3.baseline.90.beam\", remove=False)"
      ],
      "execution_count": null,
      "outputs": [
        {
          "output_type": "stream",
          "text": [
            "Total errors: 1310\n",
            "Words number: 2177\n",
            "Total WER: 0.6017455213596693\n",
            "The number of forward computations per wav: 92853.05263157895\n"
          ],
          "name": "stdout"
        }
      ]
    },
    {
      "cell_type": "code",
      "metadata": {
        "id": "XR1-Ot0efYRz",
        "colab_type": "code",
        "colab": {},
        "outputId": "47c8688c-e8fc-411e-8ca4-724b3ae0b39b"
      },
      "source": [
        "remove_wrong_examples_re_calculate(\"7-v-1-5.uni.addsilv3.baseline.90.beam\")"
      ],
      "execution_count": null,
      "outputs": [
        {
          "output_type": "stream",
          "text": [
            "Total errors: 667\n",
            "Words number: 1314\n",
            "Total WER: 0.5076103500761036\n",
            "The number of forward computations per wav: 67145.22807017544\n"
          ],
          "name": "stdout"
        }
      ]
    },
    {
      "cell_type": "code",
      "metadata": {
        "id": "jA4AqKUGfYRz",
        "colab_type": "code",
        "colab": {},
        "outputId": "42f5df4e-a204-434a-f39a-0d158ae2b7f8"
      },
      "source": [
        "remove_wrong_examples_re_calculate(\"7-v-1-5.uni.addsilv3.baseline.100.beam\", remove=False)"
      ],
      "execution_count": null,
      "outputs": [
        {
          "output_type": "stream",
          "text": [
            "Total errors: 1303\n",
            "Words number: 2177\n",
            "Total WER: 0.5985300872760679\n",
            "The number of forward computations per wav: 102920.83040935673\n"
          ],
          "name": "stdout"
        }
      ]
    },
    {
      "cell_type": "code",
      "metadata": {
        "id": "vYaUy3HefYR0",
        "colab_type": "code",
        "colab": {},
        "outputId": "dbaec39f-aeed-4db6-b62c-a0c9bbdfe0ae"
      },
      "source": [
        "remove_wrong_examples_re_calculate(\"7-v-1-5.uni.addsilv3.baseline.100.beam\")"
      ],
      "execution_count": null,
      "outputs": [
        {
          "output_type": "stream",
          "text": [
            "Total errors: 660\n",
            "Words number: 1314\n",
            "Total WER: 0.502283105022831\n",
            "The number of forward computations per wav: 74449.95321637427\n"
          ],
          "name": "stdout"
        }
      ]
    },
    {
      "cell_type": "markdown",
      "metadata": {
        "id": "2hzih_PqfYR1",
        "colab_type": "text"
      },
      "source": [
        "## Bigram"
      ]
    },
    {
      "cell_type": "code",
      "metadata": {
        "id": "It1f0YYffYR1",
        "colab_type": "code",
        "colab": {},
        "outputId": "53f3b572-a004-49f3-ed8f-a707607fb203"
      },
      "source": [
        "remove_wrong_examples_re_calculate(\"7-v-1-5.bi.addsilv3.baseline\", remove=False)"
      ],
      "execution_count": null,
      "outputs": [
        {
          "output_type": "stream",
          "text": [
            "Total errors: 1293\n",
            "Words number: 2177\n",
            "Total WER: 0.5939366100137804\n",
            "The number of forward computations per wav: 169305.08771929826\n"
          ],
          "name": "stdout"
        }
      ]
    },
    {
      "cell_type": "code",
      "metadata": {
        "id": "606a_ZX0fYR2",
        "colab_type": "code",
        "colab": {},
        "outputId": "50569195-0a5a-4de7-aefe-5ed76b9d677e"
      },
      "source": [
        "remove_wrong_examples_re_calculate(\"7-v-1-5.bi.addsilv3.baseline\")"
      ],
      "execution_count": null,
      "outputs": [
        {
          "output_type": "stream",
          "text": [
            "Total errors: 646\n",
            "Words number: 1314\n",
            "Total WER: 0.4916286149162861\n",
            "The number of forward computations per wav: 121883.43859649122\n"
          ],
          "name": "stdout"
        }
      ]
    },
    {
      "cell_type": "code",
      "metadata": {
        "id": "z5EB6mQIfYR3",
        "colab_type": "code",
        "colab": {},
        "outputId": "c8128646-818a-41c9-d8f7-b3ffcd8ad776"
      },
      "source": [
        "remove_wrong_examples_re_calculate(\"7-v-1-5.bi.addsilv3.baseline.50.beam\", remove=False)"
      ],
      "execution_count": null,
      "outputs": [
        {
          "output_type": "stream",
          "text": [
            "Total errors: 1380\n",
            "Words number: 2177\n",
            "Total WER: 0.6338998621956822\n",
            "The number of forward computations per wav: 42243.14619883041\n"
          ],
          "name": "stdout"
        }
      ]
    },
    {
      "cell_type": "code",
      "metadata": {
        "id": "2c7fUQVbfYR4",
        "colab_type": "code",
        "colab": {},
        "outputId": "652e78f3-68eb-47ff-eec4-7010c186c8f6"
      },
      "source": [
        "remove_wrong_examples_re_calculate(\"7-v-1-5.bi.addsilv3.baseline.50.beam\")"
      ],
      "execution_count": null,
      "outputs": [
        {
          "output_type": "stream",
          "text": [
            "Total errors: 729\n",
            "Words number: 1314\n",
            "Total WER: 0.5547945205479452\n",
            "The number of forward computations per wav: 30678.116959064326\n"
          ],
          "name": "stdout"
        }
      ]
    },
    {
      "cell_type": "code",
      "metadata": {
        "id": "pLjSmWwPfYR5",
        "colab_type": "code",
        "colab": {},
        "outputId": "c5e35930-7a9d-4cc3-d3c3-d1433d9c9bc7"
      },
      "source": [
        "remove_wrong_examples_re_calculate(\"7-v-1-5.bi.addsilv3.baseline.70.beam\", remove=False)"
      ],
      "execution_count": null,
      "outputs": [
        {
          "output_type": "stream",
          "text": [
            "Total errors: 1329\n",
            "Words number: 2177\n",
            "Total WER: 0.6104731281580156\n",
            "The number of forward computations per wav: 61682.17543859649\n"
          ],
          "name": "stdout"
        }
      ]
    },
    {
      "cell_type": "code",
      "metadata": {
        "id": "c3gw61d_fYR5",
        "colab_type": "code",
        "colab": {},
        "outputId": "e2599910-1ed7-45ef-d400-255026037238"
      },
      "source": [
        "remove_wrong_examples_re_calculate(\"7-v-1-5.bi.addsilv3.baseline.70.beam\")"
      ],
      "execution_count": null,
      "outputs": [
        {
          "output_type": "stream",
          "text": [
            "Total errors: 682\n",
            "Words number: 1314\n",
            "Total WER: 0.5190258751902588\n",
            "The number of forward computations per wav: 44643.34502923977\n"
          ],
          "name": "stdout"
        }
      ]
    },
    {
      "cell_type": "code",
      "metadata": {
        "id": "9NdpIJFvfYR6",
        "colab_type": "code",
        "colab": {},
        "outputId": "cbdfcfb8-154f-41d9-e7d8-0f04a6ca51a5"
      },
      "source": [
        "remove_wrong_examples_re_calculate(\"7-v-1-5.bi.addsilv3.baseline.100.beam\", remove=False)"
      ],
      "execution_count": null,
      "outputs": [
        {
          "output_type": "stream",
          "text": [
            "Total errors: 1305\n",
            "Words number: 2177\n",
            "Total WER: 0.5994487827285255\n",
            "The number of forward computations per wav: 90382.33918128654\n"
          ],
          "name": "stdout"
        }
      ]
    },
    {
      "cell_type": "code",
      "metadata": {
        "id": "TIv9_WLUfYR8",
        "colab_type": "code",
        "colab": {},
        "outputId": "5a691e93-87a2-4fb2-e1d9-eff759374dea"
      },
      "source": [
        "remove_wrong_examples_re_calculate(\"7-v-1-5.bi.addsilv3.baseline.100.beam\")"
      ],
      "execution_count": null,
      "outputs": [
        {
          "output_type": "stream",
          "text": [
            "Total errors: 661\n",
            "Words number: 1314\n",
            "Total WER: 0.5030441400304414\n",
            "The number of forward computations per wav: 65348.771929824565\n"
          ],
          "name": "stdout"
        }
      ]
    }
  ]
}